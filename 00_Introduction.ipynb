{
 "cells": [
  {
   "cell_type": "markdown",
   "metadata": {
    "slideshow": {
     "slide_type": "slide"
    }
   },
   "source": [
    "# Introduction to Programming for Everyone\n",
    "\n",
    "## Python 3\n",
    "\n"
   ]
  },
  {
   "cell_type": "markdown",
   "metadata": {
    "slideshow": {
     "slide_type": "slide"
    }
   },
   "source": [
    "### Who am I?\n",
    "\n",
    " - Name: __Hemma__ (名) __Philamore__ (姓)\n",
    " - Country: __England__ \n",
    " - Lab: __Matsuno mechatronics lab__, Kyoto University, Katsura Campus\n",
    " - Research: __Bio-inspired, energy-autonomous robots__\n",
    " - Contact: __philamore.hemma.5s@kyoto-u.ac.jp__ \n",
    " <img src=\"img/row_bot.jpg\" alt=\"Drawing\" style=\"width: 300px;\"/>\n",
    "\n"
   ]
  },
  {
   "cell_type": "markdown",
   "metadata": {
    "slideshow": {
     "slide_type": "slide"
    }
   },
   "source": [
    "### Who are you?\n",
    "\n",
    "Please write your personal information on the sheet:\n",
    " - Name\n",
    " - Major\n",
    " - Year of study"
   ]
  },
  {
   "cell_type": "markdown",
   "metadata": {
    "slideshow": {
     "slide_type": "slide"
    }
   },
   "source": [
    "Today is an introductory seminar.\n",
    "\n",
    "- Course content\n",
    "- How to access the course material.\n",
    "- Software.\n",
    "- Assessment. \n",
    "- Homework and class necessary class preparation.\n",
    "- Software Installation\n"
   ]
  },
  {
   "cell_type": "markdown",
   "metadata": {
    "slideshow": {
     "slide_type": "slide"
    }
   },
   "source": [
    "## Why study programming?\n",
    "- Increased use of computing in everyday life.\n",
    "- A tool you can use for the other subject you study. \n",
    "- A growing sector of the jobs market.\n",
    "- Coding in jobs, not traditionally related to computing.\n",
    "- It's fun!"
   ]
  },
  {
   "cell_type": "markdown",
   "metadata": {
    "slideshow": {
     "slide_type": "slide"
    }
   },
   "source": [
    "## Why study Python?\n",
    " - Free and open source\n",
    " - Easy to learn\n",
    " - \"High level\" \n",
    " - Community\n",
    " - Increasingly used in industry\n",
    " "
   ]
  },
  {
   "cell_type": "markdown",
   "metadata": {
    "slideshow": {
     "slide_type": "slide"
    }
   },
   "source": [
    "## Why study Python?\n",
    "- Fast development/progression time.\n",
    "<img src=\"img/optimizing-what.png\" width=\"600\">\n",
    " "
   ]
  },
  {
   "cell_type": "markdown",
   "metadata": {
    "slideshow": {
     "slide_type": "slide"
    }
   },
   "source": [
    "## Course Goal\n",
    "\n",
    "To develop:\n",
    "\n",
    "- A good standalone programming toolkit.\n",
    "- Skills to improve the quality of your work in other subjects. \n",
    "- A fundamental base from which to start developing further as a programmer. \n"
   ]
  },
  {
   "cell_type": "markdown",
   "metadata": {
    "slideshow": {
     "slide_type": "slide"
    }
   },
   "source": [
    "## Course Entry Level\n",
    "\n",
    "Beginner, no prior programming knowlegde."
   ]
  },
  {
   "cell_type": "markdown",
   "metadata": {},
   "source": [
    "## Course Theme\n",
    "\n",
    "### Computer Game Development.\n",
    "\n",
    "- mathematics\n",
    "- data handling\n",
    "- physical interfaces (keyboard, mouse...)\n",
    "- image manipulation and simulation \n",
    "- computer architecture\n",
    "- __.... something for everyone.__ "
   ]
  },
  {
   "cell_type": "markdown",
   "metadata": {
    "collapsed": true
   },
   "source": [
    "<table><tr><td> \n",
    "<img src='img/ginea_pigs1.jpg' style=\"width: 300px;\"> </td><td> \n",
    "<img src='img/ginea_pigs2.jpg' style=\"width: 300px;\"> </td><td> \n",
    "<img src='img/ginea_pigs3.jpg' style=\"width: 300px;\"> </td></tr>\n",
    "</table>"
   ]
  },
  {
   "cell_type": "markdown",
   "metadata": {},
   "source": [
    "## Computers\n",
    "\n",
    "Please use your personal computers for this course.\n",
    "<br>You will need to install two things.\n",
    "- Anaconda\n",
    "- git\n",
    "\n",
    "<br>\n",
    "Lab PCs may also be used."
   ]
  },
  {
   "cell_type": "markdown",
   "metadata": {
    "slideshow": {
     "slide_type": "slide"
    }
   },
   "source": [
    "- __Course content__\n",
    "- How to access the course material\n",
    "- Software\n",
    "- Assessment\n",
    "- Homework and class necessary class preparation\n",
    "- Software Installation\n"
   ]
  },
  {
   "cell_type": "markdown",
   "metadata": {
    "slideshow": {
     "slide_type": "slide"
    }
   },
   "source": [
    "## Course Content\n",
    "\n",
    "- Basic Operators and Control Flow\n",
    "- Data types, data structures and Imported Packages\n",
    "- Importing, Drawing and Animating Images\n",
    "- Physical User Interfaces\n",
    "- Functions\n",
    "- Text, Sound and Multi-Player Games\n",
    "- Outputs and Data Analysis\n",
    "- *Coursework Assigment : Build your own game*.\n",
    "- Introduction to Object Oriented Programming\n",
    "- Introduction to Network Programming\n",
    "- Error Handling and Exceptions\n",
    "- Testing\n",
    "- Introduction to Version Control\n",
    "\n"
   ]
  },
  {
   "cell_type": "markdown",
   "metadata": {
    "slideshow": {
     "slide_type": "slide"
    }
   },
   "source": [
    "## Version Control and Testing\n",
    "\n",
    " - Code management skills. \n",
    " - Essential techniques used by professional programmers. \n",
    " - Storing, documenting, and sharing your code with others.\n",
    " - Improve the quality of your work. "
   ]
  },
  {
   "cell_type": "markdown",
   "metadata": {},
   "source": [
    "- Course content\n",
    "- __How to access the course material__\n",
    "- Software\n",
    "- Assessment\n",
    "- Homework and class necessary class preparation\n",
    "- Software Installation"
   ]
  },
  {
   "cell_type": "markdown",
   "metadata": {},
   "source": [
    "## How To Access the Course Material\n",
    "\n",
    "The course notes can be downloaded from:\n",
    "<br>https://github.com/hphilamore/ILAS_Python_for_everyone"
   ]
  },
  {
   "cell_type": "markdown",
   "metadata": {},
   "source": [
    "## How To Access the Course Material\n",
    "\n",
    "You will use the command line to download the course notes.\n",
    "\n",
    "This will allow yout to:\n",
    "1. Edit the course notes in class\n",
    "1. Download updated notes, solutions to exercises, corrections *without* overwriting the notes you already have. \n",
    "\n",
    "\n",
    "\n"
   ]
  },
  {
   "cell_type": "markdown",
   "metadata": {},
   "source": [
    "## Introduction to the Command Line. \n",
    "\n",
    "To open the terminal...\n",
    "\n",
    "On a Windows PC:\n",
    " - press \"win key\" + \"R\"\n",
    " - type: __cmd__\n",
    " - press enter\n",
    "\n",
    "On a Mac:\n",
    " - open Applications >> Utilities >> Terminal\n"
   ]
  },
  {
   "cell_type": "markdown",
   "metadata": {},
   "source": [
    "## Introduction to the Command Line. \n",
    "\n",
    "To open the terminal...\n",
    "\n",
    "On a Windows PC:\n",
    " - press \"win key\" + \"R\"\n",
    " - type: __cmd__\n",
    " - press enter\n",
    "\n",
    "On a Mac:\n",
    " - open Applications >> Utilities >> Terminal\n"
   ]
  },
  {
   "cell_type": "markdown",
   "metadata": {
    "slideshow": {
     "slide_type": "slide"
    }
   },
   "source": [
    "A terminal will launch.\n",
    "\n",
    "Using the terminal, you will navigate to where you want to store the course notes. \n",
    "\n"
   ]
  },
  {
   "cell_type": "markdown",
   "metadata": {
    "slideshow": {
     "slide_type": "slide"
    }
   },
   "source": [
    "#### If using a university computer.\n",
    "\n",
    "The *command prompt* will say something like:\n",
    "\n",
    "C:¥Users¥Username:\n",
    "\n",
    "The C tells us that we are on the C drive of the computer.\n",
    "\n",
    "Switch to the M drive where the user (you!) can save files.\n",
    "\n",
    "<img src=\"img/KUterminal.png\" alt=\"Drawing\" style=\"width: 500px;\"/>"
   ]
  },
  {
   "cell_type": "markdown",
   "metadata": {
    "slideshow": {
     "slide_type": "slide"
    }
   },
   "source": [
    "In the terminal type: \n",
    "\n",
    ">`M:`\n",
    "\n",
    "...and press enter.\n"
   ]
  },
  {
   "cell_type": "markdown",
   "metadata": {
    "slideshow": {
     "slide_type": "slide"
    }
   },
   "source": [
    "You should see the command prompt change.  \n",
    "\n",
    "\n",
    "<img src=\"img/KUterminalMdrive.png\" alt=\"Drawing\" style=\"width: 700px;\"/>"
   ]
  },
  {
   "cell_type": "markdown",
   "metadata": {
    "slideshow": {
     "slide_type": "slide"
    }
   },
   "source": [
    "Type:\n",
    "\n",
    ">`dir`\n",
    "\n",
    "..and press enter.\n",
    "\n",
    "You will see all the folders in your personal user area."
   ]
  },
  {
   "cell_type": "markdown",
   "metadata": {
    "slideshow": {
     "slide_type": "slide"
    }
   },
   "source": [
    "Type:\n",
    "    \n",
    ">`dir` \n",
    "\n",
    "again to view the contents of your Documents folder."
   ]
  },
  {
   "cell_type": "markdown",
   "metadata": {
    "slideshow": {
     "slide_type": "slide"
    }
   },
   "source": [
    "We can move down the filesystem of the computer by typing:\n",
    "\n",
    ">`cd`\n",
    "\n",
    "followed by the name of the folder we want to move to.\n",
    "\n",
    ">`cd Documents`\n",
    "\n"
   ]
  },
  {
   "cell_type": "markdown",
   "metadata": {},
   "source": [
    "The folder must be:\n",
    " - on the same branch\n",
    " - one step from our current location\n",
    "\n",
    "<img src=\"img/directory_tree.gif\" alt=\"Drawing\" style=\"width: 400px;\"/>"
   ]
  },
  {
   "cell_type": "markdown",
   "metadata": {},
   "source": [
    "Type:\n",
    "    \n",
    ">`dir` \n",
    "\n",
    "again to view the contents of the folder that you have moved into."
   ]
  },
  {
   "cell_type": "markdown",
   "metadata": {
    "slideshow": {
     "slide_type": "slide"
    }
   },
   "source": [
    "To move back up by one step, type:\n",
    "    \n",
    ">`cd ..`\n",
    "\n",
    "Try this now.\n",
    "\n",
    "<img src=\"img/directory_tree.gif\" alt=\"Drawing\" style=\"width: 400px;\"/>"
   ]
  },
  {
   "cell_type": "markdown",
   "metadata": {
    "slideshow": {
     "slide_type": "slide"
    }
   },
   "source": [
    "## How to Access the Course Material : <br> \"Cloning\" the Textbook Using Git\n",
    "\n",
    "Go to the Github site we opened earlier.  \n",
    "\n",
    "We are going to download the course notes by *cloning*.\n",
    "\n",
    "\n",
    "\n",
    "\n",
    "\n"
   ]
  },
  {
   "cell_type": "markdown",
   "metadata": {
    "slideshow": {
     "slide_type": "slide"
    }
   },
   "source": [
    "Click the button \"Clone or download\" and copy the link by presssing Ctrl , C\n",
    "\n",
    "<img src=\"img/clone-URL.png\" alt=\"Drawing\" style=\"width: 500px;\"/>\n"
   ]
  },
  {
   "cell_type": "markdown",
   "metadata": {
    "slideshow": {
     "slide_type": "slide"
    }
   },
   "source": [
    "In the terminal type `git clone`. \n",
    "\n",
    "After the word `clone` __leave a space__ and then paste the URL that you just copied: \n",
    "\n",
    "> `git clone` &nbsp; https://github.com/hphilamore/ILAS_Python_for_everyone\n",
    "\n",
    "\n",
    "`Clone` copies all the files from the repository at the URL you have entered. "
   ]
  },
  {
   "cell_type": "markdown",
   "metadata": {
    "slideshow": {
     "slide_type": "slide"
    }
   },
   "source": [
    "In the terminal type:\n",
    "\n",
    "> `dir`\n",
    "\n",
    "A folder called \"ILAS_python_for_everyone\" should have appeared. \n",
    "\n",
    "Go into the folder and view the content by typing:\n",
    "\n",
    ">`cd ILAS_pyhon`\n",
    "><br>`dir` \n",
    "\n"
   ]
  },
  {
   "cell_type": "markdown",
   "metadata": {},
   "source": [
    "- Course content\n",
    "- How to access the course material\n",
    "- __Software__\n",
    "- Assessment\n",
    "- Homework and class necessary class preparation\n",
    "- Software Installation"
   ]
  },
  {
   "cell_type": "markdown",
   "metadata": {},
   "source": [
    "## Software : Python Environments\n",
    "\n",
    "There are different *environments* in which we can write and run python code. \n",
    "\n",
    "Each environment has different advantages and is suitable for different work types. "
   ]
  },
  {
   "cell_type": "markdown",
   "metadata": {},
   "source": [
    "## Software : Python Environments - Jupyter Notebook\n",
    "You can view the course notes via a *web browser* or using *Jupyter notebook*. \n",
    "\n",
    "To launch Jupyter notebook.\n",
    "\n",
    "In the terminal type:\n",
    "\n",
    " >   `jupyter notebook`\n",
    "\n",
    "and press enter.\n",
    "\n",
    "\n",
    "__OR__\n",
    "\n",
    "Choose Spyder from your computer's start menu e.g.:\n",
    "\n",
    "> Start >> Programs (すべてのプログラム) >> Programming >> Anaconda3 >> Jupyter notebook\n",
    " \n"
   ]
  },
  {
   "cell_type": "markdown",
   "metadata": {},
   "source": [
    "You can type code in the boxes.\n",
    "\n",
    "You can run the code by pressing:\n",
    "\n",
    ">\"Shift\" + \"Enter\"\n",
    "\n",
    "This is an easy way to try out code next to printed instructions and images.\n"
   ]
  },
  {
   "cell_type": "markdown",
   "metadata": {},
   "source": [
    "## Software : Python Environments - Python interpreter\n",
    "\n",
    "We can start the interpreter by typing \n",
    ">``python3`` \n",
    "\n",
    "in the terminal.\n",
    "\n",
    "The command prompt changes to:\n",
    ">``>>>``\n",
    "\n",
    "This is useful for doing small calculations. But the standard python interpreter is not very convenient for longer pieces of code. \n",
    "\n",
    "<!-- <img src=\"files/images/python-screenshot.jpg\" width=\"600\"> -->\n",
    "<img src=\"img/python-screenshot.jpg\" width=\"600\">\n",
    "\n",
    "\n",
    "\n",
    "\n"
   ]
  },
  {
   "cell_type": "code",
   "execution_count": null,
   "metadata": {
    "collapsed": true
   },
   "outputs": [],
   "source": []
  },
  {
   "cell_type": "markdown",
   "metadata": {},
   "source": [
    "## Software : Python Environments - Spyder\n",
    "\n",
    "Spyder is an integrated development environment (IDE). \n",
    "\n",
    "An IDE is a program used to write and edit code.\n",
    "\n",
    "To launch spyder\n",
    "\n",
    "In the terminal type:\n",
    "\n",
    " >   `spyder`\n",
    "\n",
    "and press enter.\n",
    "\n",
    "\n",
    "__OR__\n",
    "\n",
    "Choose Spyder from your computer's start menu e.g.:\n",
    "\n",
    "> Start >> Programs (すべてのプログラム) >> Programming >> Anaconda3 >> Spyder\n",
    " \n",
    "\n"
   ]
  },
  {
   "cell_type": "markdown",
   "metadata": {},
   "source": [
    "### Writing and running code in the Spyder IDE \n",
    "You can write code by tying in the box on the left (editor).\n",
    "\n",
    "You can run the code you have typed by clicking the green triangle in the menu bar at the top of the window.\n",
    "\n",
    "<img src=\"img/run_spyder.png\" alt=\"Drawing\" style=\"width: 300px;\"/>\n",
    "\n",
    "The output should appear in the box on the bottom right (console)\n",
    "\n",
    "The box in the top, right can be used to diplay the file system or stored variables (much ilke in MATLAB)."
   ]
  },
  {
   "cell_type": "markdown",
   "metadata": {},
   "source": [
    "### Writing code in the Spyder IDE and  and running code in the Spyder IDE \n",
    "\n",
    "### Save your code\n",
    "\n",
    "Click:\n",
    "\n",
    "File >> Save as \n",
    "\n",
    "Save your file with `.py` extension.  \n"
   ]
  },
  {
   "cell_type": "markdown",
   "metadata": {},
   "source": [
    "### Running your program without using Spyder.\n",
    "\n",
    "Spyder and other IDEs provide a convenient way to write, run and save code.\n",
    "\n",
    "However, once you have saved your program you can run it without the need for another program. \n",
    "\n",
    "In the terminal, use `cd` to navigate to within the folder where you just saved your file."
   ]
  },
  {
   "cell_type": "markdown",
   "metadata": {},
   "source": [
    "Type:\n",
    "\n",
    "> `python3`\n",
    "\n",
    "...followed by a space, then the name of the program that you want to run. \n",
    "\n",
    "For example, to run a file ``my-program.py``: \n",
    "\n",
    "> `python my-program.py`\n",
    "\n",
    "<img src=\"img/python-screenshot.jpg\" width=\"600\">"
   ]
  },
  {
   "cell_type": "markdown",
   "metadata": {},
   "source": [
    "### Creating Python files without using Spyder.\n",
    "In fact, you don't even need an IDE to create a Python file. \n",
    "\n",
    "You can write Python code in a normal text editor (Notepad (Windows), Wordpad (Windows), TextEdit (Mac), Text Editor (Ubuntu Linux).\n",
    "\n",
    "Provided you add the file extension .py when saving the file, you can run the file exactly the same way as we just did from the command line."
   ]
  },
  {
   "cell_type": "markdown",
   "metadata": {},
   "source": [
    "We will use:\n",
    "- __Jupyter notebook__ for short coding practise exercises.\n",
    "- __Spyder__ for longer, more complete programs. \n",
    "\n",
    "We will go through how to explain:\n",
    "- Git\n",
    "- Jupyter notebook \n",
    "- Spyder \n",
    "at the end of today's class.\n"
   ]
  },
  {
   "cell_type": "markdown",
   "metadata": {},
   "source": [
    "- Course content\n",
    "- How to access the course material\n",
    "- Software\n",
    "- __Assessment__\n",
    "- Homework and class necessary class preparation\n",
    "- Software Installation"
   ]
  },
  {
   "cell_type": "markdown",
   "metadata": {},
   "source": [
    "## Assessment\n",
    "\n",
    "- Game development project \n",
    " - 50% final grade\n",
    " - in pairs\n",
    " - week 8\n",
    "<br>\n",
    "- Exam \n",
    " - 50% final grade\n",
    " - individual \n",
    " - open book\n",
    " - week 15"
   ]
  },
  {
   "cell_type": "markdown",
   "metadata": {},
   "source": [
    "- Course content\n",
    "- How to access the course material\n",
    "- Software\n",
    "- Assessment\n",
    "- __Homework and class necessary class preparation__\n",
    "- Software Installation"
   ]
  },
  {
   "cell_type": "markdown",
   "metadata": {},
   "source": [
    "### Class Preparation\n",
    "Lesson structure (learning by doing): \n",
    "- Doing examples together\n",
    "- Trying exercises by yourself\n",
    "\n",
    "To achieve this I will be asking you to read the notes ahead of class to prepare. "
   ]
  },
  {
   "cell_type": "markdown",
   "metadata": {},
   "source": [
    "### Homework\n",
    "There are practise exercises for you to complete at the end of the class notes for each class. \n",
    "\n",
    "I will release example solutions weekly. \n",
    "\n",
    "Review exercises are not assessed but are good preparation for the exam. \n",
    "\n",
    "I strongly advise you to complete them."
   ]
  },
  {
   "cell_type": "markdown",
   "metadata": {
    "slideshow": {
     "slide_type": "slide"
    }
   },
   "source": [
    "- Course content\n",
    "- How to access the course material\n",
    "- Software\n",
    "- Assessment\n",
    "- Homework and class necessary class preparation\n",
    "- __Software Installation__\n",
    " \n",
    "\n",
    "\n",
    "\n"
   ]
  },
  {
   "cell_type": "markdown",
   "metadata": {},
   "source": [
    "Before next class you *must* have the following software installed on the computer that you are going to use to take the course. \n",
    "- Git\n",
    "- Anaconda (Jupyter notebook and Spyder) \n",
    "\n",
    "<br>\n",
    "Before next class you *must* have downloaded (cloned) the class notes. \n"
   ]
  },
  {
   "cell_type": "markdown",
   "metadata": {},
   "source": [
    "### Are there any questions?"
   ]
  },
  {
   "cell_type": "markdown",
   "metadata": {},
   "source": [
    "## Software Installation \n",
    "\n",
    "__Anaconda__ (which includes Jupyter notebook) can be downloaded from: <br>https://www.anaconda.com/download/\n",
    "><br>windows, Mac and Linux versions are available\n",
    "><br>Python 3.6 version and Python 2.7 version are available.\n",
    "><br>Choose Python 3.6 version\n",
    "\n",
    "<br>\n",
    "__Git__ can be downloaded from: \n",
    "\n",
    "Windows: https://git-scm.com/download/win\n",
    "<br>[Choose the right version for your computer operating system (32 bit/64 bit)]. \n",
    "\n",
    "Mac : https://git-scm.com/download/mac\n",
    "\n",
    "Linux : https://git-scm.com/download/linux\n",
    "\n",
    "An easy to follow download wizard will launch for each piece of software. "
   ]
  },
  {
   "cell_type": "code",
   "execution_count": null,
   "metadata": {
    "collapsed": true
   },
   "outputs": [],
   "source": []
  },
  {
   "cell_type": "code",
   "execution_count": null,
   "metadata": {
    "collapsed": true
   },
   "outputs": [],
   "source": []
  },
  {
   "cell_type": "code",
   "execution_count": null,
   "metadata": {
    "collapsed": true
   },
   "outputs": [],
   "source": []
  },
  {
   "cell_type": "code",
   "execution_count": null,
   "metadata": {
    "collapsed": true
   },
   "outputs": [],
   "source": []
  },
  {
   "cell_type": "code",
   "execution_count": null,
   "metadata": {
    "collapsed": true
   },
   "outputs": [],
   "source": []
  }
 ],
 "metadata": {
  "kernelspec": {
   "display_name": "Python 3",
   "language": "python",
   "name": "python3"
  },
  "language_info": {
   "codemirror_mode": {
    "name": "ipython",
    "version": 3
   },
   "file_extension": ".py",
   "mimetype": "text/x-python",
   "name": "python",
   "nbconvert_exporter": "python",
   "pygments_lexer": "ipython3",
   "version": "3.6.2"
  }
 },
 "nbformat": 4,
 "nbformat_minor": 2
}
