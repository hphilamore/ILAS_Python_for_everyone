{
 "cells": [
  {
   "cell_type": "markdown",
   "metadata": {
    "slideshow": {
     "slide_type": "slide"
    }
   },
   "source": [
    "# Please download the new class notes.\n",
    "### Step 1 : Navigate to the directory where your files are stored.  \n",
    "Open a terminal. \n",
    "\n",
    "Using `cd`, navigate to *inside* the ILAS_Python_for_everyone folder on your computer. \n",
    "\n",
    "### Step 3 : Update the course notes by downloading the changes\n",
    "In the terminal type:\n",
    "\n",
    ">`git add -A`\n",
    "\n",
    ">`git commit -m \"commit\"`\n",
    "\n",
    ">`git fetch upstream`\n",
    "\n",
    ">`git merge -X theirs upstream/master`\n"
   ]
  },
  {
   "cell_type": "markdown",
   "metadata": {
    "collapsed": true,
    "slideshow": {
     "slide_type": "slide"
    }
   },
   "source": [
    "# Program Structure and Graphics\n",
    "\n",
    "<br> <a href='#InstallingPygame'>Installing Pygame</a>\n",
    "<br> <a href='#ProgramStructure'>Program Structure: The Game loop</a> \n",
    "<br> <a href='#SettingUp'>Setting Up</a> \n",
    "<br> <a href='#GameWindow'>The Game Window</a> \n",
    "<br> <a href='#MainGameLoop'>The Main Game Loop</a> \n",
    "<br> <a href='#ProcessingEachFrame'>Processing Each Frame</a> \n",
    "<br> <a href='#EventProcessingLoop'>The Event Processing Loop</a> \n",
    "<br> <a href='#Graphics'>Graphics</a> \n",
    "    <br> &emsp;&emsp; <a href='#ChangingWindowColour'>Changing the Window Colour</a> \n",
    "<br> <a href='#Variables'>Variables</a> \n",
    "<br> <a href='#FrameRate'>Frame Rate</a> \n",
    "<br> <a href='#DrawingBasics'>Drawing Basics</a> \n",
    "    <br> &emsp;&emsp; <a href='#ExamplesDrawingCircle'>Examples: Drawing a Circle</a> \n",
    "\t<br> &emsp;&emsp; <a href='#ExamplesDrawingRectangle'>Examples: Drawing a Rectangle</a> \n",
    "<br> <a href='#TheComputerXYCoordinateSystem'>The Computer XY Coordinate System</a> \n",
    "<br> <a href='#AnimatingDrawnObjects'>Animating Drawn Objects</a>  \n",
    "    <br> &emsp;&emsp; <a href='#Velocity'>Velocity</a> \n",
    "\t<br> &emsp;&emsp; <a href='#Collisions'>Collisions</a> \n",
    "        <br> &emsp;&emsp; &emsp;&emsp; <a href='#CollisionsEnvironment'>Collisions with the Environment</a> \n",
    "    <br> &emsp;&emsp; <a href='#AnimatingMultipleObjects'>Animating Multiple Objects</a> \n",
    "    <br> &emsp;&emsp; <a href='#ListsLoopsAnimateMultipleObjects'>Optional Extension: Using Lists and Loops to Animate Multiple Objects</a> \n",
    "<br> <a href='#TestYourselfExercises'>Test-Yourself Exercises</a> \n",
    "<br> <a href='#ReviewExercises'>Review Exercises</a> "
   ]
  },
  {
   "cell_type": "markdown",
   "metadata": {
    "slideshow": {
     "slide_type": "slide"
    }
   },
   "source": [
    "### Lesson Goal\n",
    "\n",
    "Use a physical control interface to manipulate objects on the screen."
   ]
  },
  {
   "cell_type": "markdown",
   "metadata": {
    "slideshow": {
     "slide_type": "slide"
    }
   },
   "source": [
    "### Fundamental programming concepts\n",
    "Interacting with physical interfaces. "
   ]
  },
  {
   "cell_type": "markdown",
   "metadata": {
    "slideshow": {
     "slide_type": "slide"
    }
   },
   "source": [
    "Today we will study examples based on primative arcade game design to learn how to use physical interfaces of your computer (the keyboard and the mouse) to interact with a display. \n",
    "\n"
   ]
  },
  {
   "cell_type": "markdown",
   "metadata": {},
   "source": [
    "Possible applications of this outside of a game: \n",
    "- An interface for an experiment where a participant clicks to indicate a response (you may do this for your project).\n",
    "- A simulation where you dynamically change parameters by turning virtual “knobs”\n",
    "- Building a simple light or sound controller that is easy to operate as part of a performance\n",
    "\n"
   ]
  },
  {
   "cell_type": "markdown",
   "metadata": {},
   "source": [
    "## Pong\n",
    "\n",
    "Pong is one of the earliest arcade video games. \n",
    "\n",
    "It is a table tennis sports game with simple 2D graphics. \n",
    "\n",
    "The game was originally which released in 1972. \n",
    "\n",
    "<p align=\"center\">\n",
    "  <img src=\"img/pong.gif\" alt=\"Drawing\" style=\"width: 300px;\"/>\n",
    "</p>"
   ]
  },
  {
   "cell_type": "markdown",
   "metadata": {},
   "source": [
    "Your homework from last week's class was to write a program to:\n",
    "1. draw the game layout shown below\n",
    "1. give the circle a starting velocity of:\n",
    "    - x direction: 3 pixels per timestep\n",
    "    - y direction: -2 pixels per timestep\n",
    "    <br>(The extension task was to give the circle random starting velocity). \n",
    "1. Invert the velocity of the circle if it collides with the edge of the window.\n",
    "\n",
    "<p align=\"center\">\n",
    "<img src=\"img/pong_setup.png\" alt=\"Drawing\" style=\"width: 400px;\"/>\n",
    "</p>"
   ]
  },
  {
   "cell_type": "markdown",
   "metadata": {},
   "source": [
    "Open the file you created for your homework now.\n",
    "\n",
    "Save a copy of this file (you will need it later)."
   ]
  },
  {
   "cell_type": "markdown",
   "metadata": {},
   "source": [
    "If you weren't able to complete the homework, there is a code template for you to use in the `sample_data` folder of the `ILAS_python_for_everyone` repository.\n",
    "\n",
    "The file name is __pong_template.py__"
   ]
  },
  {
   "cell_type": "markdown",
   "metadata": {},
   "source": [
    "If you run this code, the ball : the red circle will move autonomously."
   ]
  },
  {
   "cell_type": "markdown",
   "metadata": {},
   "source": [
    "Let's go through an example of what your hoemwork might look like by analysing the file pong_template.py.\n",
    "\n",
    "There are a few imoprtant points to note..."
   ]
  },
  {
   "cell_type": "code",
   "execution_count": null,
   "metadata": {},
   "outputs": [],
   "source": [
    "Import the packages you need and initialise the pygame library:"
   ]
  },
  {
   "cell_type": "code",
   "execution_count": null,
   "metadata": {},
   "outputs": [],
   "source": [
    "import pygame \n",
    "import sys\n",
    "import random\n",
    "\n",
    "# 1. Initailise the pygame library\n",
    "pygame.init()"
   ]
  },
  {
   "cell_type": "markdown",
   "metadata": {},
   "source": [
    "Create variables for numerical values in the code."
   ]
  },
  {
   "cell_type": "code",
   "execution_count": null,
   "metadata": {},
   "outputs": [],
   "source": [
    "# 2. Variables\n",
    "x = 0\n",
    "y = 1\n",
    "\n",
    "# 2.1 colours \n",
    "black = (0,0,0)\n",
    "white = (255, 255, 255)\n",
    "red =   (255, 0, 0)\n",
    "green = (0, 255, 0)\n",
    "blue =  (0, 0, 255)\n",
    "\n",
    "# 2.2 window\n",
    "win_width = 600\n",
    "win_height = 400\n",
    "\n",
    "# 2.3 ball\n",
    "radius = 20 \n",
    "ball_pos = [win_width//2, win_height//2] \n",
    "ball_vel = [random.randrange(2,4), random.randrange(1,3)]\n",
    "if random.randrange(0,2) == 0:\n",
    "    ball_vel[x] *= -1\n",
    "if random.randrange(0,2) == 0:\n",
    "    ball_vel[y] *= -1\n",
    "       \n",
    "# 2.4 paddles\n",
    "pad_width = 40\n",
    "pad_height = 120\n",
    "pad1_vel = [0,0]\n",
    "pad2_vel = [0,0]\n",
    "pad1_pos = [0,                       win_height//2 - pad_height//2]\n",
    "pad2_pos = [win_width - pad_width,   win_height//2 - pad_height//2] \n",
    "\n",
    "pad_pos = [pad1_pos, pad2_pos]\n",
    "pad_vel = [pad1_vel, pad2_vel] "
   ]
  },
  {
   "cell_type": "markdown",
   "metadata": {},
   "source": [
    "__Change in size of ball and paddles.__\n",
    "\n",
    "The dimensions given in the homework resulted in large ball and small paddles.\n",
    "\n",
    "In pong_template.py:\n",
    "\n",
    "- ball radius = 20\n",
    "- paddle width = 30\n",
    "- paddle height = 120\n",
    "\n",
    "You can choose whatever size you like."
   ]
  },
  {
   "cell_type": "markdown",
   "metadata": {},
   "source": [
    "__In pong_template.py, the ball has random initial velocity.__\n",
    "\n",
    "- Import the `random` library <br>(if you need a reminder of how to do this, see 03_ProgramStructure_Graphics.ipynb).\n",
    "\n",
    "        import random\n",
    "\n",
    "- Choose a positive integer at random from a specified range:\n",
    "\n",
    "        ball_vel = [random.randrange(2,4), random.randrange(1,3)]\n",
    "        \n",
    "- Choose a positive integer at random to choose whether to reverse the directionof travel:\n",
    "        if random.randrange(0,2) == 0:\n",
    "            ball_vel[x] *= -1\n",
    "        if random.randrange(0,2) == 0:\n",
    "            ball_vel[y] *= -1"
   ]
  },
  {
   "cell_type": "markdown",
   "metadata": {},
   "source": [
    "__In pong_template.py, x and y are used as indices.__\n",
    "\n",
    "By creating variables: \n",
    "\n",
    "        x = 0\n",
    "        y = 1\n",
    "        \n",
    "\n",
    "We can make the code more readable e.g.\n",
    "\n",
    "        if random.randrange(0,2) == 0:\n",
    "            ball_vel[x] *= -1\n",
    "        if random.randrange(0,2) == 0:\n",
    "            ball_vel[y] *= -1\n",
    "\n",
    "which is more readbale than\n",
    "\n",
    "        if random.randrange(0,2) == 0:\n",
    "            ball_vel[0] *= -1\n",
    "        if random.randrange(0,2) == 0:\n",
    "            ball_vel[1] *= -1"
   ]
  },
  {
   "cell_type": "code",
   "execution_count": null,
   "metadata": {},
   "outputs": [],
   "source": [
    "Launch a game window.\n",
    "\n",
    "Set up the main game loop.\n",
    "\n",
    "Create an event processing loop to check if the user has quit the game."
   ]
  },
  {
   "cell_type": "code",
   "execution_count": null,
   "metadata": {},
   "outputs": [],
   "source": [
    "# 4. Set up the main game loop\n",
    "while True:\n",
    "    \n",
    "    # 5. Event processing\n",
    "    event = pygame.event.poll()\n",
    "    \n",
    "    # 5.1 Check if the user has quit the game\n",
    "    if event.type == pygame.QUIT:        \n",
    "        pygame.quit()\n",
    "        sys.exit()  "
   ]
  },
  {
   "cell_type": "code",
   "execution_count": 16,
   "metadata": {},
   "outputs": [
    {
     "ename": "SyntaxError",
     "evalue": "invalid syntax (<ipython-input-16-9aeb66664a66>, line 1)",
     "output_type": "error",
     "traceback": [
      "\u001b[0;36m  File \u001b[0;32m\"<ipython-input-16-9aeb66664a66>\"\u001b[0;36m, line \u001b[0;32m1\u001b[0m\n\u001b[0;31m    Update the ball position\u001b[0m\n\u001b[0m             ^\u001b[0m\n\u001b[0;31mSyntaxError\u001b[0m\u001b[0;31m:\u001b[0m invalid syntax\n"
     ]
    }
   ],
   "source": [
    "Update the ball position.\n",
    "\n",
    "Draw everything.\n",
    "\n",
    "Update the display."
   ]
  },
  {
   "cell_type": "code",
   "execution_count": 17,
   "metadata": {},
   "outputs": [
    {
     "ename": "NameError",
     "evalue": "name 'ball_pos' is not defined",
     "output_type": "error",
     "traceback": [
      "\u001b[0;31m---------------------------------------------------------------------------\u001b[0m",
      "\u001b[0;31mNameError\u001b[0m                                 Traceback (most recent call last)",
      "\u001b[0;32m<ipython-input-17-3258430d9384>\u001b[0m in \u001b[0;36m<module>\u001b[0;34m()\u001b[0m\n\u001b[1;32m      1\u001b[0m \u001b[0;31m# 6.3 Update ball position\u001b[0m\u001b[0;34m\u001b[0m\u001b[0;34m\u001b[0m\u001b[0m\n\u001b[0;32m----> 2\u001b[0;31m \u001b[0mball_pos\u001b[0m\u001b[0;34m[\u001b[0m\u001b[0mx\u001b[0m\u001b[0;34m]\u001b[0m \u001b[0;34m+=\u001b[0m \u001b[0mball_vel\u001b[0m\u001b[0;34m[\u001b[0m\u001b[0mx\u001b[0m\u001b[0;34m]\u001b[0m\u001b[0;34m\u001b[0m\u001b[0m\n\u001b[0m\u001b[1;32m      3\u001b[0m \u001b[0mball_pos\u001b[0m\u001b[0;34m[\u001b[0m\u001b[0my\u001b[0m\u001b[0;34m]\u001b[0m \u001b[0;34m+=\u001b[0m \u001b[0mball_vel\u001b[0m\u001b[0;34m[\u001b[0m\u001b[0my\u001b[0m\u001b[0;34m]\u001b[0m\u001b[0;34m\u001b[0m\u001b[0m\n\u001b[1;32m      4\u001b[0m \u001b[0;34m\u001b[0m\u001b[0m\n\u001b[1;32m      5\u001b[0m \u001b[0;34m\u001b[0m\u001b[0m\n",
      "\u001b[0;31mNameError\u001b[0m: name 'ball_pos' is not defined"
     ]
    }
   ],
   "source": [
    "# 6.3 Update ball position\n",
    "ball_pos[x] += ball_vel[x]\n",
    "ball_pos[y] += ball_vel[y]\n",
    "\n",
    "\n",
    "# 7. Draw everything\n",
    "# 7.1 Draw Window\n",
    "window.fill(blue)\n",
    "\n",
    "\n",
    "# 7.2 Draw ball and paddles\n",
    "pygame.draw.circle(window, red, (int(ball_pos[x]), int(ball_pos[y])), radius)\n",
    "pygame.draw.rect(window, white, pygame.Rect(int(pad1_pos[x]), int(pad1_pos[y]), pad_width, pad_height))\n",
    "pygame.draw.rect(window, white, pygame.Rect(int(pad2_pos[x]), int(pad2_pos[y]), pad_width, pad_height))\n",
    "\n",
    "\n",
    "# 8. Update display\n",
    "pygame.display.update()"
   ]
  },
  {
   "cell_type": "markdown",
   "metadata": {},
   "source": [
    "__Order of code blocks__\n",
    "\n",
    "Notice this is in a slightly different order to last week \n",
    "\n",
    "In the last example, the code to draw everything came before the code to calculate position:\n",
    "\n",
    "    # 5.1 Draw Circle\n",
    "\n",
    "    # 5.2 Reverse direction of travel if edge is reached\n",
    "    \n",
    "    # 5.3 Update circle position\n",
    "     "
   ]
  },
  {
   "cell_type": "markdown",
   "metadata": {},
   "source": [
    "Today's example follows the structure in the main game loop diagram:\n",
    "\n",
    "<p align=\"center\">\n",
    "  <img src=\"img/game_loop.png\" alt=\"Drawing\" style=\"width: 200px;\"/>\n",
    "</p>\n",
    "\n",
    "The comment numbers in the notes from last week have been updated to reflect this.\n",
    "\n",
    "A complete example of last weeks code is in the file aquarium_template.py in the sample data folder."
   ]
  },
  {
   "cell_type": "markdown",
   "metadata": {},
   "source": [
    "Re-structure your code by moving code for calculations to appear above code for drawing. \n",
    "\n"
   ]
  },
  {
   "cell_type": "markdown",
   "metadata": {},
   "source": [
    "__3. Position must be given using integer values__\n",
    "\n",
    "If you have tried to enter floating point values for position or velocity, you may have noticed that en error is generated.\n",
    "\n",
    "Position and velocity are measured in units of pixels.\n",
    "\n",
    "As a pixel is a basic unit of programmable color on a computer display, it is not possible to use non-integer values.\n"
   ]
  },
  {
   "cell_type": "markdown",
   "metadata": {},
   "source": [
    "To safegaurd against non-interger position values that may arise from calculations in your code, we can use casting when inputting the position values to draw the shapes:"
   ]
  },
  {
   "cell_type": "code",
   "execution_count": null,
   "metadata": {},
   "outputs": [],
   "source": [
    "# 7.2 Draw ball and paddles\n",
    "pygame.draw.circle(window, red, (int(ball_pos[x]), int(ball_pos[y])), radius)\n",
    "pygame.draw.rect(window, white, pygame.Rect(int(pad1_pos[x]), int(pad1_pos[y]), pad_width, pad_height))\n",
    "pygame.draw.rect(window, white, pygame.Rect(int(pad2_pos[x]), int(pad2_pos[y]), pad_width, pad_height))"
   ]
  },
  {
   "cell_type": "markdown",
   "metadata": {},
   "source": [
    "We will use the pong game to learn two things:\n",
    "1. Using keyboard presses to move objects on the screen\n",
    "1. Dealing with collisions between objects. <br>(Building on collisions with the environment).\n",
    "\n",
    "<p align=\"center\">\n",
    "  <img src=\"img/pong.gif\" alt=\"Drawing\" style=\"width: 300px;\"/>\n",
    "</p>"
   ]
  },
  {
   "cell_type": "markdown",
   "metadata": {},
   "source": [
    "## Keyboard Press\n",
    "In last week's class, we started to learn about the __event processing loop__.\n",
    "\n",
    "The event processing is the block of the game loop that \"Gets user input\".\n",
    "\n",
    "<img src=\"img/game_loop.png\" alt=\"Drawing\" style=\"width: 400px;\"/>\n"
   ]
  },
  {
   "cell_type": "markdown",
   "metadata": {},
   "source": [
    "Remind yourself of the code shown below.\n",
    "\n",
    "The code checks if the user has:\n",
    "- chosen to exit the game\n",
    "- clicked on the game screen\n",
    "\n"
   ]
  },
  {
   "cell_type": "code",
   "execution_count": 5,
   "metadata": {},
   "outputs": [
    {
     "ename": "NameError",
     "evalue": "name 'pygame' is not defined",
     "output_type": "error",
     "traceback": [
      "\u001b[0;31m---------------------------------------------------------------------------\u001b[0m",
      "\u001b[0;31mNameError\u001b[0m                                 Traceback (most recent call last)",
      "\u001b[0;32m<ipython-input-5-746199b3b94c>\u001b[0m in \u001b[0;36m<module>\u001b[0;34m()\u001b[0m\n\u001b[1;32m      1\u001b[0m \u001b[0;31m# 4. Set up the main game loop\u001b[0m\u001b[0;34m\u001b[0m\u001b[0;34m\u001b[0m\u001b[0m\n\u001b[1;32m      2\u001b[0m \u001b[0;32mwhile\u001b[0m \u001b[0;32mTrue\u001b[0m\u001b[0;34m:\u001b[0m\u001b[0;34m\u001b[0m\u001b[0m\n\u001b[0;32m----> 3\u001b[0;31m     \u001b[0mevent\u001b[0m \u001b[0;34m=\u001b[0m \u001b[0mpygame\u001b[0m\u001b[0;34m.\u001b[0m\u001b[0mevent\u001b[0m\u001b[0;34m.\u001b[0m\u001b[0mpoll\u001b[0m\u001b[0;34m(\u001b[0m\u001b[0;34m)\u001b[0m\u001b[0;34m\u001b[0m\u001b[0m\n\u001b[0m\u001b[1;32m      4\u001b[0m \u001b[0;34m\u001b[0m\u001b[0m\n\u001b[1;32m      5\u001b[0m     \u001b[0;32mif\u001b[0m \u001b[0mevent\u001b[0m\u001b[0;34m.\u001b[0m\u001b[0mtype\u001b[0m \u001b[0;34m==\u001b[0m \u001b[0mpygame\u001b[0m\u001b[0;34m.\u001b[0m\u001b[0mQUIT\u001b[0m\u001b[0;34m:\u001b[0m\u001b[0;34m\u001b[0m\u001b[0m\n",
      "\u001b[0;31mNameError\u001b[0m: name 'pygame' is not defined"
     ]
    }
   ],
   "source": [
    "# 4. Set up the main game loop\n",
    "while True:\n",
    "    \n",
    "    # 5. Event processing\n",
    "    event = pygame.event.poll()\n",
    "    \n",
    "    # 5.1 Check if the user has quit the game\n",
    "    if event.type == pygame.QUIT:        \n",
    "        pygame.quit()\n",
    "        sys.exit()  \n",
    "    \n",
    "    # 5.2 Check if a mouse button has been pressed    \n",
    "    elif event.type == pygame.MOUSEBUTTONDOWN:\n",
    "        print(\"User pressed a mouse button\")"
   ]
  },
  {
   "cell_type": "markdown",
   "metadata": {},
   "source": [
    "We later commented out or deleted the part of the code that detects if the user had pressed a mouse button: "
   ]
  },
  {
   "cell_type": "code",
   "execution_count": null,
   "metadata": {},
   "outputs": [],
   "source": [
    "# 4. Set up the main game loop\n",
    "while True:\n",
    "    \n",
    "    # 5. Event processing\n",
    "    event = pygame.event.poll()\n",
    "    \n",
    "    # 5.1 Check if the user has quit the game\n",
    "    if event.type == pygame.QUIT:        \n",
    "        pygame.quit()\n",
    "        sys.exit()  \n",
    "    \n",
    "#     # 5.2 Check if a mouse button has been pressed    \n",
    "#     elif event.type == pygame.MOUSEBUTTONDOWN:\n",
    "#         print(\"User pressed a mouse button\")"
   ]
  },
  {
   "cell_type": "markdown",
   "metadata": {},
   "source": [
    "The program you wrote for homework should look similar to this."
   ]
  },
  {
   "cell_type": "markdown",
   "metadata": {},
   "source": [
    "We are going to add some events to the event processing loop.\n",
    "\n",
    "Copy the folowing code and paste it underneath the line: `sys.exit()`.\n",
    "\n",
    "__Throughout this class you will need to chnage the variable names in the pasted cde to match those in your program.__\n",
    "\n"
   ]
  },
  {
   "cell_type": "code",
   "execution_count": null,
   "metadata": {},
   "outputs": [],
   "source": [
    "# 5.2 Check if any keys have been pressed    \n",
    "pressed = pygame.key.get_pressed()\n",
    "\n",
    "# 5.3 Check if paddles have been moved\n",
    "# 5.3.1 Right rectangle \n",
    "if pressed[pygame.K_UP] & pressed[pygame.K_DOWN] : \n",
    "    pad2_vel[y] = 0\n",
    "elif pressed[pygame.K_UP]                        : \n",
    "    pad2_vel[y] = -8\n",
    "elif pressed[pygame.K_DOWN]                      : \n",
    "    pad2_vel[y] = 8\n",
    "else: \n",
    "    pad2_vel[y] = 0"
   ]
  },
  {
   "cell_type": "markdown",
   "metadata": {},
   "source": [
    "It should be at the same level of indentation as shown below:\n",
    "        \n",
    "    # 4. Set up the main game loop\n",
    "    while True:\n",
    "\n",
    "        # 5. Event processing\n",
    "        event = pygame.event.poll()\n",
    "\n",
    "        # 5.1 Check if the user has quit the game\n",
    "        if event.type == pygame.QUIT:        \n",
    "            pygame.quit()\n",
    "            sys.exit()  \n",
    "\n",
    "        # 5.2 Check if any keys have been pressed    \n",
    "        pressed = pygame.key.get_pressed()\n",
    "\n",
    "        # 5.3 Check if paddles have been moved\n",
    "        # 5.3.1 Right rectangle \n",
    "        if pressed[pygame.K_UP] & pressed[pygame.K_DOWN] : \n",
    "            pad2_vel[y] = 0\n",
    "        elif pressed[pygame.K_UP]                        : \n",
    "            pad2_vel[y] = -8\n",
    "        elif pressed[pygame.K_DOWN]                      : \n",
    "            pad2_vel[y] = 8\n",
    "        else: \n",
    "            pad2_vel[y] = 0"
   ]
  },
  {
   "cell_type": "markdown",
   "metadata": {},
   "source": [
    "##### What does this code do?\n",
    "\n",
    ">pressed = pygame.key.get_pressed()\n",
    "\n",
    "This creates a data structure with the variable name `pressed`.\n",
    "\n",
    "The data strcuture holds a value (1 or 0) for each key on the keyboard.\n",
    "\n",
    "If the key is pressed, the element representing that key is 1.\n",
    "\n",
    "Otherwise the value of the element is 0."
   ]
  },
  {
   "cell_type": "markdown",
   "metadata": {},
   "source": [
    ">`if pressed[pygame.K_UP] & pressed[pygame.K_DOWN] : \n",
    "    pad2_vel[y] = 0\n",
    "elif pressed[pygame.K_UP]                        : \n",
    "    pad2_vel[y] = -8 <br>\n",
    "elif pressed[pygame.K_DOWN]                      : \n",
    "    pad2_vel[y] = 8 \n",
    "else: \n",
    "    pad2_vel[y] = 0` \n",
    "    \n",
    "This code checks the element of the data structure `pressed` that represent the keys:\n",
    "- up : `pressed[pygame.K_UP]`\n",
    "- down : `pressed[pygame.K_DOWN]`\n",
    "\n",
    "The status of the keys deterimines the velocity of the paddle. \n",
    "\n",
    "- If up=1 and down=1 --> paddle velocity = 0\n",
    "- If up=1 and down=0 --> paddle velocity = -8 px/frame\n",
    "- If up=0 and down=1 --> paddle velocity = 8 px/frame\n",
    "- Otherwise (up=1 and down=1)--> paddle velocity = 0"
   ]
  },
  {
   "cell_type": "markdown",
   "metadata": {},
   "source": [
    "##### Try it Yourself?\n",
    "If you want to see the data structure and the change from 0 to 1 when a key is pressed, add the followig line somewhere after the `pressed = pygame.key.get_pressed()`:\n",
    "\n",
    "        print(pressed)"
   ]
  },
  {
   "cell_type": "markdown",
   "metadata": {},
   "source": [
    "To update the paddle position due to the velocity, copy the following line of code.\n",
    "<br>Paste it after the code to update the postion of the ball:"
   ]
  },
  {
   "cell_type": "code",
   "execution_count": null,
   "metadata": {},
   "outputs": [],
   "source": [
    "pad2_pos[y] += pad2_vel[y]"
   ]
  },
  {
   "cell_type": "markdown",
   "metadata": {},
   "source": [
    "Your code should look somthing like this:\n",
    "    \n",
    "    # 6. Calculations \n",
    "    # 6.3 Update ball position\n",
    "    ball_pos[x] += ball_vel[x]\n",
    "    ball_pos[y] += ball_vel[y]\n",
    "    \n",
    "    # 6.4 Update paddle position  \n",
    "    pad1_pos[y] += pad1_vel[y]\n",
    "\n",
    "    # 7. Draw everything\n",
    "    \n",
    "    # 8. Update display\n",
    "    pygame.display.update()\n",
    "    \n",
    "    \n",
    "Remember all drawing code should:\n",
    "- be grouped together.\n",
    "- appear *before* the line:<br>`pygame.display.update()`"
   ]
  },
  {
   "cell_type": "markdown",
   "metadata": {},
   "source": [
    "Run the code again.\n",
    "\n",
    "##### If using windows or linux...\n",
    "You can run your code in spyder.\n",
    "\n",
    "...However, if you want to practise running your code from the terminal, follow the steps for mac users.\n",
    "\n"
   ]
  },
  {
   "cell_type": "markdown",
   "metadata": {},
   "source": [
    "##### If using a mac...\n",
    "You *need to* run your code from the terminal using the command:\n",
    ">`pythonw filename.py`\n",
    "\n",
    "where `filename` is the name you have given your file.\n",
    "\n",
    "This will allow you to access the WindowManager library on the OSX operating system which is needed to run operations relating to interactive user interfaces.\n",
    "\n",
    "Instructions for this are given below..."
   ]
  },
  {
   "cell_type": "markdown",
   "metadata": {},
   "source": [
    "### Instructions for running your code from the terminal on mac\n",
    "__(Not needed if using windows)__\n",
    "\n",
    "### Step 1 : Navigate to the directory where your files are stored.  \n",
    "Open a terminal. \n",
    "\n",
    "Using `cd`, navigate to *inside* the folder where you have stored the file you are working on in Spyder.\n",
    "\n",
    "### Step 2 : Run the code.\n",
    "Type:\n",
    ">`pythonw filename.py`\n",
    "\n",
    "where `filename` is the name you have given your file."
   ]
  },
  {
   "cell_type": "markdown",
   "metadata": {},
   "source": [
    "When the game window appears, try pressing the up and down arrows on your keyboard.\n",
    "\n",
    "You should see the rectangle on the right move up and down."
   ]
  },
  {
   "cell_type": "markdown",
   "metadata": {},
   "source": [
    "Now we need to add the other paddle. \n",
    "\n",
    "We need to choose on the oposite side of the keyboard to the arrows, to control the second paddle. \n",
    "<br>For example you could use:\n",
    "- W for up\n",
    "- S for down\n",
    "\n",
    "(as W is above S on the keyboard)."
   ]
  },
  {
   "cell_type": "markdown",
   "metadata": {},
   "source": [
    "Copy the following code and paste it below the code to move the rectangle on the right:"
   ]
  },
  {
   "cell_type": "code",
   "execution_count": 8,
   "metadata": {},
   "outputs": [
    {
     "ename": "NameError",
     "evalue": "name 'pressed' is not defined",
     "output_type": "error",
     "traceback": [
      "\u001b[0;31m---------------------------------------------------------------------------\u001b[0m",
      "\u001b[0;31mNameError\u001b[0m                                 Traceback (most recent call last)",
      "\u001b[0;32m<ipython-input-8-daf360797c75>\u001b[0m in \u001b[0;36m<module>\u001b[0;34m()\u001b[0m\n\u001b[1;32m      1\u001b[0m \u001b[0;31m# 4.3 Move rectangle on left\u001b[0m\u001b[0;34m\u001b[0m\u001b[0;34m\u001b[0m\u001b[0m\n\u001b[0;32m----> 2\u001b[0;31m \u001b[0;32mif\u001b[0m \u001b[0mpressed\u001b[0m\u001b[0;34m[\u001b[0m\u001b[0mpygame\u001b[0m\u001b[0;34m.\u001b[0m\u001b[0mK_w\u001b[0m\u001b[0;34m]\u001b[0m \u001b[0;34m&\u001b[0m \u001b[0mpressed\u001b[0m\u001b[0;34m[\u001b[0m\u001b[0mpygame\u001b[0m\u001b[0;34m.\u001b[0m\u001b[0mK_s\u001b[0m\u001b[0;34m]\u001b[0m \u001b[0;34m:\u001b[0m\u001b[0;34m\u001b[0m\u001b[0m\n\u001b[0m\u001b[1;32m      3\u001b[0m     \u001b[0mpad1_vel\u001b[0m\u001b[0;34m[\u001b[0m\u001b[0my\u001b[0m\u001b[0;34m]\u001b[0m \u001b[0;34m=\u001b[0m \u001b[0;36m0\u001b[0m\u001b[0;34m\u001b[0m\u001b[0m\n\u001b[1;32m      4\u001b[0m \u001b[0;32melif\u001b[0m \u001b[0mpressed\u001b[0m\u001b[0;34m[\u001b[0m\u001b[0mpygame\u001b[0m\u001b[0;34m.\u001b[0m\u001b[0mK_w\u001b[0m\u001b[0;34m]\u001b[0m                        \u001b[0;34m:\u001b[0m\u001b[0;34m\u001b[0m\u001b[0m\n\u001b[1;32m      5\u001b[0m     \u001b[0mpad1_vel\u001b[0m\u001b[0;34m[\u001b[0m\u001b[0my\u001b[0m\u001b[0;34m]\u001b[0m \u001b[0;34m=\u001b[0m \u001b[0;34m-\u001b[0m\u001b[0;36m8\u001b[0m\u001b[0;34m\u001b[0m\u001b[0m\n",
      "\u001b[0;31mNameError\u001b[0m: name 'pressed' is not defined"
     ]
    }
   ],
   "source": [
    "# 5.3.2 Left rectangle \n",
    "if pressed[pygame.K_w] & pressed[pygame.K_s] : \n",
    "    pad1_vel[y] = 0\n",
    "elif pressed[pygame.K_w]                     : \n",
    "    pad1_vel[y] = -8\n",
    "elif pressed[pygame.K_s]                     : \n",
    "    pad1_vel[y] = 8\n",
    "else: \n",
    "    pad1_vel[y] = 0"
   ]
  },
  {
   "cell_type": "markdown",
   "metadata": {},
   "source": [
    "Note that this code is identical to the code to move the rectangle on the right aside from the following changes:\n",
    "\n",
    "- `pad2_vel` --> `pad1_vel`\n",
    "- `pygame.UP` --> `pygame.K_w`\n",
    "- `pygame.DOWN` --> `pygame.K_s`"
   ]
  },
  {
   "cell_type": "markdown",
   "metadata": {},
   "source": [
    "To update the paddle position due to the velocity, copy the following line of code.\n",
    "<br>Paste it after the code to update the postion of the ball:"
   ]
  },
  {
   "cell_type": "code",
   "execution_count": null,
   "metadata": {},
   "outputs": [],
   "source": [
    "pad1_pos[y] += pad1_vel[y]"
   ]
  },
  {
   "cell_type": "markdown",
   "metadata": {},
   "source": [
    "Your code should look somthing like this:\n",
    "\n",
    "    # 6.3 Update ball position\n",
    "    ball_pos[x] += ball_vel[x]\n",
    "    ball_pos[y] += ball_vel[y]\n",
    "    \n",
    "    \n",
    "    # 6.4 Update paddle position  \n",
    "    pad1_pos[y] += pad1_vel[y]\n",
    "    pad2_pos[y] += pad2_vel[y]"
   ]
  },
  {
   "cell_type": "markdown",
   "metadata": {},
   "source": [
    "If you are running your code using the terminal, you must save your changes in Spyder.\n",
    "\n",
    "<p align=\"center\">\n",
    "<img src=\"img/Spyder_save.png\" alt=\"Drawing\" style=\"width: 300px;\"/>\n",
    "</p>"
   ]
  },
  {
   "cell_type": "markdown",
   "metadata": {},
   "source": [
    "Run your code.\n",
    "\n",
    "You should now be able to control both paddles using the keyboard keys."
   ]
  },
  {
   "cell_type": "markdown",
   "metadata": {},
   "source": [
    "### Preventing the paddle from moving off the screen\n",
    "\n",
    "We will now add edit the code to keep the paddle within the edge of the screen. \n",
    "\n",
    "At the moment, the paddle always moves if a key is being pressed.\n",
    "    \n",
    "    # 6.4 Update paddle position  \n",
    "    pad1_pos[y] += pad1_vel[y]\n",
    "    pad2_pos[y] += pad2_vel[y]"
   ]
  },
  {
   "cell_type": "markdown",
   "metadata": {},
   "source": [
    "Let's edit the code and use the conditional `if` to move the paddle *only if* it has not reached the top or bottom of the screen."
   ]
  },
  {
   "cell_type": "markdown",
   "metadata": {},
   "source": [
    "Replace the block of code that updates the paddle position (Section 5.5 in the example) with the following code:"
   ]
  },
  {
   "cell_type": "code",
   "execution_count": 14,
   "metadata": {},
   "outputs": [
    {
     "ename": "NameError",
     "evalue": "name 'paddle1_pos' is not defined",
     "output_type": "error",
     "traceback": [
      "\u001b[0;31m---------------------------------------------------------------------------\u001b[0m",
      "\u001b[0;31mNameError\u001b[0m                                 Traceback (most recent call last)",
      "\u001b[0;32m<ipython-input-14-52fe54b77263>\u001b[0m in \u001b[0;36m<module>\u001b[0;34m()\u001b[0m\n\u001b[1;32m      1\u001b[0m \u001b[0;31m# 5.5 Update paddle position\u001b[0m\u001b[0;34m\u001b[0m\u001b[0;34m\u001b[0m\u001b[0m\n\u001b[0;32m----> 2\u001b[0;31m \u001b[0;32mif\u001b[0m \u001b[0mpaddle1_pos\u001b[0m\u001b[0;34m[\u001b[0m\u001b[0my\u001b[0m\u001b[0;34m]\u001b[0m \u001b[0;34m>\u001b[0m \u001b[0;36m0\u001b[0m \u001b[0;32mand\u001b[0m \u001b[0mpaddle1_pos\u001b[0m\u001b[0;34m[\u001b[0m\u001b[0my\u001b[0m\u001b[0;34m]\u001b[0m \u001b[0;34m<\u001b[0m \u001b[0mwin_height\u001b[0m \u001b[0;34m-\u001b[0m \u001b[0mpad_height\u001b[0m\u001b[0;34m:\u001b[0m\u001b[0;34m\u001b[0m\u001b[0m\n\u001b[0m\u001b[1;32m      3\u001b[0m     \u001b[0mpaddle1_pos\u001b[0m\u001b[0;34m[\u001b[0m\u001b[0my\u001b[0m\u001b[0;34m]\u001b[0m \u001b[0;34m+=\u001b[0m \u001b[0mpaddle1_vel\u001b[0m\u001b[0;34m\u001b[0m\u001b[0m\n\u001b[1;32m      4\u001b[0m \u001b[0;32mif\u001b[0m \u001b[0mpaddle2_pos\u001b[0m\u001b[0;34m[\u001b[0m\u001b[0my\u001b[0m\u001b[0;34m]\u001b[0m \u001b[0;34m>\u001b[0m \u001b[0;36m0\u001b[0m \u001b[0;32mand\u001b[0m \u001b[0mpaddle2_pos\u001b[0m\u001b[0;34m[\u001b[0m\u001b[0my\u001b[0m\u001b[0;34m]\u001b[0m \u001b[0;34m<\u001b[0m \u001b[0mwin_height\u001b[0m \u001b[0;34m-\u001b[0m \u001b[0mpad_height\u001b[0m\u001b[0;34m:\u001b[0m\u001b[0;34m\u001b[0m\u001b[0m\n\u001b[1;32m      5\u001b[0m     \u001b[0mpaddle1_pos\u001b[0m\u001b[0;34m[\u001b[0m\u001b[0my\u001b[0m\u001b[0;34m]\u001b[0m \u001b[0;34m+=\u001b[0m \u001b[0mpaddle1_vel\u001b[0m\u001b[0;34m\u001b[0m\u001b[0m\n",
      "\u001b[0;31mNameError\u001b[0m: name 'paddle1_pos' is not defined"
     ]
    }
   ],
   "source": [
    "# 6.4 Update paddle position  \n",
    "if ((pad1_pos[y] > 0 and pad1_pos[y] < win_height - pad_height) or\n",
    "    (pad1_pos[y] >= win_height - pad_height and pad1_vel[y] < 0) or \n",
    "    (pad1_pos[y] <= 0 and pad1_vel[y] > 0)):\n",
    "        pad1_pos[y] += pad1_vel[y]\n",
    "\n",
    "if ((pad2_pos[y] > 0 and pad2_pos[y] < win_height - pad_height) or\n",
    "    (pad2_pos[y] >= win_height - pad_height and pad2_vel[y] < 0) or \n",
    "    (pad2_pos[y] <= 0 and pad2_vel[y] > 0)):\n",
    "        pad2_pos[y] += pad2_vel[y]\n"
   ]
  },
  {
   "cell_type": "markdown",
   "metadata": {},
   "source": [
    "##### What does this code do?\n",
    "\n",
    ">`if ((pad1_pos[y] > 0 and pad1_pos[y] < win_height - pad_height) or\n",
    "    (pad1_pos[y] >= win_height - pad_height and pad1_vel[y] < 0) or \n",
    "    (pad1_pos[y] <= 0 and pad1_vel[y] > 0)):`\n",
    "\n",
    "The conditional `if` checks if one of three cases is satisfied:\n",
    "\n",
    "1. The paddle is between the top and bottom of the window\n",
    "1. The paddle is at the top of the window but the velocity is in the downward direction.\n",
    "1. The paddle is at the bottom of the window but the velocity is in the upward direction.\n",
    "\n",
    "The `or` comparison operator means that if any one of these cases is satified then...\n",
    "\n",
    ">`pad1_pos[y] += pad1_vel[y]`\n",
    "\n",
    "...the paddle will move.\n",
    "\n",
    "(Otherwise it will remain at its current position)."
   ]
  },
  {
   "cell_type": "markdown",
   "metadata": {},
   "source": [
    "It is best practise to avoid repetition where possible.\n",
    "\n",
    "We can rewrite this code by looping though each paddle.\n",
    "\n",
    "#### Example: Optimising code by looping.\n",
    "\n",
    "1. create a `for` loop\n",
    "1. iterate through items in lists `pad_pos` (paddle positions) and `pad_vel` (paddle velocities) using lists.\n",
    "1. indent code to loop through\n",
    "1. replace all variables in code with `pos` and `vel` variable names used within loop\n",
    "\n"
   ]
  },
  {
   "cell_type": "code",
   "execution_count": 18,
   "metadata": {},
   "outputs": [
    {
     "ename": "NameError",
     "evalue": "name 'pad1_pos' is not defined",
     "output_type": "error",
     "traceback": [
      "\u001b[0;31m---------------------------------------------------------------------------\u001b[0m",
      "\u001b[0;31mNameError\u001b[0m                                 Traceback (most recent call last)",
      "\u001b[0;32m<ipython-input-18-f09451d11685>\u001b[0m in \u001b[0;36m<module>\u001b[0;34m()\u001b[0m\n\u001b[1;32m      2\u001b[0m \u001b[0;34m\u001b[0m\u001b[0m\n\u001b[1;32m      3\u001b[0m \u001b[0;31m# 6.4 Update paddle position\u001b[0m\u001b[0;34m\u001b[0m\u001b[0;34m\u001b[0m\u001b[0m\n\u001b[0;32m----> 4\u001b[0;31m if ((pad1_pos[y] > 0 and pad1_pos[y] < win_height - pad_height) or\n\u001b[0m\u001b[1;32m      5\u001b[0m     \u001b[0;34m(\u001b[0m\u001b[0mpad1_pos\u001b[0m\u001b[0;34m[\u001b[0m\u001b[0my\u001b[0m\u001b[0;34m]\u001b[0m \u001b[0;34m>=\u001b[0m \u001b[0mwin_height\u001b[0m \u001b[0;34m-\u001b[0m \u001b[0mpad_height\u001b[0m \u001b[0;32mand\u001b[0m \u001b[0mpad1_vel\u001b[0m\u001b[0;34m[\u001b[0m\u001b[0my\u001b[0m\u001b[0;34m]\u001b[0m \u001b[0;34m<\u001b[0m \u001b[0;36m0\u001b[0m\u001b[0;34m)\u001b[0m \u001b[0;32mor\u001b[0m\u001b[0;34m\u001b[0m\u001b[0m\n\u001b[1;32m      6\u001b[0m     (pad1_pos[y] <= 0 and pad1_vel[y] > 0)):\n",
      "\u001b[0;31mNameError\u001b[0m: name 'pad1_pos' is not defined"
     ]
    }
   ],
   "source": [
    "# Original Code\n",
    "\n",
    "# 6.4 Update paddle position  \n",
    "if ((pad1_pos[y] > 0 and pad1_pos[y] < win_height - pad_height) or\n",
    "    (pad1_pos[y] >= win_height - pad_height and pad1_vel[y] < 0) or \n",
    "    (pad1_pos[y] <= 0 and pad1_vel[y] > 0)):\n",
    "        pad1_pos[y] += pad1_vel[y]\n",
    "\n",
    "if ((pad2_pos[y] > 0 and pad2_pos[y] < win_height - pad_height) or\n",
    "    (pad2_pos[y] >= win_height - pad_height and pad2_vel[y] < 0) or \n",
    "    (pad2_pos[y] <= 0 and pad2_vel[y] > 0)):\n",
    "        pad2_pos[y] += pad2_vel[y]\n"
   ]
  },
  {
   "cell_type": "markdown",
   "metadata": {},
   "source": [
    "## Collisions Between Objects\n",
    "\n",
    "Until now, we have considered *only* what happens when an object collides with its environment.\n",
    "\n",
    "In the game of pong the ball should bounce when it hits:\n",
    "- the top of the window\n",
    "- the bottom of the window\n",
    "- the left paddle\n",
    "- the right paddle\n",
    "\n",
    "<p align=\"center\">\n",
    "  <img src=\"img/pong.gif\" alt=\"Drawing\" style=\"width: 300px;\"/>\n",
    "</p>"
   ]
  },
  {
   "cell_type": "markdown",
   "metadata": {},
   "source": [
    "### Using the paddles to stop the ball. \n",
    "Notice that the ball still does not bounce off the paddles; it goes straight through them.\n",
    "\n",
    "Let's add some code to make the ball bounce when a collision with a paddle happens.\n",
    "\n"
   ]
  },
  {
   "cell_type": "markdown",
   "metadata": {},
   "source": [
    "We do this in exactly the same way as when detecting collisions between an object and the environment.\n",
    "\n",
    "However, there is one important difference..."
   ]
  },
  {
   "cell_type": "markdown",
   "metadata": {},
   "source": [
    "As the two objects *move* relative to one another in the xy plane, we must consider both the x and y coordinates of each object in order to detect the collision."
   ]
  },
  {
   "cell_type": "markdown",
   "metadata": {},
   "source": [
    "Copy the code from the box below:"
   ]
  },
  {
   "cell_type": "code",
   "execution_count": 11,
   "metadata": {},
   "outputs": [
    {
     "ename": "NameError",
     "evalue": "name 'ball_pos' is not defined",
     "output_type": "error",
     "traceback": [
      "\u001b[0;31m---------------------------------------------------------------------------\u001b[0m",
      "\u001b[0;31mNameError\u001b[0m                                 Traceback (most recent call last)",
      "\u001b[0;32m<ipython-input-11-cac9a1424cbf>\u001b[0m in \u001b[0;36m<module>\u001b[0;34m()\u001b[0m\n\u001b[1;32m      1\u001b[0m \u001b[0;31m# 5.4 Reverse direction of travel if ball collides with paddle\u001b[0m\u001b[0;34m\u001b[0m\u001b[0;34m\u001b[0m\u001b[0m\n\u001b[1;32m      2\u001b[0m \u001b[0;31m# 5.4.1 Collision with left padle\u001b[0m\u001b[0;34m\u001b[0m\u001b[0;34m\u001b[0m\u001b[0m\n\u001b[0;32m----> 3\u001b[0;31m if (ball_pos[x] <= (radius + pad_width) and \n\u001b[0m\u001b[1;32m      4\u001b[0m    (ball_pos[y] in range(pad1_pos[y], pad1_pos[y] + pad_height))):\n\u001b[1;32m      5\u001b[0m         \u001b[0mball_vel\u001b[0m\u001b[0;34m[\u001b[0m\u001b[0mx\u001b[0m\u001b[0;34m]\u001b[0m \u001b[0;34m=\u001b[0m \u001b[0;34m-\u001b[0m\u001b[0mball_vel\u001b[0m\u001b[0;34m[\u001b[0m\u001b[0mx\u001b[0m\u001b[0;34m]\u001b[0m\u001b[0;34m\u001b[0m\u001b[0m\n",
      "\u001b[0;31mNameError\u001b[0m: name 'ball_pos' is not defined"
     ]
    }
   ],
   "source": [
    "# 6. Calculations     \n",
    "# 6.1 Collisions\n",
    "# 6.1.1 Collision with left paddle\n",
    "if (ball_pos[x] <= (radius + pad_width) and \n",
    "   pad1_pos[y] < ball_pos[y] < pad1_pos[y] + pad_height):\n",
    "    ball_vel[x] = -ball_vel[x]\n",
    "        \n",
    "        \n",
    "# 6.1.2 Collision with right paddle    \n",
    "if (ball_pos[x] >= win_width - (radius + pad_width) and \n",
    "   pad2_pos[y] < ball_pos[y] < pad2_pos[y] + pad_height):\n",
    "    ball_vel[x] = -ball_vel[x]\n"
   ]
  },
  {
   "cell_type": "markdown",
   "metadata": {},
   "source": [
    "##### What does this code do?\n",
    "\n",
    ">`if (ball_pos[x] >= win_width - (radius + pad_width) and \n",
    "   pad2_pos[y] < ball_pos[y] < pad2_pos[y] + pad_height):`\n",
    "\n",
    "Look carefully at this code.\n",
    "\n",
    "Comparison operators are used to check if the ball edge has collided with the paddle edge by comparing the x *and* y positions... \n",
    "\n",
    ">`ball_vel[x] = -ball_vel[x]`\n",
    "\n",
    "...and reverses the direction of travel if there has been a collision."
   ]
  },
  {
   "cell_type": "markdown",
   "metadata": {},
   "source": [
    "*There is a slight inaccuracy in that, for simplicity of coding, only collision of paddle with the left-most/right-most point of the ball is detected in this example.*"
   ]
  },
  {
   "cell_type": "markdown",
   "metadata": {},
   "source": [
    "To make the game more interesting, we could also increase the velocity of the ball, every time it hits a paddle.\n",
    "\n",
    "This makes the game more difficult the longer it goes on.\n",
    "\n",
    "In the example below, the ball velocity incresaes by 10% in the x and y direction. "
   ]
  },
  {
   "cell_type": "code",
   "execution_count": null,
   "metadata": {},
   "outputs": [],
   "source": [
    "# 6.1.1 Collision with left paddle\n",
    "if (ball_pos[x] <= (radius + pad_width) and \n",
    "   pad1_pos[y] < ball_pos[y] < pad1_pos[y] + pad_height):\n",
    "    ball_vel[x] = -ball_vel[x]\n",
    "    ball_vel[0] *= 1.1\n",
    "    ball_vel[1] *= 1.1\n",
    "\n",
    "\n",
    "# 6.1.2 Collision with right paddle    \n",
    "if (ball_pos[x] >= win_width - (radius + pad_width) and \n",
    "   pad2_pos[y] < ball_pos[y] < pad2_pos[y] + pad_height):\n",
    "    ball_vel[x] = -ball_vel[x]\n",
    "    ball_vel[0] *= 1.1\n",
    "    ball_vel[1] *= 1.1"
   ]
  },
  {
   "cell_type": "code",
   "execution_count": null,
   "metadata": {},
   "outputs": [],
   "source": [
    "It is best practise to avoid repetition where possible.\n",
    "\n",
    "We can rewrite this code by looping though each paddle:"
   ]
  },
  {
   "cell_type": "markdown",
   "metadata": {},
   "source": [
    "1. create a `for` loop\n",
    "1. create a new list to store the conditional expressions defining a collision\n",
    "1. iterate through items in lists `pad_pos` (paddle positions) and `collision` (x direction collisions). \n",
    "1. indent code to loop through\n",
    "1. replace all variables in code with `pos` and `col` variable names used within loop\n",
    "1. delete repeated code\n",
    "1. (move the list to the list of variables)\n",
    "\n"
   ]
  },
  {
   "cell_type": "code",
   "execution_count": null,
   "metadata": {},
   "outputs": [],
   "source": [
    "#Original code\n",
    "# 6.1.1 Collision with left paddle\n",
    "if (ball_pos[x] <= (radius + pad_width) and \n",
    "   pad1_pos[y] < ball_pos[y] < pad1_pos[y] + pad_height):\n",
    "    ball_vel[x] = -ball_vel[x]\n",
    "    ball_vel[0] *= 1.1\n",
    "    ball_vel[1] *= 1.1\n",
    "\n",
    "\n",
    "# 6.1.2 Collision with right paddle    \n",
    "if (ball_pos[x] >= win_width - (radius + pad_width) and \n",
    "   pad2_pos[y] < ball_pos[y] < pad2_pos[y] + pad_height):\n",
    "    ball_vel[x] = -ball_vel[x]\n",
    "    ball_vel[0] *= 1.1\n",
    "    ball_vel[1] *= 1.1"
   ]
  },
  {
   "cell_type": "markdown",
   "metadata": {},
   "source": [
    "### Allowing the ball to move through the left and right walls.\n",
    "\n",
    "So that we can see when a round has been won, the ball should \n",
    "- bounce off the top and bottom of the window\n",
    "- go through the left and right wall\n",
    "\n"
   ]
  },
  {
   "cell_type": "markdown",
   "metadata": {},
   "source": [
    "In 03_ProgramStructure_Graphics.ipynb we wrote a block of code to reverse the direction of travel if the edge of the window is reached.\n",
    "\n",
    "    6.1.3 Reverse direction of travel if edge is reached\n",
    "    if ball_pos[x] > (win_width-radius) or ball_pos[x] < radius:\n",
    "        ball_vel[x] *= -1\n",
    "    if ball_pos[y] > (win_height-radius) or ball_pos[y] < radius:\n",
    "        ball_vel[y] *= -1"
   ]
  },
  {
   "cell_type": "markdown",
   "metadata": {},
   "source": [
    "Find this block of code in your program."
   ]
  },
  {
   "cell_type": "markdown",
   "metadata": {},
   "source": [
    "We simply remove the `if` control statement that stops the ball from being deflected by collisions in the x direction.\n",
    "\n",
    "Remove or comment out the line of code shown in the cell below. "
   ]
  },
  {
   "cell_type": "code",
   "execution_count": 13,
   "metadata": {},
   "outputs": [
    {
     "ename": "NameError",
     "evalue": "name 'ball_pos' is not defined",
     "output_type": "error",
     "traceback": [
      "\u001b[0;31m---------------------------------------------------------------------------\u001b[0m",
      "\u001b[0;31mNameError\u001b[0m                                 Traceback (most recent call last)",
      "\u001b[0;32m<ipython-input-13-d6399cf3d8cc>\u001b[0m in \u001b[0;36m<module>\u001b[0;34m()\u001b[0m\n\u001b[1;32m      2\u001b[0m \u001b[0;31m# if ball_pos[x] > (win_width-radius) or ball_pos[x] < radius:\u001b[0m\u001b[0;34m\u001b[0m\u001b[0;34m\u001b[0m\u001b[0m\n\u001b[1;32m      3\u001b[0m \u001b[0;31m#     ball_vel[x] *= -1\u001b[0m\u001b[0;34m\u001b[0m\u001b[0;34m\u001b[0m\u001b[0m\n\u001b[0;32m----> 4\u001b[0;31m \u001b[0;32mif\u001b[0m \u001b[0mball_pos\u001b[0m\u001b[0;34m[\u001b[0m\u001b[0my\u001b[0m\u001b[0;34m]\u001b[0m \u001b[0;34m>\u001b[0m \u001b[0;34m(\u001b[0m\u001b[0mwin_height\u001b[0m\u001b[0;34m-\u001b[0m\u001b[0mradius\u001b[0m\u001b[0;34m)\u001b[0m \u001b[0;32mor\u001b[0m \u001b[0mball_pos\u001b[0m\u001b[0;34m[\u001b[0m\u001b[0my\u001b[0m\u001b[0;34m]\u001b[0m \u001b[0;34m<\u001b[0m \u001b[0mradius\u001b[0m\u001b[0;34m:\u001b[0m\u001b[0;34m\u001b[0m\u001b[0m\n\u001b[0m\u001b[1;32m      5\u001b[0m     \u001b[0mball_vel\u001b[0m\u001b[0;34m[\u001b[0m\u001b[0my\u001b[0m\u001b[0;34m]\u001b[0m \u001b[0;34m*=\u001b[0m \u001b[0;34m-\u001b[0m\u001b[0;36m1\u001b[0m\u001b[0;34m\u001b[0m\u001b[0m\n",
      "\u001b[0;31mNameError\u001b[0m: name 'ball_pos' is not defined"
     ]
    }
   ],
   "source": [
    "6.1.3 Reverse direction of travel if edge is reached\n",
    "# if ball_pos[x] > (win_width-radius) or ball_pos[x] < radius:\n",
    "#     ball_vel[x] *= -1\n",
    "if ball_pos[y] > (win_height-radius) or ball_pos[y] < radius:\n",
    "    ball_vel[y] *= -1"
   ]
  },
  {
   "cell_type": "markdown",
   "metadata": {},
   "source": [
    "Save your code in Spyder (if running it from the terminal).\n",
    "\n",
    "Run your code again to check that the ball goes off the screen if not deflected by a paddle. "
   ]
  },
  {
   "cell_type": "markdown",
   "metadata": {},
   "source": [
    "### Retrieving the ball.\n",
    "Because the program allows the ball to leave the screen. \n",
    "\n",
    "The final thing we need to do is write a code section to retrieve the ball.\n",
    "\n",
    "We can use two more if statements to:\n",
    "- check of the ball has exited the screen via the left or right side.\n",
    "- return it to the centre\n"
   ]
  },
  {
   "cell_type": "code",
   "execution_count": 19,
   "metadata": {
    "scrolled": true
   },
   "outputs": [
    {
     "ename": "NameError",
     "evalue": "name 'ball_pos' is not defined",
     "output_type": "error",
     "traceback": [
      "\u001b[0;31m---------------------------------------------------------------------------\u001b[0m",
      "\u001b[0;31mNameError\u001b[0m                                 Traceback (most recent call last)",
      "\u001b[0;32m<ipython-input-19-ad3a6f49c1ff>\u001b[0m in \u001b[0;36m<module>\u001b[0;34m()\u001b[0m\n\u001b[1;32m      1\u001b[0m \u001b[0;31m# 6.2 Reset ball position if bal goes off screen\u001b[0m\u001b[0;34m\u001b[0m\u001b[0;34m\u001b[0m\u001b[0m\n\u001b[0;32m----> 2\u001b[0;31m \u001b[0;32mif\u001b[0m \u001b[0;34m(\u001b[0m\u001b[0mball_pos\u001b[0m\u001b[0;34m[\u001b[0m\u001b[0mx\u001b[0m\u001b[0;34m]\u001b[0m \u001b[0;34m<\u001b[0m \u001b[0;34m-\u001b[0m\u001b[0mradius\u001b[0m\u001b[0;34m)\u001b[0m \u001b[0;32mor\u001b[0m \u001b[0;34m(\u001b[0m\u001b[0mball_pos\u001b[0m\u001b[0;34m[\u001b[0m\u001b[0mx\u001b[0m\u001b[0;34m]\u001b[0m \u001b[0;34m>\u001b[0m \u001b[0mwin_width\u001b[0m \u001b[0;34m+\u001b[0m \u001b[0mradius\u001b[0m\u001b[0;34m)\u001b[0m\u001b[0;34m:\u001b[0m\u001b[0;34m\u001b[0m\u001b[0m\n\u001b[0m\u001b[1;32m      3\u001b[0m \u001b[0;34m\u001b[0m\u001b[0m\n\u001b[1;32m      4\u001b[0m     \u001b[0mball_vel\u001b[0m \u001b[0;34m=\u001b[0m \u001b[0;34m[\u001b[0m\u001b[0mrandom\u001b[0m\u001b[0;34m.\u001b[0m\u001b[0mrandrange\u001b[0m\u001b[0;34m(\u001b[0m\u001b[0;36m2\u001b[0m\u001b[0;34m,\u001b[0m\u001b[0;36m4\u001b[0m\u001b[0;34m)\u001b[0m\u001b[0;34m,\u001b[0m \u001b[0mrandom\u001b[0m\u001b[0;34m.\u001b[0m\u001b[0mrandrange\u001b[0m\u001b[0;34m(\u001b[0m\u001b[0;36m1\u001b[0m\u001b[0;34m,\u001b[0m\u001b[0;36m3\u001b[0m\u001b[0;34m)\u001b[0m\u001b[0;34m]\u001b[0m\u001b[0;34m\u001b[0m\u001b[0m\n\u001b[1;32m      5\u001b[0m     \u001b[0;32mif\u001b[0m \u001b[0mrandom\u001b[0m\u001b[0;34m.\u001b[0m\u001b[0mrandrange\u001b[0m\u001b[0;34m(\u001b[0m\u001b[0;36m0\u001b[0m\u001b[0;34m,\u001b[0m\u001b[0;36m2\u001b[0m\u001b[0;34m)\u001b[0m \u001b[0;34m==\u001b[0m \u001b[0;36m0\u001b[0m\u001b[0;34m:\u001b[0m\u001b[0;34m\u001b[0m\u001b[0m\n",
      "\u001b[0;31mNameError\u001b[0m: name 'ball_pos' is not defined"
     ]
    }
   ],
   "source": [
    "# 6.2 Reset ball position if bal goes off screen\n",
    "if (ball_pos[x] < -radius) or (ball_pos[x] > win_width + radius):\n",
    "\n",
    "    ball_vel = [random.randrange(2,4), random.randrange(1,3)]    \n",
    "    if random.randrange(0,2) == 0:\n",
    "        ball_vel[y] *= -1\n",
    "    # if player on left loses, ball starts by firing to the left\n",
    "    if ball_pos[x] < 0:\n",
    "        ball_vel[x] *= -1\n",
    "\n",
    "    ball_pos = [win_width//2, win_height//2]"
   ]
  },
  {
   "cell_type": "markdown",
   "metadata": {},
   "source": [
    "##### What does this code do?\n",
    "\n",
    ">`if (ball_pos[x] <= -radius) or (ball_pos[x] > win_width + radius):`\n",
    "\n",
    "The `if` statement checks if the ball has moved off the screen.\n",
    "\n",
    "In the case that it has, the code used to set-up the ball in Section 2.3 is repeated.\n",
    "\n",
    ">  `ball_vel = [random.randrange(2,4), random.randrange(1,3)]    \n",
    "    if random.randrange(0,2) == 0:\n",
    "        ball_vel[y] *= -1        \n",
    "    if ball_pos[x] < 0:\n",
    "        ball_vel[x] *= -1\n",
    "    ball_pos = [win_width//2, win_height//2]`\n",
    "\n",
    "The only difference is the x component of the ball velocity is determined by which player won the last round (rather than random, as it was initially). "
   ]
  },
  {
   "cell_type": "markdown",
   "metadata": {},
   "source": [
    "You should now have a working game of pong. \n",
    "\n",
    "<p align=\"center\">\n",
    "  <img src=\"img/pong.gif\" alt=\"Drawing\" style=\"width: 300px;\"/>\n",
    "</p>\n",
    "\n",
    "Try playing it with the person next to you."
   ]
  },
  {
   "cell_type": "markdown",
   "metadata": {},
   "source": [
    "## Mouse Position\n",
    "\n",
    "So far we have learnt to control the velocity (speed and direction of travel) of an object in the following ways:\n",
    "- setting the velocity using a constant\n",
    "- changing the __direction__ of the velocity in response to a collision (e.g. game window, paddle)\n",
    "- changing the __magnitude__ (speed) of the velocity in response to a collision (e.g. paddle) \n",
    "\n",
    "We will now study how to change the magnitude and direction of an objects velocity using the mouse position.\n",
    "\n"
   ]
  },
  {
   "cell_type": "markdown",
   "metadata": {},
   "source": [
    "In Spyder, open the file you created in the last seminar to draw and animate shapes or \"fish\" moving in an aquarium.\n",
    "\n",
    "<p align=\"center\">\n",
    "  <img src=\"img/shapes_moving.gif\" alt=\"Drawing\" style=\"width: 400px;\"/>\n",
    "</p>"
   ]
  },
  {
   "cell_type": "code",
   "execution_count": null,
   "metadata": {},
   "outputs": [],
   "source": [
    "Again, please rearrange your code blocks so that code to do calculations to:\n",
    "    - Reverse direction of travel if edge is reached\n",
    "    - Update shape postion\n",
    "    \n",
    "Comes before \n",
    "    - Update shape position"
   ]
  },
  {
   "cell_type": "markdown",
   "metadata": {},
   "source": [
    "We can obtain the position of the mouse in the window by adding the following code to the event processing loop:\n",
    "\n",
    "    pygame.mouse.get_pos()"
   ]
  },
  {
   "cell_type": "markdown",
   "metadata": {},
   "source": [
    "This returns the x,y coordinates of the current mouse postion.\n",
    "\n",
    "So we can assign this code to a variable name and print the output to see the coordinates.\n",
    "\n",
    "Copy the code below and paste it at the enf of the event processing loop."
   ]
  },
  {
   "cell_type": "code",
   "execution_count": null,
   "metadata": {},
   "outputs": [],
   "source": [
    "pos = pygame.mouse.get_pos()\n",
    "    print(pos)"
   ]
  },
  {
   "cell_type": "markdown",
   "metadata": {},
   "source": [
    "The event processing loop section of your code should now look like this:\n",
    "    \n",
    "        # 5. Event Processing\n",
    "        event = pygame.event.poll()\n",
    "\n",
    "        if event.type == pygame.QUIT:        \n",
    "            pygame.quit()\n",
    "            sys.exit() \n",
    "\n",
    "        pos = pygame.mouse.get_pos()\n",
    "        print(pos)    "
   ]
  },
  {
   "cell_type": "markdown",
   "metadata": {},
   "source": [
    "Run the code and move the mouse around to see the coordinates appear in the terminal / Spyder output window."
   ]
  },
  {
   "cell_type": "code",
   "execution_count": null,
   "metadata": {},
   "outputs": [],
   "source": [
    "We are going to control the velocity of a fish in the aquarium using the movement of the mouse.\n",
    "\n"
   ]
  }
 ],
 "metadata": {
  "celltoolbar": "Slideshow",
  "kernelspec": {
   "display_name": "ILAS_py_for_everyone_env",
   "language": "python",
   "name": "ilas_py_for_everyone_env"
  },
  "language_info": {
   "codemirror_mode": {
    "name": "ipython",
    "version": 3
   },
   "file_extension": ".py",
   "mimetype": "text/x-python",
   "name": "python",
   "nbconvert_exporter": "python",
   "pygments_lexer": "ipython3",
   "version": "3.6.4"
  }
 },
 "nbformat": 4,
 "nbformat_minor": 2
}
