{
 "cells": [
  {
   "cell_type": "markdown",
   "metadata": {
    "slideshow": {
     "slide_type": "slide"
    }
   },
   "source": [
    "# Important Announcements\n",
    "### Rescheduled Class\n",
    "You should all have received an email concerning the 2 rescheduled class.\n",
    "<br>Rescheduled classes will be held on: \n",
    "\n",
    "- 06/25 (June 25, Monday), period 1, CALL 23\n",
    "- 06/26 (June 26, Tuesday), period 2 and 3, CALL 21\n",
    "\n",
    "Please attend only one class.\n",
    "<br>The content of each class will be identical. "
   ]
  },
  {
   "cell_type": "markdown",
   "metadata": {
    "slideshow": {
     "slide_type": "slide"
    }
   },
   "source": [
    "## Exam\n",
    "A take-home exam with a time limit of 1 week will be issued on July 17 *instead of* the previously sheduled exam on July 24.\n",
    "\n",
    "The deadline for the take-home exam will be July 24.\n",
    "\n",
    "Please submit your exam solution by email."
   ]
  },
  {
   "cell_type": "markdown",
   "metadata": {
    "slideshow": {
     "slide_type": "slide"
    }
   },
   "source": [
    "## Please download the new class notes.\n",
    "### Step 1 : Navigate to the directory where your files are stored.  \n",
    "Open a terminal. \n",
    "<br>Using `cd`, navigate to *inside* the ILAS_Python_for_everyone folder on your computer. \n",
    "### Step 3 : Update the course notes by downloading the changes\n",
    "In the terminal type:\n",
    "\n",
    ">`git add -A\n",
    "git commit -m \"commit\"\n",
    "git fetch upstream\n",
    "git merge -X theirs upstream/master`\n"
   ]
  },
  {
   "cell_type": "markdown",
   "metadata": {
    "collapsed": true,
    "slideshow": {
     "slide_type": "slide"
    }
   },
   "source": [
    "# Importing Data: Images, Sound and Text\n",
    "\n",
    "<br> <a href='#ImportingObjects'>ImportingObjects</a>\n",
    "<br> <a href='#ImportingImages'>Importing Images</a> \n",
    "<br> &emsp;&emsp; <a href='#DisplayingImage'>Displaying an Image</a> \n",
    "\t<br> &emsp;&emsp; <a href='#MovingImage'>Moving an Image</a> \n",
    "    <br> &emsp;&emsp; <a href='#RotatingImage'>Rotating an Image</a> \n",
    "        <br> &emsp;&emsp; <a href='#InteractionImages'>Interaction between Images</a> \n",
    "        <br> &emsp;&emsp; <a href='#enumerate'>`enumerate`</a> \n",
    "<br> <a href='#Importing Sound'>Importing Sound</a> \n",
    "        <br> &emsp;&emsp; <a href='#LoadingSoundFile'>Loading a Sound File</a> \n",
    "        <br> &emsp;&emsp; <a href='#BackgroundMusic'>Background Music</a> \n",
    "        <br> &emsp;&emsp; <a href='#ShuffleRepeat'>Shuffle and Repeat</a> \n",
    "        <br> &emsp;&emsp; <a href='#SelectingData'>Selecting Data</a> \n",
    "        <br> &emsp;&emsp; <a href='#SoundEffects'>Sound Effects</a> \n",
    "<br> <a href='#ImportingText'>Importing Text</a>\n",
    "<br> <a href='#Summary'>Summary</a>\n",
    "<br> <a href='#TestYourselfExercises'>Test-Yourself Exercises</a>\n",
    "\n"
   ]
  },
  {
   "cell_type": "markdown",
   "metadata": {
    "slideshow": {
     "slide_type": "slide"
    }
   },
   "source": [
    "### Lesson Goal\n",
    "\n",
    "1. Importing files such as images, sound and text for use in your programs.\n",
    "1. Apply skills learnt so far to add manipulate imported sound, text and image data within a Python program.\n",
    "\n",
    "### Fundamental programming concepts\n",
    " - Using data from different types of file within a Python program "
   ]
  },
  {
   "cell_type": "markdown",
   "metadata": {
    "slideshow": {
     "slide_type": "slide"
    }
   },
   "source": [
    "#### Importing Objects\n",
    "Sometimes we want to use information in a program that isn't generated using pure code.\n",
    "\n",
    "Often this allows us to add features to a program that would be very time-consuming or difficult to produce in code, for example an image or a sound."
   ]
  },
  {
   "cell_type": "markdown",
   "metadata": {
    "slideshow": {
     "slide_type": "slide"
    }
   },
   "source": [
    "Be aware of copyright laws and only use sound and images that are liscenced for public use, particularly if you plan to share your programs with other people."
   ]
  },
  {
   "cell_type": "markdown",
   "metadata": {
    "slideshow": {
     "slide_type": "slide"
    }
   },
   "source": [
    "Open `sample_data/game_template.py` and save it with a __new name__, `space_game.py`."
   ]
  },
  {
   "cell_type": "markdown",
   "metadata": {
    "slideshow": {
     "slide_type": "slide"
    }
   },
   "source": [
    "## Importing Objects\n",
    "<a id='ImportingObjects'></a>\n",
    "It's important to note that there are multiple ways to imoprt and use non-Python data such as sound and images in a python file.\n",
    "\n",
    "As usual, we will be using Pygame.\n",
    "\n"
   ]
  },
  {
   "cell_type": "code",
   "execution_count": 132,
   "metadata": {
    "slideshow": {
     "slide_type": "slide"
    }
   },
   "outputs": [],
   "source": [
    "import pygame\n",
    "\n",
    "import math\n",
    "import random\n",
    "\n"
   ]
  },
  {
   "cell_type": "markdown",
   "metadata": {
    "slideshow": {
     "slide_type": "slide"
    }
   },
   "source": [
    "Some alternative libraries for working with:\n",
    "- sound\n",
    "     - https://wiki.python.org/moin/Audio/\n",
    "- images\n",
    "     - http://opencv-python-tutroals.readthedocs.io/en/latest/py_tutorials/py_gui/py_image_display/py_image_display.html\n",
    "     - https://pillow.readthedocs.io/en/3.1.x/reference/Image.html\n",
    "     - http://docs.python-guide.org/en/latest/scenarios/imaging/"
   ]
  },
  {
   "cell_type": "markdown",
   "metadata": {
    "slideshow": {
     "slide_type": "slide"
    }
   },
   "source": [
    "### Importing Images\n",
    "<a id='ImportingImages'></a>\n",
    "Any images used in a game should already be sized for how it should appear on the screen. \n",
    "\n",
    "For example don't try to import a  5000x5000 pixel image to a 800x600 window. \n",
    "\n",
    "A graphics program (even MS Paint) may be used to resize/crop an image before using it in your Python program.\n",
    "\n",
    "    "
   ]
  },
  {
   "cell_type": "markdown",
   "metadata": {
    "slideshow": {
     "slide_type": "slide"
    }
   },
   "source": [
    "Copy and paste the example code to `space_game.py`.  \n",
    "  \n",
    "    pygame.image.load(\"../img/space.jpg\")\n",
    "\n",
    "*The file import path used in all examples in this tutorial is for a file located in the sample data folder of the ILAS_python_for_everyone repository.*"
   ]
  },
  {
   "cell_type": "markdown",
   "metadata": {
    "slideshow": {
     "slide_type": "slide"
    }
   },
   "source": [
    "This image of space is 959x732 pixels.\n",
    "\n",
    "<img src=\"img/space.jpg\" alt=\"Drawing\" style=\"width: 400px;\"/>\n",
    "\n",
    "The game window should be the close to the same size e.g.\n",
    "\n",
    "    window = pygame.display.set_mode((800, 600))"
   ]
  },
  {
   "cell_type": "markdown",
   "metadata": {
    "slideshow": {
     "slide_type": "slide"
    }
   },
   "source": [
    "To reference the image within the program we need to assign it to a variable:  \n",
    "\n",
    "    background = pygame.image.load(\"../img/space.jpg\")"
   ]
  },
  {
   "cell_type": "markdown",
   "metadata": {
    "slideshow": {
     "slide_type": "slide"
    }
   },
   "source": [
    "Finally, the image needs to be converted to a format Pygame can work with using the method `convert()`. \n",
    "\n",
    "    background = pygame.image.load(\"../img/space.jpg\").convert()"
   ]
  },
  {
   "cell_type": "markdown",
   "metadata": {
    "slideshow": {
     "slide_type": "slide"
    }
   },
   "source": [
    "We can also get the size of the imported image for use in setting up the game window:\n",
    "\n",
    "    background = pygame.image.load(\"../img/space.jpg\").convert()\n",
    "    b_size = pygame.Rect(background.get_rect()).size\n"
   ]
  },
  {
   "cell_type": "markdown",
   "metadata": {
    "slideshow": {
     "slide_type": "slide"
    }
   },
   "source": [
    "Importing the image should be done *before* the main game loop as we only need to import the image once.\n",
    "\n",
    "We now need to *display* the image."
   ]
  },
  {
   "cell_type": "markdown",
   "metadata": {
    "slideshow": {
     "slide_type": "slide"
    }
   },
   "source": [
    "### Displaying an Image\n",
    "<a id='DisplayingImage'></a>\n",
    "To display an image we use the command `blit`.\n",
    "\n",
    "This command needs to be *inside* the main game loop.\n",
    "\n",
    "    # 5. Draw\n",
    "    # window.fill(blue)\n",
    "    window.blit(background, [0, 0])\n",
    "    \n",
    "This displays the image starting at coordinate (0,0)\n",
    "\n",
    "Note: this command is used instead of : `window.fill(blue)`\n"
   ]
  },
  {
   "cell_type": "markdown",
   "metadata": {
    "slideshow": {
     "slide_type": "slide"
    }
   },
   "source": [
    "We can also display images on top of the background for use in your game.\n",
    "\n",
    "Let's import another image:\n",
    "\n",
    "    saucer = pygame.image.load(\"../img/saucer.png\")\n",
    "    s_size = pygame.Rect(saucer.get_rect()).size\n",
    "\n",
    "And display the image at the coordinates (100, 100):\n",
    "\n",
    "    window.blit(saucer, (100,100))"
   ]
  },
  {
   "cell_type": "markdown",
   "metadata": {
    "slideshow": {
     "slide_type": "slide"
    }
   },
   "source": [
    "The order in which we import images is important.\n",
    "\n",
    "If the saucer is drawn *before* the background, the background will cover the saucer."
   ]
  },
  {
   "cell_type": "markdown",
   "metadata": {
    "slideshow": {
     "slide_type": "slide"
    }
   },
   "source": [
    "If we open the file `saucer.png`, we see that the image has no background.\n",
    "\n",
    "<img src=\"img/saucer.png\" alt=\"Drawing\" style=\"width: 400px;\"/>"
   ]
  },
  {
   "cell_type": "markdown",
   "metadata": {
    "slideshow": {
     "slide_type": "slide"
    }
   },
   "source": [
    "Let's consider what happens when we import the file `monster.gif`\n",
    "\n",
    "    monster = pygame.image.load(\"../img/monster.gif\")\n",
    "    m_size = pygame.Rect(monster.get_rect()).size\n",
    "\n",
    "And display the image at the coordinates (100, 100):\n",
    "\n",
    "    window.blit(monster, (300,300))"
   ]
  },
  {
   "cell_type": "markdown",
   "metadata": {
    "slideshow": {
     "slide_type": "slide"
    }
   },
   "source": [
    "This image has a solid background.\n",
    "\n",
    "We need to remove the background of the image.\n",
    "\n",
    "<img src=\"img/monster.gif\" alt=\"Drawing\" style=\"width: 400px;\"/>"
   ]
  },
  {
   "cell_type": "markdown",
   "metadata": {
    "slideshow": {
     "slide_type": "slide"
    }
   },
   "source": [
    "We can remove the backround of an image by selecting a colour to make \"transparent\".\n",
    "\n",
    "    monster.set_colorkey(white)\n",
    "    \n",
    "The colour is defined as an RGB value, so do use the line above, we must have:\n",
    "\n",
    "    white = (255, 255, 255) \n",
    "    \n",
    "before it in the program.\n",
    "\n"
   ]
  },
  {
   "cell_type": "markdown",
   "metadata": {
    "slideshow": {
     "slide_type": "slide"
    }
   },
   "source": [
    "This method is therefore easiest if the background is either black or white.\n",
    "\n",
    "(It can be difficult to define the RGB value of other colours)."
   ]
  },
  {
   "cell_type": "markdown",
   "metadata": {
    "slideshow": {
     "slide_type": "slide"
    }
   },
   "source": [
    "This will work for files ending in .gif \n",
    "\n",
    "It does not work as well for files ending in .png and .jpg files. \n",
    "\n",
    "These formats change the image as part of the algorithm that makes the image smaller. \n",
    "\n",
    "To observe this try using the same method to import the files:\n",
    "- shuttle.jpg \n",
    "- spaceship.png"
   ]
  },
  {
   "cell_type": "markdown",
   "metadata": {
    "slideshow": {
     "slide_type": "slide"
    }
   },
   "source": [
    "### Moving an Image\n",
    "<a id='MovingImage'></a>\n",
    "We move an imported image in exactly the same way as an image drawn using shapes; by changing the location of the image."
   ]
  },
  {
   "cell_type": "markdown",
   "metadata": {
    "slideshow": {
     "slide_type": "slide"
    }
   },
   "source": [
    "Let's create variables for the positions of the objects:\n",
    "\n",
    "        # 2.1 Position and velocity variables \n",
    "        monster_pos =[200, 200]                   \n",
    "        saucer_pos = [200, 25]\n",
    "    \n",
    "and use the variable names when drawing the objects:\n",
    "\n",
    "        window.blit(saucer, saucer_pos)\n",
    "        window.blit(monster, monster_pos)"
   ]
  },
  {
   "cell_type": "markdown",
   "metadata": {
    "slideshow": {
     "slide_type": "slide"
    }
   },
   "source": [
    "Let's also create variables for velocity:\n",
    " - the saucer does not move initially\n",
    " - the monster moves with random velocity\n",
    " \n",
    "         monster_vel = [random.randrange(2,4), random.randrange(1,3)]\n",
    "        if random.randrange(0,2) == 0:\n",
    "            monster_vel[x] *= -1\n",
    "        if random.randrange(0,2) == 0:\n",
    "            monster_vel[y] *= -1"
   ]
  },
  {
   "cell_type": "markdown",
   "metadata": {
    "slideshow": {
     "slide_type": "slide"
    }
   },
   "source": [
    "The velocity is used to update the position of each object each time the code loops.\n",
    "\n",
    "        # 4.2 Calculations\n",
    "        # 4.2.2 Update position\n",
    "        monster_pos[x] += monster_vel[x]\n",
    "        monster_pos[y] += monster_vel[y]\n",
    "        saucer_pos[x] += saucer_vel[x]\n",
    "        saucer_pos[y] += saucer_vel[y]"
   ]
  },
  {
   "cell_type": "markdown",
   "metadata": {
    "slideshow": {
     "slide_type": "slide"
    }
   },
   "source": [
    "We are now going to recycle two more blocks of code we learnt in the pong game:\n",
    "\n",
    "- the saucer position is controlled by the arrow keys\n",
    "- the monster bounces of the sides of the game window\n",
    "\n",
    "You can use your own code or the code in the example Pong file: `pong_example.py`"
   ]
  },
  {
   "cell_type": "markdown",
   "metadata": {
    "slideshow": {
     "slide_type": "slide"
    }
   },
   "source": [
    "Remember that if working on a Mac you may need to run your code form the terminal using `pythonw` to access your computer's physical interfaces."
   ]
  },
  {
   "cell_type": "markdown",
   "metadata": {
    "slideshow": {
     "slide_type": "slide"
    }
   },
   "source": [
    "*The saucer position is controlled by the arrow keys.*\n",
    "\n",
    "__Original (Pong) code:__\n",
    "\n",
    "    pressed = pygame.key.get_pressed()\n",
    "    if pressed[pygame.K_UP] & pressed[pygame.K_DOWN]: \n",
    "            pad2_vel[y] = 0\n",
    "        elif pressed[pygame.K_UP]: \n",
    "            pad2_vel[y] = -8\n",
    "        elif pressed[pygame.K_DOWN]: \n",
    "            pad2_vel[y] = 8\n",
    "        else: \n",
    "            pad2_vel[y] = 0\n",
    "            \n",
    "__New code:__            \n",
    "    \n",
    "    # 4.1 Event loop\n",
    "    # 4.1.1 : Key press  \n",
    "    pressed = pygame.key.get_pressed()\n",
    "    if pressed[pygame.K_UP] & pressed[pygame.K_DOWN]: \n",
    "            saucer_vel[y] = 0\n",
    "    elif pressed[pygame.K_UP]: \n",
    "            saucer_vel[y] = -8\n",
    "    elif pressed[pygame.K_DOWN]: \n",
    "            saucer_vel[y] = 8\n",
    "    else: \n",
    "            saucer_vel[y] = 0\n",
    "            \n",
    "    if pressed[pygame.K_LEFT] & pressed[pygame.K_RIGHT]: \n",
    "            saucer_vel[x] = 0\n",
    "    elif pressed[pygame.K_LEFT]: \n",
    "            saucer_vel[x] = -8\n",
    "    elif pressed[pygame.K_RIGHT]: \n",
    "            saucer_vel[x] = 8\n",
    "    else: \n",
    "            saucer_vel[x] = 0"
   ]
  },
  {
   "cell_type": "markdown",
   "metadata": {
    "slideshow": {
     "slide_type": "slide"
    }
   },
   "source": [
    "To stop the saucer going outside of the game window you may recyle the code to stop the pads going outside of the window in the pong game."
   ]
  },
  {
   "cell_type": "markdown",
   "metadata": {
    "slideshow": {
     "slide_type": "slide"
    }
   },
   "source": [
    "*The monster bounces of the sides of the game window*\n",
    "\n",
    "__Original (Pong) code:__\n",
    "\n",
    "    if ball_pos[x] > (win_width-radius) or ball_pos[x] < radius:\n",
    "        ball_vel[x] *= -1\n",
    "    if ball_pos[y] > (win_height-radius) or ball_pos[y] < radius:\n",
    "        ball_vel[y] *= -1\n",
    "        \n",
    "__New code:__\n",
    "\n",
    "    # 4.2.1 Reverse direction of travel if edge is reached\n",
    "    if monster_pos[x] > (800-120) or monster_pos[x] < -120:\n",
    "        monster_vel[x] *= -1\n",
    "    if monster_pos[y] > (600-90) or monster_pos[y] < -90:\n",
    "        monster_vel[y] *= -1"
   ]
  },
  {
   "cell_type": "markdown",
   "metadata": {
    "slideshow": {
     "slide_type": "slide"
    }
   },
   "source": [
    "##### What does this code do?\n",
    "\n",
    "    if monster_pos[x] > (800-120) or monster_pos[x] < -120:\n",
    "        monster_vel[x] *= -1\n",
    "    if monster_pos[y] > (600-90) or monster_pos[y] < -90:\n",
    "        monster_vel[y] *= -1\n",
    "        \n",
    "The monster image is treated as a rectangle.\n",
    "\n",
    "It's position is therefore the __top left__ corner of the rectangle.\n",
    "\n",
    "The monster will \"bounce\" when the centre opint of the rectangle reaches the window edge."
   ]
  },
  {
   "cell_type": "markdown",
   "metadata": {
    "slideshow": {
     "slide_type": "slide"
    }
   },
   "source": [
    "### Rotating an Image\n",
    "<a id='RotatingImage'></a>\n",
    "Imported images can be rotated using built-in Python functions.\n",
    "\n",
    "This can be an advantage over using user drawn shapes.\n",
    "\n",
    "(To rotate a drawn shape e.g. polygon, you must instead write code to calculate the coordinates of the new rotated points.)"
   ]
  },
  {
   "cell_type": "markdown",
   "metadata": {
    "slideshow": {
     "slide_type": "slide"
    }
   },
   "source": [
    "Let's make the saucer rotate so that the top of it always points towards the mouse position.\n",
    "\n",
    "First we will find the angle we need to rotate the saucer by to allign the top with the mouse."
   ]
  },
  {
   "cell_type": "markdown",
   "metadata": {
    "slideshow": {
     "slide_type": "slide"
    }
   },
   "source": [
    "<img src=\"img/trig.png\" alt=\"Drawing\" style=\"width: 300px;\"/>\n",
    "\n",
    "In the example image the difference between the mouse position and the \"spaceship\" position is: \n",
    "- 400 in x direction\n",
    "- 300 in y direction\n",
    "\n",
    "The rotation angle, z is found by:\n",
    "$$z = \\tan(\\frac{y_{diff}}{x_{diff}}) = \\tan(\\frac{300}{400})$$\n",
    "\n",
    "\n"
   ]
  },
  {
   "cell_type": "markdown",
   "metadata": {
    "slideshow": {
     "slide_type": "slide"
    }
   },
   "source": [
    "<img src=\"img/sohcahtoa.jpg\" alt=\"Drawing\" style=\"width: 800px;\"/>"
   ]
  },
  {
   "cell_type": "markdown",
   "metadata": {
    "slideshow": {
     "slide_type": "slide"
    }
   },
   "source": [
    "The library, `math` has a function to compute this equation, `atan2`.\n",
    "\n",
    "This function gives not only the correct angle, but the correct *orientation*.  \n",
    "\n",
    "If the saucer position is at the origin and the mouse is somewhere on the yellow circle, the *orientation* angle is defined as shown in the diagram:\n",
    "\n",
    "<img src=\"img/180_deg_axes_w_saucer.png\" alt=\"Drawing\" style=\"width: 600px;\"/>\n"
   ]
  },
  {
   "cell_type": "markdown",
   "metadata": {
    "slideshow": {
     "slide_type": "slide"
    }
   },
   "source": [
    "So we first get the mouse postion:\n",
    "    \n",
    "    # 4.1.2 : Mouse position\n",
    "    mouse_pos = pygame.mouse.get_pos()"
   ]
  },
  {
   "cell_type": "markdown",
   "metadata": {
    "slideshow": {
     "slide_type": "slide"
    }
   },
   "source": [
    "Then we find the angle between the saucer and the mouse:\n",
    "\n",
    "    # 4.2.3 Angle between mouse and saucer\n",
    "    angle = math.atan2(-(mouse_pos[y] - (saucer_pos[y] + s_size[y]/2)),\n",
    "                        (mouse_pos[x] - (saucer_pos[x] + s_size[x]/2)))\n",
    "                        \n",
    "`y` increases in the negative vertical direction.\n",
    "<br>Therefore `-y` is used to caculate the angle in the cartesian coordinate axes.\n",
    "\n",
    "<img src=\"img/180_deg_axes.gif\" alt=\"Drawing\" style=\"width: 200px;\"/>"
   ]
  },
  {
   "cell_type": "markdown",
   "metadata": {
    "slideshow": {
     "slide_type": "slide"
    }
   },
   "source": [
    "We rotate the saucer:\n",
    "    \n",
    "    # 4.2.4 Rotate the saucer\n",
    "    saucer_r = pygame.transform.rotate(saucer, math.degrees(angle) - 90)\n",
    "    \n",
    "We add 90 degrees to make the fire come out of the *top* of the saucer."
   ]
  },
  {
   "cell_type": "markdown",
   "metadata": {
    "slideshow": {
     "slide_type": "slide"
    }
   },
   "source": [
    "Lastly, we draw the rotated image *instead of* the original image:\n",
    "\n",
    "    # window.blit(saucer, saucer_pos)\n",
    "    window.blit(saucer_r, saucer_pos)\n",
    "    \n",
    "    "
   ]
  },
  {
   "cell_type": "markdown",
   "metadata": {
    "slideshow": {
     "slide_type": "slide"
    }
   },
   "source": [
    "### Interaction Between Images\n",
    "<a id='InteractionBetweenImages'></a>\n",
    "The last thing we will study is interaction between two different images.\n",
    "\n",
    "How does the program detect and respond to interaction (e.g. collision) between two objects.\n",
    "\n",
    "*Please complete this section for homework.*\n",
    "\n",
    "\n",
    "\n"
   ]
  },
  {
   "cell_type": "markdown",
   "metadata": {
    "slideshow": {
     "slide_type": "slide"
    }
   },
   "source": [
    "We have studied this process in user-defined geometric shapes.\n",
    "\n",
    "The process for imported imeages is similar, we treat the imported image as a rectangle.\n",
    "\n",
    "In this example, we will also consider how we deal with mutliple images by __iterating__ through a __list__.\n"
   ]
  },
  {
   "cell_type": "markdown",
   "metadata": {
    "slideshow": {
     "slide_type": "slide"
    }
   },
   "source": [
    "##### Example : Interaction Between Images\n",
    "\n",
    "To learn about interaction, we will use the following example...\n",
    "\n",
    "We are going to make a fireball shoot out the top of the saucer when we click the mouse.\n",
    "\n",
    "The fireball will shoot out in the direction the saucer is pointing.\n",
    "\n",
    "If the fireball hits the monster, the monster will disappear.\n",
    "\n",
    "<table><tr><td> \n",
    "<img src='img/battle1.png' style=\"width: 200px;\"> </td><td> \n",
    "<img src='img/battle2.png' style=\"width: 200px;\"> </td><td> \n",
    "<img src='img/battle3.png' style=\"width: 200px;\"> </td></tr>\n",
    "</table>"
   ]
  },
  {
   "cell_type": "markdown",
   "metadata": {
    "slideshow": {
     "slide_type": "subslide"
    }
   },
   "source": [
    "######  Step 1: Process __mouse click__ event:\n",
    "        # 4.1.3 : Mouse click\n",
    "        if event.type==pygame.MOUSEBUTTONDOWN:\n",
    "            mouse_click = True\n",
    "        else:\n",
    "            mouse_click = False"
   ]
  },
  {
   "cell_type": "markdown",
   "metadata": {
    "slideshow": {
     "slide_type": "subslide"
    }
   },
   "source": [
    "###### Step 2: List to store all shots:\n",
    "        # 2.2 List to store shots \n",
    "        shots = []"
   ]
  },
  {
   "cell_type": "markdown",
   "metadata": {
    "slideshow": {
     "slide_type": "subslide"
    }
   },
   "source": [
    "###### Step 3: Every time a shot is fired, add it to the list\n",
    "    # 4.2.5 Fire a shot\n",
    "    if mouse_click:\n",
    "        \n",
    "        # if the mouse is clicked, a shot is added to the list of shots\n",
    "        shot_pos = [saucer_pos[x] + s_size[x]/2 - f_size[x]/2, \n",
    "                    saucer_pos[y] + s_size[y]/2 - f_size[y]/2]\n",
    "        \n",
    "        shots.append([angle, shot_pos])"
   ]
  },
  {
   "cell_type": "markdown",
   "metadata": {
    "slideshow": {
     "slide_type": "subslide"
    }
   },
   "source": [
    "###### What does this code do?\n",
    ">`shot_pos = [saucer_pos[x] + s_size[x]/2 - f_size[x]/2, \n",
    "            saucer_pos[y] + s_size[y]/2 - f_size[y]/2]`\n",
    "\n",
    "The fire shot top-left corner:\n",
    "- $x_s = x_f + \\frac{w_s}{2} - \\frac{w_f}{2}$\n",
    "- $y_s = y_f + \\frac{h_s}{2} - \\frac{h_f}{2}$\n",
    "\n",
    "where $w$ and $h$ denote width and height respectively.\n",
    "\n",
    "<img src=\"img/centeredfire.png\" alt=\"Drawing\" style=\"width: 200px;\"/>"
   ]
  },
  {
   "cell_type": "markdown",
   "metadata": {
    "slideshow": {
     "slide_type": "subslide"
    }
   },
   "source": [
    "###### What does this code do?\n",
    ">`shots.append([angle, shot_pos])`\n",
    "\n",
    "Adds the shot to the list of all shots fired."
   ]
  },
  {
   "cell_type": "markdown",
   "metadata": {
    "slideshow": {
     "slide_type": "subslide"
    }
   },
   "source": [
    "<a id='enumerate'></a>\n",
    "### `enumerate()`\n",
    "The function `enumerate` can be used to return the index of each element.\n",
    "<br>This information is cast as a list to allow us to read it.\n",
    "\n",
    "An example is shown below:"
   ]
  },
  {
   "cell_type": "code",
   "execution_count": 133,
   "metadata": {
    "slideshow": {
     "slide_type": "subslide"
    }
   },
   "outputs": [
    {
     "name": "stdout",
     "output_type": "stream",
     "text": [
      "<enumerate object at 0x108280120>\n",
      "[(0, 'Sara'), (1, 'Mari'), (2, 'Quang'), (3, 'Sam'), (4, 'Ryo'), (5, 'Nao'), (6, 'Takashi')]\n"
     ]
    }
   ],
   "source": [
    "lab_group0 = [\"Sara\", \"Mari\", \"Quang\", \"Sam\", \"Ryo\", \"Nao\", \"Takashi\"]\n",
    "a = enumerate(lab_group0)\n",
    "b = list(enumerate(lab_group0))\n",
    "print(a)\n",
    "print(b)\n",
    "\n"
   ]
  },
  {
   "cell_type": "markdown",
   "metadata": {
    "slideshow": {
     "slide_type": "subslide"
    }
   },
   "source": [
    "`enumerate` can be useful for numbering each iteration of a loop:\n",
    "###### Step 4: Iterate over all shots.\n",
    "    # 4.2.5 Fire a shot\n",
    "    # iterate over all shots, giving each one a number\n",
    "    for n, shot in enumerate(shots):\n",
    "        print(n)\n",
    "        speed = 10\n",
    "        shot_vel = [math.cos(shot[0]) *speed, \n",
    "                    -math.sin(shot[0])*speed] # remember y direction is negative\n",
    "        \n",
    "###### Update position.        \n",
    "        # Update fireball position\n",
    "        shot[1][x] += shot_vel[x]\n",
    "        shot[1][y] += shot_vel[y]\n",
    "        \n",
    "##### Remove any shots that have left the screen.        \n",
    "        # If the fireball leaves the screen, remove it from the list of shots\n",
    "        shot_len = max(f_size[x],f_size[y])\n",
    "        if (shot[1][x] > b_size[x] + shot_len or \n",
    "            shot[1][x] < - shot_len or \n",
    "            shot[1][y] > b_size[y] + shot_len or \n",
    "            shot[1][y] < - shot_len):\n",
    "            shots.pop(n)"
   ]
  },
  {
   "cell_type": "markdown",
   "metadata": {
    "slideshow": {
     "slide_type": "subslide"
    }
   },
   "source": [
    "###### Step 5: Draw the shots\n",
    "    for shot in shots:\n",
    "            shot_r = pygame.transform.rotate(fire, math.degrees(shot[0]) - 90)\n",
    "            window.blit(shot_r, shot[1])"
   ]
  },
  {
   "cell_type": "markdown",
   "metadata": {
    "slideshow": {
     "slide_type": "subslide"
    }
   },
   "source": [
    "###### Step 6: If a shot hits the monster, make it disappear\n",
    "\n",
    "<img src='img/battle3.png' style=\"width: 200px;\"> </td>\n",
    "\n",
    "Create a variable called `monster`.\n",
    "\n",
    "    monster = True\n",
    "\n"
   ]
  },
  {
   "cell_type": "markdown",
   "metadata": {
    "slideshow": {
     "slide_type": "subslide"
    }
   },
   "source": [
    "If the monster is hit, we \"turn off\" the monster.\n",
    "\n",
    "        # Monster hit, turn off monster\n",
    "        if ((monster_pos[x]  <  shot[1][x]  <  monster_pos[x] + m_size[x])\n",
    "            and \n",
    "            (monster_pos[y]  <  shot[1][y]  <  monster_pos[y] + m_size[y])):\n",
    "            monster = False"
   ]
  },
  {
   "cell_type": "markdown",
   "metadata": {
    "slideshow": {
     "slide_type": "subslide"
    }
   },
   "source": [
    "In `# 5. Draw`, change:\n",
    "\n",
    "    window.blit(monster, monster_pos)\n",
    "    \n",
    "to:\n",
    "        \n",
    "    if monster:\n",
    "        window.blit(monster, monster_pos)\n",
    "        \n",
    "The monster will only be drawn if `monster==True`."
   ]
  },
  {
   "cell_type": "markdown",
   "metadata": {
    "slideshow": {
     "slide_type": "subslide"
    }
   },
   "source": [
    "A full version of this code can be found in : `sample_data/space_game.py`."
   ]
  },
  {
   "cell_type": "markdown",
   "metadata": {
    "slideshow": {
     "slide_type": "slide"
    }
   },
   "source": [
    "## Importing Sound\n",
    "<a id='ImportingSound'></a>\n",
    "Python has a number of dedicated sound libraries, as mentioned at the start of this class.\n",
    "\n",
    "Today we will be using Pygame to add sounds to a program."
   ]
  },
  {
   "cell_type": "code",
   "execution_count": 6,
   "metadata": {
    "slideshow": {
     "slide_type": "-"
    }
   },
   "outputs": [],
   "source": [
    "import pygame.mixer as mix\n",
    "\n",
    "\n"
   ]
  },
  {
   "cell_type": "markdown",
   "metadata": {
    "slideshow": {
     "slide_type": "slide"
    }
   },
   "source": [
    "Use sounds with Pygame, we first need to initialise the Pygame audio mixer\n",
    "        \n",
    "        "
   ]
  },
  {
   "cell_type": "code",
   "execution_count": 7,
   "metadata": {},
   "outputs": [],
   "source": [
    "mix.init()\n",
    "\n"
   ]
  },
  {
   "cell_type": "markdown",
   "metadata": {
    "slideshow": {
     "slide_type": "slide"
    }
   },
   "source": [
    "Uncompressed sound files usually end in .wav. \n",
    "<br>Uncompressed files are, by nature, larger than other formats - no algorithm has been run on them to make them smaller.\n",
    "\n",
    ".mp3 and .ogg file formats can also be played. These formats are small and reliable for use with pygame.\n",
    "\n",
    "Pygame does not play all .wav files. If you have a file that isn't working, you can try using the a program  to convert it e.g. Audacity. "
   ]
  },
  {
   "cell_type": "markdown",
   "metadata": {
    "slideshow": {
     "slide_type": "slide"
    }
   },
   "source": [
    "Free sources of online sounds can be used to source audio for your games and other prgrams e.g.:\n",
    "<br>https://opengameart.org/content/battle-theme-b-for-rpg\n",
    "\n",
    "Some example sounds can be found in `sample_data/sounds/`"
   ]
  },
  {
   "cell_type": "markdown",
   "metadata": {
    "slideshow": {
     "slide_type": "slide"
    }
   },
   "source": [
    "### Loading A Sound File \n",
    "<a id='LoadingSoundFile'></a>\n",
    "\n",
    "Like images, sounds must be loaded before they are used. This should be done once sometime before the main program loop. \n",
    "\n",
    "\n",
    "\n"
   ]
  },
  {
   "cell_type": "markdown",
   "metadata": {
    "slideshow": {
     "slide_type": "slide"
    }
   },
   "source": [
    "### Background Music\n",
    "<a id='BackgroundMusic'></a>\n",
    "Background music and sounds are loaded using `pygame.mixer.music`.\n",
    "\n",
    ".mp3 and .wav files may be imported."
   ]
  },
  {
   "cell_type": "code",
   "execution_count": 8,
   "metadata": {},
   "outputs": [],
   "source": [
    "mix.music.load(\"sample_data/sounds/battleThemeB.mp3\")\n",
    "mix.music.load(\"sample_data/sounds/JuhaniJunkalaRetroGameMusicPackTitleScreen.wav\")\n",
    "\n",
    "\n"
   ]
  },
  {
   "cell_type": "markdown",
   "metadata": {
    "slideshow": {
     "slide_type": "slide"
    }
   },
   "source": [
    "To play the most recently loaded song:"
   ]
  },
  {
   "cell_type": "code",
   "execution_count": 10,
   "metadata": {},
   "outputs": [],
   "source": [
    "mix.music.play()           # Play once, same as : mix.music.play(0, 0.0)   \n",
    "# mix.music.play(-1, 0.0)  # Loop infinitely\n",
    "\n"
   ]
  },
  {
   "cell_type": "markdown",
   "metadata": {},
   "source": [
    "Arguments:\n",
    "\n",
    "    - number of times to repeat song\n",
    "    - track start position (s)"
   ]
  },
  {
   "cell_type": "markdown",
   "metadata": {
    "slideshow": {
     "slide_type": "slide"
    }
   },
   "source": [
    "`pygame.mixer.music` has many functions for manipulating the sound, such as..."
   ]
  },
  {
   "cell_type": "code",
   "execution_count": 11,
   "metadata": {
    "slideshow": {
     "slide_type": "slide"
    }
   },
   "outputs": [],
   "source": [
    "mix.music.set_volume(0.5)"
   ]
  },
  {
   "cell_type": "markdown",
   "metadata": {},
   "source": [
    "*Volume: Takes an argument between 0.0 (silent) and 1.0 (loud)*"
   ]
  },
  {
   "cell_type": "code",
   "execution_count": 12,
   "metadata": {
    "slideshow": {
     "slide_type": "slide"
    }
   },
   "outputs": [],
   "source": [
    "mix.music.fadeout(2000)"
   ]
  },
  {
   "cell_type": "markdown",
   "metadata": {
    "slideshow": {
     "slide_type": "-"
    }
   },
   "source": [
    "*Music fades out over specified time (ms)*"
   ]
  },
  {
   "cell_type": "markdown",
   "metadata": {
    "slideshow": {
     "slide_type": "slide"
    }
   },
   "source": [
    "To start playing another song immediately after a song is finished, you can queue songs."
   ]
  },
  {
   "cell_type": "code",
   "execution_count": 13,
   "metadata": {},
   "outputs": [],
   "source": [
    "mix.music.queue('sample_data/sounds/Übermensch.wav')\n"
   ]
  },
  {
   "cell_type": "markdown",
   "metadata": {
    "slideshow": {
     "slide_type": "slide"
    }
   },
   "source": [
    "To stop a song:"
   ]
  },
  {
   "cell_type": "code",
   "execution_count": 14,
   "metadata": {
    "slideshow": {
     "slide_type": "-"
    }
   },
   "outputs": [],
   "source": [
    "mix.music.stop()\n",
    "\n"
   ]
  },
  {
   "cell_type": "markdown",
   "metadata": {},
   "source": [
    "This also deletes the queue."
   ]
  },
  {
   "cell_type": "markdown",
   "metadata": {
    "slideshow": {
     "slide_type": "slide"
    }
   },
   "source": [
    "### Shuffle and Repeat\n",
    "<a id='ShuffleRepeat'></a>\n",
    "The times that you really need a queue are rare. \n",
    "\n",
    "Typically, in a game, the same song(s) gets played repeatedly. \n",
    "\n",
    " \n"
   ]
  },
  {
   "cell_type": "markdown",
   "metadata": {
    "slideshow": {
     "slide_type": "slide"
    }
   },
   "source": [
    "Consider the scenario where you want to:\n",
    "- play a small selection (4 or 5) of songs in sequence over and over again.\n",
    "- play a randomly selected song from a from a list forever. \n",
    "\n",
    "This is where it can useful to use programming and logic."
   ]
  },
  {
   "cell_type": "markdown",
   "metadata": {
    "slideshow": {
     "slide_type": "slide"
    }
   },
   "source": [
    "The end of a song is an event that can be recognised by the event processing loop:\n",
    "\n",
    "```python\n",
    "# 4. Set up the main game loop\n",
    "while True:\n",
    "    event = pygame.event.poll()\n",
    "    \n",
    "    if event.type == pygame.QUIT:        \n",
    "        pygame.quit()\n",
    "        sys.exit()  \n",
    "        \n",
    "        \n",
    "    if event.type == SONG_END:\n",
    "        print(\"the song ended!\")```"
   ]
  },
  {
   "cell_type": "markdown",
   "metadata": {
    "slideshow": {
     "slide_type": "slide"
    }
   },
   "source": [
    "In place of:\n",
    "```python    \n",
    "    print(\"the song ended!\")\n",
    "    ```    \n",
    "we can write code to select a new song at random."
   ]
  },
  {
   "cell_type": "markdown",
   "metadata": {
    "slideshow": {
     "slide_type": "slide"
    }
   },
   "source": [
    "For example, you might create a __list__ of songs...\n",
    "    "
   ]
  },
  {
   "cell_type": "code",
   "execution_count": 142,
   "metadata": {},
   "outputs": [],
   "source": [
    "songs = [\"sample_data/sounds/battleThemeB.mp3\",\n",
    "         \"sample_data/sounds/Übermensch.wav\",\n",
    "         \"sample_data/sounds/JuhaniJunkalaRetroGameMusicPackTitleScreen.wav\",\n",
    "         \"sample_data/sounds/JuhaniJunkalaRetroGameMusicPackLevel3.wav\",\n",
    "         \"sample_data/sounds/JuhaniJunkalaRetroGameMusicPackLevel2.wav\",\n",
    "         \"sample_data/sounds/JuhaniJunkalaRetroGameMusicPackLevel2.wav\",\n",
    "         \"sample_data/sounds/JuhaniJunkalaRetroGameMusicPackEnding.wav\"         \n",
    "        ]"
   ]
  },
  {
   "cell_type": "markdown",
   "metadata": {
    "slideshow": {
     "slide_type": "slide"
    }
   },
   "source": [
    "... an empty variable to store information about which song is currently playing:"
   ]
  },
  {
   "cell_type": "code",
   "execution_count": 143,
   "metadata": {},
   "outputs": [],
   "source": [
    "current_song = None\n",
    "\n"
   ]
  },
  {
   "cell_type": "markdown",
   "metadata": {
    "slideshow": {
     "slide_type": "slide"
    }
   },
   "source": [
    "...and write a function that gets called each time a song ends:"
   ]
  },
  {
   "cell_type": "code",
   "execution_count": 144,
   "metadata": {},
   "outputs": [],
   "source": [
    "import random\n",
    "\n",
    "def play_new_song():\n",
    "    # import global variables to change value within the function\n",
    "    global current_song, songs    \n",
    "    \n",
    "    next_song = random.choice(songs)\n",
    "    \n",
    "    # reselect song until new_song is different from current_song\n",
    "    while next_song == current_song:\n",
    "        next_song = random.choice(songs)\n",
    "    \n",
    "    # update the value of current song\n",
    "    current_song = next_song\n",
    "    \n",
    "    # load the song\n",
    "    mix.music.load(next_song)\n",
    "    \n",
    "    # play the song\n",
    "    mix.music.play()\n",
    "    \n",
    "    "
   ]
  },
  {
   "cell_type": "markdown",
   "metadata": {
    "slideshow": {
     "slide_type": "slide"
    }
   },
   "source": [
    "A function to play songs in the same sequence in which they appear in the list (no shuffle): "
   ]
  },
  {
   "cell_type": "code",
   "execution_count": 145,
   "metadata": {},
   "outputs": [],
   "source": [
    "def play_next_song():\n",
    "    global songs\n",
    "    # move current song to the back of the list \n",
    "    songs = songs[1:] + [songs[0]] \n",
    "    # load song now at the front of the queue \n",
    "    mix.music.load(songs[0])\n",
    "    mix.music.play()\n",
    "    \n",
    "    "
   ]
  },
  {
   "cell_type": "markdown",
   "metadata": {
    "slideshow": {
     "slide_type": "slide"
    }
   },
   "source": [
    "We can call the function by:"
   ]
  },
  {
   "cell_type": "code",
   "execution_count": 146,
   "metadata": {},
   "outputs": [
    {
     "ename": "NameError",
     "evalue": "name 'event' is not defined",
     "output_type": "error",
     "traceback": [
      "\u001b[0;31m---------------------------------------------------------------------------\u001b[0m",
      "\u001b[0;31mNameError\u001b[0m                                 Traceback (most recent call last)",
      "\u001b[0;32m<ipython-input-146-720c366d8a48>\u001b[0m in \u001b[0;36m<module>\u001b[0;34m()\u001b[0m\n\u001b[0;32m----> 1\u001b[0;31m \u001b[0;32mif\u001b[0m \u001b[0mevent\u001b[0m\u001b[0;34m.\u001b[0m\u001b[0mtype\u001b[0m \u001b[0;34m==\u001b[0m \u001b[0mSONG_END\u001b[0m\u001b[0;34m:\u001b[0m\u001b[0;34m\u001b[0m\u001b[0m\n\u001b[0m\u001b[1;32m      2\u001b[0m       \u001b[0mplay_next_song\u001b[0m\u001b[0;34m(\u001b[0m\u001b[0;34m)\u001b[0m\u001b[0;34m\u001b[0m\u001b[0m\n",
      "\u001b[0;31mNameError\u001b[0m: name 'event' is not defined"
     ]
    }
   ],
   "source": [
    "if event.type == SONG_END:\n",
    "    #print(\"something\")\n",
    "    play_next_song()\n",
    "      \n",
    "        \n",
    "        "
   ]
  },
  {
   "cell_type": "markdown",
   "metadata": {
    "slideshow": {
     "slide_type": "slide"
    }
   },
   "source": [
    "Alternatively, the skip-to-next-song function could be linked to a physical user input within the event processing loop.\n"
   ]
  },
  {
   "cell_type": "code",
   "execution_count": null,
   "metadata": {},
   "outputs": [],
   "source": [
    "if pressed[pygame.K_LEFT]: \n",
    "          play_next_song()\n",
    "        \n",
    "        "
   ]
  },
  {
   "cell_type": "markdown",
   "metadata": {
    "slideshow": {
     "slide_type": "slide"
    }
   },
   "source": [
    "### Sound Effects\n",
    "<a id='SoundEffects'></a>\n",
    "`pygame.mixer.Sound` can be used to load .ogg and .wav files.\n",
    "\n",
    "These can be played *over* the background music of your program.\n",
    "\n",
    "For example, these sounds can be triggered by events in the program."
   ]
  },
  {
   "cell_type": "markdown",
   "metadata": {
    "slideshow": {
     "slide_type": "slide"
    }
   },
   "source": [
    "To trigger a sound effect, we first assign it to a variable name, allowing it to be referenced in the rest of the program:"
   ]
  },
  {
   "cell_type": "code",
   "execution_count": 15,
   "metadata": {},
   "outputs": [],
   "source": [
    "teleport = mix.Sound(\"sample_data/sounds/teleport.ogg\")\n",
    "zap = mix.Sound(\"sample_data/sounds/zap8a.ogg\")\n",
    "\n"
   ]
  },
  {
   "cell_type": "markdown",
   "metadata": {
    "slideshow": {
     "slide_type": "slide"
    }
   },
   "source": [
    "The volume of the sounds can be set:"
   ]
  },
  {
   "cell_type": "code",
   "execution_count": null,
   "metadata": {},
   "outputs": [],
   "source": [
    "teleport.set_volume(1.0)\n",
    "zap.set_volume(1.0)\n",
    "\n"
   ]
  },
  {
   "cell_type": "markdown",
   "metadata": {
    "slideshow": {
     "slide_type": "slide"
    }
   },
   "source": [
    "Sounds can be played by calling the variable name:"
   ]
  },
  {
   "cell_type": "code",
   "execution_count": 17,
   "metadata": {},
   "outputs": [
    {
     "data": {
      "text/plain": [
       "<Channel at 0x11087e600>"
      ]
     },
     "execution_count": 17,
     "metadata": {},
     "output_type": "execute_result"
    }
   ],
   "source": [
    "teleport.play()\n",
    "\n"
   ]
  },
  {
   "cell_type": "code",
   "execution_count": 18,
   "metadata": {},
   "outputs": [
    {
     "data": {
      "text/plain": [
       "<Channel at 0x11087e630>"
      ]
     },
     "execution_count": 18,
     "metadata": {},
     "output_type": "execute_result"
    }
   ],
   "source": [
    "zap.play()\n",
    "\n"
   ]
  },
  {
   "cell_type": "markdown",
   "metadata": {
    "slideshow": {
     "slide_type": "slide"
    }
   },
   "source": [
    "Let's play some background music with sound effects, triggered by user input, over the top:"
   ]
  },
  {
   "cell_type": "code",
   "execution_count": 19,
   "metadata": {
    "slideshow": {
     "slide_type": "slide"
    }
   },
   "outputs": [],
   "source": [
    "mix.music.load(\"sample_data/sounds/moonlight.wav\")\n",
    "mix.music.set_volume(0.5)\n",
    "mix.music.play()\n",
    "\n"
   ]
  },
  {
   "cell_type": "code",
   "execution_count": 20,
   "metadata": {
    "slideshow": {
     "slide_type": "slide"
    }
   },
   "outputs": [
    {
     "name": "stdout",
     "output_type": "stream",
     "text": [
      "Play teleport (T), play zap (Z) or break (B) z\n",
      "Play teleport (T), play zap (Z) or break (B) t\n",
      "Play teleport (T), play zap (Z) or break (B) z\n",
      "Play teleport (T), play zap (Z) or break (B) b\n",
      "break selected, breaking out...\n"
     ]
    }
   ],
   "source": [
    "while 1:\n",
    "    play = input(\"Play teleport (T), play zap (Z) or break (B) \")\n",
    "    if play == \"T\" or play == \"t\":\n",
    "        teleport.play()\n",
    "    elif play == \"Z\" or play == \"z\":\n",
    "        zap.play()\n",
    "    elif play == \"B\" or play == \"b\":\n",
    "        print(\"break selected, breaking out...\")\n",
    "        break\n",
    "    else:\n",
    "        print(\"invalid selection, breaking out...\")\n",
    "        break\n",
    "        "
   ]
  },
  {
   "cell_type": "code",
   "execution_count": 21,
   "metadata": {
    "slideshow": {
     "slide_type": "slide"
    }
   },
   "outputs": [],
   "source": [
    "mix.music.stop()\n"
   ]
  },
  {
   "cell_type": "markdown",
   "metadata": {
    "slideshow": {
     "slide_type": "slide"
    }
   },
   "source": [
    "## Importing Text\n",
    "<a id='ImportingText'></a>\n",
    "Lastly, we will look at how to display text within the game window.\n",
    "\n",
    "e.g. displaying a player score or \"GAME OVER\" screen.\n",
    "\n",
    "You can define the font, colour, size, etc of the text."
   ]
  },
  {
   "cell_type": "markdown",
   "metadata": {
    "slideshow": {
     "slide_type": "slide"
    }
   },
   "source": [
    "To display a list of all fonts available on your computer:"
   ]
  },
  {
   "cell_type": "code",
   "execution_count": 23,
   "metadata": {},
   "outputs": [
    {
     "name": "stdout",
     "output_type": "stream",
     "text": [
      "['applecoloremojiui', 'cochin', 'raanana', 'signpainter', 'iowanoldstyle', 'avenir', 'bitstreamverasansmono', 'sfcompacttext', 'luxiserif', 'albayan', 'applesdgothicneo', 'damascus', 'malayalammn', 'estrangelomidyat', 'lucidagrandeui', 'hiraginokakugothicpro', 'diwankufi', 'arialnarrow', 'applesdgothicneoi', 'gillsans', 'stixsizefoursym', 'farisi', 'ptsanscaption', 'avenirnextcondensed', 'couriernew', 'sertomardin', 'laomn', 'estrangeloantioch', 'damascuspua', 'hiraginosans', 'avenirnext', 'gohatibebzemen', 'estrangeloedessa', 'altarikhpua', 'arial', 'itfdevanagari', 'hiraginokakugothicstd', 'skia', 'sfnsdisplaycondensed', 'geezapro', 'sertokharput', 'heitisc', 'gujaratimt', 'corsivahebrew', 'hoeflertext', 'athelas', 'lucidagrande', 'decotypenaskhpua', 'webdings', 'geezaprointerface', 'luminari', 'sertojerusalem', 'kailasa', 'systemfont', 'shreedevanagari714', 'applebraille', 'bitstreamverasans', 'krungthep', 'stixgeneral', 'sfcompactdisplay', 'baskerville', 'sertomalankara', 'newpeninimmt', 'malayalamsangammn', 'euphemiaucas', 'gurmukhisangammn', 'ptsansnarrow', 'trattatello', 'mishafigold', 'arialhebrewscholar', 'pingfangtc', 'symbol', 'ptserif', 'ayuthaya', 'stixintegralsd', 'kohinoordevanagari', 'stixnonunicode', 'pingfangsc', 'pingfanghk', 'trebuchetms', 'heititc', 'kohinoorbangla', 'seravek', 'tamilmn', 'andalemono', 'kufistandardgkpua', 'estrangelotalada', 'banglasangammn', 'alnilepua', 'hiraginosansgb', 'sukhumvitset', 'marion', 'charter', 'comicsansms', 'sinhalasangammn', 'palatino', 'arialroundedmtbold', 'estrangeloquenneshrin', 'ptsans', 'kefa', 'timesnewroman', 'chalkboard', 'laosangammn', 'impact', 'kohinoortelugu', 'luxisans', 'menlo', 'bigcaslon', 'helveticaneuedeskinterface', 'snellroundhand', 'brushscriptmt', 'stixintegralsup', 'arialhebrewdeskinterface', 'stixsizeonesym', 'superclarendon', 'sfcompactrounded', 'chalkboardse', 'muna', 'hiraginokakugothicinterface', 'dinalternate', 'luximono', 'stixintegralssm', 'tahoma', 'sertojerusalemoutline', 'telugusangammn', 'sfnstextcondensed', 'ptserifcaption', 'kannadasangammn', 'hiraginominchopron', 'americantypewriter', 'papyrus', 'hiraginokakugothicpron', 'mishafi', 'futura', 'sinhalamn', 'albayanpua', 'gujaratisangammn', 'myanmarsangammn', 'copperplate', 'verdana', 'chalkduster', 'khmersangammn', 'songtitc', 'bodoni72smallcaps', 'itfdevanagarimarathi', 'hiraginokakugothicstdn', 'oriyamn', 'georgia', 'nadeempua', 'applesymbols', 'markerfelt', 'songtisc', 'inaimathi', 'herculanum', 'optima', 'kufistandardgk', 'ptmono', 'bodoni72', 'applechancery', 'khmermn', 'arialunicodems', 'bitstreamveraserif', 'eastsyriacadiabene', 'eastsyriacctesiphon', 'bodoni72oldstyle', 'devanagarimt', 'sertobatnan', 'aquakana', 'mshtakan', 'bradleyhand', 'estrangelonisibin', 'hiraginosansgbinterface', 'myanmarmn', 'stixsizefivesym', 'gurmukhimn', 'kannadamn', 'munapua', 'devanagarisangammn', 'dincondensed', 'nadeem', 'sanapua', 'estrangeloturabdin', 'hiraginomarugothicpron', 'thonburi', 'hiraginominchopro', 'applemyungjo', 'arialhebrew', 'beirutpua', 'baghdadpua', 'lastresort', 'gurmukhimt', 'savoyeletcc', 'geezapropua', 'zapfino', 'telugumn', 'banglamn', 'waseem', 'arialblack', 'sertourhoy', 'hiraginomarugothicpro', 'microsoftsansserif', 'savoyelet', 'decotypenaskh', 'estrangelonisibinoutline', 'stsong', 'didot', 'applegothic', 'altarikh', 'stixvariants', 'zapfdingbats', 'farah', 'baghdad', 'gb18030bitmap', 'kokonor', 'silom', 'wingdings', 'noteworthy', 'stixsizetwosym', 'oriyasangammn', 'tamilsangammn', 'alnile', 'phosphate', 'sana', 'stixintegralsupd', 'wingdings3', 'sathu', 'wingdings2', 'beirut', 'farahpua', 'diwankufipua', 'diwanthuluth', 'stixintegralsupsm', 'keyboard', 'stixsizethreesym', 'bodoniornaments', 'applecoloremoji', 'plantagenetcherokee']\n"
     ]
    }
   ],
   "source": [
    "\n",
    "print(pygame.font.get_fonts())\n",
    "\n"
   ]
  },
  {
   "cell_type": "markdown",
   "metadata": {
    "slideshow": {
     "slide_type": "slide"
    }
   },
   "source": [
    "To select a font:"
   ]
  },
  {
   "cell_type": "code",
   "execution_count": null,
   "metadata": {},
   "outputs": [],
   "source": [
    "font_size = 26\n",
    "font = pygame.font.SysFont(None, font_size)                           # default font \n",
    "font = pygame.font.SysFont('helveticaneuedeskinterface', font_size)   # font from list abo\n",
    "\n",
    "\n",
    "ve"
   ]
  },
  {
   "cell_type": "markdown",
   "metadata": {
    "slideshow": {
     "slide_type": "slide"
    }
   },
   "source": [
    "To choose what to write:"
   ]
  },
  {
   "cell_type": "code",
   "execution_count": null,
   "metadata": {},
   "outputs": [],
   "source": [
    "space_green = (0,250,154)\n",
    "\n",
    "text = font.render(\"Space Game!\", True, space_green)\n",
    "\n",
    "\n"
   ]
  },
  {
   "cell_type": "code",
   "execution_count": null,
   "metadata": {
    "slideshow": {
     "slide_type": "slide"
    }
   },
   "outputs": [],
   "source": [
    "Lastly, add the text to the game window:\n",
    "    \n",
    "    "
   ]
  },
  {
   "cell_type": "code",
   "execution_count": null,
   "metadata": {},
   "outputs": [],
   "source": [
    "window.blit(text, ((800/2), 550))\n",
    "\n"
   ]
  },
  {
   "cell_type": "markdown",
   "metadata": {
    "slideshow": {
     "slide_type": "slide"
    }
   },
   "source": [
    "# Summary\n",
    "<a id='Summary'></a>\n",
    " - There are mutliple libraries, including Pygame, available for importing and working with external sources of data such as sound, images, and fonts.\n",
    "\n",
    "\n",
    "__Importing Images__\n",
    " - The order in which images are \"drawn\" (`blit`) is important, for example drawing a background *after* an image will cover the image.\n",
    " - Images to appear on top of a backgrond should be imported without a solid background in the image. For .if files the background can be removed withing the program.\n",
    " - Images can be rotated using the function `pygame.transform.rotate`.\n",
    " - The built-in function, `enumerate` is useful for numbering the items of a list, e.g. when iterating using a for loop.\n",
    " \n",
    " __Importing Sound__\n",
    " - .mp3 and .wav files may be imported for use as music in Pygame, .wav amd .ogg may be imported for sound effects.\n",
    " - `pygame.mixer.music` privides a range of function for manipulating imoprted sound files within a program.\n",
    " \n",
    " __Importing Text__\n",
    " - You can access the fonts available from your computer system to create font objects within a game window. \n",
    "  "
   ]
  },
  {
   "cell_type": "markdown",
   "metadata": {
    "slideshow": {
     "slide_type": "slide"
    }
   },
   "source": [
    "<a id='TestYourselfExercises'></a>\n",
    "# Test-Yourself Exercises\n",
    "\n",
    "Compete the Test-Youself exercises below.\n",
    "\n",
    "Save your answers as .py files and email them to:\n",
    "<br>philamore.hemma.5s@kyoto-u.ac.jp"
   ]
  },
  {
   "cell_type": "markdown",
   "metadata": {
    "collapsed": true,
    "slideshow": {
     "slide_type": "slide"
    }
   },
   "source": [
    "### Test-Yourself Excercise: Interaction Between Images\n",
    "Finish the space game we started buiding in today's class by completing the section titled __Interaction Between Images__.\n",
    "\n",
    "<table><tr><td> \n",
    "<img src='img/battle1.png' style=\"width: 200px;\"> </td><td> \n",
    "<img src='img/battle2.png' style=\"width: 200px;\"> </td><td> \n",
    "<img src='img/battle3.png' style=\"width: 200px;\"> </td></tr>\n",
    "</table>\n"
   ]
  },
  {
   "cell_type": "markdown",
   "metadata": {
    "slideshow": {
     "slide_type": "slide"
    }
   },
   "source": [
    "### Test-Yourself Excercise: Importing Text\n",
    "\n",
    "Add text to:\n",
    "- the space game we built in today's class to show \"GAME OVER\" when the monster is hit\n",
    "- the pong game to print each player's score to the screen. *Try to achieve this by writing a function.* "
   ]
  },
  {
   "cell_type": "markdown",
   "metadata": {
    "collapsed": true,
    "slideshow": {
     "slide_type": "slide"
    }
   },
   "source": [
    "### Test-Yourself Excercise: Importing Sound - Music Player\n",
    "\n",
    "Write a program (you may use the file `sample_data/game_template.py` as a starting point) to play a collection of music files.\n",
    "\n",
    "You may use example files in `sample_data/sounds/` or source your own. \n",
    "\n",
    "Use physical user interfaces (e.g. left and right button) to skip forward and backward through songs in the collection.\n",
    "\n",
    "Use physical user interfaces (e.g. up and down button) to change the volume.\n",
    "\n",
    "*Use uer-defined functions where possible.*\n",
    "<br>*Use comments and doc-strings to show what your code does.*\n",
    "\n",
    "__*Optional Extension: Add additional functions to your music player such as pause, play and stop : see https://www.pygame.org/docs/ref/music.html for ideas.*__"
   ]
  }
 ],
 "metadata": {
  "celltoolbar": "Slideshow",
  "kernelspec": {
   "display_name": "Python 3",
   "language": "python",
   "name": "python3"
  },
  "language_info": {
   "codemirror_mode": {
    "name": "ipython",
    "version": 3
   },
   "file_extension": ".py",
   "mimetype": "text/x-python",
   "name": "python",
   "nbconvert_exporter": "python",
   "pygments_lexer": "ipython3",
   "version": "3.6.5"
  }
 },
 "nbformat": 4,
 "nbformat_minor": 2
}
