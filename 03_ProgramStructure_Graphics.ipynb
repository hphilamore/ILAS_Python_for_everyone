{
 "cells": [
  {
   "cell_type": "markdown",
   "metadata": {
    "slideshow": {
     "slide_type": "slide"
    }
   },
   "source": [
    "# Please download the new class notes.\n",
    "### Step 1 : Navigate to the directory where your files are stored.  \n",
    "Open a terminal. \n",
    "\n",
    "Using `cd`, navigate to *inside* the ILAS_Python_for_engineers folder on your computer. \n",
    "\n",
    "### Step 3 : Update the course notes by downloading the changes\n",
    "In the terminal type:\n",
    "\n",
    ">`git add -A`\n",
    "\n",
    ">`git commit -m \"commit\"`\n",
    "\n",
    ">`git fetch upstream`\n",
    "\n",
    ">`git merge -X theirs upstream/master`\n"
   ]
  },
  {
   "cell_type": "markdown",
   "metadata": {},
   "source": [
    "You must have `pygame` installed to complete this class.\n",
    "\n",
    "The instrauctions to do this are given in last week's notes: 02_DataStructures_LibraryFunctions.ipynb"
   ]
  },
  {
   "cell_type": "markdown",
   "metadata": {
    "collapsed": true,
    "slideshow": {
     "slide_type": "slide"
    }
   },
   "source": [
    "# Program Structure and Graphics\n",
    "\n",
    "\n",
    "\n"
   ]
  },
  {
   "cell_type": "markdown",
   "metadata": {
    "slideshow": {
     "slide_type": "slide"
    }
   },
   "source": [
    "### Lesson Goal\n",
    "\n",
    "Build an animated aquarium 水族館.\n",
    "\n",
    "<p align=\"center\">\n",
    "  <img src=\"img/aquarium.gif\" alt=\"Drawing\" style=\"width: 600px;\"/>\n",
    "</p>\n",
    "http://titusalexius.co.vu/post/149466261064\n",
    "\n",
    "\n",
    "\n",
    "\n",
    "\n",
    "\n",
    "\n",
    "\n"
   ]
  },
  {
   "cell_type": "markdown",
   "metadata": {},
   "source": [
    "Your aquarium will contain \"fish\" that move and interact with their environment.\n",
    "\n",
    "<p align=\"center\">\n",
    "  <img src=\"img/shapes_moving.gif\" alt=\"Drawing\" style=\"width: 400px;\"/>\n",
    "</p>\n"
   ]
  },
  {
   "cell_type": "markdown",
   "metadata": {},
   "source": [
    "### Fundamental programming concepts\n",
    " - Generic program structure\n",
    " - Animated computer graphics"
   ]
  },
  {
   "cell_type": "markdown",
   "metadata": {},
   "source": [
    "## Program Structure: The Game loop"
   ]
  },
  {
   "cell_type": "markdown",
   "metadata": {},
   "source": [
    "Now that you have learnt about loops, we will learn how to use loops to construct the basic structure on which you will base your program.\n",
    "\n"
   ]
  },
  {
   "cell_type": "markdown",
   "metadata": {},
   "source": [
    "We considered the __game loop__ and how a `while(1)` loop can be used to loop indefnintely until the user decides to quit.\n",
    "\n",
    "Today we will learn how we can use the imported `pygame` package to simplify the implementation of this structure.\n",
    "\n",
    "<p align=\"center\">\n",
    "  <img src=\"img/game_loop.png\" alt=\"Drawing\" style=\"width: 300px;\"/>\n",
    "</p>"
   ]
  },
  {
   "cell_type": "markdown",
   "metadata": {
    "collapsed": true
   },
   "source": [
    "We also learnt about __nested loops__ (a loop within another loop).\n",
    "\n",
    "(If you need to remind yourself about nested loops, look at the *Printing a Pattern* example from the notes: 01b_ControlFlow_BasicInput.ipynb)\n",
    "\n",
    "We will focus on the \"Draw everything\" block in the game loop...\n",
    "\n",
    "\n",
    "\n"
   ]
  },
  {
   "cell_type": "markdown",
   "metadata": {},
   "source": [
    "We will contract a __graphics loop__ in this block that:\n",
    "- draws with all the visual elements of the game\n",
    "- updates the display at the frame rate of the game\n",
    "\n",
    "<p align=\"center\">\n",
    "  <img src=\"img/graphics_loop.png\" alt=\"Drawing\" style=\"width: 300px;\"/>\n",
    "</p>"
   ]
  },
  {
   "cell_type": "markdown",
   "metadata": {},
   "source": [
    "## Setting up\n",
    "\n",
    "Open a new file in Spyder.\n",
    "\n",
    "Type:"
   ]
  },
  {
   "cell_type": "code",
   "execution_count": null,
   "metadata": {
    "collapsed": true
   },
   "outputs": [],
   "source": [
    "import pygame"
   ]
  },
  {
   "cell_type": "markdown",
   "metadata": {},
   "source": [
    "Run the code...\n",
    "\n",
    "If an error is generated saying the command is not recognised, you may need to install pygame.\n",
    "\n",
    "If not, save your code as a .py file\n",
    "\n",
    "__Important: DO NOT CALL YOUR FILE pygame.py!__\n",
    "<br>`import pygame`\n",
    "<br>Tells your computer to search for a *library file* called pygame.\n",
    "<br>If you create a file named pygame, the computer will try to use this file instead. "
   ]
  },
  {
   "cell_type": "markdown",
   "metadata": {},
   "source": [
    "Type or copy and paste the following code, underneath `import pygame` in your program."
   ]
  },
  {
   "cell_type": "code",
   "execution_count": null,
   "metadata": {
    "collapsed": true
   },
   "outputs": [],
   "source": [
    "import sys\n",
    "\n",
    "# 1. Initailise the pygame library\n",
    "pygame.init()"
   ]
  },
  {
   "cell_type": "markdown",
   "metadata": {},
   "source": [
    "##### What does this code do?\n",
    "\n",
    ">`import sys`\n",
    "\n",
    "`sys` is another python package that enables your program to talk to toher parts of the computer *sys*-tem.\n",
    "\n",
    ">`pygame.init()`\n",
    "\n",
    "This command eanbles you to use the functions and constants in the pygame library.\n",
    "<br>This is specific to pygame, other libraries do not usually require the command \"package_name\"`.init()`\n",
    "\n",
    "The comments in this tutorial are numbered to help you to place blocks of code in the correct order in your program."
   ]
  },
  {
   "cell_type": "markdown",
   "metadata": {},
   "source": [
    "## The Game Window\n",
    "\n",
    "First step : use pygame to launch a *window* in which the game will be played.\n",
    "\n",
    "This is actually quite a complex procedure; our code has to \"talk to\" other parts of the computer to launch a window.\n",
    "\n",
    "This is an example of where imported packages are useful.\n",
    "\n",
    "The code to launch a window is stored as a function in the Pgyame files on your computer. \n",
    "\n",
    "To use it you simply type:"
   ]
  },
  {
   "cell_type": "code",
   "execution_count": null,
   "metadata": {
    "collapsed": true
   },
   "outputs": [],
   "source": [
    "# 3. Launch a game window\n",
    "window = pygame.display.set_mode((600, 400))"
   ]
  },
  {
   "cell_type": "markdown",
   "metadata": {
    "slideshow": {
     "slide_type": "subslide"
    }
   },
   "source": [
    "##### What does this code do?\n",
    "It creates a window with size 600 x 400 pixels.\n",
    "<br>This window will contain your computer game.\n",
    "\n",
    "\n",
    "\n"
   ]
  },
  {
   "cell_type": "markdown",
   "metadata": {},
   "source": [
    "Recall...\n",
    "<br>The `import` statement must appear before the use of the package in the code.  \n",
    "\n",
    "        import pygame \n",
    "\n",
    "After this, any function in `pygame` can be called as:\n",
    "\n",
    "        `pygame.function()`\n",
    "        \n",
    "and, any constant in `pygame` can be called as:\n",
    "\n",
    "        `game.constant`."
   ]
  },
  {
   "cell_type": "markdown",
   "metadata": {},
   "source": [
    "### Sub-packages\n",
    "Additionally...\n",
    "<br>The files that store the contents of pygame are neatly arranged into a system of __sub-packages__.\n",
    "\n",
    "`pygame.display.set_mode((600, 400))`\n",
    "\n",
    "Is simply calling:\n",
    " - the function `set_mode`...\n",
    " - ...from the sub-package `display`...\n",
    " - ...from the package `pygame`."
   ]
  },
  {
   "cell_type": "markdown",
   "metadata": {},
   "source": [
    "<img src=\"img/1_make_window.png\" alt=\"Drawing\" style=\"width: 400px;\"/>"
   ]
  },
  {
   "cell_type": "markdown",
   "metadata": {
    "slideshow": {
     "slide_type": "subslide"
    }
   },
   "source": [
    "Run the code.\n",
    "\n",
    "Notice that the window appears, then disappears again.\n",
    "\n",
    "We need code to:\n",
    " - keep the window open\n",
    " - allow us to close it when we want to\n",
    " \n",
    "For this, we need the main __game loop__."
   ]
  },
  {
   "cell_type": "markdown",
   "metadata": {
    "collapsed": true
   },
   "source": [
    "## The main game loop\n",
    "\n",
    "This is the most complex part of the program.\n",
    "\n",
    "A *complete understanding* of it isn't needed yet. \n",
    "\n",
    "An idea of what it does *is necesary*.\n",
    "\n",
    "<p align=\"center\">\n",
    "  <img src=\"img/game_loop.png\" alt=\"Drawing\" style=\"width: 300px;\"/>\n",
    "</p>\n",
    "\n",
    "\n",
    "\n"
   ]
  },
  {
   "cell_type": "markdown",
   "metadata": {},
   "source": [
    "\n",
    "Type or copy and paste the following code, underneath `import pygame` in your program."
   ]
  },
  {
   "cell_type": "code",
   "execution_count": null,
   "metadata": {
    "collapsed": true
   },
   "outputs": [],
   "source": [
    "# 4. Set up the main game loop\n",
    "while True:\n",
    "    event = pygame.event.poll()\n",
    "    \n",
    "    if event.type == pygame.QUIT:        \n",
    "        pygame.quit()\n",
    "        sys.exit()    \n"
   ]
  },
  {
   "cell_type": "markdown",
   "metadata": {
    "slideshow": {
     "slide_type": "subslide"
    }
   },
   "source": [
    "##### What does this code do?\n",
    ">```Python\n",
    "while True:\n",
    "```\n",
    "\n",
    "The `while(1)` or `while(True)` loop : \"do what is written next, until told to stop\".\n",
    "\n",
    "It tells the computer to do everything that is:\n",
    "1. written after `while True:`\n",
    "1. *indented* (moved to the right)\n",
    "*repeatedly*, until we tell it to __stop__."
   ]
  },
  {
   "cell_type": "markdown",
   "metadata": {
    "slideshow": {
     "slide_type": "subslide"
    }
   },
   "source": [
    "\n",
    ">```Python\n",
    "event = pygame.event.poll()\n",
    "if event.type == pygame.QUIT:`\n",
    "```\n",
    "\n",
    "<br>\n",
    "`event = pygame.event.poll()` : checks if an \"event\" has happened.\n",
    "<br>e.g. a key on the keyboard being pressed or the mouse being clicked\n",
    "\n",
    "`event.type == pygame.QUIT` : checks if the event type `pygame.QUIT` has happened. \n",
    "<br>`pygame.QUIT` is triggered when we click on the x button in the top left corner of the game window.   \n",
    "\n",
    "If `pygame.QUIT` is triggered..."
   ]
  },
  {
   "cell_type": "markdown",
   "metadata": {
    "slideshow": {
     "slide_type": "subslide"
    }
   },
   "source": [
    "```Python\n",
    "\n",
    "pygame.quit()\n",
    "sys.exit()\n",
    " ```\n",
    " \n",
    "<br>\n",
    "`pygame.quit()` :  stops the game\n",
    "\n",
    "`sys.exit()` :  exits the game window\n"
   ]
  },
  {
   "cell_type": "markdown",
   "metadata": {
    "slideshow": {
     "slide_type": "subslide"
    }
   },
   "source": [
    "Run your code again.\n",
    "\n",
    "The window should appear again. \n",
    "\n",
    "Click on the x button in the top left of the window to close it. \n"
   ]
  },
  {
   "cell_type": "markdown",
   "metadata": {},
   "source": [
    "## Processing Each Frame\n",
    "The game loops repeats once each time setp or frame.\n",
    "\n",
    "In general, your programs will be easier to read and understand if the operations to:\n",
    "- Get user input\n",
    "- Calculate position, scores etc.\n",
    "- Draw eveything \n",
    "- (Close program)\n",
    "\n",
    "are grouped together in steps. \n",
    "\n",
    "i.e. Don't do some calculations, some drawing, some more calculations, some more drawing. "
   ]
  },
  {
   "cell_type": "markdown",
   "metadata": {
    "collapsed": true
   },
   "source": [
    "## The event processing loop\n",
    "Consider the lines:\n",
    "\n",
    "        event = pygame.event.poll()\n",
    "        if event.type == pygame.QUIT:        \n",
    "            pygame.quit()\n",
    "            sys.exit()  \n",
    "\n",
    "These lines are the __event processing loop__.\n",
    "\n",
    "\n",
    "\n"
   ]
  },
  {
   "cell_type": "markdown",
   "metadata": {},
   "source": [
    "The __event processing loop__ is the block of the game loop that \"Gets user input\".\n",
    "\n",
    "<p align=\"center\">\n",
    "  <img src=\"img/game_loop.png\" alt=\"Drawing\" style=\"width: 300px;\"/>\n",
    "</p>"
   ]
  },
  {
   "cell_type": "markdown",
   "metadata": {},
   "source": [
    "The events that the game looks for should all go together in a single loop. \n",
    "\n",
    "The program uses a for loop to loop through each event once per timestep. \n",
    "\n",
    "Using a chain of if statements the code figures out what type of event occurred, and the code to handle that event goes in the if statement.\n",
    "\n"
   ]
  },
  {
   "cell_type": "markdown",
   "metadata": {},
   "source": [
    "To demonstrate this, let's briefly look at some other events the computer can recognise.\n",
    "\n",
    "We will study these events in greater detail in a class dedicated to physical interfaces.\n",
    "\n",
    "Copy the following code.\n",
    "<br> Paste it at the end of your program.\n",
    "<br>The pasted code must be at the same *indentation level* (distance from the left side of the screen) as the last `if` statement:"
   ]
  },
  {
   "cell_type": "code",
   "execution_count": 1,
   "metadata": {},
   "outputs": [
    {
     "ename": "SyntaxError",
     "evalue": "invalid syntax (<ipython-input-1-600e32781d17>, line 1)",
     "output_type": "error",
     "traceback": [
      "\u001b[0;36m  File \u001b[0;32m\"<ipython-input-1-600e32781d17>\"\u001b[0;36m, line \u001b[0;32m1\u001b[0m\n\u001b[0;31m    elif event.type == pygame.KEYDOWN:\u001b[0m\n\u001b[0m       ^\u001b[0m\n\u001b[0;31mSyntaxError\u001b[0m\u001b[0;31m:\u001b[0m invalid syntax\n"
     ]
    }
   ],
   "source": [
    "elif event.type == pygame.KEYDOWN:\n",
    "    print(\"User pressed a key.\")\n",
    "elif event.type == pygame.KEYUP:\n",
    "    print(\"User let go of a key.\")\n",
    "elif event.type == pygame.MOUSEBUTTONDOWN:\n",
    "    print(\"User pressed a mouse button\")"
   ]
  },
  {
   "cell_type": "markdown",
   "metadata": {},
   "source": [
    "Your main game loop should now look like this:\n",
    "\n",
    "        while True:\n",
    "            event = pygame.event.poll()\n",
    "            if event.type == pygame.QUIT:        \n",
    "                pygame.quit()\n",
    "                sys.exit() \n",
    "            elif event.type == pygame.KEYDOWN:\n",
    "                print(\"User pressed a key.\")\n",
    "            elif event.type == pygame.KEYUP:\n",
    "                print(\"User let go of a key.\")\n",
    "            elif event.type == pygame.MOUSEBUTTONDOWN:\n",
    "                print(\"User pressed a mouse button\")"
   ]
  },
  {
   "cell_type": "markdown",
   "metadata": {},
   "source": [
    "This code looks for the events:\n",
    "- keybaord key press\n",
    "- keybaord key release\n",
    "- mouse key press"
   ]
  },
  {
   "cell_type": "markdown",
   "metadata": {},
   "source": [
    "Run your code.\n",
    "\n",
    "When the game launches try pressing keys on the keyboard.\n",
    "\n",
    "View the output in Spyder (or whichever IDE you are using).\n"
   ]
  },
  {
   "cell_type": "markdown",
   "metadata": {},
   "source": [
    "\"Comment out\" or delete the lines for keyboard and mouse events.\n",
    "\n",
    "Recall, commented lines begin with `#` and are not read when the program is run.\n",
    "\n",
    "You can do this by selecting the lines to comment and pressing 'Ctrl' + '/'\n",
    "<br>(Note, this keyboard shortcut may vary)."
   ]
  },
  {
   "cell_type": "code",
   "execution_count": null,
   "metadata": {
    "collapsed": true
   },
   "outputs": [],
   "source": [
    "# elif event.type == pygame.KEYDOWN:\n",
    "#     print(\"User pressed a key.\")\n",
    "# elif event.type == pygame.KEYUP:\n",
    "#     print(\"User let go of a key.\")\n",
    "# elif event.type == pygame.MOUSEBUTTONDOWN:\n",
    "#     print(\"User pressed a mouse button\")"
   ]
  },
  {
   "cell_type": "markdown",
   "metadata": {
    "collapsed": true
   },
   "source": [
    "## Graphics\n",
    "All graphics are redrawn each loop.\n",
    "\n",
    "After all items have been drawn the display is updated, making the items visible.\n",
    "\n",
    "Doing this as the final step avoids generating a display that \"jitters\" as individual drawn elements update a fraction of a second out of time with each other.\n",
    "\n"
   ]
  },
  {
   "cell_type": "markdown",
   "metadata": {},
   "source": [
    "To demonstrate how to draw graphics and update the display, let's add a colour background to the game window."
   ]
  },
  {
   "cell_type": "markdown",
   "metadata": {
    "slideshow": {
     "slide_type": "subslide"
    }
   },
   "source": [
    "### Changing the window colour\n",
    "\n",
    "Copy and the code from the box below."
   ]
  },
  {
   "cell_type": "code",
   "execution_count": 3,
   "metadata": {
    "scrolled": true,
    "slideshow": {
     "slide_type": "subslide"
    }
   },
   "outputs": [
    {
     "ename": "NameError",
     "evalue": "name 'window' is not defined",
     "output_type": "error",
     "traceback": [
      "\u001b[0;31m---------------------------------------------------------------------------\u001b[0m",
      "\u001b[0;31mNameError\u001b[0m                                 Traceback (most recent call last)",
      "\u001b[0;32m<ipython-input-3-c392c5ce787d>\u001b[0m in \u001b[0;36m<module>\u001b[0;34m()\u001b[0m\n\u001b[1;32m      1\u001b[0m \u001b[0;31m# 5\u001b[0m\u001b[0;34m\u001b[0m\u001b[0;34m\u001b[0m\u001b[0m\n\u001b[0;32m----> 2\u001b[0;31m \u001b[0mwindow\u001b[0m\u001b[0;34m.\u001b[0m\u001b[0mfill\u001b[0m\u001b[0;34m(\u001b[0m\u001b[0;34m(\u001b[0m\u001b[0;36m255\u001b[0m\u001b[0;34m,\u001b[0m \u001b[0;36m255\u001b[0m\u001b[0;34m,\u001b[0m \u001b[0;36m255\u001b[0m\u001b[0;34m)\u001b[0m\u001b[0;34m)\u001b[0m\u001b[0;34m\u001b[0m\u001b[0m\n\u001b[0m\u001b[1;32m      3\u001b[0m \u001b[0;34m\u001b[0m\u001b[0m\n\u001b[1;32m      4\u001b[0m \u001b[0;31m# 6\u001b[0m\u001b[0;34m\u001b[0m\u001b[0;34m\u001b[0m\u001b[0m\n\u001b[1;32m      5\u001b[0m \u001b[0mpygame\u001b[0m\u001b[0;34m.\u001b[0m\u001b[0mdisplay\u001b[0m\u001b[0;34m.\u001b[0m\u001b[0mupdate\u001b[0m\u001b[0;34m(\u001b[0m\u001b[0;34m)\u001b[0m\u001b[0;34m\u001b[0m\u001b[0m\n",
      "\u001b[0;31mNameError\u001b[0m: name 'window' is not defined"
     ]
    }
   ],
   "source": [
    "# 5 Draw\n",
    "window.fill((255, 255, 255))\n",
    "\n",
    "# 6 Update display\n",
    "pygame.display.update()"
   ]
  },
  {
   "cell_type": "markdown",
   "metadata": {
    "slideshow": {
     "slide_type": "subslide"
    }
   },
   "source": [
    "Paste the copied code end of the program.  \n",
    "\n",
    "The pasted code should be at the same *indentation level* (distance from the left side of the screen) as the line:\n",
    ">`if event.type == pygame.QUIT:`.\n",
    "        \n",
    "In other words, the last part of your program in the code window should look like this:\n",
    "```python\n",
    "    if event.type == pygame.QUIT:    \t\n",
    "        pygame.quit()\n",
    "        sys.exit()\n",
    "\n",
    "    window.fill((255, 255, 255))\n",
    "\n",
    "    pygame.display.update()\n",
    "\n",
    "```"
   ]
  },
  {
   "cell_type": "markdown",
   "metadata": {
    "slideshow": {
     "slide_type": "subslide"
    }
   },
   "source": [
    "##### What does this code do?\n",
    "> `screen.fill((255, 255, 255))` \n",
    "\n",
    "sets the colour of the screen. \n",
    "<br>In the sequence of numbers: `255, 255, 255`:\n",
    "- the first number sets the amout of <font color='red'>red</font>\n",
    "- the second number sets the amout of <font color='green'>green</font> \n",
    "- the third number sets the amout of <font color='blue'>blue</font> \n",
    "that get mixed together to create the colour of the screen.\n",
    "\n",
    "\n",
    "\n"
   ]
  },
  {
   "cell_type": "markdown",
   "metadata": {},
   "source": [
    "Each number must be between 0 and 255\n",
    "<br>`(0,0,0)` &nbsp;&nbsp; &nbsp; &nbsp; &nbsp; &nbsp; &nbsp; &nbsp; &nbsp; &nbsp; &nbsp; means black \n",
    "<br>`(255, 255, 255)` &nbsp; &nbsp; means white\n",
    "<br>`(255, 0, 0)` &nbsp; &nbsp; &nbsp; &nbsp; &nbsp; &nbsp; means <font color='red'>red</font>\n",
    "<br>`(0, 255, 0)` &nbsp; &nbsp; &nbsp; &nbsp; &nbsp; &nbsp; means <font color='green'>green</font>\n",
    "<br>`(0, 0, 255)` &nbsp; &nbsp; &nbsp; &nbsp; &nbsp; &nbsp; means <font color='blue'>blue</font>\n",
    "\n",
    "\n"
   ]
  },
  {
   "cell_type": "markdown",
   "metadata": {},
   "source": [
    ">`pygame.display.update()` \n",
    "\n",
    "...tells the computer to *update the display in the window* with the change you have made.\n",
    "<br>Failure to include this command will just shows a blank screen. \n",
    "<br>Any drawing code after this command will not display.\n",
    "\n"
   ]
  },
  {
   "cell_type": "markdown",
   "metadata": {},
   "source": [
    "Try some different number combinations until you get a colour that your like. \n",
    "\n",
    "Each time you change the numbers, run the code to view your changes..\n",
    "<br>When you run the code:\n",
    " - First, the window will appear.\n",
    " - After a few moments, it will change to the colour you set.\n",
    "\n",
    "__Close the window__ by clicking the x button in the top left of the window before running your code again."
   ]
  },
  {
   "cell_type": "markdown",
   "metadata": {},
   "source": [
    "__Window colour changed using:__\n",
    "> `window.fill((100, 0, 100))` \n",
    "<img src=\"img/3_colour_window.png\" alt=\"Drawing\" style=\"width: 400px;\"/>"
   ]
  },
  {
   "cell_type": "markdown",
   "metadata": {
    "slideshow": {
     "slide_type": "slide"
    }
   },
   "source": [
    "## Variables\n",
    "Entering all these numbers can be confusing. \n",
    "\n",
    "It can be difficult to remember what they mean, for example when choosing a colour.\n",
    "\n",
    "<br>An easier way is to replace the numbers with *variables*.\n",
    "\n",
    "A variable is just an easy to remember word (or letter) that  we can use instead of a number."
   ]
  },
  {
   "cell_type": "markdown",
   "metadata": {
    "slideshow": {
     "slide_type": "subslide"
    }
   },
   "source": [
    "For example, earlier we learnt that: \n",
    "\n",
    ">black =`(0,0,0)` \n",
    "><br>white = `(255, 255, 255)` \n",
    "><br>red = `(255, 0, 0)` \n",
    "><br>green = `(0, 255, 0)` \n",
    "><br>blue = `(0, 0, 255)` \n",
    "\n",
    "So in our program we can write:"
   ]
  },
  {
   "cell_type": "code",
   "execution_count": 2,
   "metadata": {
    "collapsed": true
   },
   "outputs": [],
   "source": [
    "black = (0,0,0)\n",
    "white = (255, 255, 255)\n",
    "red =   (255, 0, 0)\n",
    "green = (0, 255, 0)\n",
    "blue =  (0, 0, 255)"
   ]
  },
  {
   "cell_type": "markdown",
   "metadata": {
    "slideshow": {
     "slide_type": "subslide"
    }
   },
   "source": [
    "So now, to change the colour of the screen to green, instead of:"
   ]
  },
  {
   "cell_type": "code",
   "execution_count": null,
   "metadata": {
    "collapsed": true
   },
   "outputs": [],
   "source": [
    "window.fill((0, 255, 0))"
   ]
  },
  {
   "cell_type": "markdown",
   "metadata": {},
   "source": [
    "we can use"
   ]
  },
  {
   "cell_type": "code",
   "execution_count": null,
   "metadata": {
    "collapsed": true
   },
   "outputs": [],
   "source": [
    "screen.fill(green)"
   ]
  },
  {
   "cell_type": "markdown",
   "metadata": {
    "slideshow": {
     "slide_type": "subslide"
    }
   },
   "source": [
    "#### Try it yourself\n",
    "Copy the list of colours from the box below. \n"
   ]
  },
  {
   "cell_type": "code",
   "execution_count": null,
   "metadata": {
    "collapsed": true
   },
   "outputs": [],
   "source": [
    "# 2. Variables\n",
    "black = (0,0,0)\n",
    "white = (255, 255, 255)\n",
    "red =   (255, 0, 0)\n",
    "green = (0, 255, 0)\n",
    "blue =  (0, 0, 255)"
   ]
  },
  {
   "cell_type": "markdown",
   "metadata": {
    "slideshow": {
     "slide_type": "subslide"
    }
   },
   "source": [
    "Paste the list in your program *immediately after* step 1 like this:\n",
    "```Python\n",
    "import pygame\n",
    "import sys \n",
    "# 1. Initailise the pygame library\n",
    "pygame.init()\n",
    "\n",
    "# 2. Variables\n",
    "black = (0,0,0)\n",
    "white = (255, 255, 255)\n",
    "red =   (255, 0, 0)\n",
    "green = (0, 255, 0)\n",
    "blue =  (0, 0, 255)\n",
    "```"
   ]
  },
  {
   "cell_type": "markdown",
   "metadata": {
    "slideshow": {
     "slide_type": "subslide"
    }
   },
   "source": [
    "What colour did you make the game window earlier?\n",
    "\n",
    "Add the colour you made to the list of variables. \n",
    "\n",
    "\n"
   ]
  },
  {
   "cell_type": "markdown",
   "metadata": {
    "slideshow": {
     "slide_type": "subslide"
    }
   },
   "source": [
    "__1.__ Choose a name for the colour and add it to the list.\n",
    "\n",
    ">__A rule when choosing names__\n",
    "<br>The name cannot contain spaces e.g.<br>`dark blue` is not allowed.<br>`dark_blue` is allowed.<br>An underscore _ is a useful way to sperate words in a name.\n",
    "\n",
    "\n",
    "__2.__ Put an equals sign. \n",
    "\n",
    "__3.__ After the equals sign put the number you used to make the colour, in () brackets.<br>If you made the screen purple, you could write:\n",
    "```Python\n",
    "purple = (100, 0, 100)\n",
    "```"
   ]
  },
  {
   "cell_type": "markdown",
   "metadata": {
    "slideshow": {
     "slide_type": "subslide"
    }
   },
   "source": [
    "\n",
    "\n",
    "\n",
    "Now change the colour of the screen using the new *variable* you just created, instead of a *number*.   \n",
    "<br>For example, replace:\n",
    "```Python\n",
    "window.fill((240, 0, 240))\n",
    "```\n",
    "<br>with:\n",
    "```Python\n",
    "window.fill(purple)\n",
    "```\n"
   ]
  },
  {
   "cell_type": "markdown",
   "metadata": {},
   "source": [
    "## Frame Rate\n",
    "The final thing we are going to add before you do some drawing, is the frame rate.\n",
    "\n",
    "__Frame rate__ : The number of times the code loops per second. "
   ]
  },
  {
   "cell_type": "markdown",
   "metadata": {},
   "source": [
    "Copy the following line of code and paste it at the end of your program, at the same *indentation level* as the lines before."
   ]
  },
  {
   "cell_type": "code",
   "execution_count": null,
   "metadata": {
    "collapsed": true
   },
   "outputs": [],
   "source": [
    "#7. Frame rate\n",
    "clock = pygame.time.Clock().tick(60)"
   ]
  },
  {
   "cell_type": "markdown",
   "metadata": {},
   "source": [
    "This sets the frame rate at 60Hz.\n",
    "\n",
    "The computer will:\n",
    "- register user inputs (the event processing loop)\n",
    "- update the display\n",
    "\n",
    "60 times per second.\n",
    "\n",
    "(Note: If the frame rate is too high, the computer will become sluggish due to memory spent updating the screen.)"
   ]
  },
  {
   "cell_type": "markdown",
   "metadata": {},
   "source": [
    "## Recap\n",
    "\n",
    "A template of the code up to this point is in a file `game_template.py`, in the `sample_data` folder within the `ILAS_python_for_everyone` folder."
   ]
  },
  {
   "cell_type": "markdown",
   "metadata": {},
   "source": [
    "## Drawing Basics\n",
    "\n",
    "This is the *documentation* for the module pygame.draw.\n",
    "\n",
    "http://www.pygame.org/docs/ref/draw.html\n",
    "\n",
    "Use what you learnt about function documentation last week to work out how to draw some shapes on your screen."
   ]
  },
  {
   "cell_type": "markdown",
   "metadata": {},
   "source": [
    "### Examples\n",
    "__Circle__\n",
    "- surface = game window\n",
    "- colour = black\n",
    "- position of centre = (x = 100, y = 50) (pixels)\n",
    "- radius = 20 (pixels)\n",
    "\n"
   ]
  },
  {
   "cell_type": "code",
   "execution_count": 5,
   "metadata": {},
   "outputs": [
    {
     "ename": "NameError",
     "evalue": "name 'pygame' is not defined",
     "output_type": "error",
     "traceback": [
      "\u001b[0;31m---------------------------------------------------------------------------\u001b[0m",
      "\u001b[0;31mNameError\u001b[0m                                 Traceback (most recent call last)",
      "\u001b[0;32m<ipython-input-5-09cef22fb65d>\u001b[0m in \u001b[0;36m<module>\u001b[0;34m()\u001b[0m\n\u001b[0;32m----> 1\u001b[0;31m \u001b[0mpygame\u001b[0m\u001b[0;34m.\u001b[0m\u001b[0mdraw\u001b[0m\u001b[0;34m.\u001b[0m\u001b[0mcircle\u001b[0m\u001b[0;34m(\u001b[0m\u001b[0mwindow\u001b[0m\u001b[0;34m,\u001b[0m \u001b[0mblack\u001b[0m\u001b[0;34m,\u001b[0m \u001b[0;34m(\u001b[0m\u001b[0;36m100\u001b[0m\u001b[0;34m,\u001b[0m \u001b[0;36m50\u001b[0m\u001b[0;34m)\u001b[0m\u001b[0;34m,\u001b[0m \u001b[0;36m20\u001b[0m\u001b[0;34m)\u001b[0m\u001b[0;34m\u001b[0m\u001b[0m\n\u001b[0m",
      "\u001b[0;31mNameError\u001b[0m: name 'pygame' is not defined"
     ]
    }
   ],
   "source": [
    "pygame.draw.circle(window, black, (100, 50), 20)"
   ]
  },
  {
   "cell_type": "markdown",
   "metadata": {},
   "source": [
    "__Rectangle__\n",
    "- surface = game window\n",
    "- colour = black\n",
    "- x and y coordintaes of the top left corner = (x = 30, y = 300) (pixels)\n",
    "- width = 60 (pixels)\n",
    "- height = 80 (pixels)"
   ]
  },
  {
   "cell_type": "code",
   "execution_count": null,
   "metadata": {
    "collapsed": true
   },
   "outputs": [],
   "source": [
    "pygame.draw.rect(window, white, pygame.Rect(30, 300, 60, 80))"
   ]
  },
  {
   "cell_type": "markdown",
   "metadata": {},
   "source": [
    "For today, these shapes are going to be the \"fish\" in your aquarium. \n",
    "<img src=\"img/shapes_moving.gif\" alt=\"Drawing\" style=\"width: 400px;\"/>\n",
    "\n",
    "\n",
    "\n",
    "\n",
    "\n",
    "\n",
    "\n"
   ]
  },
  {
   "cell_type": "markdown",
   "metadata": {},
   "source": [
    "They don't *look* much like fish at the moment, but we are going to animate them so that they *behave* like fish.\n",
    "\n",
    "<table><tr><td> \n",
    " </td><td> \n",
    "<img src=\"img/tuna_swim.gif\" alt=\"Drawing\" style=\"width: 400px;\"/> </td><td> \n",
    "<img src=\"img/dolphin_crash.gif\" alt=\"Drawing\" style=\"width: 400px;\"/>\n",
    "http://bestanimations.com/Animals/Fish/Fish2.html </td></tr>\n",
    "</table>"
   ]
  },
  {
   "cell_type": "markdown",
   "metadata": {},
   "source": [
    "__Things to remember:__\n",
    "- Keep all drawing code together in one step (Step 5)\n",
    " - after `window.fill((255, 255, 255))`\n",
    " - before `pygame.display.update()`\n",
    "- The computer xy coordinate system works a little differently to the conventional cartesian system used in mathematics. Read the section below for an exaplanation.\n"
   ]
  },
  {
   "cell_type": "markdown",
   "metadata": {},
   "source": [
    "## The computer xy coordinate system\n",
    "The Cartesian coordinate system, is the system most people are used to when plotting graphics. \n",
    "\n",
    "<img src=\"img/Cartesian_coordinates_2D.png\" alt=\"Drawing\" style=\"width: 400px;\"/>\n",
    "\n",
    "(Wikimedia Commons)"
   ]
  },
  {
   "cell_type": "markdown",
   "metadata": {},
   "source": [
    "The computer uses a slightly different, coordinate system. \n",
    "\n",
    "The reason comes from computer history."
   ]
  },
  {
   "cell_type": "markdown",
   "metadata": {},
   "source": [
    "During the early '80s, most computer systems were text-based and did not support graphics. \n",
    "\n",
    "<img src=\"img/apple3screen.png\" alt=\"Drawing\" style=\"width: 400px;\"/>\n",
    "\n",
    "This is an early spreadsheet program run on a 1980s Apple computer. (Wikimedia Commons)\n",
    "\n",
    "When positioning text on the screen, programmers started at the top, calling it line 1, and continued *down*.\n",
    "\n",
    "i.e. Items the further down the screen an item appeared, the *higher* the number of its vertical index. \n",
    "\n"
   ]
  },
  {
   "cell_type": "markdown",
   "metadata": {},
   "source": [
    "This resulted in the coordinate system shown below.\n",
    "<br>(0,0) is in the top-left corner\n",
    "The y coordinate becomes more positive, lower down the screen.\n",
    "\n",
    "<img src=\"img/Computer_coordinates_2D.png\" alt=\"Drawing\" style=\"width: 400px;\"/>"
   ]
  },
  {
   "cell_type": "markdown",
   "metadata": {},
   "source": [
    "Computer technology progressed to being able to control individual pixels for graphics.\n",
    "\n",
    "However, the text-based coordinate system stuck."
   ]
  },
  {
   "cell_type": "markdown",
   "metadata": {},
   "source": [
    "__So remember, when considering the coordinates of drawn items:__\n",
    "- __(0,0) is in the top-left corner__\n",
    "- __the y coordinate becomes more positive, lower down the screen.__"
   ]
  },
  {
   "cell_type": "markdown",
   "metadata": {
    "collapsed": true
   },
   "source": [
    "## Animating Drawn Objects\n",
    "\n",
    "We are going to animate one object in the aquarium.\n",
    "\n",
    "<img src=\"img/shapes_moving.gif\" alt=\"Drawing\" style=\"width: 400px;\"/>"
   ]
  },
  {
   "cell_type": "markdown",
   "metadata": {},
   "source": [
    "### Velocity\n",
    "Consider a circle.\n",
    "\n",
    "The two numbers in () parentheses refer to the position of the centre of the circle.\n",
    "\n",
    "    pygame.draw.circle(window, black, (100, 50), 20)\n",
    "\n",
    "This circle will be drawn at:\n",
    "- x coordinate 100\n",
    "- y coordinate 50\n"
   ]
  },
  {
   "cell_type": "markdown",
   "metadata": {},
   "source": [
    "Each time the game loops, the circle will be drawn at (100,50).\n",
    "\n",
    "Until those numbers change, the circle will not move."
   ]
  },
  {
   "cell_type": "markdown",
   "metadata": {},
   "source": [
    "To move the circle:\n",
    "- use a variable, instead of a number, for the x and y coodinates\n",
    "- change the value of the variable each time the code loops"
   ]
  },
  {
   "cell_type": "markdown",
   "metadata": {},
   "source": [
    "For example, to move the circle 1 pixel to the right each time the code loops (velcity = +1 pixel per timestep):\n",
    "\n",
    "##### OUTSIDE THE GAME LOOP\n",
    "Initial x coordinate of the circle\n",
    "    \n",
    "    x_pos = 100\n",
    "\n",
    "    \n",
    "##### INSIDE THE GAME LOOP\n",
    "Draw the circle.\n",
    "\n",
    "    pygame.draw.circle(window, black, (x_pos, 50), 20)\n",
    "    \n",
    "Update the x coordinate.\n",
    "\n",
    "    x_pos += 1\n",
    "\n",
    "\n"
   ]
  },
  {
   "cell_type": "markdown",
   "metadata": {},
   "source": [
    "Add the initial x coordinate of the circle to your list of variables. of  code to your program.\n",
    "\n",
    "##### OUTSIDE THE GAME LOOP\n",
    "    # 2. Variables\n",
    "    black = (0,0,0)\n",
    "    white = (255, 255, 255)\n",
    "    red =   (255, 0, 0)\n",
    "    green = (0, 255, 0)\n",
    "    blue =  (0, 0, 255)\n",
    "    purple = (100, 0, 100)\n",
    "    x_pos = 100\n",
    "        \n"
   ]
  },
  {
   "cell_type": "markdown",
   "metadata": {},
   "source": [
    "##### INSIDE THE GAME LOOP \n",
    "If you already have a circle in your aquarium, edit our code to include the variable `x_pos`. \n",
    "\n",
    "If you do not have a circle, add one now. \n",
    "\n",
    "Update the variable `x_pos` each time the code loops.\n",
    "\n",
    "    # 5.1 Draw Circle\n",
    "    pygame.draw.circle(window, black, (x_pos, 50), 20)\n",
    "    \n",
    "    # 5.3 Update circle position\n",
    "    x_pos += 1"
   ]
  },
  {
   "cell_type": "markdown",
   "metadata": {},
   "source": [
    "To move the box faster, increase `x_pos` by a greater number each time the code loops:\n",
    "\n",
    "    x_pos += 5"
   ]
  },
  {
   "cell_type": "markdown",
   "metadata": {},
   "source": [
    "If we expand this code and increase *both* the x and y coordinate of the circle it will move both down and right:\n",
    "\n",
    "##### OUTSIDE THE GAME LOOP\n",
    "    x_pos = 100\n",
    "    y_pos = 50\n",
    "    \n",
    " \n",
    "##### INSIDE THE GAME LOOP \n",
    "    # 5.1 Draw Circle\n",
    "    pygame.draw.circle(window, black, (x_pos, y_pos), 20)\n",
    "    \n",
    "    # 5.3 Update circle position\n",
    "    x_pos += 5\n",
    "    y_pos += 1"
   ]
  },
  {
   "cell_type": "markdown",
   "metadata": {},
   "source": [
    "We can express the circles:\n",
    "- position\n",
    "- velocity (the direction and amount it moves by) \n",
    "\n",
    "as *lists* or *vectors*.\n",
    "\n"
   ]
  },
  {
   "cell_type": "markdown",
   "metadata": {},
   "source": [
    "Recall __Example: Change in Position: (Representing Vectors using Lists)__  from last week's seminar.\n",
    "\n",
    "<img src=\"img/3d_position_vector.png\" alt=\"Drawing\" style=\"width: 300px;\"/>"
   ]
  },
  {
   "cell_type": "markdown",
   "metadata": {},
   "source": [
    "We update the value of the postion (r), by adding each component of the velocity (v)."
   ]
  },
  {
   "cell_type": "code",
   "execution_count": 4,
   "metadata": {
    "collapsed": true
   },
   "outputs": [],
   "source": [
    "r = [1, 2, 3]\n",
    "v = [3.2, 1.1, 6.0]\n",
    "\n",
    "r = [(r[0]+v[0]), \n",
    "     (r[1]+v[1]), \n",
    "     (r[2]+v[2])]"
   ]
  },
  {
   "cell_type": "markdown",
   "metadata": {},
   "source": [
    "Edit section 3.1 and 5.1 of your program to express the circle's:\n",
    "- position\n",
    "- velocity\n",
    "\n",
    "as lists."
   ]
  },
  {
   "cell_type": "markdown",
   "metadata": {},
   "source": [
    "\n",
    "##### OUTSIDE THE GAME LOOP    \n",
    "    circle_vel = [5, 1]\n",
    "    circle_pos = [100, 50]   \n",
    " \n",
    "##### INSIDE THE GAME LOOP \n",
    "    # 5.1 Draw Circle\n",
    "    pygame.draw.circle(window, black, (x_pos, y_pos), 20)\n",
    "    \n",
    "    # 5.3 Update circle position\n",
    "    circle_pos[0] += circle_vel[0]  \n",
    "    circle_pos[1] += circle_vel[1]  "
   ]
  },
  {
   "cell_type": "markdown",
   "metadata": {},
   "source": [
    "We can also express the radius of the circle as a variable."
   ]
  },
  {
   "cell_type": "markdown",
   "metadata": {},
   "source": [
    "##### OUTSIDE THE GAME LOOP    \n",
    "        radius = 20  \n",
    "\n",
    "##### INSIDE THE GAME LOOP \n",
    "        # 5.1 Draw Circle\n",
    "        pygame.draw.circle(window, black, (x_pos, y_pos), radius)\n"
   ]
  },
  {
   "cell_type": "markdown",
   "metadata": {},
   "source": [
    "*What is the advantage of storing the velocity and radius (as well as the position) as variables? *"
   ]
  },
  {
   "cell_type": "markdown",
   "metadata": {},
   "source": [
    "### Collisions\n",
    "When the circle reaches the edge of the screen it will keep going. \n",
    "\n",
    "In this section, we will learn how to make shapes interact with the environment. \n",
    "\n",
    "<img src=\"img/aquarium_bump.gif\" alt=\"Drawing\" style=\"width: 400px;\"/>\n",
    "\n",
    "i.e. We will make your \"fish\" bounce off the sides of your \"aquarium\" instead of swimming straight through the wall. \n",
    "\n"
   ]
  },
  {
   "cell_type": "markdown",
   "metadata": {},
   "source": [
    "### Collisions with the Environment \n",
    "\n",
    "To reverse the direction so the circle travels towards the left, circle_vel[0] needs to change from 5 to -5.\n",
    "\n",
    "The circle has reached the right side of the screen when circle_pos[0] is greater than the width of the screen.\n",
    "\n"
   ]
  },
  {
   "cell_type": "markdown",
   "metadata": {},
   "source": [
    "Each time the cose loops, the program must:\n",
    "- perform this check\n",
    "- reverse the direction of travel if an edge has been reached.\n",
    "\n",
    "We can perform this check using `if` and `else`...\n",
    "\n"
   ]
  },
  {
   "cell_type": "markdown",
   "metadata": {},
   "source": [
    "In Section 3. we set the width (600 pixels) and height (400 pixels) of the game window. \n",
    "\n",
    "     # 3. Launch a game window\n",
    "    window = pygame.display.set_mode((600, 400))\n",
    "    \n",
    "So to reverse the direction of travel if an edge has been reached...\n",
    "\n",
    "\n",
    "    \n",
    "    "
   ]
  },
  {
   "cell_type": "code",
   "execution_count": 6,
   "metadata": {},
   "outputs": [
    {
     "ename": "NameError",
     "evalue": "name 'pygame' is not defined",
     "output_type": "error",
     "traceback": [
      "\u001b[0;31m---------------------------------------------------------------------------\u001b[0m",
      "\u001b[0;31mNameError\u001b[0m                                 Traceback (most recent call last)",
      "\u001b[0;32m<ipython-input-6-1623361ab200>\u001b[0m in \u001b[0;36m<module>\u001b[0;34m()\u001b[0m\n\u001b[1;32m      1\u001b[0m \u001b[0;31m# 5.1 Draw Circle\u001b[0m\u001b[0;34m\u001b[0m\u001b[0;34m\u001b[0m\u001b[0m\n\u001b[0;32m----> 2\u001b[0;31m \u001b[0mpygame\u001b[0m\u001b[0;34m.\u001b[0m\u001b[0mdraw\u001b[0m\u001b[0;34m.\u001b[0m\u001b[0mcircle\u001b[0m\u001b[0;34m(\u001b[0m\u001b[0mwindow\u001b[0m\u001b[0;34m,\u001b[0m \u001b[0mblack\u001b[0m\u001b[0;34m,\u001b[0m \u001b[0;34m(\u001b[0m\u001b[0mx_pos\u001b[0m\u001b[0;34m,\u001b[0m \u001b[0my_pos\u001b[0m\u001b[0;34m)\u001b[0m\u001b[0;34m,\u001b[0m \u001b[0;36m20\u001b[0m\u001b[0;34m)\u001b[0m\u001b[0;34m\u001b[0m\u001b[0m\n\u001b[0m\u001b[1;32m      3\u001b[0m \u001b[0;34m\u001b[0m\u001b[0m\n\u001b[1;32m      4\u001b[0m \u001b[0;34m\u001b[0m\u001b[0m\n\u001b[1;32m      5\u001b[0m \u001b[0;31m# 5.2 Reverse direction of travel if edge is reached\u001b[0m\u001b[0;34m\u001b[0m\u001b[0;34m\u001b[0m\u001b[0m\n",
      "\u001b[0;31mNameError\u001b[0m: name 'pygame' is not defined"
     ]
    }
   ],
   "source": [
    "# 5.1 Draw Circle\n",
    "pygame.draw.circle(window, black, (x_pos, y_pos), 20)\n",
    "\n",
    "\n",
    "# 5.2 Reverse direction of travel if edge is reached\n",
    "if circle_pos[0] > (600-radius) or circle_pos[0] < radius:\n",
    "    circle_vel[0] *= -1\n",
    "if circle_pos[1] > (400-radius) or circle_pos[1] < radius:\n",
    "    circle_vel[1] *= -1\n",
    "\n",
    "    \n",
    "# 5.3 Update circle position\n",
    "circle_pos[0] += circle_vel[0]  \n",
    "circle_pos[1] += circle_vel[1] "
   ]
  },
  {
   "cell_type": "markdown",
   "metadata": {},
   "source": [
    "__*What is the advantage of storing the velocity and radius (as well as the position) as variables? *__\n",
    "\n",
    "By using a variable to represent the velocity we can easily change the value in response to an event. \n",
    "\n",
    "By using a variable to represent the radius, the code is more *readable\".\n",
    "\n"
   ]
  },
  {
   "cell_type": "markdown",
   "metadata": {},
   "source": [
    "##### Try it yourself\n",
    "\n",
    "1. If you haven't done so already, update your code to include sections 5.1 - 5.3.\n",
    "\n",
    "1. Add variables to represent the *width* and *height* of the screen to the list of variables (Section 2. of your program). \n",
    "<br>Make Section 5.3 of your program more *readable* by replacing the numerical values for height and width with variable names. "
   ]
  },
  {
   "cell_type": "markdown",
   "metadata": {},
   "source": [
    "### Animating Multiple Objects\n",
    "\n",
    "There is more than one object in the aquarium. \n",
    "\n",
    "How do we animate multiple objects at the same time? \n",
    "\n",
    "<img src=\"img/shapes_moving.gif\" alt=\"Drawing\" style=\"width: 400px;\"/>\n"
   ]
  },
  {
   "cell_type": "code",
   "execution_count": null,
   "metadata": {
    "collapsed": true
   },
   "outputs": [],
   "source": [
    "The display updates, once per timestep.\n",
    "    \n",
    "    # 6 Update display\n",
    "    pygame.display.update()\n",
    "    \n"
   ]
  },
  {
   "cell_type": "markdown",
   "metadata": {},
   "source": [
    "### Test-Yourself Exercise: Collisions with other objects. \n",
    "\n",
    "<img src=\"img/dolphin_crash.gif\" alt=\"Drawing\" style=\"width: 400px;\"/>\n",
    "\n"
   ]
  },
  {
   "cell_type": "markdown",
   "metadata": {},
   "source": [
    "### Test-Yourself Exercise: Game Set-up. \n",
    "\n",
    "<img src=\"img/dolphin_crash.gif\" alt=\"Drawing\" style=\"width: 400px;\"/>"
   ]
  },
  {
   "cell_type": "code",
   "execution_count": null,
   "metadata": {
    "collapsed": true
   },
   "outputs": [],
   "source": []
  }
 ],
 "metadata": {
  "kernelspec": {
   "display_name": "ILAS_python_game_env",
   "language": "python",
   "name": "ilas_python_game_env"
  },
  "language_info": {
   "codemirror_mode": {
    "name": "ipython",
    "version": 3
   },
   "file_extension": ".py",
   "mimetype": "text/x-python",
   "name": "python",
   "nbconvert_exporter": "python",
   "pygments_lexer": "ipython3",
   "version": "3.6.2"
  }
 },
 "nbformat": 4,
 "nbformat_minor": 2
}
