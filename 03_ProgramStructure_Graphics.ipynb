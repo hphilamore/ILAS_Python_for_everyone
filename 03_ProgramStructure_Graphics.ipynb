{
 "cells": [
  {
   "cell_type": "markdown",
   "metadata": {
    "slideshow": {
     "slide_type": "slide"
    }
   },
   "source": [
    "# Please download the new class notes.\n",
    "### Step 1 : Navigate to the directory where your files are stored.  \n",
    "Open a terminal. \n",
    "\n",
    "Using `cd`, navigate to *inside* the ILAS_Python_for_engineers folder on your computer. \n",
    "\n",
    "### Step 3 : Update the course notes by downloading the changes\n",
    "In the terminal type:\n",
    "\n",
    ">`git add -A`\n",
    "\n",
    ">`git commit -m \"commit\"`\n",
    "\n",
    ">`git fetch upstream`\n",
    "\n",
    ">`git merge -X theirs upstream/master`\n"
   ]
  },
  {
   "cell_type": "markdown",
   "metadata": {
    "slideshow": {
     "slide_type": "slide"
    }
   },
   "source": [
    "You must have `pygame` installed to complete this class."
   ]
  },
  {
   "cell_type": "markdown",
   "metadata": {
    "slideshow": {
     "slide_type": "slide"
    }
   },
   "source": [
    "<a id='InstallingPygame'></a>\n",
    "## Installing Pygame\n",
    "To install pygame...\n",
    "\n",
    "##### On Windows \n",
    "\n",
    "1. Open the Anaconda Prompt from the terminal.\n",
    "<p align=\"center\">\n",
    "  <img src=\"img/anaconda_prompt.png\" alt=\"Drawing\" style=\"width: 300px;\"/>\n",
    "</p>\n",
    "\n",
    "1. The window that opens will look like the command line. In the window type the following code then press 'Enter':\n",
    ">`conda install -c anaconda pip`\n",
    "\n",
    "1. When the installation completes type the following code then press 'Enter':\n",
    ">`pip install pygame`\n",
    "\n",
    "\n",
    "\n",
    "\n"
   ]
  },
  {
   "cell_type": "markdown",
   "metadata": {
    "slideshow": {
     "slide_type": "slide"
    }
   },
   "source": [
    "##### On mac\n",
    "\n",
    "1. Open a terminal. \n",
    "\n",
    "1. Type the following code then press 'Enter':\n",
    ">`conda install -c anaconda pip`\n",
    "\n",
    "1. When the installation completes type the following code then press 'Enter':\n",
    ">`pip install pygame`"
   ]
  },
  {
   "cell_type": "markdown",
   "metadata": {
    "slideshow": {
     "slide_type": "slide"
    }
   },
   "source": [
    "To check the installation has worked type:\n",
    ">`import pygame` \n",
    "\n",
    "in Spyder or Jupyter notebook and run the code. If no error is generated you have installed pygame successfully. "
   ]
  },
  {
   "cell_type": "markdown",
   "metadata": {
    "collapsed": true,
    "slideshow": {
     "slide_type": "slide"
    }
   },
   "source": [
    "# Program Structure and Graphics\n",
    "\n",
    "\n",
    "\n"
   ]
  },
  {
   "cell_type": "markdown",
   "metadata": {
    "slideshow": {
     "slide_type": "slide"
    }
   },
   "source": [
    "### Lesson Goal\n",
    "\n",
    "Build an animated aquarium 水族館.\n",
    "\n",
    "<p align=\"center\">\n",
    "  <img src=\"img/aquarium.gif\" alt=\"Drawing\" style=\"width: 600px;\"/>\n",
    "</p>\n",
    "http://titusalexius.co.vu/post/149466261064\n",
    "\n",
    "\n",
    "\n",
    "\n",
    "\n",
    "\n",
    "\n",
    "\n"
   ]
  },
  {
   "cell_type": "markdown",
   "metadata": {
    "slideshow": {
     "slide_type": "slide"
    }
   },
   "source": [
    "Your aquarium will contain \"fish\" that move and interact with their environment.\n",
    "\n",
    "<p align=\"center\">\n",
    "  <img src=\"img/shapes_moving.gif\" alt=\"Drawing\" style=\"width: 400px;\"/>\n",
    "</p>\n"
   ]
  },
  {
   "cell_type": "markdown",
   "metadata": {
    "slideshow": {
     "slide_type": "slide"
    }
   },
   "source": [
    "### Fundamental programming concepts\n",
    " - Generic program structure\n",
    " - Animated computer graphics"
   ]
  },
  {
   "cell_type": "markdown",
   "metadata": {
    "slideshow": {
     "slide_type": "slide"
    }
   },
   "source": [
    "## Program Structure: The Game loop"
   ]
  },
  {
   "cell_type": "markdown",
   "metadata": {},
   "source": [
    "Now that you have learnt about loops, we will learn how to use loops to construct the basic structure on which you will base your program.\n",
    "\n"
   ]
  },
  {
   "cell_type": "markdown",
   "metadata": {
    "slideshow": {
     "slide_type": "slide"
    }
   },
   "source": [
    "We considered the __game loop__ and how a `while(1)` loop can be used to loop indefnintely until the user decides to quit.\n",
    "\n",
    "Today we will learn how we can use the imported `pygame` package to simplify this structure.\n",
    "\n",
    "<p align=\"center\">\n",
    "  <img src=\"img/game_loop.png\" alt=\"Drawing\" style=\"width: 300px;\"/>\n",
    "</p>"
   ]
  },
  {
   "cell_type": "markdown",
   "metadata": {
    "collapsed": true,
    "slideshow": {
     "slide_type": "slide"
    }
   },
   "source": [
    "We also learnt about __nested loops__ (a loop within another loop).\n",
    "\n",
    "(If you need to remind yourself about nested loops, look at the *Printing a Pattern* example from the notes: 01b_ControlFlow_BasicInput.ipynb)\n",
    "\n",
    "We will focus on the \"Draw everything\" block in the game loop...\n",
    "\n",
    "\n",
    "\n"
   ]
  },
  {
   "cell_type": "markdown",
   "metadata": {
    "slideshow": {
     "slide_type": "slide"
    }
   },
   "source": [
    "We will construct a __graphics loop__ in this block that:\n",
    "- draws with all the visual elements of the game\n",
    "- updates the display at the frame rate of the game\n",
    "\n",
    "<p align=\"center\">\n",
    "  <img src=\"img/graphics_loop.png\" alt=\"Drawing\" style=\"width: 300px;\"/>\n",
    "</p>"
   ]
  },
  {
   "cell_type": "markdown",
   "metadata": {
    "slideshow": {
     "slide_type": "slide"
    }
   },
   "source": [
    "## Setting up\n",
    "\n",
    "Open a new file in Spyder.\n",
    "\n",
    "Type:"
   ]
  },
  {
   "cell_type": "code",
   "execution_count": 1,
   "metadata": {},
   "outputs": [],
   "source": [
    "import pygame"
   ]
  },
  {
   "cell_type": "markdown",
   "metadata": {},
   "source": [
    "Run the code...\n",
    "\n"
   ]
  },
  {
   "cell_type": "markdown",
   "metadata": {
    "slideshow": {
     "slide_type": "slide"
    }
   },
   "source": [
    "When prompted, save your code as a .py file\n",
    "\n",
    "__Important: DO NOT call your file pygame.py!__\n",
    "\n",
    "`import pygame`\n",
    "<br>Tells your computer to search for a *library file* called pygame.\n",
    "<br>If you create a file named pygame, the computer will try to use this file instead. \n",
    "\n"
   ]
  },
  {
   "cell_type": "markdown",
   "metadata": {
    "slideshow": {
     "slide_type": "slide"
    }
   },
   "source": [
    "If an error is generated saying the command is not recognised, you may need to install pygame.\n",
    "\n"
   ]
  },
  {
   "cell_type": "markdown",
   "metadata": {
    "slideshow": {
     "slide_type": "slide"
    }
   },
   "source": [
    "Type or copy and paste the following code, underneath `import pygame` in your program."
   ]
  },
  {
   "cell_type": "code",
   "execution_count": null,
   "metadata": {
    "collapsed": true
   },
   "outputs": [],
   "source": [
    "import sys\n",
    "\n",
    "# 1. Initailise the pygame library\n",
    "pygame.init()"
   ]
  },
  {
   "cell_type": "markdown",
   "metadata": {
    "slideshow": {
     "slide_type": "slide"
    }
   },
   "source": [
    "The comments in this tutorial are numbered to help you to place blocks of code in the correct order in your program.\n",
    "\n"
   ]
  },
  {
   "cell_type": "markdown",
   "metadata": {
    "slideshow": {
     "slide_type": "slide"
    }
   },
   "source": [
    "So, your whole program should now look like this:\n",
    "\n",
    "    import pygame \n",
    "    import sys\n",
    "\n",
    "    # 1. Initailise the pygame library\n",
    "    pygame.init()"
   ]
  },
  {
   "cell_type": "markdown",
   "metadata": {
    "slideshow": {
     "slide_type": "slide"
    }
   },
   "source": [
    "##### What does this code do?\n",
    "\n",
    ">`import sys`\n",
    "\n",
    "`sys` is another python package that enables your program to talk to other parts of the computer *sys*-tem.\n",
    "\n",
    ">`pygame.init()`\n",
    "\n",
    "This command enables you to use the functions and constants in the pygame library.\n",
    "\n",
    "(This is specific to pygame, other libraries do not usually require the command \"package_name\"`.init()`)\n",
    "\n"
   ]
  },
  {
   "cell_type": "markdown",
   "metadata": {
    "slideshow": {
     "slide_type": "slide"
    }
   },
   "source": [
    "## The Game Window\n",
    "\n",
    "First step : use pygame to launch a *window* in which the game will be played.\n",
    "\n",
    "This is actually quite a complex procedure; our code has to \"talk to\" other parts of the computer to launch a window.\n",
    "\n",
    "This is an example of where imported packages are useful for simplifying tasks.\n",
    "\n",
    "The code to launch a window is stored as a function in the Pgyame files on your computer. \n",
    "\n"
   ]
  },
  {
   "cell_type": "markdown",
   "metadata": {
    "slideshow": {
     "slide_type": "slide"
    }
   },
   "source": [
    "To use this function, copy and paste the following code at the end of your program:"
   ]
  },
  {
   "cell_type": "code",
   "execution_count": null,
   "metadata": {
    "collapsed": true
   },
   "outputs": [],
   "source": [
    "# 3. Launch a game window\n",
    "window = pygame.display.set_mode((600, 400))"
   ]
  },
  {
   "cell_type": "markdown",
   "metadata": {
    "slideshow": {
     "slide_type": "slide"
    }
   },
   "source": [
    "##### What does this code do?\n",
    "It creates a window with size 600 x 400 pixels.\n",
    "<br>This window will contain your computer game.\n",
    "\n",
    "\n",
    "\n"
   ]
  },
  {
   "cell_type": "markdown",
   "metadata": {
    "slideshow": {
     "slide_type": "slide"
    }
   },
   "source": [
    "Recall...\n",
    "<br>The `import` statement must appear before the use of the package in the code.  \n",
    "\n",
    "        import pygame \n",
    "\n",
    "After this, any function in `pygame` can be called as:\n",
    "\n",
    "        `pygame.function()`\n",
    "        \n",
    "and, any constant in `pygame` can be called as:\n",
    "\n",
    "        `pygame.constant`."
   ]
  },
  {
   "cell_type": "markdown",
   "metadata": {
    "slideshow": {
     "slide_type": "slide"
    }
   },
   "source": [
    "*Why does the command to import the `set_mode` function contain two dots?*\n",
    "\n",
    "`pygame.display.set_mode((600, 400))`\n",
    "\n",
    "The files that store the contents of pygame are neatly arranged into a system of __sub-packages__.\n",
    "\n",
    "We are telling the computer to use:\n",
    " - the function `set_mode`...\n",
    " - ...from the sub-package `display`...\n",
    " - ...from the package `pygame`.\n",
    " \n",
    " <img src=\"img/directory_tree_pygame.png\" alt=\"Drawing\" style=\"width: 200px;\"/>"
   ]
  },
  {
   "cell_type": "markdown",
   "metadata": {
    "slideshow": {
     "slide_type": "slide"
    }
   },
   "source": [
    "<img src=\"img/1_make_window.png\" alt=\"Drawing\" style=\"width: 400px;\"/>"
   ]
  },
  {
   "cell_type": "markdown",
   "metadata": {
    "slideshow": {
     "slide_type": "-"
    }
   },
   "source": [
    "Run the code.\n",
    "\n",
    "Notice that the window:\n",
    "\n",
    "appears, then disappears again (if running the code from the command line).\n",
    "\n",
    "OR\n",
    "\n",
    "opens, but does not allow you to close the window (if running the code in Spyder).\n",
    "\n"
   ]
  },
  {
   "cell_type": "markdown",
   "metadata": {
    "slideshow": {
     "slide_type": "slide"
    }
   },
   "source": [
    "To stop the program running, type __one__ of the following commands in the IPython console / output window and press enter:\n",
    "- `exit`\n",
    "- `quit`\n",
    "- `Ctrl-D`"
   ]
  },
  {
   "cell_type": "markdown",
   "metadata": {
    "slideshow": {
     "slide_type": "slide"
    }
   },
   "source": [
    "We need code to:\n",
    " - keep the window open\n",
    " - allow us to close it when we want to\n",
    " \n",
    "For this, we need the main __game loop__."
   ]
  },
  {
   "cell_type": "markdown",
   "metadata": {
    "collapsed": true,
    "slideshow": {
     "slide_type": "slide"
    }
   },
   "source": [
    "## The main game loop\n",
    "\n",
    "This is the most complex part of the program.\n",
    "\n",
    "A *complete understanding* of it isn't needed yet. \n",
    "\n",
    "An idea of what it does *is necesary*.\n",
    "\n",
    "<p align=\"center\">\n",
    "  <img src=\"img/game_loop.png\" alt=\"Drawing\" style=\"width: 300px;\"/>\n",
    "</p>\n",
    "\n",
    "\n",
    "\n"
   ]
  },
  {
   "cell_type": "markdown",
   "metadata": {
    "slideshow": {
     "slide_type": "slide"
    }
   },
   "source": [
    "\n",
    "Type or copy and paste the following code at the end of your program."
   ]
  },
  {
   "cell_type": "code",
   "execution_count": null,
   "metadata": {
    "collapsed": true
   },
   "outputs": [],
   "source": [
    "# 4. Set up the main game loop\n",
    "while True:\n",
    "    event = pygame.event.poll()\n",
    "    \n",
    "    if event.type == pygame.QUIT:        \n",
    "        pygame.quit()\n",
    "        sys.exit()    \n"
   ]
  },
  {
   "cell_type": "markdown",
   "metadata": {
    "slideshow": {
     "slide_type": "slide"
    }
   },
   "source": [
    "##### What does this code do?\n",
    ">```Python\n",
    "while True:\n",
    "```\n",
    "\n",
    "The `while(1)` or `while(True)` loop : \"do what is written next, until told to stop\".\n",
    "\n",
    "It tells the computer to do everything that is:\n",
    "1. written after `while True:`\n",
    "1. *indented* (moved to the right)\n",
    "*repeatedly*, until we tell it to __stop__."
   ]
  },
  {
   "cell_type": "markdown",
   "metadata": {
    "slideshow": {
     "slide_type": "slide"
    }
   },
   "source": [
    "\n",
    ">```Python\n",
    "event = pygame.event.poll()\n",
    "if event.type == pygame.QUIT:`\n",
    "```\n",
    "\n",
    "<br>\n",
    "`event = pygame.event.poll()` : checks if an \"event\" has happened.\n",
    "<br>e.g. a key on the keyboard being pressed or the mouse being clicked\n",
    "\n",
    "`event.type == pygame.QUIT` : checks if the event type `pygame.QUIT` has happened. \n",
    "<br>`pygame.QUIT` is triggered when we click on the x button in the top left corner of the game window.   \n",
    "\n",
    "If `pygame.QUIT` is triggered..."
   ]
  },
  {
   "cell_type": "markdown",
   "metadata": {
    "slideshow": {
     "slide_type": "slide"
    }
   },
   "source": [
    "```Python\n",
    "pygame.quit()\n",
    "sys.exit()\n",
    " ```\n",
    " \n",
    "<br>\n",
    "`pygame.quit()` :  stops the game\n",
    "\n",
    "`sys.exit()` :  exits the game window\n"
   ]
  },
  {
   "cell_type": "markdown",
   "metadata": {
    "slideshow": {
     "slide_type": "slide"
    }
   },
   "source": [
    "Run your code again.\n",
    "\n",
    "The window should appear again. \n",
    "\n",
    "Click on the x button in the top left of the window to close it. \n"
   ]
  },
  {
   "cell_type": "markdown",
   "metadata": {
    "slideshow": {
     "slide_type": "slide"
    }
   },
   "source": [
    "A note on using Spyder...\n",
    "\n",
    "Depending on your operating system, you may *also* need to type __one__ of the following commands in the IPython console / output window and press enter to close the window:\n",
    "- `exit`\n",
    "- `quit`\n",
    "- `Ctrl-D`\n",
    "\n",
    "This is not required if running the code from the command line."
   ]
  },
  {
   "cell_type": "markdown",
   "metadata": {
    "slideshow": {
     "slide_type": "slide"
    }
   },
   "source": [
    "## Processing Each Frame\n",
    "The game loops repeats once each time setp or frame.\n",
    "\n",
    "In general, your programs will be easier to read and understand if the operations to:\n",
    "- Get user input\n",
    "- Calculate position, scores etc.\n",
    "- Draw eveything \n",
    "- (Close program)\n",
    "\n",
    "are grouped together in steps. \n",
    "\n",
    "i.e. Don't do some calculations, some drawing, some more calculations, some more drawing. "
   ]
  },
  {
   "cell_type": "markdown",
   "metadata": {
    "collapsed": true,
    "slideshow": {
     "slide_type": "slide"
    }
   },
   "source": [
    "## The event processing loop\n",
    "Consider the lines:\n",
    "\n",
    "        event = pygame.event.poll()\n",
    "        if event.type == pygame.QUIT:        \n",
    "            pygame.quit()\n",
    "            sys.exit()  \n",
    "\n",
    "These lines are the __event processing loop__.\n"
   ]
  },
  {
   "cell_type": "markdown",
   "metadata": {
    "slideshow": {
     "slide_type": "slide"
    }
   },
   "source": [
    "The __event processing loop__ is the block of the game loop that \"Gets user input\".\n",
    "\n",
    "<p align=\"center\">\n",
    "  <img src=\"img/game_loop.png\" alt=\"Drawing\" style=\"width: 300px;\"/>\n",
    "</p>"
   ]
  },
  {
   "cell_type": "markdown",
   "metadata": {},
   "source": [
    "The event processing loop \"Gets user input\" once per timestep.\n",
    "\n",
    "Currently our program only checks for one event type:\n",
    "\n",
    "    if event.type == pygame.QUIT:        \n",
    "                pygame.quit()\n",
    "                sys.exit() \n",
    "\n",
    "A typical program checks for multiple possible events."
   ]
  },
  {
   "cell_type": "markdown",
   "metadata": {
    "slideshow": {
     "slide_type": "slide"
    }
   },
   "source": [
    "Multipe events should be grouped together in a single loop. \n",
    "\n",
    "A __for loop__ to check for each event once per timestep. \n",
    "\n",
    "An if statement is used to check whether each event has occurred. \n"
   ]
  },
  {
   "cell_type": "markdown",
   "metadata": {
    "slideshow": {
     "slide_type": "slide"
    }
   },
   "source": [
    "To demonstrate this, let's briefly look at some other events the computer can recognise.\n",
    "\n",
    "We will study these events in greater detail in a class dedicated to physical interfaces.\n",
    "\n"
   ]
  },
  {
   "cell_type": "markdown",
   "metadata": {
    "slideshow": {
     "slide_type": "slide"
    }
   },
   "source": [
    "Copy the following code.\n",
    "<br> Paste it at the end of your program.\n",
    "<br>The pasted code must be at the same *indentation level* (distance from the left side of the screen) as the last `if` statement:\n",
    "\n",
    "        elif event.type == pygame.MOUSEBUTTONDOWN:\n",
    "            print(\"User pressed a mouse button\")"
   ]
  },
  {
   "cell_type": "markdown",
   "metadata": {
    "slideshow": {
     "slide_type": "slide"
    }
   },
   "source": [
    "Your main game loop should now look like this:\n",
    "\n",
    "        # 4. Set up the main game loop\n",
    "        while True:\n",
    "            event = pygame.event.poll()\n",
    "            if event.type == pygame.QUIT:        \n",
    "                pygame.quit()\n",
    "                sys.exit() \n",
    "            elif event.type == pygame.MOUSEBUTTONDOWN:\n",
    "                print(\"User pressed a mouse button\")"
   ]
  },
  {
   "cell_type": "markdown",
   "metadata": {
    "slideshow": {
     "slide_type": "slide"
    }
   },
   "source": [
    "This code checks if a mouse button has been pressed and prints a message."
   ]
  },
  {
   "cell_type": "markdown",
   "metadata": {
    "slideshow": {
     "slide_type": "slide"
    }
   },
   "source": [
    "Run your code.\n",
    "\n",
    "When the game launches try clicking on the game window using the mouse.\n",
    "\n",
    "View the output in Spyder (or whichever IDE you are using).\n"
   ]
  },
  {
   "cell_type": "markdown",
   "metadata": {
    "slideshow": {
     "slide_type": "slide"
    }
   },
   "source": [
    "\"Comment out\" or delete the lines for keyboard and mouse events.\n",
    "\n",
    "Recall, commented lines begin with `#` and are not read when the program is run.\n",
    "\n",
    "You can do this by selecting the lines to comment and pressing 'Ctrl' + '/'\n",
    "<br>(Note, this keyboard shortcut may vary)."
   ]
  },
  {
   "cell_type": "code",
   "execution_count": 1,
   "metadata": {
    "slideshow": {
     "slide_type": "slide"
    }
   },
   "outputs": [],
   "source": [
    "# elif event.type == pygame.MOUSEBUTTONDOWN:\n",
    "#     print(\"User pressed a mouse button\")"
   ]
  },
  {
   "cell_type": "markdown",
   "metadata": {
    "collapsed": true,
    "slideshow": {
     "slide_type": "slide"
    }
   },
   "source": [
    "## Graphics\n",
    "All graphics are redrawn each loop.\n",
    "\n",
    "After all items have been drawn the display is updated, making the items visible.\n",
    "\n",
    "Doing this as the final step avoids generating a display that \"jitters\" as individual drawn elements update a fraction of a second out of time with each other.\n",
    "\n"
   ]
  },
  {
   "cell_type": "markdown",
   "metadata": {
    "slideshow": {
     "slide_type": "slide"
    }
   },
   "source": [
    "To demonstrate how to draw graphics and update the display, let's add a colour background to the game window."
   ]
  },
  {
   "cell_type": "markdown",
   "metadata": {
    "slideshow": {
     "slide_type": "slide"
    }
   },
   "source": [
    "### Changing the window colour\n",
    "\n",
    "Copy and the code from the box below."
   ]
  },
  {
   "cell_type": "code",
   "execution_count": 3,
   "metadata": {
    "scrolled": true,
    "slideshow": {
     "slide_type": "subslide"
    }
   },
   "outputs": [
    {
     "ename": "NameError",
     "evalue": "name 'window' is not defined",
     "output_type": "error",
     "traceback": [
      "\u001b[0;31m---------------------------------------------------------------------------\u001b[0m",
      "\u001b[0;31mNameError\u001b[0m                                 Traceback (most recent call last)",
      "\u001b[0;32m<ipython-input-3-c392c5ce787d>\u001b[0m in \u001b[0;36m<module>\u001b[0;34m()\u001b[0m\n\u001b[1;32m      1\u001b[0m \u001b[0;31m# 5\u001b[0m\u001b[0;34m\u001b[0m\u001b[0;34m\u001b[0m\u001b[0m\n\u001b[0;32m----> 2\u001b[0;31m \u001b[0mwindow\u001b[0m\u001b[0;34m.\u001b[0m\u001b[0mfill\u001b[0m\u001b[0;34m(\u001b[0m\u001b[0;34m(\u001b[0m\u001b[0;36m255\u001b[0m\u001b[0;34m,\u001b[0m \u001b[0;36m255\u001b[0m\u001b[0;34m,\u001b[0m \u001b[0;36m255\u001b[0m\u001b[0;34m)\u001b[0m\u001b[0;34m)\u001b[0m\u001b[0;34m\u001b[0m\u001b[0m\n\u001b[0m\u001b[1;32m      3\u001b[0m \u001b[0;34m\u001b[0m\u001b[0m\n\u001b[1;32m      4\u001b[0m \u001b[0;31m# 6\u001b[0m\u001b[0;34m\u001b[0m\u001b[0;34m\u001b[0m\u001b[0m\n\u001b[1;32m      5\u001b[0m \u001b[0mpygame\u001b[0m\u001b[0;34m.\u001b[0m\u001b[0mdisplay\u001b[0m\u001b[0;34m.\u001b[0m\u001b[0mupdate\u001b[0m\u001b[0;34m(\u001b[0m\u001b[0;34m)\u001b[0m\u001b[0;34m\u001b[0m\u001b[0m\n",
      "\u001b[0;31mNameError\u001b[0m: name 'window' is not defined"
     ]
    }
   ],
   "source": [
    "# 5 Draw\n",
    "window.fill((255, 255, 255))\n",
    "\n",
    "# 6 Update display\n",
    "pygame.display.update()"
   ]
  },
  {
   "cell_type": "markdown",
   "metadata": {
    "slideshow": {
     "slide_type": "slide"
    }
   },
   "source": [
    "Paste the copied code end of the program.  \n",
    "\n",
    "The pasted code should be at the same *indentation level* (distance from the left side of the screen) as the line:\n",
    "    \n",
    "    if event.type == pygame.QUIT:\n",
    "        \n",
    "In other words, the last part of your program in the code window should look like this:\n",
    "```python\n",
    "    if event.type == pygame.QUIT:    \t\n",
    "        pygame.quit()\n",
    "        sys.exit()\n",
    "\n",
    "    # 5 Draw\n",
    "    window.fill((255, 255, 255))\n",
    "\n",
    "    # 6 Update display\n",
    "    pygame.display.update()\n",
    "\n",
    "```"
   ]
  },
  {
   "cell_type": "markdown",
   "metadata": {
    "slideshow": {
     "slide_type": "slide"
    }
   },
   "source": [
    "##### What does this code do?\n",
    "> `screen.fill((255, 255, 255))` \n",
    "\n",
    "sets the colour of the screen. \n",
    "<br>In the sequence of numbers: `255, 255, 255`:\n",
    "- the first number sets the amout of <font color='red'>red</font>\n",
    "- the second number sets the amout of <font color='green'>green</font> \n",
    "- the third number sets the amout of <font color='blue'>blue</font> \n",
    "that get mixed together to create the colour of the screen.\n",
    "\n",
    "\n",
    "\n"
   ]
  },
  {
   "cell_type": "markdown",
   "metadata": {
    "slideshow": {
     "slide_type": "slide"
    }
   },
   "source": [
    "Each number must be between 0 and 255\n",
    "<br>`(0,0,0)` &nbsp;&nbsp; &nbsp; &nbsp; &nbsp; &nbsp; &nbsp; &nbsp; &nbsp; &nbsp; &nbsp; means black \n",
    "<br>`(255, 255, 255)` &nbsp; &nbsp; means white\n",
    "<br>`(255, 0, 0)` &nbsp; &nbsp; &nbsp; &nbsp; &nbsp; &nbsp; means <font color='red'>red</font>\n",
    "<br>`(0, 255, 0)` &nbsp; &nbsp; &nbsp; &nbsp; &nbsp; &nbsp; means <font color='green'>green</font>\n",
    "<br>`(0, 0, 255)` &nbsp; &nbsp; &nbsp; &nbsp; &nbsp; &nbsp; means <font color='blue'>blue</font>\n",
    "\n",
    "\n"
   ]
  },
  {
   "cell_type": "markdown",
   "metadata": {
    "slideshow": {
     "slide_type": "slide"
    }
   },
   "source": [
    ">`pygame.display.update()` \n",
    "\n",
    "...tells the computer to *update the display in the window* with the change you have made.\n",
    "<br>Failure to include this command will just shows a blank screen. \n",
    "<br>Any drawing code after this command will not display.\n",
    "\n"
   ]
  },
  {
   "cell_type": "markdown",
   "metadata": {
    "slideshow": {
     "slide_type": "slide"
    }
   },
   "source": [
    "Try some different number combinations until you get a colour that your like. \n",
    "\n",
    "Each time you change the numbers, run the code to view your changes.\n",
    "\n",
    "Depending on the speed of your computer, you may find that: \n",
    " - First, the window will appear.\n",
    " - After a few moments, it will change to the colour you set.\n",
    "\n",
    "__Close the window__ by clicking the x button in the top left of the window before running your code again."
   ]
  },
  {
   "cell_type": "markdown",
   "metadata": {
    "slideshow": {
     "slide_type": "slide"
    }
   },
   "source": [
    "__Window colour changed using:__\n",
    "> `window.fill((100, 0, 100))` \n",
    "<img src=\"img/3_colour_window.png\" alt=\"Drawing\" style=\"width: 400px;\"/>"
   ]
  },
  {
   "cell_type": "markdown",
   "metadata": {
    "slideshow": {
     "slide_type": "slide"
    }
   },
   "source": [
    "## Variables\n",
    "Entering all these numbers can be confusing. \n",
    "\n",
    "It can be difficult to remember what they mean, for example when choosing a colour.\n",
    "\n",
    "An easier way is to replace the numbers with *variables*.\n",
    "\n",
    "A variable is just an easy to remember word (or letter) that  we can use instead of a number."
   ]
  },
  {
   "cell_type": "markdown",
   "metadata": {
    "slideshow": {
     "slide_type": "slide"
    }
   },
   "source": [
    "For example, earlier we learnt that: \n",
    "\n",
    ">black =`(0,0,0)` \n",
    "><br>white = `(255, 255, 255)` \n",
    "><br>red = `(255, 0, 0)` \n",
    "><br>green = `(0, 255, 0)` \n",
    "><br>blue = `(0, 0, 255)` \n",
    "\n",
    "So in our program we can write:"
   ]
  },
  {
   "cell_type": "code",
   "execution_count": 2,
   "metadata": {
    "collapsed": true
   },
   "outputs": [],
   "source": [
    "black = (0,0,0)\n",
    "white = (255, 255, 255)\n",
    "red =   (255, 0, 0)\n",
    "green = (0, 255, 0)\n",
    "blue =  (0, 0, 255)"
   ]
  },
  {
   "cell_type": "markdown",
   "metadata": {
    "slideshow": {
     "slide_type": "slide"
    }
   },
   "source": [
    "So now, to change the colour of the screen to green, instead of:"
   ]
  },
  {
   "cell_type": "code",
   "execution_count": null,
   "metadata": {
    "collapsed": true
   },
   "outputs": [],
   "source": [
    "window.fill((0, 255, 0))"
   ]
  },
  {
   "cell_type": "markdown",
   "metadata": {},
   "source": [
    "we can use"
   ]
  },
  {
   "cell_type": "code",
   "execution_count": null,
   "metadata": {
    "collapsed": true
   },
   "outputs": [],
   "source": [
    "window.fill(green)"
   ]
  },
  {
   "cell_type": "markdown",
   "metadata": {
    "slideshow": {
     "slide_type": "slide"
    }
   },
   "source": [
    "#### Try it yourself\n",
    "Copy the list of colours from the box below. \n"
   ]
  },
  {
   "cell_type": "code",
   "execution_count": null,
   "metadata": {
    "collapsed": true
   },
   "outputs": [],
   "source": [
    "# 2. Variables\n",
    "black = (0,0,0)\n",
    "white = (255, 255, 255)\n",
    "red =   (255, 0, 0)\n",
    "green = (0, 255, 0)\n",
    "blue =  (0, 0, 255)"
   ]
  },
  {
   "cell_type": "markdown",
   "metadata": {
    "slideshow": {
     "slide_type": "slide"
    }
   },
   "source": [
    "Paste the list in your program *immediately after* step 1 like this:\n",
    "```Python\n",
    "import pygame\n",
    "import sys \n",
    "# 1. Initailise the pygame library\n",
    "pygame.init()\n",
    "\n",
    "# 2. Variables\n",
    "black = (0,0,0)\n",
    "white = (255, 255, 255)\n",
    "red =   (255, 0, 0)\n",
    "green = (0, 255, 0)\n",
    "blue =  (0, 0, 255)\n",
    "```"
   ]
  },
  {
   "cell_type": "markdown",
   "metadata": {
    "slideshow": {
     "slide_type": "slide"
    }
   },
   "source": [
    "What colour did you make the game window earlier?\n",
    "\n",
    "Add the colour you made to the list of variables. \n",
    "\n",
    "\n"
   ]
  },
  {
   "cell_type": "markdown",
   "metadata": {
    "slideshow": {
     "slide_type": "slide"
    }
   },
   "source": [
    "##### Creating a variable\n",
    "__1.__ Choose a name for the colour and add it to the list.\n",
    "\n",
    ">__A rule when choosing names__\n",
    "<br>The name cannot contain spaces e.g.<br>`dark blue` is not allowed.<br>`dark_blue` is allowed.<br>An underscore _ is a useful way to sperate words in a name.\n",
    "\n",
    "\n",
    "__2.__ Put an equals sign. \n",
    "\n",
    "__3.__ After the equals sign put the number you used to make the colour, in () brackets.<br>If you made the screen purple, you could write:\n",
    "```Python\n",
    "purple = (100, 0, 100)\n",
    "```"
   ]
  },
  {
   "cell_type": "markdown",
   "metadata": {
    "slideshow": {
     "slide_type": "slide"
    }
   },
   "source": [
    "\n",
    "\n",
    "\n",
    "Now change the colour of the screen using the new *variable* you just created, instead of a *number*.   \n",
    "<br>For example, replace:\n",
    "```Python\n",
    "window.fill((240, 0, 240))\n",
    "```\n",
    "<br>with:\n",
    "```Python\n",
    "window.fill(purple)\n",
    "```\n"
   ]
  },
  {
   "cell_type": "markdown",
   "metadata": {
    "slideshow": {
     "slide_type": "slide"
    }
   },
   "source": [
    "## Frame Rate\n",
    "The final thing we are going to add before you do some drawing, is the frame rate.\n",
    "\n",
    "__Frame rate__ : The number of times the code loops per second. "
   ]
  },
  {
   "cell_type": "markdown",
   "metadata": {
    "slideshow": {
     "slide_type": "slide"
    }
   },
   "source": [
    "Copy the following line of code and paste it at the end of your program, at the same *indentation level* as the lines before."
   ]
  },
  {
   "cell_type": "code",
   "execution_count": null,
   "metadata": {
    "collapsed": true,
    "slideshow": {
     "slide_type": "slide"
    }
   },
   "outputs": [],
   "source": [
    "# 7. Frame rate\n",
    "clock = pygame.time.Clock().tick(60)"
   ]
  },
  {
   "cell_type": "markdown",
   "metadata": {
    "slideshow": {
     "slide_type": "slide"
    }
   },
   "source": [
    "This sets the frame rate at 60Hz.\n",
    "\n",
    "The computer will:\n",
    "- register user inputs (the event processing loop)\n",
    "- update the display\n",
    "\n",
    "60 times per second.\n",
    "\n",
    "(Note: If the frame rate is too high, the computer will become sluggish due to memory spent updating the screen.)"
   ]
  },
  {
   "cell_type": "markdown",
   "metadata": {
    "slideshow": {
     "slide_type": "slide"
    }
   },
   "source": [
    "## Recap\n",
    "\n",
    "A template of the code up to this point is in a file `game_template.py`, in the `sample_data` folder within the `ILAS_python_for_everyone` folder."
   ]
  },
  {
   "cell_type": "markdown",
   "metadata": {
    "slideshow": {
     "slide_type": "slide"
    }
   },
   "source": [
    "## Drawing Basics\n",
    "\n",
    "This is the *documentation* for the module pygame.draw.\n",
    "\n",
    "http://www.pygame.org/docs/ref/draw.html\n",
    "\n",
    "Use what you learnt about function documentation last week to work out how to draw some shapes on your screen."
   ]
  },
  {
   "cell_type": "markdown",
   "metadata": {
    "slideshow": {
     "slide_type": "slide"
    }
   },
   "source": [
    "### Examples\n",
    "__Drawing a circle__\n",
    "\n",
    "The function pygame.draw.circle() draws a circle.\n",
    "\n",
    "It requires the user to input 4 arguments:\n",
    "- Surface\n",
    "- color\n",
    "- pos\n",
    "- radius\n",
    "\n",
    "It has one default argument:\n",
    "- width = 0"
   ]
  },
  {
   "cell_type": "markdown",
   "metadata": {
    "slideshow": {
     "slide_type": "slide"
    }
   },
   "source": [
    "To draw the following circle:\n",
    "- surface = game window\n",
    "- colour = black\n",
    "- position of centre = (x = 100, y = 50) (pixels)\n",
    "- radius = 20 (pixels)\n",
    "\n",
    "Type:"
   ]
  },
  {
   "cell_type": "code",
   "execution_count": 5,
   "metadata": {},
   "outputs": [
    {
     "ename": "NameError",
     "evalue": "name 'pygame' is not defined",
     "output_type": "error",
     "traceback": [
      "\u001b[0;31m---------------------------------------------------------------------------\u001b[0m",
      "\u001b[0;31mNameError\u001b[0m                                 Traceback (most recent call last)",
      "\u001b[0;32m<ipython-input-5-09cef22fb65d>\u001b[0m in \u001b[0;36m<module>\u001b[0;34m()\u001b[0m\n\u001b[0;32m----> 1\u001b[0;31m \u001b[0mpygame\u001b[0m\u001b[0;34m.\u001b[0m\u001b[0mdraw\u001b[0m\u001b[0;34m.\u001b[0m\u001b[0mcircle\u001b[0m\u001b[0;34m(\u001b[0m\u001b[0mwindow\u001b[0m\u001b[0;34m,\u001b[0m \u001b[0mblack\u001b[0m\u001b[0;34m,\u001b[0m \u001b[0;34m(\u001b[0m\u001b[0;36m100\u001b[0m\u001b[0;34m,\u001b[0m \u001b[0;36m50\u001b[0m\u001b[0;34m)\u001b[0m\u001b[0;34m,\u001b[0m \u001b[0;36m20\u001b[0m\u001b[0;34m)\u001b[0m\u001b[0;34m\u001b[0m\u001b[0m\n\u001b[0m",
      "\u001b[0;31mNameError\u001b[0m: name 'pygame' is not defined"
     ]
    }
   ],
   "source": [
    "pygame.draw.circle(window, black, (100, 50), 20)"
   ]
  },
  {
   "cell_type": "markdown",
   "metadata": {
    "slideshow": {
     "slide_type": "slide"
    }
   },
   "source": [
    "__Drawing a rectangle__\n",
    "\n",
    "The function pygame.draw.circle() draws a circle.\n",
    "\n",
    "It requires the user to input 3 arguments:\n",
    "- Surface\n",
    "- color\n",
    "- rect\n",
    "\n",
    "It has one default argument:\n",
    "- width = 0"
   ]
  },
  {
   "cell_type": "markdown",
   "metadata": {
    "slideshow": {
     "slide_type": "slide"
    }
   },
   "source": [
    "To draw the following rectangle\n",
    "- surface = game window\n",
    "- colour = black\n",
    "- x and y coordintaes of the top left corner = (x = 30, y = 300) (pixels)\n",
    "- width = 60 (pixels)\n",
    "- height = 80 (pixels)\n",
    "\n",
    "Type:"
   ]
  },
  {
   "cell_type": "code",
   "execution_count": null,
   "metadata": {
    "collapsed": true
   },
   "outputs": [],
   "source": [
    "pygame.draw.rect(window, white, pygame.Rect(30, 300, 60, 80))"
   ]
  },
  {
   "cell_type": "markdown",
   "metadata": {
    "slideshow": {
     "slide_type": "slide"
    }
   },
   "source": [
    "For today, these shapes are going to be the \"fish\" in your aquarium. \n",
    "<img src=\"img/shapes_moving.gif\" alt=\"Drawing\" style=\"width: 400px;\"/>\n",
    "\n",
    "\n",
    "\n",
    "\n",
    "\n",
    "\n",
    "\n"
   ]
  },
  {
   "cell_type": "markdown",
   "metadata": {
    "slideshow": {
     "slide_type": "slide"
    }
   },
   "source": [
    "They don't *look* much like fish at the moment, but we are going to animate them so that they *behave* like fish.\n",
    "\n",
    "<table><tr><td> \n",
    " </td><td> \n",
    "<img src=\"img/tuna_swim.gif\" alt=\"Drawing\" style=\"width: 400px;\"/> </td><td> \n",
    "<img src=\"img/dolphin_crash.gif\" alt=\"Drawing\" style=\"width: 400px;\"/>\n",
    "http://bestanimations.com/Animals/Fish/Fish2.html </td></tr>\n",
    "</table>"
   ]
  },
  {
   "cell_type": "markdown",
   "metadata": {
    "slideshow": {
     "slide_type": "slide"
    }
   },
   "source": [
    "__Things to remember:__\n",
    "- Keep all drawing code together in one step (Step 5)\n",
    " - after `window.fill()`\n",
    " - before `pygame.display.update()`\n",
    "- The computer xy coordinate system works a little differently to the conventional cartesian system used in mathematics. Read the section below for an exaplanation.\n"
   ]
  },
  {
   "cell_type": "markdown",
   "metadata": {
    "slideshow": {
     "slide_type": "slide"
    }
   },
   "source": [
    "## The computer xy coordinate system\n",
    "The Cartesian coordinate system, is the system most people are used to when plotting graphics. \n",
    "\n",
    "<img src=\"img/Cartesian_coordinates_2D.png\" alt=\"Drawing\" style=\"width: 400px;\"/>\n",
    "\n",
    "(Wikimedia Commons)"
   ]
  },
  {
   "cell_type": "markdown",
   "metadata": {
    "slideshow": {
     "slide_type": "slide"
    }
   },
   "source": [
    "The computer uses a slightly different, coordinate system. \n",
    "\n",
    "The reason comes from computer history."
   ]
  },
  {
   "cell_type": "markdown",
   "metadata": {
    "slideshow": {
     "slide_type": "subslide"
    }
   },
   "source": [
    "During the early '80s, most computer systems were text-based and did not support graphics. \n",
    "\n",
    "<img src=\"img/apple3screen.png\" alt=\"Drawing\" style=\"width: 400px;\"/>\n",
    "\n",
    "This is an early spreadsheet program run on a 1980s Apple computer. (Wikimedia Commons)\n",
    "\n",
    "When positioning text on the screen, programmers started at the top, calling it line 1, and continued *down*.\n",
    "\n",
    "i.e. Items the further down the screen an item appeared, the *higher* the number of its vertical index. \n",
    "\n"
   ]
  },
  {
   "cell_type": "markdown",
   "metadata": {
    "slideshow": {
     "slide_type": "slide"
    }
   },
   "source": [
    "This resulted in the coordinate system shown below.\n",
    "<br>(0,0) is in the top-left corner\n",
    "<br>The y coordinate becomes more positive, lower down the screen.\n",
    "\n",
    "<img src=\"img/Computer_coordinates_2D.png\" alt=\"Drawing\" style=\"width: 400px;\"/>"
   ]
  },
  {
   "cell_type": "markdown",
   "metadata": {
    "slideshow": {
     "slide_type": "subslide"
    }
   },
   "source": [
    "Computer technology progressed to being able to control individual pixels for graphics.\n",
    "\n",
    "However, the text-based coordinate system stuck."
   ]
  },
  {
   "cell_type": "markdown",
   "metadata": {
    "slideshow": {
     "slide_type": "slide"
    }
   },
   "source": [
    "__So remember, when considering the coordinates of drawn items:__\n",
    "- __(0,0) is in the top-left corner__\n",
    "- __the y coordinate becomes more positive, lower down the screen.__"
   ]
  },
  {
   "cell_type": "markdown",
   "metadata": {
    "collapsed": true,
    "slideshow": {
     "slide_type": "slide"
    }
   },
   "source": [
    "## Animating Drawn Objects\n",
    "\n",
    "We are going to animate one object in the aquarium.\n",
    "\n",
    "<img src=\"img/shapes_moving.gif\" alt=\"Drawing\" style=\"width: 400px;\"/>"
   ]
  },
  {
   "cell_type": "markdown",
   "metadata": {
    "slideshow": {
     "slide_type": "slide"
    }
   },
   "source": [
    "### Velocity\n",
    "Consider a circle.\n",
    "\n",
    "The two numbers in () parentheses refer to the position of the centre of the circle.\n",
    "\n",
    "    pygame.draw.circle(window, black, (100, 50), 20)\n",
    "\n",
    "This circle will be drawn at:\n",
    "- x coordinate 100\n",
    "- y coordinate 50\n"
   ]
  },
  {
   "cell_type": "markdown",
   "metadata": {
    "slideshow": {
     "slide_type": "slide"
    }
   },
   "source": [
    "Each time the game loops, the circle will be drawn at (100,50).\n",
    "\n",
    "Until those numbers change, the circle will not move."
   ]
  },
  {
   "cell_type": "markdown",
   "metadata": {
    "slideshow": {
     "slide_type": "slide"
    }
   },
   "source": [
    "To move the circle:\n",
    "- use a variable, instead of a number, for the x and y coodinates\n",
    "- change the value of the variable each time the code loops"
   ]
  },
  {
   "cell_type": "markdown",
   "metadata": {
    "slideshow": {
     "slide_type": "slide"
    }
   },
   "source": [
    "For example, to move the circle 1 pixel to the right each time the code loops:\n",
    "\n",
    "(Pseudocode)\n",
    "\n",
    "    velocity = +1 pixel per timestep \n",
    "\n",
    "\n",
    "\n",
    "\n"
   ]
  },
  {
   "cell_type": "markdown",
   "metadata": {},
   "source": [
    "##### OUTSIDE THE GAME LOOP\n",
    "Initial x coordinate of the circle\n",
    "    \n",
    "    x_pos = 100\n",
    "\n",
    "    \n",
    "##### INSIDE THE GAME LOOP\n",
    "Draw the circle.\n",
    "\n",
    "    pygame.draw.circle(window, black, (x_pos, 50), 20)\n",
    "    \n",
    "Update the x coordinate.\n",
    "\n",
    "    x_pos += 1"
   ]
  },
  {
   "cell_type": "markdown",
   "metadata": {
    "slideshow": {
     "slide_type": "slide"
    }
   },
   "source": [
    "Add the initial x coordinate of the circle to your list of variables. of  code to your program.\n",
    "\n",
    "##### OUTSIDE THE GAME LOOP\n",
    "    # 2. Variables\n",
    "    black = (0,0,0)\n",
    "    white = (255, 255, 255)\n",
    "    red =   (255, 0, 0)\n",
    "    green = (0, 255, 0)\n",
    "    blue =  (0, 0, 255)\n",
    "    purple = (100, 0, 100)\n",
    "    x_pos = 100\n",
    "        \n"
   ]
  },
  {
   "cell_type": "markdown",
   "metadata": {
    "slideshow": {
     "slide_type": "slide"
    }
   },
   "source": [
    "##### INSIDE THE GAME LOOP \n",
    "If you already have a circle in your aquarium, edit our code to include the variable `x_pos`. \n",
    "\n",
    "If you do not have a circle, add one now. \n",
    "\n",
    "Update the variable `x_pos` each time the code loops.\n",
    "\n",
    "    # 5.1 Draw Circle\n",
    "    pygame.draw.circle(window, black, (x_pos, 50), 20)\n",
    "    \n",
    "    # 5.3 Update circle position\n",
    "    x_pos += 1"
   ]
  },
  {
   "cell_type": "markdown",
   "metadata": {
    "slideshow": {
     "slide_type": "slide"
    }
   },
   "source": [
    "Run your code.\n",
    "\n",
    "You should see the circle move accross the screen."
   ]
  },
  {
   "cell_type": "markdown",
   "metadata": {
    "slideshow": {
     "slide_type": "slide"
    }
   },
   "source": [
    "To move the box faster, increase `x_pos` by a greater number each time the code loops:\n",
    "\n",
    "    x_pos += 5"
   ]
  },
  {
   "cell_type": "markdown",
   "metadata": {
    "slideshow": {
     "slide_type": "slide"
    }
   },
   "source": [
    "If we increase *both* the x and y coordinate of the circle it will move down *and* right:\n",
    "\n",
    "##### OUTSIDE THE GAME LOOP\n",
    "    # 2. Variables\n",
    "    black = (0,0,0)\n",
    "    white = (255, 255, 255)\n",
    "    red =   (255, 0, 0)\n",
    "    green = (0, 255, 0)\n",
    "    blue =  (0, 0, 255)\n",
    "    purple = (100, 0, 100)\n",
    "    x_pos = 100\n",
    "    y_pos = 50\n",
    "    \n",
    " \n",
    "##### INSIDE THE GAME LOOP \n",
    "    # 5.1 Draw Circle\n",
    "    pygame.draw.circle(window, black, (x_pos, y_pos), 20)\n",
    "    \n",
    "    # 5.3 Update circle position\n",
    "    x_pos += 5\n",
    "    y_pos += 1"
   ]
  },
  {
   "cell_type": "markdown",
   "metadata": {
    "slideshow": {
     "slide_type": "slide"
    }
   },
   "source": [
    "We can express the circles:\n",
    "- position\n",
    "- velocity (the direction and amount it moves by) \n",
    "\n",
    "as *lists* or *vectors*.\n",
    "\n"
   ]
  },
  {
   "cell_type": "markdown",
   "metadata": {
    "slideshow": {
     "slide_type": "slide"
    }
   },
   "source": [
    "Recall __Example: Change in Position: (Representing Vectors using Lists)__  from last week's seminar.\n",
    "\n",
    "\n",
    " <img src=\"img/schiffman_vector.png\" alt=\"Drawing\" style=\"width: 500px;\"/>"
   ]
  },
  {
   "cell_type": "markdown",
   "metadata": {
    "slideshow": {
     "slide_type": "slide"
    }
   },
   "source": [
    "We update the value of the postion, `r`, by adding each component of the velocity, `v`."
   ]
  },
  {
   "cell_type": "code",
   "execution_count": 3,
   "metadata": {
    "slideshow": {
     "slide_type": "slide"
    }
   },
   "outputs": [],
   "source": [
    "r = [5, 2]\n",
    "v = [3, 4]\n",
    "\n",
    "r = [(r[0]+v[0]), \n",
    "     (r[1]+v[1])]"
   ]
  },
  {
   "cell_type": "markdown",
   "metadata": {
    "slideshow": {
     "slide_type": "slide"
    }
   },
   "source": [
    "Edit section 3.1 and 5.1 of your program to express the circle's:\n",
    "- position\n",
    "- velocity\n",
    "\n",
    "as lists."
   ]
  },
  {
   "cell_type": "markdown",
   "metadata": {
    "slideshow": {
     "slide_type": "slide"
    }
   },
   "source": [
    "\n",
    "##### OUTSIDE THE GAME LOOP    \n",
    "    # 2. Variables\n",
    "    black = (0,0,0)\n",
    "    white = (255, 255, 255)\n",
    "    red =   (255, 0, 0)\n",
    "    green = (0, 255, 0)\n",
    "    blue =  (0, 0, 255)\n",
    "    purple = (100, 0, 100)\n",
    "    circ_vel = [5, 1]\n",
    "    circ_pos = [100, 50]   \n",
    " \n",
    "##### INSIDE THE GAME LOOP \n",
    "    # 5.1 Draw Circle\n",
    "    pygame.draw.circle(window, black, (circ_pos[0], circ_pos[1]), 20)\n",
    "    \n",
    "    # 5.3 Update circle position\n",
    "    circ_pos[0] += circ_vel[0]  \n",
    "    circ_pos[1] += circ_vel[1]  "
   ]
  },
  {
   "cell_type": "markdown",
   "metadata": {
    "slideshow": {
     "slide_type": "slide"
    }
   },
   "source": [
    "We can also express the radius of the circle as a variable."
   ]
  },
  {
   "cell_type": "markdown",
   "metadata": {
    "slideshow": {
     "slide_type": "slide"
    }
   },
   "source": [
    "##### OUTSIDE THE GAME LOOP    \n",
    "    # 2. Variables\n",
    "    black = (0,0,0)\n",
    "    white = (255, 255, 255)\n",
    "    red =   (255, 0, 0)\n",
    "    green = (0, 255, 0)\n",
    "    blue =  (0, 0, 255)\n",
    "    purple = (100, 0, 100)\n",
    "    circ_vel = [5, 1]\n",
    "    circ_pos = [100, 50]  \n",
    "    radius = 20  \n",
    "\n",
    "##### INSIDE THE GAME LOOP \n",
    "    # 5.1 Draw Circle\n",
    "    pygame.draw.circle(window, black, (x_pos, y_pos), radius)\n"
   ]
  },
  {
   "cell_type": "markdown",
   "metadata": {
    "slideshow": {
     "slide_type": "slide"
    }
   },
   "source": [
    "*What is an advantage of storing the velocity and radius (as well as the position) as variables? *"
   ]
  },
  {
   "cell_type": "markdown",
   "metadata": {
    "slideshow": {
     "slide_type": "slide"
    }
   },
   "source": [
    "### Collisions\n",
    "When the circle reaches the edge of the screen it will keep going. \n",
    "\n",
    "In this section, we will learn how to make shapes interact with the environment. \n",
    "\n",
    "<img src=\"img/aquarium_bump.gif\" alt=\"Drawing\" style=\"width: 400px;\"/>\n",
    "\n",
    "i.e. We will make your \"fish\" bounce off the sides of your \"aquarium\" instead of swimming straight through the wall. \n",
    "\n"
   ]
  },
  {
   "cell_type": "markdown",
   "metadata": {
    "slideshow": {
     "slide_type": "slide"
    }
   },
   "source": [
    "### Collisions with the Environment \n",
    "\n",
    "To reverse the direction so the circle travels towards the left, circle_vel[0] needs to change from 5 to -5.\n",
    "\n",
    "The circle has reached the right side of the screen when circle_pos[0] is greater than the width of the screen.\n",
    "\n"
   ]
  },
  {
   "cell_type": "markdown",
   "metadata": {
    "slideshow": {
     "slide_type": "slide"
    }
   },
   "source": [
    "Each time the cose loops, the program must:\n",
    "- perform this check\n",
    "- reverse the direction of travel if an edge has been reached.\n",
    "\n",
    "We can perform this check using conditional operators, `if` and `else`...\n",
    "\n",
    "If you need to review how these work, refer to 01a_BasicOperators_DataTypes.ipynb\n",
    "\n"
   ]
  },
  {
   "cell_type": "markdown",
   "metadata": {
    "slideshow": {
     "slide_type": "slide"
    }
   },
   "source": [
    "In Section 3. we set the width (600 pixels) and height (400 pixels) of the game window. \n",
    "\n",
    "     # 3. Launch a game window\n",
    "    window = pygame.display.set_mode((600, 400))\n",
    "    \n",
    "So to reverse the direction of travel if an edge has been reached...\n",
    "\n",
    "\n",
    "    \n",
    "    "
   ]
  },
  {
   "cell_type": "code",
   "execution_count": 5,
   "metadata": {
    "slideshow": {
     "slide_type": "slide"
    }
   },
   "outputs": [
    {
     "ename": "NameError",
     "evalue": "name 'pygame' is not defined",
     "output_type": "error",
     "traceback": [
      "\u001b[0;31m---------------------------------------------------------------------------\u001b[0m",
      "\u001b[0;31mNameError\u001b[0m                                 Traceback (most recent call last)",
      "\u001b[0;32m<ipython-input-5-012135bd7b85>\u001b[0m in \u001b[0;36m<module>\u001b[0;34m()\u001b[0m\n\u001b[1;32m      1\u001b[0m \u001b[0;31m# 5.1 Draw Circle\u001b[0m\u001b[0;34m\u001b[0m\u001b[0;34m\u001b[0m\u001b[0m\n\u001b[0;32m----> 2\u001b[0;31m \u001b[0mpygame\u001b[0m\u001b[0;34m.\u001b[0m\u001b[0mdraw\u001b[0m\u001b[0;34m.\u001b[0m\u001b[0mcircle\u001b[0m\u001b[0;34m(\u001b[0m\u001b[0mwindow\u001b[0m\u001b[0;34m,\u001b[0m \u001b[0mblack\u001b[0m\u001b[0;34m,\u001b[0m \u001b[0;34m(\u001b[0m\u001b[0mx_pos\u001b[0m\u001b[0;34m,\u001b[0m \u001b[0my_pos\u001b[0m\u001b[0;34m)\u001b[0m\u001b[0;34m,\u001b[0m \u001b[0;36m20\u001b[0m\u001b[0;34m)\u001b[0m\u001b[0;34m\u001b[0m\u001b[0m\n\u001b[0m\u001b[1;32m      3\u001b[0m \u001b[0;34m\u001b[0m\u001b[0m\n\u001b[1;32m      4\u001b[0m \u001b[0;34m\u001b[0m\u001b[0m\n\u001b[1;32m      5\u001b[0m \u001b[0;31m# 5.2 Reverse direction of travel if edge is reached\u001b[0m\u001b[0;34m\u001b[0m\u001b[0;34m\u001b[0m\u001b[0m\n",
      "\u001b[0;31mNameError\u001b[0m: name 'pygame' is not defined"
     ]
    }
   ],
   "source": [
    "# 5.1 Draw Circle\n",
    "pygame.draw.circle(window, black, (x_pos, y_pos), 20)\n",
    "\n",
    "\n",
    "# 5.2 Reverse direction of travel if edge is reached\n",
    "if circ_pos[0] > (600-radius) or circ_pos[0] < radius:\n",
    "    circ_vel[0] *= -1\n",
    "if circ_pos[1] > (400-radius) or circ_pos[1] < radius:\n",
    "    circ_vel[1] *= -1\n",
    "\n",
    "    \n",
    "# 5.3 Update circle position\n",
    "circ_pos[0] += circ_vel[0]  \n",
    "circ_pos[1] += circ_vel[1] "
   ]
  },
  {
   "cell_type": "markdown",
   "metadata": {
    "slideshow": {
     "slide_type": "slide"
    }
   },
   "source": [
    "__*What is the advantage of storing the velocity and radius (as well as the position) as variables? *__\n",
    "\n",
    " \n",
    "__1.__ You specify the actual value of the variable once, but you can use then use it lots of times throughout the code by calling teh variable name. \n",
    "<br>So if you decide to change the velocity e.g. from 10 to 20, you only need to change the code in one place.\n",
    "<br>By using a variable to represent the velocity we can easily change the value in response to an event such as a mouse click."
   ]
  },
  {
   "cell_type": "markdown",
   "metadata": {
    "slideshow": {
     "slide_type": "slide"
    }
   },
   "source": [
    "__2.__ Using a descriptive name to make the significance of the variable clear \n",
    "<br>e.g. \n",
    "<br>circ_vel = the __velocity__ or the __circle__\n",
    "<br>radius = the __radius__ of a circle"
   ]
  },
  {
   "cell_type": "markdown",
   "metadata": {
    "slideshow": {
     "slide_type": "slide"
    }
   },
   "source": [
    "##### Try it yourself\n",
    "\n",
    "1. If you haven't done so already, update your code to include sections 5.1 - 5.3.\n",
    "\n",
    "1. Add variables to represent the *width* and *height* of the screen to the list of variables (Section 2. of your program). \n",
    "<br>Make Section 5.3 of your program more *readable* by replacing the numerical values for height and width with variable names. "
   ]
  },
  {
   "cell_type": "markdown",
   "metadata": {
    "slideshow": {
     "slide_type": "slide"
    }
   },
   "source": [
    "### Animating Multiple Objects\n",
    "\n",
    "There is more than one object in the aquarium. \n",
    "\n",
    "How do we animate multiple objects at the same time? \n",
    "\n",
    "<img src=\"img/shapes_moving.gif\" alt=\"Drawing\" style=\"width: 400px;\"/>\n"
   ]
  },
  {
   "cell_type": "markdown",
   "metadata": {
    "collapsed": true,
    "slideshow": {
     "slide_type": "slide"
    }
   },
   "source": [
    "The display updates, once per timestep.\n",
    "    \n",
    "    # 6 Update display\n",
    "    pygame.display.update()\n",
    "    \n",
    "That means:\n",
    "<br>we can write code *sequentially* to make object move\n",
    "<br>__BUT__\n",
    "<br>the movements will appear *simultaneously*. \n"
   ]
  },
  {
   "cell_type": "markdown",
   "metadata": {
    "slideshow": {
     "slide_type": "slide"
    }
   },
   "source": [
    "For example, we can animate a rectangle at the same time as the circle."
   ]
  },
  {
   "cell_type": "code",
   "execution_count": 4,
   "metadata": {
    "slideshow": {
     "slide_type": "slide"
    }
   },
   "outputs": [
    {
     "ename": "NameError",
     "evalue": "name 'pygame' is not defined",
     "output_type": "error",
     "traceback": [
      "\u001b[0;31m---------------------------------------------------------------------------\u001b[0m",
      "\u001b[0;31mNameError\u001b[0m                                 Traceback (most recent call last)",
      "\u001b[0;32m<ipython-input-4-1b3218370fde>\u001b[0m in \u001b[0;36m<module>\u001b[0;34m()\u001b[0m\n\u001b[1;32m     14\u001b[0m \u001b[0;31m##### INSIDE THE GAME LOOP\u001b[0m\u001b[0;34m\u001b[0m\u001b[0;34m\u001b[0m\u001b[0m\n\u001b[1;32m     15\u001b[0m \u001b[0;31m# 5.1 Draw Shapes\u001b[0m\u001b[0;34m\u001b[0m\u001b[0;34m\u001b[0m\u001b[0m\n\u001b[0;32m---> 16\u001b[0;31m \u001b[0mpygame\u001b[0m\u001b[0;34m.\u001b[0m\u001b[0mdraw\u001b[0m\u001b[0;34m.\u001b[0m\u001b[0mcircle\u001b[0m\u001b[0;34m(\u001b[0m\u001b[0mwindow\u001b[0m\u001b[0;34m,\u001b[0m \u001b[0mblack\u001b[0m\u001b[0;34m,\u001b[0m \u001b[0;34m(\u001b[0m\u001b[0mcirc_pos\u001b[0m\u001b[0;34m[\u001b[0m\u001b[0;36m0\u001b[0m\u001b[0;34m]\u001b[0m\u001b[0;34m,\u001b[0m \u001b[0mcirc_pos\u001b[0m\u001b[0;34m[\u001b[0m\u001b[0;36m1\u001b[0m\u001b[0;34m]\u001b[0m\u001b[0;34m)\u001b[0m\u001b[0;34m,\u001b[0m \u001b[0mradius\u001b[0m\u001b[0;34m)\u001b[0m\u001b[0;34m\u001b[0m\u001b[0m\n\u001b[0m\u001b[1;32m     17\u001b[0m \u001b[0mpygame\u001b[0m\u001b[0;34m.\u001b[0m\u001b[0mdraw\u001b[0m\u001b[0;34m.\u001b[0m\u001b[0mrect\u001b[0m\u001b[0;34m(\u001b[0m\u001b[0mwindow\u001b[0m\u001b[0;34m,\u001b[0m \u001b[0mwhite\u001b[0m\u001b[0;34m,\u001b[0m \u001b[0mpygame\u001b[0m\u001b[0;34m.\u001b[0m\u001b[0mRect\u001b[0m\u001b[0;34m(\u001b[0m\u001b[0mrect_pos\u001b[0m\u001b[0;34m[\u001b[0m\u001b[0;36m0\u001b[0m\u001b[0;34m]\u001b[0m\u001b[0;34m,\u001b[0m \u001b[0mrect_pos\u001b[0m\u001b[0;34m[\u001b[0m\u001b[0;36m1\u001b[0m\u001b[0;34m]\u001b[0m\u001b[0;34m,\u001b[0m \u001b[0mwidth\u001b[0m\u001b[0;34m,\u001b[0m \u001b[0mheight\u001b[0m\u001b[0;34m)\u001b[0m\u001b[0;34m)\u001b[0m\u001b[0;34m\u001b[0m\u001b[0m\n\u001b[1;32m     18\u001b[0m \u001b[0;34m\u001b[0m\u001b[0m\n",
      "\u001b[0;31mNameError\u001b[0m: name 'pygame' is not defined"
     ]
    }
   ],
   "source": [
    "##### OUTSIDE THE GAME LOOP (in 2. Variables)   \n",
    "\n",
    "# circle variables\n",
    "circ_vel = [5, 1]\n",
    "circ_pos = [100, 50]  \n",
    "radius = 20  \n",
    "\n",
    "# rectangle variables\n",
    "rect_vel = [-2, -3]\n",
    "rect_pos = [30, 300]  \n",
    "height = 80\n",
    "width = 60\n",
    "\n",
    "##### INSIDE THE GAME LOOP \n",
    "# 5.1 Draw Shapes\n",
    "pygame.draw.circle(window, black, (circ_pos[0], circ_pos[1]), radius)\n",
    "pygame.draw.rect(window, white, pygame.Rect(rect_pos[0], rect_pos[1], width, height))\n",
    "\n",
    "\n",
    "# 5.2 Reverse direction of travel if edge is reached\n",
    "if circ_pos[0] > (600-radius) or circ_pos[0] < radius:\n",
    "    circ_vel[0] *= -1\n",
    "if circ_pos[1] > (400-radius) or circ_pos[1] < radius:\n",
    "    circ_vel[1] *= -1\n",
    "    \n",
    "if rect_pos[0] > (600-width) or rect_pos[0] < 0:\n",
    "    rect_vel[0] *= -1\n",
    "if rect_pos[1] > (400-height) or rect_pos[1] < 0:\n",
    "    rect_vel[1] *= -1\n",
    "    \n",
    "\n",
    "# 5.3 Update shape position\n",
    "circ_pos[0] += circ_vel[0]  \n",
    "circ_pos[1] += circ_vel[1] \n",
    "\n",
    "rect_pos[0] += rect_vel[0]  \n",
    "rect_pos[1] += rect_vel[1] "
   ]
  },
  {
   "cell_type": "markdown",
   "metadata": {
    "slideshow": {
     "slide_type": "slide"
    }
   },
   "source": [
    "### Optional Extension: Using Lists and Loops to Animate Multiple Objects.\n",
    "\n",
    "Notice that as we add more objects, our code starts to look repetative. \n",
    "\n",
    "We can keep things tidy by:\n",
    "\n",
    "- storing information in *lists*\n",
    "<p align=\"center\">\n",
    "  <img src=\"img/ice_cube_tray.png\" alt=\"Drawing\" style=\"width: 300px;\"/>\n",
    "</p>\n",
    "\n",
    "- using *loops* to cycle through each object\n"
   ]
  },
  {
   "cell_type": "markdown",
   "metadata": {
    "slideshow": {
     "slide_type": "slide"
    }
   },
   "source": [
    "Let's create four lists:\n",
    "1. position\n",
    "2. velocity\n",
    "3. horizontal distance shape edge to reference point\n",
    "4. vertical distance shape edge to reference point"
   ]
  },
  {
   "cell_type": "code",
   "execution_count": 3,
   "metadata": {
    "collapsed": true,
    "slideshow": {
     "slide_type": "slide"
    }
   },
   "outputs": [],
   "source": [
    "position = [circ_pos, rect_pos]\n",
    "velocity = [circ_vel, rect_vel]  \n",
    "horizontal = [[radius, radius], [width, 0]]\n",
    "vertical = [[radius, radius], [height, 0]]\n"
   ]
  },
  {
   "cell_type": "markdown",
   "metadata": {
    "slideshow": {
     "slide_type": "-"
    }
   },
   "source": [
    "This code should appear at the end of the list of variables."
   ]
  },
  {
   "cell_type": "markdown",
   "metadata": {
    "slideshow": {
     "slide_type": "slide"
    }
   },
   "source": [
    "Now we can use what we have learnt about loops and zip to perform the *same operations*  on multiple items."
   ]
  },
  {
   "cell_type": "code",
   "execution_count": null,
   "metadata": {
    "collapsed": true,
    "slideshow": {
     "slide_type": "slide"
    }
   },
   "outputs": [],
   "source": [
    "# 5.1 Draw Shapes\n",
    "pygame.draw.circle(window, black, (circ_pos[0], circ_pos[1]), radius)\n",
    "pygame.draw.rect(window, white, pygame.Rect(rect_pos[0], rect_pos[1], width, height))\n",
    " \n",
    "for vel, pos, vert, horiz in zip(velocity, position, vertical, horizontal):\n",
    "\n",
    "    # 5.2 Reverse direction of travel if edge is reached\n",
    "    if pos[0] > (600-horiz[0]) or pos[0] < vert[1]:\n",
    "        vel[0] *= -1\n",
    "    if pos[1] > (400-vert[0]) or pos[1] < horiz[1]:\n",
    "        vel[1] *= -1\n",
    "\n",
    "    # 5.3 Update shape position\n",
    "    pos[0] += vel[0]  \n",
    "    pos[1] += vel[1]"
   ]
  },
  {
   "cell_type": "markdown",
   "metadata": {},
   "source": [
    "##### Try it yourself\n",
    "Try animating a another object in your aquarium.\n",
    "\n",
    "__First__ try writing out the code to move the object.\n",
    "\n",
    "__Second__ try using *loops* and *lists* to tidy up your code"
   ]
  },
  {
   "cell_type": "markdown",
   "metadata": {
    "slideshow": {
     "slide_type": "slide"
    }
   },
   "source": [
    "<a id='TestYourselfExercises'></a>\n",
    "# Test-Yourself Exercises\n",
    "\n",
    "Compete the Test-Youself exercises below.\n",
    "\n",
    "Save your answers as .py files and email them to:\n",
    "<br>philamore.hemma.5s@kyoto-u.ac.jp"
   ]
  },
  {
   "cell_type": "markdown",
   "metadata": {
    "slideshow": {
     "slide_type": "slide"
    }
   },
   "source": [
    "### Test-Yourself Exercise: Collisions with other objects. \n",
    "\n",
    "We have made our objects bounce off the walls, but what happens if they collide with each other?\n",
    "\n",
    "<img src=\"img/dolphin_crash.gif\" alt=\"Drawing\" style=\"width: 400px;\"/>\n",
    "\n",
    "Consider the a circle and a rectangle moving in the aquarium.\n",
    "\n",
    "The circle and the rectangle collide if:\n",
    "\n",
    "    ((0 < (rect_pos[0] - circ_pos[0]) < radius) or\n",
    "     (0 < (circ_pos[0] - rect_pos[0]) < max(radius, width)) or\n",
    "     (0 < (rect_pos[1] - circ_pos[1]) < max(radius, height)) or\n",
    "     (0 < (circ_pos[1] - rect_pos[1]) < radius))\n",
    "\n",
    "Using the code we wrote to make the shapes *bounce of the sides* of the tank,\n",
    "<br>add a write a section of code *after* the `for` loop to make the two animated objects *bounce off each other*.\n",
    "\n",
    "##### Optional Extension...\n",
    "\n",
    "\n",
    "\n",
    "\n",
    "\n"
   ]
  },
  {
   "cell_type": "markdown",
   "metadata": {
    "slideshow": {
     "slide_type": "slide"
    }
   },
   "source": [
    "### Test-Yourself Exercise: Game Set-up. \n",
    "\n",
    "Create a new file.\n",
    "\n",
    "Use what you have learnt today to set up the objects shown in the picture:\n",
    "- 2 rectangles\n",
    "- 1 circle\n",
    "\n",
    "You can choose the colours. \n",
    "\n",
    "<img src=\"img/pong_setup.png\" alt=\"Drawing\" style=\"width: 400px;\"/>\n",
    "\n",
    "Give the circle a starting velocity of:\n",
    "- x direction: 3 pixels per timestep\n",
    "- y direction: -2 pixels per timestep\n",
    "\n",
    "We will use these objects to build a game next week.\n",
    "\n",
    "\n",
    "\n",
    "##### Optional Extension...\n",
    "\n",
    "Use the `random` library to generate a random starting velocity for the circle. "
   ]
  },
  {
   "cell_type": "markdown",
   "metadata": {
    "collapsed": true,
    "slideshow": {
     "slide_type": "slide"
    }
   },
   "source": [
    "<a id='ReviewExercises'></a>\n",
    "# Review Exercises\n",
    "Here are a series of short problems for you to practise each of the new Python skills that you have learnt today."
   ]
  },
  {
   "cell_type": "markdown",
   "metadata": {},
   "source": [
    "## Review Exercise : Drawing Lines\n",
    "The program below (from https://lorenzod8n.wordpress.com/2007/05/27/pygame-tutorial-2-drawing-lines/) draws a blue 'X' across the game window."
   ]
  },
  {
   "cell_type": "code",
   "execution_count": null,
   "metadata": {
    "collapsed": true
   },
   "outputs": [],
   "source": [
    "import pygame\n",
    "\n",
    "screen = pygame.display.set_mode((640, 480))\n",
    "running = 1\n",
    "\n",
    "while running:\n",
    "    event = pygame.event.poll()\n",
    "    if event.type == pygame.QUIT:\n",
    "        running = 0\n",
    "    screen.fill((0, 0, 0))\n",
    "    pygame.draw.line(screen, (0, 0, 255), (0, 0), (639, 479))\n",
    "    pygame.draw.aaline(screen, (0, 0, 255), (639, 0), (0, 479))\n",
    "    pygame.display.update()"
   ]
  },
  {
   "cell_type": "markdown",
   "metadata": {},
   "source": [
    "1. Improve the program by replacing numbers with named variables:\n",
    " - Declare two variables width and height and initialize them to the width and the height of the window. \n",
    " - Modify the rest of the program to use these variables instead of actual numbers. \n",
    " - To verify that you have made all the required changes, try setting width and height to different values and confirm  - that you still get two diagonal lines and that each line’s end points are at one of the corners of the window.\n",
    " - Improve the program further by declaring variables called linecolor, topleft, bottomright and so on. Modify the program to make use of the variables.\n",
    "2. Modify the program to draw the two lines in different colors.\n",
    "3. Write a program that instead draws one horizontal and one vertical line. The lines should both be centered.\n",
    "4. Write a program that draws four lines: the diagonal lines as in the example as well has the horizontal and vertical lines as in the last exercise. Each line should be in a different color. The program should take the height and width of the window as command-line arguments."
   ]
  },
  {
   "cell_type": "markdown",
   "metadata": {},
   "source": [
    "# Review Exercise : Drawing Patterns\n",
    "Draw the following pattern:\n",
    "<img src=\"img/fishnet.png\" alt=\"Drawing\" style=\"width: 400px;\"/>"
   ]
  },
  {
   "cell_type": "markdown",
   "metadata": {},
   "source": [
    "# Review Exercise : Animating Lines\n",
    "Run the program below from https://lorenzod8n.wordpress.com/2007/05/27/pygame-tutorial-2-drawing-lines/.\n",
    "\n",
    "Comment out the line screen.fill(bgcolor) and run the program. What happens?\n",
    "\n",
    "Extend the program to also include a vertical line that moves across the screen"
   ]
  },
  {
   "cell_type": "code",
   "execution_count": null,
   "metadata": {
    "collapsed": true
   },
   "outputs": [],
   "source": [
    "import pygame\n",
    " \n",
    "y = 0\n",
    "dir = 1\n",
    "running = 1\n",
    "width = 800\n",
    "height = 600\n",
    "screen = pygame.display.set_mode((width, height))\n",
    "linecolor = 255, 0, 0\n",
    "bgcolor = 0, 0, 0\n",
    "\n",
    "while running:\n",
    "    event = pygame.event.poll()\n",
    "    if event.type == pygame.QUIT:\n",
    "        running = 0\n",
    "    screen.fill(bgcolor)\n",
    "    pygame.draw.line(screen, linecolor, (0, y), (width-1, y))\n",
    "    y += dir\n",
    "    if y == 0 or y == height-1: dir *= -1\n",
    "        pygame.display.update()"
   ]
  },
  {
   "cell_type": "code",
   "execution_count": null,
   "metadata": {
    "collapsed": true
   },
   "outputs": [],
   "source": []
  },
  {
   "cell_type": "code",
   "execution_count": null,
   "metadata": {
    "collapsed": true
   },
   "outputs": [],
   "source": []
  },
  {
   "cell_type": "code",
   "execution_count": null,
   "metadata": {
    "collapsed": true
   },
   "outputs": [],
   "source": []
  }
 ],
 "metadata": {
  "celltoolbar": "Slideshow",
  "kernelspec": {
   "display_name": "ILAS_py_for_everyone_env",
   "language": "python",
   "name": "ilas_py_for_everyone_env"
  },
  "language_info": {
   "codemirror_mode": {
    "name": "ipython",
    "version": 3
   },
   "file_extension": ".py",
   "mimetype": "text/x-python",
   "name": "python",
   "nbconvert_exporter": "python",
   "pygments_lexer": "ipython3",
   "version": "3.6.4"
  }
 },
 "nbformat": 4,
 "nbformat_minor": 2
}
