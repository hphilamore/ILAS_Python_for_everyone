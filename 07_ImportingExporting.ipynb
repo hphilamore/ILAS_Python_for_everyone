{
 "cells": [
  {
   "cell_type": "markdown",
   "metadata": {
    "slideshow": {
     "slide_type": "slide"
    }
   },
   "source": [
    "# Important Announcements\n",
    "### Rescheduled Class\n",
    "You should all have received an email concerning the 2 rescheduled class.\n",
    "<br>Rescheduled classes will be held on: \n",
    "\n",
    "- 06/25 (June 25, Monday), period 1, CALL 23\n",
    "- 06/29 (June 26, Tuesday), period 2 and 3, CALL 21\n",
    "\n",
    "You may attend either class. \n",
    "<br>The content will be identical. "
   ]
  },
  {
   "cell_type": "markdown",
   "metadata": {
    "slideshow": {
     "slide_type": "slide"
    }
   },
   "source": [
    "## Exam\n",
    "A take-home exam with a time limit of 1 week will be issued on July 17 *instead of* the previously sheduled exam on July 24.\n",
    "\n",
    "The deadline for the take-home exam will be July 24.\n",
    "\n",
    "Please submit your exam solution by email."
   ]
  },
  {
   "cell_type": "markdown",
   "metadata": {
    "slideshow": {
     "slide_type": "slide"
    }
   },
   "source": [
    "## Please download the new class notes.\n",
    "### Step 1 : Navigate to the directory where your files are stored.  \n",
    "Open a terminal. \n",
    "<br>Using `cd`, navigate to *inside* the ILAS_Python_for_everyone folder on your computer. \n",
    "### Step 3 : Update the course notes by downloading the changes\n",
    "In the terminal type:\n",
    "\n",
    ">`git add -A\n",
    "git commit -m \"commit\"\n",
    "git fetch upstream\n",
    "git merge -X theirs upstream/master`\n"
   ]
  },
  {
   "cell_type": "markdown",
   "metadata": {
    "collapsed": true,
    "slideshow": {
     "slide_type": "slide"
    }
   },
   "source": [
    "# Importing and Exporting : Sound, Images and Text\n",
    "\n",
    "<br> <a href='#Pandas'>Pandas</a>\n",
    "<br> <a href='#Installation'>Installation</a> \n",
    "<br> <a href='#ImportingData'>Importing Data</a> \n",
    "\t<br> &emsp;&emsp; <a href='#ConvertingPythonObject'>Converting a Python Object</a> \n",
    "    <br> &emsp;&emsp; <a href='#ImportingDataExternalFile'>Importing Data from an External File</a> \n",
    "        <br> &emsp;&emsp; &emsp;&emsp; <a href='#AssigningNamesUnlabelledData'>Assigning Names to Unlabelled Data</a> \n",
    "        <br> &emsp;&emsp; &emsp;&emsp; <a href='#RenamingColumns'>Renaming Columns</a> \n",
    "        <br> &emsp;&emsp; &emsp;&emsp; <a href='#RenamingRows'>Renaming Rows</a> \n",
    "        <br> &emsp;&emsp; &emsp;&emsp; <a href='#RenamingRowHeader'>Renaming Row Header</a> \n",
    "        <br> &emsp;&emsp; &emsp;&emsp; <a href='#ImportOptions'>Import Options</a> \n",
    "<br> <a href='#ViewingInspectingData'>ViewingInspectingData</a> \n",
    "<br> <a href='#SelectingData'>Selecting Data</a> \n",
    "<br> <a href='#Indexing'>Indexing</a> \n",
    "<br> <a href='#NumpyFunctionsDataFrames'>Numpy Functions for Data Frames</a>\n",
    "<br> <a href='#BooleanDataFrameIndexing'>Boolean Data Frame Indexing</a>\n",
    "<br> <a href='#ChangingValues'>Changing Values</a>\n",
    "<br> <a href='#ApplyingFunctionWholeSeries'>Applying a Function to a Whole Series</a>\n",
    "<br> <a href='#SortingDataFrames'>Sorting Data Frames</a>\n",
    "<br> <a href='#DataCleaning'>Data Cleaning</a>\n",
    "<br> <a href='#Iterating'>Iterating</a>\n",
    "<br> <a href='#PlottingDataFrames'>Plotting Data Frames</a>\n",
    "<br> <a href='#AddingRemovingJoining'>Adding, Removing and Joining</a>  \n",
    "    &emsp;&emsp; <a href='#AddingColumnDataFrame'>Adding a Column to a Data Frame</a> \n",
    "    <br> &emsp;&emsp; <a href='#InsertingColumnDataFrame'>Inserting a Column to a Data Frame</a> \n",
    "    <br> &emsp;&emsp; <a href='#AddingRowDataFrame'>Adding a Row to a Data Frame</a> \n",
    "<br> <a href='#Resampling'>Resampling</a> \n",
    "<br> <a href='#SavingDataFrame'>Saving a Data Frame</a>\n",
    "<br> <a href='#OtherWaysSaveProgramOutput'>Other Ways to Save Program Output</a> \n",
    "<br> <a href='#ReadingWritingTextFiles'>Reading and Writing Text Files</a> \n",
    "    <br> &emsp;&emsp; <a href='#WritingFiles'>Writing Files</a> \n",
    "    <br> &emsp;&emsp; <a href='#ReadingEditingFiles'>Reading and Editing Files</a> \n",
    "    <br> &emsp;&emsp; <a href='#BinaryFilesPicklingData'>Binary Files (\"Pickling\" Data)</a>\n",
    "        <br> &emsp;&emsp; &emsp;&emsp; <a href='#PicklingPandasDataFrame'>Pickling a Pandas Data Frame</a>\n",
    "    <br> &emsp;&emsp; <a href='#SavingDataNumpy'>Saving Data with Numpy</a>\n",
    "<br> <a href='#Summary'>Summary</a> \n",
    "<br> <a href='#TestYourselfExercises'>Test-Yourself Exercises</a>\n"
   ]
  },
  {
   "cell_type": "markdown",
   "metadata": {
    "slideshow": {
     "slide_type": "slide"
    }
   },
   "source": [
    "### Lesson Goal\n",
    "\n",
    "1. Importing files such as images, sound and text for use in your programs.\n",
    "2. Exporting data from your program and storing it in a file. \n",
    "\n",
    "### Fundamental programming concepts\n",
    " - Using data from different types of file within a Python program\n",
    " - Storing output that your program generates. "
   ]
  },
  {
   "cell_type": "markdown",
   "metadata": {},
   "source": [
    "#### Importing Objects\n",
    "Sometimes we want to use information in a program that isn't generated using pure code.\n",
    "\n",
    "Often this allows us to add features to a program that would be very time-consuming or difficult to produce in code, for example an image or a sound."
   ]
  },
  {
   "cell_type": "markdown",
   "metadata": {},
   "source": [
    "#### Exporting Objects\n",
    "Wtihin the programs we have studied so far, we have learnt to create variables to store information. \n",
    "\n",
    "    a = 10\n",
    "    \n",
    "These variables only exist within the program can cannot be accessed externally or when the program is not running."
   ]
  },
  {
   "cell_type": "markdown",
   "metadata": {},
   "source": [
    "Open `sample_data/game_template.py` and save it with a __new name__."
   ]
  },
  {
   "cell_type": "markdown",
   "metadata": {},
   "source": [
    "# Importing Objects\n",
    "It's important to note that there are multiple ways to imoprt and use non-Python data such as sound and images in a python file.\n",
    "\n",
    "As usual, we will be using Pygame.\n",
    "\n"
   ]
  },
  {
   "cell_type": "code",
   "execution_count": 6,
   "metadata": {},
   "outputs": [],
   "source": [
    "import pygame\n",
    "\n",
    "import math\n",
    "import random"
   ]
  },
  {
   "cell_type": "markdown",
   "metadata": {},
   "source": [
    "Some alternative libraries for working with:\n",
    "- sound\n",
    "     - https://wiki.python.org/moin/Audio/\n",
    "- images\n",
    "     - http://opencv-python-tutroals.readthedocs.io/en/latest/py_tutorials/py_gui/py_image_display/py_image_display.html\n",
    "     - https://pillow.readthedocs.io/en/3.1.x/reference/Image.html\n",
    "     - http://docs.python-guide.org/en/latest/scenarios/imaging/"
   ]
  },
  {
   "cell_type": "markdown",
   "metadata": {},
   "source": [
    "### Importing Images\n",
    "\n",
    "Any images used in a game should already be sized for how it should appear on the screen. \n",
    "\n",
    "For example don't try to import a  5000x5000 pixel image to a 800x600 window. \n",
    "\n",
    "A graphics program (even MS Paint) may be used to resize/crop an image before using it in your Python program.\n",
    "\n",
    "    pygame.image.load(\"../img/space.jpg\")\n",
    "\n",
    "*The file import path used in all examples in this tutorial is for a file located in the sample data folder of the ILAS_python_for_everyone repository.*"
   ]
  },
  {
   "cell_type": "markdown",
   "metadata": {},
   "source": [
    "This image of space is 800 x 600 pixels.\n",
    "\n",
    "<img src=\"img/space.jpg\" alt=\"Drawing\" style=\"width: 400px;\"/>\n",
    "\n",
    "The game window shoudl be the same size e.g.\n",
    "\n",
    "    window = pygame.display.set_mode((800, 600))"
   ]
  },
  {
   "cell_type": "markdown",
   "metadata": {},
   "source": [
    "To reference the image within the program we need to assign it to a variable:  \n",
    "\n",
    "    background = pygame.image.load(\"../img/space.jpg\")"
   ]
  },
  {
   "cell_type": "markdown",
   "metadata": {},
   "source": [
    "Finally, the image needs to be converted to a format Pygame can work with using the method `convert()`. \n",
    "\n",
    "    background = pygame.image.load(\"../img/space.jpg\").convert()"
   ]
  },
  {
   "cell_type": "markdown",
   "metadata": {},
   "source": [
    "Importing the image should be done *before* the main game loop as we only need to import the image once.\n",
    "\n",
    "We now need to *display* the image."
   ]
  },
  {
   "cell_type": "markdown",
   "metadata": {},
   "source": [
    "### Displaying an Image\n",
    "\n",
    "To display an image we use the command `blit`.\n",
    "\n",
    "This command needs to be *inside* the main game loop.\n",
    "\n",
    "    window.blit(background, [0, 0])\n",
    "    \n",
    "This displays the image starting at coordinate (0,0)\n",
    "\n",
    "We can use this command instead of:\n",
    "\n",
    "    window.fill(blue)\n"
   ]
  },
  {
   "cell_type": "markdown",
   "metadata": {},
   "source": [
    "We can also display images on top of the background for use in your game.\n",
    "\n",
    "Let's import another image:\n",
    "\n",
    "    player = pygame.image.load(\"../img/saucer.png\")\n",
    "\n",
    "And display the image at the coordinates (100, 100):\n",
    "\n",
    "    window.blit(player, (100,100))"
   ]
  },
  {
   "cell_type": "markdown",
   "metadata": {},
   "source": [
    "The order in which we import images is important.\n",
    "\n",
    "If the saucer is drawn *before* the background, the background will cover the saucer."
   ]
  },
  {
   "cell_type": "markdown",
   "metadata": {},
   "source": [
    "If we open the file `saucer.png`, we see that the image has no background.\n",
    "\n",
    "<img src=\"img/saucer.png\" alt=\"Drawing\" style=\"width: 400px;\"/>"
   ]
  },
  {
   "cell_type": "markdown",
   "metadata": {},
   "source": [
    "Let's consider what happens when we import the file `monster.gif`\n",
    "\n",
    "    monster = pygame.image.load(\"../img/monster.gif\")\n",
    "\n",
    "And display the image at the coordinates (100, 100):\n",
    "\n",
    "    window.blit(monster, (300,300))"
   ]
  },
  {
   "cell_type": "markdown",
   "metadata": {},
   "source": [
    "This image has a solid background.\n",
    "\n",
    "We need to remove the background of the image.\n",
    "\n",
    "<img src=\"img/monster.gif\" alt=\"Drawing\" style=\"width: 400px;\"/>"
   ]
  },
  {
   "cell_type": "markdown",
   "metadata": {},
   "source": [
    "We can remove the backround of an image by selecting a colour to make \"transparent\".\n",
    "\n",
    "    monster.set_colorkey(white)\n",
    "    \n",
    "The colour is defined as an RGB value, so do use the line above, we must have:\n",
    "\n",
    "    white = (255, 255, 255) \n",
    "    \n",
    "before it in the program.\n",
    "\n"
   ]
  },
  {
   "cell_type": "markdown",
   "metadata": {},
   "source": [
    "This method is therefore easiest if the background is either black or white.\n",
    "\n",
    "(It can be difficult to define the RGB value of other colours)."
   ]
  },
  {
   "cell_type": "markdown",
   "metadata": {},
   "source": [
    "This will work for files ending in .gif \n",
    "\n",
    "It does not work as well for files ending in .png and .jpg files. \n",
    "\n",
    "These formats change the image as part of the algorithm that makes the image smaller. \n",
    "\n",
    "To observe this try using the same method to import the files:\n",
    "- shuttle.jpg \n",
    "- spaceship.png"
   ]
  },
  {
   "cell_type": "markdown",
   "metadata": {},
   "source": [
    "### Moving an Image\n",
    "We move an imported image in exactly the same way as an image drawn using shapes; by changing the location of the image."
   ]
  },
  {
   "cell_type": "markdown",
   "metadata": {},
   "source": [
    "Let's create variables for the positions of the objects:\n",
    "\n",
    "        # 2.1 Position and velocity variables \n",
    "        monster_pos =[200, 200]                   \n",
    "        saucer_pos = [200, 25]\n",
    "    \n",
    "and use the variable names when drawing the objects:\n",
    "\n",
    "        window.blit(saucer, saucer_pos)\n",
    "        window.blit(monster, monster_pos)"
   ]
  },
  {
   "cell_type": "markdown",
   "metadata": {},
   "source": [
    "Let's also create variables for velocity:\n",
    " - the saucer does not move initially\n",
    " - the monster moves with random velocity\n",
    " \n",
    "         monster_vel = [random.randrange(2,4), random.randrange(1,3)]\n",
    "        if random.randrange(0,2) == 0:\n",
    "            monster_vel[x] *= -1\n",
    "        if random.randrange(0,2) == 0:\n",
    "            monster_vel[y] *= -1"
   ]
  },
  {
   "cell_type": "markdown",
   "metadata": {},
   "source": [
    "The velocity is used to update the position of each object each time the code loops.\n",
    "\n",
    "        # 4.2 Calculations\n",
    "        # 4.2.2 Update position\n",
    "        monster_pos[x] += monster_vel[x]\n",
    "        monster_pos[y] += monster_vel[y]\n",
    "        saucer_pos[x] += saucer_vel[x]\n",
    "        saucer_pos[y] += saucer_vel[y]"
   ]
  },
  {
   "cell_type": "markdown",
   "metadata": {},
   "source": [
    "We are now going to recycle two more blocks of code we learnt in the pong game:\n",
    "\n",
    "- the saucer position is controlled by the arrow keys\n",
    "- the monster bounces of the sides of the game window\n",
    "\n",
    "You can use your own code or the code in the example Pong file: `pong_example.py`"
   ]
  },
  {
   "cell_type": "markdown",
   "metadata": {},
   "source": [
    "*The saucer position is controlled by the arrow keys.*\n",
    "\n",
    "__Original (Pong) code:__\n",
    "\n",
    "    pressed = pygame.key.get_pressed()\n",
    "    if pressed[pygame.K_UP] & pressed[pygame.K_DOWN]: \n",
    "            pad2_vel[y] = 0\n",
    "        elif pressed[pygame.K_UP]: \n",
    "            pad2_vel[y] = -8\n",
    "        elif pressed[pygame.K_DOWN]: \n",
    "            pad2_vel[y] = 8\n",
    "        else: \n",
    "            pad2_vel[y] = 0\n",
    "            \n",
    "__New code:__            \n",
    "    \n",
    "    # 4.1 Event loop\n",
    "    # 4.1.1 : Key press  \n",
    "    pressed = pygame.key.get_pressed()\n",
    "    if pressed[pygame.K_UP] & pressed[pygame.K_DOWN]: \n",
    "            saucer_vel[y] = 0\n",
    "    elif pressed[pygame.K_UP]: \n",
    "            saucer_vel[y] = -8\n",
    "    elif pressed[pygame.K_DOWN]: \n",
    "            saucer_vel[y] = 8\n",
    "    else: \n",
    "            saucer_vel[y] = 0\n",
    "            \n",
    "    if pressed[pygame.K_LEFT] & pressed[pygame.K_RIGHT]: \n",
    "            saucer_vel[x] = 0\n",
    "    elif pressed[pygame.K_LEFT]: \n",
    "            saucer_vel[x] = -8\n",
    "    elif pressed[pygame.K_RIGHT]: \n",
    "            saucer_vel[x] = 8\n",
    "    else: \n",
    "            saucer_vel[x] = 0"
   ]
  },
  {
   "cell_type": "markdown",
   "metadata": {},
   "source": [
    "To stop the saucer going outside of the game window you may recyle the code to stop the pads going outside of the window in the pong game."
   ]
  },
  {
   "cell_type": "markdown",
   "metadata": {},
   "source": [
    "*The monster bounces of the sides of the game window*\n",
    "\n",
    "__Original (Pong) code:__\n",
    "\n",
    "    if ball_pos[x] > (win_width-radius) or ball_pos[x] < radius:\n",
    "        ball_vel[x] *= -1\n",
    "    if ball_pos[y] > (win_height-radius) or ball_pos[y] < radius:\n",
    "        ball_vel[y] *= -1\n",
    "        \n",
    "__New code:__\n",
    "\n",
    "    # 4.2.1 Reverse direction of travel if edge is reached\n",
    "    if monster_pos[x] > (800-120) or monster_pos[x] < -120:\n",
    "        monster_vel[x] *= -1\n",
    "    if monster_pos[y] > (600-90) or monster_pos[y] < -90:\n",
    "        monster_vel[y] *= -1"
   ]
  },
  {
   "cell_type": "markdown",
   "metadata": {},
   "source": [
    "##### What does this code do?\n",
    "\n",
    "    if monster_pos[x] > (800-120) or monster_pos[x] < -120:\n",
    "        monster_vel[x] *= -1\n",
    "    if monster_pos[y] > (600-90) or monster_pos[y] < -90:\n",
    "        monster_vel[y] *= -1\n",
    "        \n",
    "The monster image is treated as a rectangle.\n",
    "\n",
    "It's position is therefore the __top left__ corner of the rectangle.\n",
    "\n",
    "The width of the rectangle is 240 pixels (centre,x = 240/2 = 120)\n",
    "<br>The height of the rectangle is 180 pixels (centre,y = 180/2 = 90)"
   ]
  },
  {
   "cell_type": "markdown",
   "metadata": {},
   "source": [
    "# Rotating an Image\n",
    "Imported images can be rotated using built-in Python functions.\n",
    "\n",
    "This can be an advantage over using user drawn shapes.\n",
    "\n",
    "(To rotate a drawn shape e.g. polygon, you must instead write code to calculate the coordinates of the new rotated points.)"
   ]
  },
  {
   "cell_type": "markdown",
   "metadata": {},
   "source": [
    "Let's make the saucer rotate so that the top of it always points towards the mouse position.\n",
    "\n",
    "First we will find the angle we need to rotate the saucer by to allign the top with the mouse."
   ]
  },
  {
   "cell_type": "markdown",
   "metadata": {},
   "source": [
    "<img src=\"img/trig-example1.gif\" alt=\"Drawing\" style=\"width: 300px;\"/>\n",
    "\n",
    "In the example image the difference between the mouse position (A) and the \"spaceship\" position is: \n",
    "- 400 in x direction\n",
    "- 300 in y direction\n",
    "\n",
    "The rotation angle, z is found by:\n",
    "$$z = \\tan(\\frac{y_{diff}}{x_{diff}}) = \\tan(\\frac{300}{400})$$\n",
    "\n",
    "\n"
   ]
  },
  {
   "cell_type": "markdown",
   "metadata": {},
   "source": [
    "<img src=\"img/sohcahtoa.jpg\" alt=\"Drawing\" style=\"width: 400px;\"/>"
   ]
  },
  {
   "cell_type": "markdown",
   "metadata": {},
   "source": [
    "The library, `math` has a function to compute this equation, `atan2`.\n",
    "\n",
    "This function gives not only the correct angle, but the correct *orientation*.  \n",
    "\n",
    "If the saucer position is at the origin and the mouse is somewhere on the yellow circle, the *orientation* angle is defined as shown in the diagram:\n",
    "\n",
    "<img src=\"img/180_deg_axes.gif\" alt=\"Drawing\" style=\"width: 200px;\"/>\n"
   ]
  },
  {
   "cell_type": "markdown",
   "metadata": {},
   "source": [
    "So we first get the mouse postion:\n",
    "    \n",
    "    # 4.1.2 : Mouse position\n",
    "    mouse_pos = pygame.mouse.get_pos()"
   ]
  },
  {
   "cell_type": "markdown",
   "metadata": {},
   "source": [
    "Then we find the angle between the saucer and the mouse:\n",
    "\n",
    "    # 4.2.3 Angle between mouse and saucer\n",
    "    angle = math.atan2(-(mouse_pos[y]-(saucer_pos[y]+39)),\n",
    "                        (mouse_pos[x]-(saucer_pos[x]+80)))\n",
    "                        \n",
    "\n",
    "The width of the rectangle is 160 pixels (centre,x = 160/2 = 80)\n",
    "<br>The height of the rectangle is 78 pixels (centre,y = 78/2 = 39)\n",
    "                       \n",
    "- convert it from radians to degrees\n",
    "- add 90 degrees to point the top of the saucer towards the mous:\n",
    "    \n",
    "        angle = math.degrees(angle) + 90"
   ]
  },
  {
   "cell_type": "markdown",
   "metadata": {},
   "source": [
    "We rotate the saucer:\n",
    "    \n",
    "    # 4.2.4 Rotate the saucer\n",
    "    saucer_r = pygame.transform.rotate(saucer, angle)"
   ]
  },
  {
   "cell_type": "markdown",
   "metadata": {},
   "source": [
    "Lastly, we draw the rotated image *instead of* the original image:\n",
    "\n",
    "    # window.blit(saucer, saucer_pos)\n",
    "    window.blit(saucer_r, saucer_pos)\n",
    "    \n",
    "    "
   ]
  },
  {
   "cell_type": "markdown",
   "metadata": {},
   "source": [
    "### Interaction Between Images\n",
    "The last thing we will study is interaction between two different images.\n",
    "\n",
    "How does the program detect and respond to interaction (e.g. collision) between two objects.\n",
    "\n",
    "\n",
    "\n",
    "\n",
    "\n"
   ]
  },
  {
   "cell_type": "markdown",
   "metadata": {},
   "source": [
    "We have studied this process in user-defined geometric shapes.\n",
    "\n",
    "The process for imported imeages is similar, we treat the imported image as a rectangle.\n",
    "\n",
    "In this example, we will also consider how we deal with mutliple images by __iterating__ through a __list__.\n"
   ]
  },
  {
   "cell_type": "markdown",
   "metadata": {},
   "source": [
    "##### Example : Interaction Between Images\n",
    "\n",
    "To learn about interaction, we will use the following example...\n",
    "\n",
    "We are going to make a fireball shoot out the top of the saucer.\n",
    "\n",
    "The fireball will shoot out in the direction the saucer is pointing.\n",
    "\n",
    "If the fireball hits the monster, the monster will disappear."
   ]
  },
  {
   "cell_type": "code",
   "execution_count": null,
   "metadata": {},
   "outputs": [],
   "source": [
    "list to store shots"
   ]
  }
 ],
 "metadata": {
  "celltoolbar": "Slideshow",
  "kernelspec": {
   "display_name": "Python 3",
   "language": "python",
   "name": "python3"
  },
  "language_info": {
   "codemirror_mode": {
    "name": "ipython",
    "version": 3
   },
   "file_extension": ".py",
   "mimetype": "text/x-python",
   "name": "python",
   "nbconvert_exporter": "python",
   "pygments_lexer": "ipython3",
   "version": "3.6.5"
  }
 },
 "nbformat": 4,
 "nbformat_minor": 2
}
