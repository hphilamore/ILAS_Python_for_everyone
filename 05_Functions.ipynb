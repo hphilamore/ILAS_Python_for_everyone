{
 "cells": [
  {
   "cell_type": "markdown",
   "metadata": {
    "slideshow": {
     "slide_type": "slide"
    }
   },
   "source": [
    "## Please download the new class notes.\n",
    "### Step 1 : Navigate to the directory where your files are stored.  \n",
    "Open a terminal. \n",
    "<br>Using `cd`, navigate to *inside* the ILAS_Python_for_everyone folder on your computer. \n",
    "### Step 3 : Update the course notes by downloading the changes\n",
    "In the terminal type:\n",
    "\n",
    ">`git add -A\n",
    "git commit -m \"commit\"\n",
    "git fetch upstream\n",
    "git merge -X theirs upstream/master`\n"
   ]
  },
  {
   "cell_type": "markdown",
   "metadata": {
    "collapsed": true,
    "slideshow": {
     "slide_type": "slide"
    }
   },
   "source": [
    "# Functions\n",
    "\n",
    "<br> <a href='#Function'>What is a Function?</a>\n",
    "<br> <a href='#AnatomyFunction'>The Anatomy of a Function</a> \n",
    "\t<br> &emsp;&emsp; <a href='#FunctionChecklist'>Function Checklist</a> \n",
    "\t<br> &emsp;&emsp; <a href='#DocumentationString'>The Documentation String</a>\n",
    "    <br> &emsp;&emsp; <a href='#WritingFunctionsCodeReadable'>Writing Functions to make Code more Readable</a> \n",
    "        <br> &emsp;&emsp; &emsp;&emsp; <a href='#ExampleDrawingObjectsMultipleShapes'>Example : Drawing Objects with Multiple Shapes</a> \n",
    "    <br> &emsp;&emsp; <a href='#WritingFunctionsAvoidRepetition'>Writing Functions to Avoid Repetition</a> \n",
    "\t<br> &emsp;&emsp; <a href='#FunctionArguments'>Function Arguments</a> \n",
    "    <br> &emsp;&emsp; &emsp;&emsp; <a href='#SingleVariablesFunctionArguments'>Single Variables as Function Arguments</a>\n",
    "    <br> &emsp;&emsp; &emsp;&emsp; <a href='#DataStructuresFunctionArguments'>Data Structures as Function Arguments</a> \n",
    "    <br> &emsp;&emsp; &emsp;&emsp; &emsp;&emsp; <a href='#ExampleTrees'>Example: Trees</a> \n",
    "    <br> &emsp;&emsp; &emsp;&emsp; <a href='#FunctionsFunctionArguments'>Functions as Function Arguments</a> \n",
    "    <br> &emsp;&emsp; &emsp;&emsp; <a href='#RulesInputtingArguments'>Rules for Inputting Arguments</a> \n",
    "    <br> &emsp;&emsp; &emsp;&emsp; <a href='#NamedArguments'>Named Arguments</a> \n",
    "    <br> &emsp;&emsp; &emsp;&emsp; <a href='#DefaultKeywordArguments'>Default / Keyword Arguments</a>\n",
    "    <br> &emsp;&emsp; &emsp;&emsp; &emsp;&emsp; <a href='#ExampleBlueTrees'>Example: Blue Trees</a>\n",
    "        <br> &emsp;&emsp; &emsp;&emsp; &emsp;&emsp; <a href='#ExampleParticle'>Example: A Particle Moving with Constant Acceleration.</a> \n",
    "<br> <a href='#Scope'>Scope</a> \n",
    "\t<br> &emsp;&emsp; <a href='#ExampleLocalScope'>Example : Use of Local Scope</a> \n",
    "<br> <a href='#return'>`return`</a> \n",
    "<br> <a href='#ExamplesFunctionsOptimiseCode.'>Examples: using Functions to Optimise your Code. </a> \n",
    "<br> <a href='#Summary'>Summary</a> \n",
    "<br> <a href='#TestYourselfExercises'>Test-Yourself Exercises</a>\n",
    "<br> <a href='#ReviewExercises'>Review Exercises</a>"
   ]
  },
  {
   "cell_type": "markdown",
   "metadata": {
    "slideshow": {
     "slide_type": "slide"
    }
   },
   "source": [
    "### Lesson Goal\n",
    "\n",
    "1. Learn the format to construct a function \n",
    "2. Package an example program into functions \n",
    "\n",
    "### Fundamental programming concepts\n",
    " - Re-using code by encapsuating it in user-defined functions\n",
    " - File hierarchy"
   ]
  },
  {
   "cell_type": "markdown",
   "metadata": {
    "slideshow": {
     "slide_type": "slide"
    }
   },
   "source": [
    "Let’s start by finding out what a function is…"
   ]
  },
  {
   "cell_type": "markdown",
   "metadata": {
    "slideshow": {
     "slide_type": "slide"
    }
   },
   "source": [
    "<a id='Function'></a>\n",
    "## What is a Function?\n",
    "\n",
    "Functions are one of the most important concepts in programming.\n",
    "\n",
    "__Function__: A named section of a code that performs a specific task."
   ]
  },
  {
   "cell_type": "markdown",
   "metadata": {
    "slideshow": {
     "slide_type": "slide"
    }
   },
   "source": [
    "A function gives a section of a code a name. \n",
    " \n",
    "<table><tr><td> \n",
    "<img src='img/function1.png' style=\"width: 300px;\"> </td><td> \n",
    "<img src='img/function2.png' style=\"width: 550px;\"> </td><td> \n",
    "</table>"
   ]
  },
  {
   "cell_type": "markdown",
   "metadata": {
    "slideshow": {
     "slide_type": "slide"
    }
   },
   "source": [
    "This allows us to run the section of code by *calling* the name.\n",
    "\n",
    "<img src='img/function3.png' style=\"width: 300px;\"> \n",
    "    \n",
    "The section of the code that the name refers to is stored elsewhere.\n",
    "\n",
    "The main body of our code is much neater and easier to read.\n",
    " \n",
    "\n"
   ]
  },
  {
   "cell_type": "markdown",
   "metadata": {
    "slideshow": {
     "slide_type": "slide"
    }
   },
   "source": [
    "Using functions also makes it easy to use the same section of code multiple times. \n",
    "\n",
    "<img src='img/function4.png' style=\"width: 500px;\"> "
   ]
  },
  {
   "cell_type": "markdown",
   "metadata": {
    "slideshow": {
     "slide_type": "slide"
    }
   },
   "source": [
    "Functions are useful for repeating tasks. \n",
    "\n",
    "Computer code can be re-used multiple times, sometimes with different input data. \n",
    "\n",
    "Re-using code reduces the risk of making mistakes or errors. "
   ]
  },
  {
   "cell_type": "markdown",
   "metadata": {
    "slideshow": {
     "slide_type": "slide"
    }
   },
   "source": [
    "In mathematics, a function is a relation between __inputs__ and a set of permissible __outputs__.\n",
    "\n",
    "Example: The *function* relating $x$ to $x^2$ is:\n",
    "$$ \n",
    "f(x) = x \\cdot x\n",
    "$$"
   ]
  },
  {
   "cell_type": "markdown",
   "metadata": {
    "slideshow": {
     "slide_type": "slide"
    }
   },
   "source": [
    "In programming, a function behaves in a similar way. \n",
    "\n",
    "A function can take data as __input(s)__ and return __output(s)__.\n",
    "\n",
    "A simple function example:\n",
    " - Inputs: the coordinates of the vertices of a triangle.\n",
    " - Output: the area of the triangle. "
   ]
  },
  {
   "cell_type": "markdown",
   "metadata": {
    "slideshow": {
     "slide_type": "slide"
    }
   },
   "source": [
    "Note : Not all functions take inputs and not all functions return outputs as we will see...\n",
    "\n",
    " \n"
   ]
  },
  {
   "cell_type": "markdown",
   "metadata": {
    "slideshow": {
     "slide_type": "slide"
    }
   },
   "source": [
    "You are already familiar with some *built in* Python functions..."
   ]
  },
  {
   "cell_type": "markdown",
   "metadata": {
    "collapsed": true,
    "slideshow": {
     "slide_type": "slide"
    }
   },
   "source": [
    "`print()` \n",
    " \n",
    " __Input:__ a value or variable name specified within the parentheses\n",
    " \n",
    " __Output:__ a visible representation\n",
    "  "
   ]
  },
  {
   "cell_type": "code",
   "execution_count": 17,
   "metadata": {},
   "outputs": [
    {
     "name": "stdout",
     "output_type": "stream",
     "text": [
      "Today we will learn about functions\n"
     ]
    }
   ],
   "source": [
    "print(\"Today we will learn about functions\")"
   ]
  },
  {
   "cell_type": "markdown",
   "metadata": {
    "collapsed": true,
    "slideshow": {
     "slide_type": "slide"
    }
   },
   "source": [
    "`len()` \n",
    "  \n",
    "__Input:__ a data structure or variable name (asigned to a data structure) specified within the parentheses.\n",
    "\n",
    "__Output:__ the number of items in the data structure (in one dimension).\n",
    "  "
   ]
  },
  {
   "cell_type": "code",
   "execution_count": 18,
   "metadata": {},
   "outputs": [
    {
     "name": "stdout",
     "output_type": "stream",
     "text": [
      "35\n"
     ]
    }
   ],
   "source": [
    "print(len(\"Today we will learn about functions\"))"
   ]
  },
  {
   "cell_type": "markdown",
   "metadata": {
    "slideshow": {
     "slide_type": "slide"
    }
   },
   "source": [
    "`sorted()` \n",
    "\n",
    "__Input:__ a data structure or variable name (asigned to a data structure) specified within the parentheses. \n",
    "\n",
    "__Output:__ the data structure sorted by a rule determined by the data type.\n",
    "   "
   ]
  },
  {
   "cell_type": "code",
   "execution_count": 19,
   "metadata": {},
   "outputs": [
    {
     "name": "stdout",
     "output_type": "stream",
     "text": [
      "[' ', ' ', ' ', ' ', ' ', 'T', 'a', 'a', 'a', 'b', 'c', 'd', 'e', 'e', 'f', 'i', 'i', 'l', 'l', 'l', 'n', 'n', 'n', 'o', 'o', 'o', 'r', 's', 't', 't', 'u', 'u', 'w', 'w', 'y']\n"
     ]
    }
   ],
   "source": [
    "print(sorted(\"Today we will learn about functions\"))"
   ]
  },
  {
   "cell_type": "markdown",
   "metadata": {
    "slideshow": {
     "slide_type": "slide"
    }
   },
   "source": [
    "Most Python programs contain a number of *custom functions*. \n",
    "\n",
    "These are functions, created by the programmer (you!) to perform a specific task."
   ]
  },
  {
   "cell_type": "markdown",
   "metadata": {
    "slideshow": {
     "slide_type": "slide"
    }
   },
   "source": [
    "## The Anatomy of a Function\n",
    "<a id='AnatomyFunction'></a>\n",
    "\n",
    "\n",
    "Here is a python function in pseudocode:\n",
    "        \n",
    "        def my_function():\n",
    "            code to execute\n",
    "            more code to execute\n",
    "            \n",
    "\n"
   ]
  },
  {
   "cell_type": "markdown",
   "metadata": {
    "slideshow": {
     "slide_type": "slide"
    }
   },
   "source": [
    "For the example we studied earlier... \n",
    "<table><tr><td> \n",
    "<img src='img/function1.png' style=\"width: 300px;\"> </td><td> \n",
    "<img src='img/function2.png' style=\"width: 550px;\"> </td><td> \n",
    "</table>\n",
    "\n",
    "<br>...the function definition would therefore look like:\n",
    "    \n",
    "    \n",
    "         def my_function(r):\n",
    "            print(r)\n",
    "            r += 2\n",
    "            print(r)\n",
    "            my_list.append(r)\n",
    "            "
   ]
  },
  {
   "cell_type": "markdown",
   "metadata": {
    "slideshow": {
     "slide_type": "slide"
    }
   },
   "source": [
    "### Function Checklist\n",
    "<a id='FunctionChecklist'></a>\n",
    "A custom function is __declared__ using:\n",
    "1. The definition keyword, __`def`__.\n",
    "1. A __function name__ of your choice.\n",
    "1. __() parentheses__ which optionally contain __arguments__ (the *inputs* to the function)\n",
    "1. __: a colon__ character\n",
    "1. The __body code__ to be executed when the function is *called*.\n",
    "1. An optional __return__ statement (the *output* of the function)\n",
    "\n",
    "<img src=\"img/function_anotated.png\" alt=\"Drawing\" style=\"width: 600px;\"/>\n"
   ]
  },
  {
   "cell_type": "markdown",
   "metadata": {
    "slideshow": {
     "slide_type": "slide"
    }
   },
   "source": [
    "Below is an example of a Python function.\n"
   ]
  },
  {
   "cell_type": "code",
   "execution_count": 5,
   "metadata": {},
   "outputs": [
    {
     "name": "stdout",
     "output_type": "stream",
     "text": [
      "8\n"
     ]
    }
   ],
   "source": [
    "def sum_and_increment(a, b):    \n",
    "    c = a + b + 1\n",
    "    return c\n",
    "\n",
    "d =sum_and_increment(2, 3)\n",
    "print(sum_and_increment(2, 5))"
   ]
  },
  {
   "cell_type": "markdown",
   "metadata": {
    "slideshow": {
     "slide_type": "slide"
    }
   },
   "source": [
    "__Function name:__  `sum_and_increment`\n",
    "\n",
    "__Arguments:__ \n",
    "<br>`a` and `b`\n",
    "<br> Function inputs are placed within () parentheses.\n",
    "\n",
    "  ```python\n",
    "  def sum_and_increment(a, b): \n",
    "  \n",
    "  ```\n",
    " \n",
    "\n"
   ]
  },
  {
   "cell_type": "markdown",
   "metadata": {
    "slideshow": {
     "slide_type": "slide"
    }
   },
   "source": [
    "__Body:__ \n",
    "<br>The code to be executed when the function is called. \n",
    "<br>Indented (typically four spaces, automatic).  \n",
    "\n",
    "  ```python\n",
    "    def sum_and_increment(a, b): \n",
    "          c = a + b + 1\n",
    "\n",
    "  ```"
   ]
  },
  {
   "cell_type": "markdown",
   "metadata": {
    "slideshow": {
     "slide_type": "slide"
    }
   },
   "source": [
    "__`return`__ statement: \n",
    "<br>Defines the output of the function.\n",
    "<br>Often placed at the end of a function.\n",
    "\n",
    "\n",
    "  ```python\n",
    "    def sum_and_increment(a, b): \n",
    "          c = a + b + 1\n",
    "          return c\n",
    "    \n",
    "  ```"
   ]
  },
  {
   "cell_type": "markdown",
   "metadata": {
    "slideshow": {
     "slide_type": "slide"
    }
   },
   "source": [
    "To execute (*call*) the function, type:\n",
    " - a variable to store the output if the function `return`s a value\n",
    " - the function name\n",
    " - any arguments "
   ]
  },
  {
   "cell_type": "code",
   "execution_count": 21,
   "metadata": {},
   "outputs": [
    {
     "name": "stdout",
     "output_type": "stream",
     "text": [
      "8\n"
     ]
    }
   ],
   "source": [
    "m = sum_and_increment(3, 4)\n",
    "print(m)  # Expect 8"
   ]
  },
  {
   "cell_type": "code",
   "execution_count": 22,
   "metadata": {
    "slideshow": {
     "slide_type": "-"
    }
   },
   "outputs": [
    {
     "name": "stdout",
     "output_type": "stream",
     "text": [
      "21\n"
     ]
    }
   ],
   "source": [
    "m = 10\n",
    "n = sum_and_increment(m, m)\n",
    "print(n)  # Expect 21"
   ]
  },
  {
   "cell_type": "code",
   "execution_count": 23,
   "metadata": {
    "slideshow": {
     "slide_type": "subslide"
    }
   },
   "outputs": [
    {
     "name": "stdout",
     "output_type": "stream",
     "text": [
      "12\n"
     ]
    }
   ],
   "source": [
    "l = 5\n",
    "m = 6\n",
    "n = sum_and_increment(m, l)\n",
    "print(n) "
   ]
  },
  {
   "cell_type": "markdown",
   "metadata": {
    "slideshow": {
     "slide_type": "slide"
    }
   },
   "source": [
    "<a id='DocumentationString'></a>\n",
    "### The Documentation String\n",
    "It is best practise to include a *documentation string* (\"docstring\").\n",
    " - Describes __in words__ what the function does.\n",
    " - Begins and end with `\"\"\"`.\n",
    " - *Optional* - however it makes your code much more understandadble. "
   ]
  },
  {
   "cell_type": "code",
   "execution_count": 24,
   "metadata": {
    "slideshow": {
     "slide_type": "slide"
    }
   },
   "outputs": [],
   "source": [
    "def sum_and_increment(a, b):\n",
    "    \"\"\"\n",
    "    Return the sum of a and b, plus 1\n",
    "    \"\"\"\n",
    "    c = a + b + 1\n",
    "    return c\n"
   ]
  },
  {
   "cell_type": "markdown",
   "metadata": {
    "slideshow": {
     "slide_type": "slide"
    }
   },
   "source": [
    "A function does not necessarily:\n",
    "- take input arguments\n",
    "- return output variables\n",
    "\n",
    "__Example__\n",
    "<br>A function with:\n",
    "- no input arguments - empty () parentheses\n",
    "- no output variables - no `return` statement "
   ]
  },
  {
   "cell_type": "code",
   "execution_count": 25,
   "metadata": {},
   "outputs": [
    {
     "name": "stdout",
     "output_type": "stream",
     "text": [
      "The function 'print_message' has been called.\n"
     ]
    }
   ],
   "source": [
    "def print_message():\n",
    "    print(\"The function 'print_message' has been called.\")\n",
    "\n",
    "print_message()"
   ]
  },
  {
   "cell_type": "markdown",
   "metadata": {
    "slideshow": {
     "slide_type": "slide"
    }
   },
   "source": [
    "## Writing Functions to Make Code More Readable\n",
    "<a id='WritingFunctionsCodeReadable'></a>\n",
    "Writing functions allows us to group lines of code that belong to a single operation.\n",
    "\n",
    "Let's do an example using the pygame library...\n"
   ]
  },
  {
   "cell_type": "markdown",
   "metadata": {
    "slideshow": {
     "slide_type": "slide"
    }
   },
   "source": [
    "### Example : Drawing Objects with Multiple Shapes\n",
    "<a id='ExampleDrawingObjectsMultipleShapes'></a>\n",
    "We begin with the basic code you need to write a game.\n",
    "\n",
    "Open : sample_data/game_template.py\n",
    "\n",
    "Select File >> Save as...\n",
    "\n",
    "Save your file as tree.py"
   ]
  },
  {
   "cell_type": "code",
   "execution_count": 26,
   "metadata": {
    "slideshow": {
     "slide_type": "slide"
    }
   },
   "outputs": [],
   "source": [
    "# 0. Import libraries\n",
    "import pygame \n",
    "\n",
    "# 1. Initailise the pygame library\n",
    "pygame.init()\n",
    "\n",
    "# 2. Variables\n",
    "black = (0,0,0)\n",
    "white = (255, 255, 255)\n",
    "green = (0, 255, 0)\n",
    "\n",
    "# 3. Launch a game window\n",
    "window = pygame.display.set_mode((600, 400))"
   ]
  },
  {
   "cell_type": "code",
   "execution_count": 27,
   "metadata": {
    "slideshow": {
     "slide_type": "slide"
    }
   },
   "outputs": [
    {
     "ename": "NameError",
     "evalue": "name 'blue' is not defined",
     "output_type": "error",
     "traceback": [
      "\u001b[0;31m---------------------------------------------------------------------------\u001b[0m",
      "\u001b[0;31mNameError\u001b[0m                                 Traceback (most recent call last)",
      "\u001b[0;32m<ipython-input-27-6acbb54ab735>\u001b[0m in \u001b[0;36m<module>\u001b[0;34m()\u001b[0m\n\u001b[1;32m     10\u001b[0m \u001b[0;34m\u001b[0m\u001b[0m\n\u001b[1;32m     11\u001b[0m     \u001b[0;31m# 6. Draw\u001b[0m\u001b[0;34m\u001b[0m\u001b[0;34m\u001b[0m\u001b[0m\n\u001b[0;32m---> 12\u001b[0;31m     \u001b[0mwindow\u001b[0m\u001b[0;34m.\u001b[0m\u001b[0mfill\u001b[0m\u001b[0;34m(\u001b[0m\u001b[0mblue\u001b[0m\u001b[0;34m)\u001b[0m\u001b[0;34m\u001b[0m\u001b[0m\n\u001b[0m\u001b[1;32m     13\u001b[0m \u001b[0;34m\u001b[0m\u001b[0m\n\u001b[1;32m     14\u001b[0m     \u001b[0;31m# 7. Update display\u001b[0m\u001b[0;34m\u001b[0m\u001b[0;34m\u001b[0m\u001b[0m\n",
      "\u001b[0;31mNameError\u001b[0m: name 'blue' is not defined"
     ]
    }
   ],
   "source": [
    "# 4. Set up the main game loop\n",
    "while True:\n",
    "    \n",
    "    # 5. Process events\n",
    "    event = pygame.event.poll()\n",
    "    \n",
    "    if event.type == pygame.QUIT:        \n",
    "        pygame.quit()\n",
    "        sys.exit()  \n",
    "        \n",
    "    # 6. Draw\n",
    "    window.fill(blue)\n",
    "\n",
    "    # 7. Update display\n",
    "    pygame.display.update()\n",
    "    \n",
    "    # 8. Frame rate\n",
    "    clock = pygame.time.Clock().tick(60)"
   ]
  },
  {
   "cell_type": "markdown",
   "metadata": {
    "slideshow": {
     "slide_type": "slide"
    }
   },
   "source": [
    "Add the following three lines to Section 5. Draw:"
   ]
  },
  {
   "cell_type": "code",
   "execution_count": null,
   "metadata": {},
   "outputs": [],
   "source": [
    "pygame.draw.rect(window, black, [160, 300, 30, 45])\n",
    "pygame.draw.polygon(window, green, [[250, 300], [175, 150], [100, 300]])\n",
    "pygame.draw.polygon(window, green, [[240, 250], [175, 130], [110, 250]])"
   ]
  },
  {
   "cell_type": "markdown",
   "metadata": {
    "slideshow": {
     "slide_type": "slide"
    }
   },
   "source": [
    "The whole section should look like this:\n",
    "<br>(You can choose any colur you want)."
   ]
  },
  {
   "cell_type": "code",
   "execution_count": null,
   "metadata": {},
   "outputs": [],
   "source": [
    "# 5. Draw\n",
    "window.fill(white)\n",
    "\n",
    "pygame.draw.rect(window, black, [160, 300, 30, 45])\n",
    "pygame.draw.polygon(window, green, [[250, 300], [175, 150], [100, 300]])\n",
    "pygame.draw.polygon(window, green, [[240, 250], [175, 130], [110, 250]])"
   ]
  },
  {
   "cell_type": "markdown",
   "metadata": {
    "slideshow": {
     "slide_type": "slide"
    }
   },
   "source": [
    "Run the code using Spyder."
   ]
  },
  {
   "cell_type": "markdown",
   "metadata": {
    "slideshow": {
     "slide_type": "slide"
    }
   },
   "source": [
    "The code draws a tree.\n",
    "\n",
    "However, this is not obvious from looking at the code."
   ]
  },
  {
   "cell_type": "markdown",
   "metadata": {
    "slideshow": {
     "slide_type": "slide"
    }
   },
   "source": [
    "Therefore, it can be useful to *write a function* to draw a tree.\n",
    "\n",
    "1. The definition keyword, __`def`__.\n",
    "1. A __function name__ of your choice.\n",
    "1. __() parentheses__ which optionally contain __arguments__ - NOT NEEDED HERE\n",
    "1. __: a colon__ character\n",
    "1. Docstring\n",
    "1. The __body code__ to be executed when the function is *called*.\n",
    "1. An optional __return__ statement (the *output* of the function) - NOT NEEDED HERE"
   ]
  },
  {
   "cell_type": "code",
   "execution_count": null,
   "metadata": {},
   "outputs": [],
   "source": [
    "# A function to draw a tree\n",
    "\n",
    "# original code\n",
    "def tree():\n",
    "    \"\"\"\n",
    "    Draws a tree\n",
    "    \"\"\"\n",
    "    pygame.draw.rect(window, black, [160, 300, 30, 45])\n",
    "    pygame.draw.polygon(window, green, [[250, 300], [175, 150], [100, 300]])\n",
    "    pygame.draw.polygon(window, green, [[240, 250], [175, 130], [110, 250]])\n",
    "    "
   ]
  },
  {
   "cell_type": "markdown",
   "metadata": {
    "slideshow": {
     "slide_type": "slide"
    }
   },
   "source": [
    "Functions should be defined at the top of a program before or after variables."
   ]
  },
  {
   "cell_type": "markdown",
   "metadata": {
    "slideshow": {
     "slide_type": "slide"
    }
   },
   "source": [
    "\n",
    "\n",
    "The top of your program should now look like this:\n",
    "\n",
    "    # 0. Import libraries\n",
    "    import pygame \n",
    "\n",
    "    # 1. Initailise the pygame library\n",
    "    pygame.init()\n",
    "\n",
    "    # FUNCTION DEFINITIONS\n",
    "    def tree():\n",
    "        \"Draws a tree\"\n",
    "        pygame.draw.rect(window, black, [160, 300, 30, 45])\n",
    "        pygame.draw.polygon(window, green, [[250, 300], [175, 150], [100, 300]])\n",
    "        pygame.draw.polygon(window, green, [[240, 250], [175, 130], [110, 250]])\n",
    "        \n",
    "        \n",
    "    # 2. Variables\n",
    "    black = (0,0,0)\n",
    "    white = (255, 255, 255)\n",
    "    red =   (255, 0, 0)\n",
    "    green = (0, 255, 0)\n",
    "    blue =  (0, 0, 255)"
   ]
  },
  {
   "cell_type": "markdown",
   "metadata": {
    "slideshow": {
     "slide_type": "slide"
    }
   },
   "source": [
    "You can now replace the code in the main body of the program:"
   ]
  },
  {
   "cell_type": "code",
   "execution_count": null,
   "metadata": {},
   "outputs": [],
   "source": [
    "# 5. Draw\n",
    "window.fill(white)\n",
    "\n",
    "# pygame.draw.rect(window, black, [160, 300, 30, 45])\n",
    "# pygame.draw.polygon(window, green, [[250, 300], [175, 150], [100, 300]])\n",
    "# pygame.draw.polygon(window, green, [[240, 250], [175, 130], [110, 250]])\n",
    "tree()"
   ]
  },
  {
   "cell_type": "markdown",
   "metadata": {
    "slideshow": {
     "slide_type": "slide"
    }
   },
   "source": [
    "A more complete program might therefore include code that looks something like:\n",
    "    \n",
    "        draw_tree()\n",
    "        draw_house()\n",
    "        draw_car()"
   ]
  },
  {
   "cell_type": "markdown",
   "metadata": {
    "slideshow": {
     "slide_type": "slide"
    }
   },
   "source": [
    "## Writing Functions to Avoid Repetition\n",
    "<a id='WritingFunctionsAvoidRepetition'></a>\n",
    "As you begin to write longer code, the benefit of using functions becomes more apparent.\n",
    "\n",
    "In the seminar on Control Flow we studied `if` and `else`..."
   ]
  },
  {
   "cell_type": "markdown",
   "metadata": {
    "slideshow": {
     "slide_type": "slide"
    }
   },
   "source": [
    "In the example below, the program repeats the series of `if-elif-else` statements for values in the range 0 to 3."
   ]
  },
  {
   "cell_type": "code",
   "execution_count": null,
   "metadata": {},
   "outputs": [],
   "source": [
    "for x in range(3):   \n",
    "    if x > 10:\n",
    "        print(0)\n",
    "    elif x > 5:\n",
    "        print(x*x)\n",
    "    elif x > 0:\n",
    "        print(x**3)\n",
    "    else:\n",
    "        print(x)"
   ]
  },
  {
   "cell_type": "markdown",
   "metadata": {
    "slideshow": {
     "slide_type": "slide"
    }
   },
   "source": [
    "We can encapsulate the code that we want to repeat in a function"
   ]
  },
  {
   "cell_type": "code",
   "execution_count": 6,
   "metadata": {},
   "outputs": [],
   "source": [
    "def process_value(x):\n",
    "    \"Return a value that depends on the input value x \"\n",
    "    if x > 10:\n",
    "        print(0)\n",
    "    elif x > 5:\n",
    "        print(x*x)\n",
    "    elif x > 0:\n",
    "        print(x**3)\n",
    "    else:\n",
    "        print(x)"
   ]
  },
  {
   "cell_type": "markdown",
   "metadata": {
    "slideshow": {
     "slide_type": "slide"
    }
   },
   "source": [
    "To call the function\n",
    "<br>e.g. for the input argument 3"
   ]
  },
  {
   "cell_type": "code",
   "execution_count": 7,
   "metadata": {},
   "outputs": [
    {
     "name": "stdout",
     "output_type": "stream",
     "text": [
      "125\n"
     ]
    }
   ],
   "source": [
    "process_value(5)"
   ]
  },
  {
   "cell_type": "markdown",
   "metadata": {
    "slideshow": {
     "slide_type": "slide"
    }
   },
   "source": [
    "... which makes our original code that applies the `if-elif-else` statements to all values in the range 0 to 3: shorter and much more readable:"
   ]
  },
  {
   "cell_type": "code",
   "execution_count": null,
   "metadata": {},
   "outputs": [],
   "source": [
    "# calling the function within a for loop...\n",
    "for x in range(3):\n",
    "    process_value(x)"
   ]
  },
  {
   "cell_type": "markdown",
   "metadata": {
    "slideshow": {
     "slide_type": "slide"
    }
   },
   "source": [
    "The benefit of using a function is more obvious where it removes the need to write out code multiple times.\n",
    "\n",
    "e.g. repeating the `if-elif-else` statement every time we want to use it. \n",
    "\n"
   ]
  },
  {
   "cell_type": "code",
   "execution_count": null,
   "metadata": {
    "slideshow": {
     "slide_type": "slide"
    }
   },
   "outputs": [],
   "source": [
    "x = 2\n",
    "\n",
    "if x > 10:\n",
    "    print(0)\n",
    "elif x > 5:\n",
    "    print(x*x)\n",
    "elif x > 0:\n",
    "    print(x**3)\n",
    "else:\n",
    "    print(x)\n",
    "    \n",
    "x *= 6\n",
    "\n",
    "if x > 10:\n",
    "    print(0)\n",
    "elif x > 5:\n",
    "    print(x*x)\n",
    "elif x > 0:\n",
    "    print(x**3)\n",
    "else:\n",
    "    print(x)"
   ]
  },
  {
   "cell_type": "code",
   "execution_count": null,
   "metadata": {
    "slideshow": {
     "slide_type": "slide"
    }
   },
   "outputs": [],
   "source": [
    "x = 2\n",
    "\n",
    "process_value(x)\n",
    "    \n",
    "x *= 6\n",
    "\n",
    "process_value(x)"
   ]
  },
  {
   "cell_type": "markdown",
   "metadata": {
    "slideshow": {
     "slide_type": "slide"
    }
   },
   "source": [
    "A scenario where we might want to use a block of code multiple times is when drawing an object (e.g. a tree) at multiple locations.\n",
    "\n",
    "<img src='img/trees.png' style=\"width: 300px;\"> \n",
    "\n",
    "We can specify where we want to place the trees using function arguments..."
   ]
  },
  {
   "cell_type": "markdown",
   "metadata": {
    "slideshow": {
     "slide_type": "slide"
    }
   },
   "source": [
    "## Function Arguments\n",
    "<a id='FunctionArguments'></a>"
   ]
  },
  {
   "cell_type": "markdown",
   "metadata": {
    "slideshow": {
     "slide_type": "slide"
    }
   },
   "source": [
    "### What can be passed as a function argument?\n",
    "\n",
    "*Object* types that can be passed as arguments to functions include:\n",
    "- single variables (`int`, `float`...)\n",
    "- data structures (`list`, `array`...)\n",
    "- other functions \n",
    "\n"
   ]
  },
  {
   "cell_type": "markdown",
   "metadata": {
    "slideshow": {
     "slide_type": "slide"
    }
   },
   "source": [
    "<a id='SingleVariablesFunctionArguments'></a>\n",
    "### Single Variables as Function Arguments. \n",
    "We can define the position of a tree by how far it is offset from an initial set of x,y coordinates.\n"
   ]
  },
  {
   "cell_type": "code",
   "execution_count": null,
   "metadata": {},
   "outputs": [],
   "source": [
    "# original code\n",
    "\n",
    "def tree(x, y):\n",
    "    \"Draws a tree\"\n",
    "    pygame.draw.rect(window, black, [160+x, 300+y, 30, 45])\n",
    "    pygame.draw.polygon(window, green, [[250+x, 300+y], [175+x, 150+y], [100+x, 300+y]])\n",
    "    pygame.draw.polygon(window, green, [[240+x, 250+y], [175+x, 130+y], [110+x, 250+y]])"
   ]
  },
  {
   "cell_type": "code",
   "execution_count": null,
   "metadata": {
    "slideshow": {
     "slide_type": "slide"
    }
   },
   "outputs": [],
   "source": [
    "# Draw a tree at original position\n",
    "tree(0, 0)\n",
    "    \n",
    "\n",
    "# Draw tree at offset (x, y) = (100, -100)\n",
    "tree(100, -100)"
   ]
  },
  {
   "cell_type": "markdown",
   "metadata": {
    "slideshow": {
     "slide_type": "slide"
    }
   },
   "source": [
    "\n",
    "If we want to draw multiple objects, it can be convenient to express their coordinates usign a data structure.\n",
    "\n",
    "    trees = [[0, 0], [200, -150], [350, -150]]\n",
    "    \n",
    "    for t in trees:\n",
    "        tree(t[0], t[1])\n",
    "        "
   ]
  },
  {
   "cell_type": "markdown",
   "metadata": {
    "slideshow": {
     "slide_type": "slide"
    }
   },
   "source": [
    "<a id='DataStructuresFunctionArguments'></a>\n",
    "### Data Structures as Function Arguments. \n",
    "\n",
    "We can also write a function that accepts a data structure as an argument\n",
    "\n",
    "<a id='ExampleTrees'></a>\n",
    "#### Example: Trees"
   ]
  },
  {
   "cell_type": "code",
   "execution_count": null,
   "metadata": {
    "slideshow": {
     "slide_type": "slide"
    }
   },
   "outputs": [],
   "source": [
    "def draw_trees(trees):\n",
    "    \"Draws trees\"\n",
    "    \n",
    "    for t in trees:\n",
    "        \n",
    "        x = t[0]\n",
    "        y = t[1]\n",
    "        \n",
    "        pygame.draw.rect(window, black, [160+x, 300+y, 30, 45])\n",
    "        pygame.draw.polygon(window, green, [[250+x, 300+y], [175+x, 150+y], [100+x, 300+y]])\n",
    "        pygame.draw.polygon(window, green, [[240+x, 250+y], [175+x, 130+y], [110+x, 250+y]])"
   ]
  },
  {
   "cell_type": "markdown",
   "metadata": {
    "slideshow": {
     "slide_type": "slide"
    }
   },
   "source": [
    "<a id='FunctionsFunctionArguments'></a>\n",
    "### Functions as Function Arguments. \n",
    "Consider the two functions.\n",
    "<br>The docstring of each function explains what it does."
   ]
  },
  {
   "cell_type": "code",
   "execution_count": 8,
   "metadata": {},
   "outputs": [
    {
     "name": "stdout",
     "output_type": "stream",
     "text": [
      "-1\n",
      "True\n"
     ]
    }
   ],
   "source": [
    "# Function A\n",
    "def f0(y):\n",
    "    \"Computes y^2 - 10\"\n",
    "    return y*y - 10\n",
    "\n",
    "# Function B\n",
    "def is_positive(x):\n",
    "    \"Checks if x is positive\"\n",
    "    return x > 0\n",
    "\n",
    "print(f0(3))\n",
    "print(is_positive(3))"
   ]
  },
  {
   "cell_type": "markdown",
   "metadata": {
    "slideshow": {
     "slide_type": "slide"
    }
   },
   "source": [
    "Let's say we want to test if $y^2 - 1$ (*Function A*) is positive (*Function B*).\n",
    "\n",
    "We can nest one function within another function:"
   ]
  },
  {
   "cell_type": "code",
   "execution_count": null,
   "metadata": {},
   "outputs": [],
   "source": [
    "print(is_positive( f0(3) ))"
   ]
  },
  {
   "cell_type": "markdown",
   "metadata": {
    "slideshow": {
     "slide_type": "slide"
    }
   },
   "source": [
    "Alternatively we can re-write Function B to take a function and a variable as *seperate* input arguments: "
   ]
  },
  {
   "cell_type": "code",
   "execution_count": null,
   "metadata": {},
   "outputs": [],
   "source": [
    "# Function A\n",
    "def f0(y):\n",
    "    \"Computes y^2 - 1\"\n",
    "    return y*y - 10\n",
    "\n",
    "# Function B\n",
    "\n",
    "# def is_positive(x):\n",
    "#     \"Checks if x is positive\"\n",
    "#     return x > 0\n",
    "\n",
    "def is_positive(f, x):\n",
    "    \"Checks if the function value f(x) is positive\"\n",
    "    return f(x) > 0\n",
    "\n",
    "print(is_positive(f0, 3))\n",
    "    \n"
   ]
  },
  {
   "cell_type": "markdown",
   "metadata": {
    "slideshow": {
     "slide_type": "slide"
    }
   },
   "source": [
    "This is useful, for example, where the use of the function depends on the input value.\n",
    "\n",
    "This time *Function B* includes `if-else`:"
   ]
  },
  {
   "cell_type": "code",
   "execution_count": 9,
   "metadata": {},
   "outputs": [
    {
     "name": "stdout",
     "output_type": "stream",
     "text": [
      "True\n",
      "False\n"
     ]
    }
   ],
   "source": [
    "# Function B\n",
    "def is_positive(f, x):\n",
    "    \"Checks if the function value f(x) is positive\"\n",
    "    # odd\n",
    "    if x%2:\n",
    "        return f(x) > 0\n",
    "    # even\n",
    "    else:\n",
    "        return x > 0\n",
    "\n",
    "print(is_positive(f0, 2))\n",
    "print(is_positive(f0, 3))"
   ]
  },
  {
   "cell_type": "markdown",
   "metadata": {
    "slideshow": {
     "slide_type": "slide"
    }
   },
   "source": [
    "Multiple functions can be input as arguments."
   ]
  },
  {
   "cell_type": "code",
   "execution_count": 10,
   "metadata": {},
   "outputs": [
    {
     "name": "stdout",
     "output_type": "stream",
     "text": [
      "False\n",
      "False\n"
     ]
    }
   ],
   "source": [
    "# Function A\n",
    "def f0(y):\n",
    "    \"Computes y^2 - 1\"\n",
    "    return y*y - 10\n",
    "\n",
    "\n",
    "# Function A'\n",
    "def f1(y):\n",
    "    \"Computes y^2 - 1\"\n",
    "    return y*y*y - 10\n",
    "\n",
    "\n",
    "# Function B\n",
    "def is_positive(x, f_0, f_1):\n",
    "    \"Checks if the function value f(x) is positive\"\n",
    "    if x%2:\n",
    "        return f_0(x) > 0\n",
    "    else:\n",
    "        return f_1(x) > 0\n",
    "    \n",
    "    \n",
    "print(is_positive(2, f0, f1))\n",
    "print(is_positive(3, f0, f1))"
   ]
  },
  {
   "cell_type": "markdown",
   "metadata": {
    "slideshow": {
     "slide_type": "slide"
    }
   },
   "source": [
    "### Rules for Inputting Arguments\n",
    "<a id='RulesInputtingArguments'></a>"
   ]
  },
  {
   "cell_type": "markdown",
   "metadata": {
    "slideshow": {
     "slide_type": "slide"
    }
   },
   "source": [
    "It is important input arguments in the correct order.  "
   ]
  },
  {
   "cell_type": "code",
   "execution_count": null,
   "metadata": {
    "slideshow": {
     "slide_type": "slide"
    }
   },
   "outputs": [],
   "source": [
    "def sum_and_increment(a, b):\n",
    "            \"\"\"\"\n",
    "            Return the sum of a and b, plus 1\n",
    "            \"\"\"\n",
    "            c = a + b + 1\n",
    "            return c"
   ]
  },
  {
   "cell_type": "markdown",
   "metadata": {
    "slideshow": {
     "slide_type": "-"
    }
   },
   "source": [
    "The function `sum_and_increment` finds the sum of:\n",
    " - the first argument, `a`\n",
    " - the second argument `b`\n",
    " - 1\n",
    " \n",
    "If the order of a and b is switched, the result is the same.\n"
   ]
  },
  {
   "cell_type": "code",
   "execution_count": 11,
   "metadata": {},
   "outputs": [
    {
     "name": "stdout",
     "output_type": "stream",
     "text": [
      "8\n",
      "8\n"
     ]
    }
   ],
   "source": [
    "print(sum_and_increment(3,4))\n",
    "print(sum_and_increment(4,3))"
   ]
  },
  {
   "cell_type": "markdown",
   "metadata": {
    "slideshow": {
     "slide_type": "slide"
    }
   },
   "source": [
    "However, if we subtract one argument from the other, the result depends on the input order: "
   ]
  },
  {
   "cell_type": "code",
   "execution_count": 12,
   "metadata": {},
   "outputs": [
    {
     "name": "stdout",
     "output_type": "stream",
     "text": [
      "0\n",
      "2\n"
     ]
    }
   ],
   "source": [
    "def subtract_and_increment(a, b):\n",
    "    \"\"\"\"\n",
    "    Return a minus b, plus 1\n",
    "    \"\"\"\n",
    "    c = a - b + 1\n",
    "    return c\n",
    "\n",
    "print(subtract_and_increment(3,4))\n",
    "print(subtract_and_increment(4,3))"
   ]
  },
  {
   "cell_type": "markdown",
   "metadata": {
    "slideshow": {
     "slide_type": "slide"
    }
   },
   "source": [
    "### Named Arguments\n",
    "<a id='NamedArguments'></a>\n",
    "It can be easy to make a mistake in the input order, leading to incorrect output.  \n",
    "\n",
    "We can reduce this risk by giving inputs as *named* arguments. \n",
    "\n",
    "When we use named arguments, the order of input does not matter.  "
   ]
  },
  {
   "cell_type": "code",
   "execution_count": 14,
   "metadata": {
    "slideshow": {
     "slide_type": "-"
    }
   },
   "outputs": [
    {
     "name": "stdout",
     "output_type": "stream",
     "text": [
      "0\n",
      "2\n"
     ]
    }
   ],
   "source": [
    "def subtract_and_increment(a, b):\n",
    "    \"Return a minus b, plus 1\"\n",
    "    c = a - b + 1\n",
    "    return c\n",
    "\n",
    "alpha = 3\n",
    "beta = 4\n",
    "\n",
    "print(subtract_and_increment(a=alpha, b=beta))\n",
    "print(subtract_and_increment(b=beta, a=alpha))  "
   ]
  },
  {
   "cell_type": "markdown",
   "metadata": {
    "slideshow": {
     "slide_type": "slide"
    }
   },
   "source": [
    "<a id='DefaultKeywordArguments'></a>\n",
    "### Default / Keyword Arguments\n",
    "\n",
    "'Default' or 'keyword' arguments have a default initial value.\n",
    "\n",
    "The default value can be overridden when the function is called. \n",
    "\n",
    "In some cases it just saves the programmer effort - they can write less code. \n",
    "\n",
    "In other cases default arguments allow a function to be applied to a wider range of problems. \n",
    "\n"
   ]
  },
  {
   "cell_type": "markdown",
   "metadata": {
    "slideshow": {
     "slide_type": "slide"
    }
   },
   "source": [
    "####  Example: Blue Trees\n",
    "<a id='ExampleBlueTrees'></a>\n",
    "Every time we have drawn a tree it has been green, with a black tree-trunk.\n",
    "\n",
    "We can therefore write the function `tree`:"
   ]
  },
  {
   "cell_type": "code",
   "execution_count": null,
   "metadata": {},
   "outputs": [],
   "source": [
    "# original code\n",
    "\n",
    "def tree(x, y):\n",
    "    \"Draws a tree\"\n",
    "    pygame.draw.rect(window, black, [160+x, 300+y, 30, 45])\n",
    "    pygame.draw.polygon(window, green, [[250+x, 300+y], [175+x, 150+y], [100+x, 300+y]])\n",
    "    pygame.draw.polygon(window, green, [[240+x, 250+y], [175+x, 130+y], [110+x, 250+y]])\n",
    "\n",
    "\n",
    "# function with keyword arguments\n",
    "\n",
    "def tree(x, y, tree_colour=green, trunk_colour=black):\n",
    "    \"Draws a tree\"\n",
    "    pygame.draw.rect(window, trunk_colour, [160+x, 300+y, 30, 45])\n",
    "    pygame.draw.polygon(window, tree_colour, [[250+x, 300+y], [175+x, 150+y], [100+x, 300+y]])\n",
    "    pygame.draw.polygon(window, tree_colour, [[240+x, 250+y], [175+x, 130+y], [110+x, 250+y]])"
   ]
  },
  {
   "cell_type": "markdown",
   "metadata": {
    "slideshow": {
     "slide_type": "slide"
    }
   },
   "source": [
    "The function can now take *up to* four arguments.\n",
    "\n",
    "However, we only need to enter the *first two arguments* (`x, y`), if using the default values (`tree_colour=green, trunk_colour=black`). \n"
   ]
  },
  {
   "cell_type": "code",
   "execution_count": null,
   "metadata": {},
   "outputs": [],
   "source": [
    "tree(0, 0)\n",
    "tree(100, -100)"
   ]
  },
  {
   "cell_type": "markdown",
   "metadata": {
    "slideshow": {
     "slide_type": "slide"
    }
   },
   "source": [
    "Sometimes we want to draw blue tree trunks. \n",
    "\n",
    "In this case, we simply override the default value for `trunk_colour`:  "
   ]
  },
  {
   "cell_type": "code",
   "execution_count": null,
   "metadata": {
    "slideshow": {
     "slide_type": "-"
    }
   },
   "outputs": [],
   "source": [
    "tree(100, -100, green, blue)"
   ]
  },
  {
   "cell_type": "markdown",
   "metadata": {
    "slideshow": {
     "slide_type": "slide"
    }
   },
   "source": [
    "__Note__ that we have *also* entered the `tree_colour`.\n",
    "\n",
    "As the value to overide is the 4th argument, the 3rd argument must also be input. \n",
    "\n",
    "The function interprets:\n",
    "\n",
    "    tree(100, -100, blue)\n",
    "    \n",
    "as\n",
    "\n",
    "    tree(100, -100, blue, black)\n",
    "    \n",
    "\n"
   ]
  },
  {
   "cell_type": "markdown",
   "metadata": {
    "slideshow": {
     "slide_type": "slide"
    }
   },
   "source": [
    "Manually inputting an argument, `tree_colour` when we want to use its default is a potential source of error.  \n",
    "\n",
    "We may accidentally input the default value of `tree_colour` incorrectly, causing a bug in our program. \n",
    "\n",
    "A more robust solution is to specify the colour by using a __named argument__. "
   ]
  },
  {
   "cell_type": "code",
   "execution_count": null,
   "metadata": {
    "slideshow": {
     "slide_type": "-"
    }
   },
   "outputs": [],
   "source": [
    "tree(100, -100, trunk_colour=black)"
   ]
  },
  {
   "cell_type": "markdown",
   "metadata": {
    "collapsed": true
   },
   "source": [
    "The program overwrites the correct default value.\n",
    "\n",
    "We do not have to specify `tree_colour`. "
   ]
  },
  {
   "cell_type": "markdown",
   "metadata": {
    "slideshow": {
     "slide_type": "slide"
    }
   },
   "source": [
    "### Forcing Default Arguments\n",
    "<a id='ForcingDefaultArguments'></a>\n",
    "As an additional safety measure, you can force arguments to be entered as named arguments by preceding them with a * star in the function definition.\n",
    "\n",
    "All arguments after the star must be entered as named arguments.\n",
    "\n",
    "Below is an example:"
   ]
  },
  {
   "cell_type": "code",
   "execution_count": null,
   "metadata": {},
   "outputs": [],
   "source": [
    "# redefine tree function, forcing keyword arguments\n",
    "\n",
    "def tree(x, y, *, tree_colour=green, trunk_colour=black):\n",
    "    \"Draws a tree\"\n",
    "    pygame.draw.rect(window, trunk_colour, [160+x, 300+y, 30, 45])\n",
    "    pygame.draw.polygon(window, tree_colour, [[250+x, 300+y], [175+x, 150+y], [100+x, 300+y]])\n",
    "    pygame.draw.polygon(window, tree_colour, [[240+x, 250+y], [175+x, 130+y], [110+x, 250+y]])\n",
    "\n",
    "    \n",
    "tree(x, y, tree_colour=blue)\n",
    "#tree(x, y, blue)"
   ]
  },
  {
   "cell_type": "markdown",
   "metadata": {
    "slideshow": {
     "slide_type": "slide"
    }
   },
   "source": [
    "## Scope\n",
    "<a id='Scope'></a>\n",
    "__Global variables:__ Variable that are *declared* __outside__ of a function *can* be used __inside__ of the function. <br>\n",
    "They have *global scope*. \n",
    "\n",
    "__Local variables:__ Variables that are *declared* __inside__ of a function *can not* be used __outside__ of the function. \n",
    "<br>\n",
    "They have *local scope*. "
   ]
  },
  {
   "cell_type": "markdown",
   "metadata": {},
   "source": [
    "#### Example: Global Variables\n",
    "Global variables are accessible anywhere"
   ]
  },
  {
   "cell_type": "code",
   "execution_count": 16,
   "metadata": {
    "slideshow": {
     "slide_type": "slide"
    }
   },
   "outputs": [
    {
     "name": "stdout",
     "output_type": "stream",
     "text": [
      "Global variable\n"
     ]
    }
   ],
   "source": [
    "# global variable\n",
    "global_var = \"Global variable\"\n",
    "\n",
    "# define function\n",
    "def my_func():\n",
    "    \"\"\"\n",
    "    Prints a global variable \n",
    "    \"\"\"\n",
    "    # the function can access the global variable\n",
    "    print(global_var)    \n",
    "    \n",
    "\n",
    "\n",
    "# call function\n",
    "my_func()        "
   ]
  },
  {
   "cell_type": "markdown",
   "metadata": {},
   "source": [
    "The global variable may be created *after* the function is __defined__,\n",
    "<br>*but must* be created *before* the function is __called__."
   ]
  },
  {
   "cell_type": "code",
   "execution_count": null,
   "metadata": {
    "slideshow": {
     "slide_type": "slide"
    }
   },
   "outputs": [],
   "source": [
    "# define function\n",
    "def my_func():\n",
    "    \"\"\"\n",
    "    Prints a global variable \n",
    "    \"\"\"\n",
    "    # the function can access the global variable\n",
    "    print(global_var)  \n",
    "    \n",
    "    \n",
    "    \n",
    "# global variable\n",
    "global_var = \"Global variable\"\n",
    "\n",
    "\n",
    "# call function\n",
    "my_func()        "
   ]
  },
  {
   "cell_type": "markdown",
   "metadata": {
    "slideshow": {
     "slide_type": "subslide"
    }
   },
   "source": [
    "A global variable can be __created__ *inside* a function using the `global` keyword:"
   ]
  },
  {
   "cell_type": "code",
   "execution_count": 17,
   "metadata": {},
   "outputs": [
    {
     "name": "stdout",
     "output_type": "stream",
     "text": [
      "Locally assigned global variable\n"
     ]
    }
   ],
   "source": [
    "def my_func():\n",
    "     \n",
    "    # Locally assigned global variable\n",
    "    global var\n",
    "    var = \"Locally assigned global variable\"\n",
    "    \n",
    "\n",
    "# global variable does not exit before function call\n",
    "# print(var)\n",
    "\n",
    "my_func()\n",
    "\n",
    "print(var)"
   ]
  },
  {
   "cell_type": "markdown",
   "metadata": {
    "slideshow": {
     "slide_type": "slide"
    }
   },
   "source": [
    "#### Example: Local Variables\n",
    "Local variables only accessible within the function in which they are defined"
   ]
  },
  {
   "cell_type": "code",
   "execution_count": 19,
   "metadata": {
    "slideshow": {
     "slide_type": "-"
    }
   },
   "outputs": [
    {
     "name": "stdout",
     "output_type": "stream",
     "text": [
      "Local variable\n"
     ]
    },
    {
     "ename": "NameError",
     "evalue": "name 'local_var' is not defined",
     "output_type": "error",
     "traceback": [
      "\u001b[0;31m---------------------------------------------------------------------------\u001b[0m",
      "\u001b[0;31mNameError\u001b[0m                                 Traceback (most recent call last)",
      "\u001b[0;32m<ipython-input-19-4cbcfc9b5e40>\u001b[0m in \u001b[0;36m<module>\u001b[0;34m()\u001b[0m\n\u001b[1;32m     15\u001b[0m \u001b[0;34m\u001b[0m\u001b[0m\n\u001b[1;32m     16\u001b[0m \u001b[0;31m# try to print local variable\u001b[0m\u001b[0;34m\u001b[0m\u001b[0;34m\u001b[0m\u001b[0m\n\u001b[0;32m---> 17\u001b[0;31m \u001b[0mprint\u001b[0m\u001b[0;34m(\u001b[0m\u001b[0mlocal_var\u001b[0m\u001b[0;34m)\u001b[0m\u001b[0;34m\u001b[0m\u001b[0m\n\u001b[0m",
      "\u001b[0;31mNameError\u001b[0m: name 'local_var' is not defined"
     ]
    }
   ],
   "source": [
    "# define function\n",
    "def my_func():\n",
    "    \"\"\"\n",
    "    Prints a local variable \n",
    "    \"\"\"  \n",
    "    \n",
    "    # global variable\n",
    "    local_var = \"Local variable\"\n",
    "    print(local_var)\n",
    "    \n",
    "    \n",
    "# call function\n",
    "my_func()\n",
    "\n",
    "\n",
    "# try to print local variable\n",
    "# print(local_var)"
   ]
  },
  {
   "cell_type": "markdown",
   "metadata": {
    "slideshow": {
     "slide_type": "subslide"
    }
   },
   "source": [
    "__Readability:__ \n",
    "\n",
    "The limited scope of local variables can be useful。\n",
    "\n",
    "For example, some variable names can be useful for different tasks in our program. \n",
    "\n",
    "We may not want to \"use them up\" on a single task."
   ]
  },
  {
   "cell_type": "markdown",
   "metadata": {
    "slideshow": {
     "slide_type": "slide"
    }
   },
   "source": [
    "### Example : Use of Local Scope\n",
    "<a id='ExampleLocalScope'></a>\n",
    "In a problem concerning 2D geometry, intuitively, the variable names __`X`__ and __`Y`__ are useful for describing positions in 2D space. \n",
    "\n"
   ]
  },
  {
   "cell_type": "markdown",
   "metadata": {
    "slideshow": {
     "slide_type": "slide"
    }
   },
   "source": [
    "An example of this is the function `trees` that we used earlier to draw trees at locations given as a list if lists. \n",
    "\n",
    "    def draw_trees(trees):\n",
    "        \"Draws trees\"\n",
    "\n",
    "        for t in trees:\n",
    "\n",
    "            x = t[0]\n",
    "            y = t[1]\n",
    "\n",
    "            pygame.draw.rect(window, black, [160+x, 300+y, 30, 45])\n",
    "            pygame.draw.polygon(window, green, [[250+x, 300+y], [175+x, 150+y], [100+x, 300+y]])\n",
    "            pygame.draw.polygon(window, green, [[240+x, 250+y], [175+x, 130+y], [110+x, 250+y]])"
   ]
  },
  {
   "cell_type": "code",
   "execution_count": 1,
   "metadata": {
    "slideshow": {
     "slide_type": "slide"
    }
   },
   "outputs": [],
   "source": [
    "def draw_trees(trees):\n",
    "    \"Draws trees\"  \n",
    "    \n",
    "    for t in trees:\n",
    "        \n",
    "        x = t[0]\n",
    "        y = t[1]\n",
    "        \n",
    "        pygame.draw.rect(window, black, [160+x, 300+y, 30, 45])\n",
    "        pygame.draw.polygon(window, green, [[250+x, 300+y], [175+x, 150+y], [100+x, 300+y]])\n",
    "        pygame.draw.polygon(window, green, [[240+x, 250+y], [175+x, 130+y], [110+x, 250+y]])"
   ]
  },
  {
   "cell_type": "markdown",
   "metadata": {
    "slideshow": {
     "slide_type": "slide"
    }
   },
   "source": [
    "Due to scope, variables with the *same name* can appear globally and locally without conflict. \n",
    "\n",
    "This prevents variables declared inside a function from unexpectedly affecting other parts of a program. \n",
    "\n"
   ]
  },
  {
   "cell_type": "markdown",
   "metadata": {
    "slideshow": {
     "slide_type": "slide"
    }
   },
   "source": [
    "Where a local and global variable have the same name, the program will use the __local__ version.\n",
    "\n",
    "Let's modify our function `my_func` so now both the local and global varibale have the same name...\n",
    "\n",
    "This time the first `print(var)` raises an error.\n",
    "\n",
    "The local variable overrides the global variable, \n",
    "<br>however the local variable has not yet been assigned a value."
   ]
  },
  {
   "cell_type": "code",
   "execution_count": null,
   "metadata": {
    "slideshow": {
     "slide_type": "slide"
    }
   },
   "outputs": [],
   "source": [
    "# global variable\n",
    "var = \"Global variable\"\n",
    "\n",
    "\n",
    "def my_func():\n",
    "    # notice what happens this time if we try to access the global variable within the function\n",
    "    print(var)    \n",
    "     \n",
    "    # local variable of the same name\n",
    "    var = \"Local variable\"\n",
    "    print(var)\n",
    "\n",
    "    \n",
    "# Call the function.\n",
    "# print(my_func())"
   ]
  },
  {
   "cell_type": "code",
   "execution_count": null,
   "metadata": {},
   "outputs": [],
   "source": []
  },
  {
   "cell_type": "markdown",
   "metadata": {
    "slideshow": {
     "slide_type": "slide"
    }
   },
   "source": [
    "\n",
    "\n",
    "The global variable `var` is unaffected by the local variable `var`."
   ]
  },
  {
   "cell_type": "code",
   "execution_count": null,
   "metadata": {},
   "outputs": [],
   "source": [
    "# global variable\n",
    "var = \"Global variable\"\n",
    "\n",
    "def my_func():\n",
    "     \n",
    "    # local variable of the same name\n",
    "    var = \"Local variable\"\n",
    "    return var\n",
    "\n",
    "\n",
    "# Call the function.\n",
    "print(my_func())\n",
    "\n",
    "\n",
    "# The global variable is unaffected by the local variable\n",
    "print(var)\n",
    "\n",
    "\n",
    "# We can overwrite the global varibale with the returned value\n",
    "var = my_func()\n",
    "print(var)"
   ]
  },
  {
   "cell_type": "markdown",
   "metadata": {
    "slideshow": {
     "slide_type": "slide"
    }
   },
   "source": [
    "If we *really* want to use a global variable and a local variable:\n",
    "- with the same name \n",
    "- within the same function\n",
    "\n",
    "we can input use the global variable as a __function argument__.  \n",
    "\n",
    "By inputting it as an argument we rename the global variable for use within the function...."
   ]
  },
  {
   "cell_type": "code",
   "execution_count": null,
   "metadata": {
    "slideshow": {
     "slide_type": "slide"
    }
   },
   "outputs": [],
   "source": [
    "# Global \n",
    "var = \"Global variable\"\n",
    "\n",
    "\n",
    "def my_func(input_var):\n",
    "    # The global variable is renameed for use within a function with a local variable with the same name\n",
    "    print(input_var)    \n",
    "     \n",
    "    # Local\n",
    "    var = \"Local variable\"\n",
    "    print(var)\n",
    "    \n",
    "    return (input_var + \" \" + var)\n",
    "\n",
    "\n",
    "# Run the function, giving the global variable as an argument\n",
    "print(my_func(var))"
   ]
  },
  {
   "cell_type": "markdown",
   "metadata": {
    "slideshow": {
     "slide_type": "slide"
    }
   },
   "source": [
    "The global variable is unaffected by the function"
   ]
  },
  {
   "cell_type": "code",
   "execution_count": null,
   "metadata": {},
   "outputs": [],
   "source": [
    "print(var)"
   ]
  },
  {
   "cell_type": "markdown",
   "metadata": {
    "slideshow": {
     "slide_type": "slide"
    }
   },
   "source": [
    "...unless we overwrite the value of the global variable."
   ]
  },
  {
   "cell_type": "code",
   "execution_count": null,
   "metadata": {},
   "outputs": [],
   "source": [
    "print(var)\n",
    "\n",
    "var = my_func(var)\n",
    "\n",
    "print(var)"
   ]
  },
  {
   "cell_type": "markdown",
   "metadata": {
    "slideshow": {
     "slide_type": "subslide"
    }
   },
   "source": [
    "__Try it yourself__\n",
    "In the cell below:\n",
    "1. Create a global variable called `my_var`, with a numeric value\n",
    "1. Create a function, called `my_func`, that:\n",
    "    - takes a single argument, `input_var` \n",
    "    - creates a local variable called `my_var` (same name as global variable).\n",
    "    - returns the sum of the function argument and the local variable: `input_var + my_var`.<br><br>\n",
    "1. Print the output when the function `my_func` is called, giving the global varable `my_var` as the input agument.\n",
    "1. print the global variable `my_var`.\n",
    "1. Add a docstring to say what your function does"
   ]
  },
  {
   "cell_type": "markdown",
   "metadata": {
    "slideshow": {
     "slide_type": "slide"
    }
   },
   "source": [
    "A global variable can be __modified__ from *inside* a function using the `global` keyword:\n",
    "1. Use Python `global` keyword. Give the variable a name.\n",
    "```python\n",
    "global var\n",
    "```\n",
    "1. Assign the variable a value.\n",
    "```python\n",
    "var = 10\n",
    "```"
   ]
  },
  {
   "cell_type": "code",
   "execution_count": null,
   "metadata": {
    "slideshow": {
     "slide_type": "-"
    }
   },
   "outputs": [],
   "source": [
    "# global variable\n",
    "var = \"Global variable\"\n",
    "\n",
    "\n",
    "def my_func():\n",
    "     \n",
    "    # Locally assigned global variable\n",
    "    global var\n",
    "    var = \"Locally assigned global variable\"\n",
    "    \n",
    "\n",
    "    \n",
    "print(\"Before function call, var =\", var)\n",
    "\n",
    "\n",
    "# Call the function.\n",
    "my_func()\n",
    "\n",
    "\n",
    "print(\"After function call, var =\", var)"
   ]
  },
  {
   "cell_type": "markdown",
   "metadata": {
    "slideshow": {
     "slide_type": "subslide"
    }
   },
   "source": [
    "__Try it yourself__\n",
    "\n",
    "In the cell below:\n",
    "1. Copy and paste your code from the previous exercise.\n",
    "1. Edit your code so that:\n",
    " - The function `my_func` takes no input arguments. \n",
    " - The global variable `my_var` is overwritten within the function using the prefix `global`.  \n",
    "1. Print the global variable before and after calling the function to check your code. \n",
    "1. Modify the docstring as necessary."
   ]
  },
  {
   "cell_type": "code",
   "execution_count": null,
   "metadata": {},
   "outputs": [],
   "source": [
    "# Copy and paste code here:"
   ]
  },
  {
   "cell_type": "code",
   "execution_count": null,
   "metadata": {},
   "outputs": [],
   "source": [
    "# Global and local scope"
   ]
  },
  {
   "cell_type": "markdown",
   "metadata": {
    "slideshow": {
     "slide_type": "subslide"
    }
   },
   "source": [
    "As we have seen, a *local variable* can be accessed from outside the function by *returning* it. "
   ]
  },
  {
   "cell_type": "markdown",
   "metadata": {
    "slideshow": {
     "slide_type": "slide"
    }
   },
   "source": [
    "## `return` \n",
    "<a id='return'></a>\n",
    "The `return` keyword defines the outputs of the function.\n",
    "\n",
    "A __single__ Python function can return:\n",
    "- no values\n",
    "- a single value \n",
    "- multiple return values"
   ]
  },
  {
   "cell_type": "markdown",
   "metadata": {
    "slideshow": {
     "slide_type": "slide"
    }
   },
   "source": [
    "For example, we could have a function that:\n",
    " - takes three values (`x0, x1, x2`)\n",
    " - returns the maximum, the minimum and the mean"
   ]
  },
  {
   "cell_type": "code",
   "execution_count": 24,
   "metadata": {
    "slideshow": {
     "slide_type": "slide"
    }
   },
   "outputs": [
    {
     "name": "stdout",
     "output_type": "stream",
     "text": [
      "(-20, 0.5, -6.466666666666666)\n",
      "-6.466666666666666\n"
     ]
    }
   ],
   "source": [
    "def compute_max_min_mean(x0, x1, x2):\n",
    "    \"Return maximum, minimum and mean values\"\n",
    "    \n",
    "    x_min = x0\n",
    "    if x1 < x_min:\n",
    "        x_min = x1\n",
    "    if x2 < x_min:\n",
    "        x_min = x2\n",
    "\n",
    "    x_max = x0\n",
    "    if x1 > x_max:\n",
    "        x_max = x1\n",
    "    if x2 > x_max:\n",
    "        x_max = x2\n",
    "\n",
    "    x_mean = (x0 + x1 + x2)/3    \n",
    "        \n",
    "    return x_min, x_max, x_mean\n",
    "\n",
    "\n",
    "Xmin, Xmax, Xmean = compute_max_min_mean(0.5, 0.1, -20)\n",
    "\n",
    "X = compute_max_min_mean(0.5, 0.1, -20)\n",
    "\n",
    "#print(Xmin, Xmax, Xmean)\n",
    "print(X)\n",
    "print(X[2])"
   ]
  },
  {
   "cell_type": "markdown",
   "metadata": {
    "slideshow": {
     "slide_type": "slide"
    }
   },
   "source": [
    "The __`return`__ keyword works a bit like the __`break`__ statement does in a loop.\n",
    "\n",
    "It returns the value and then exits the function before running the rest of the code."
   ]
  },
  {
   "cell_type": "markdown",
   "metadata": {
    "slideshow": {
     "slide_type": "slide"
    }
   },
   "source": [
    "Any code following the `return` statement will not be run.\n",
    "\n",
    "In this example, the code to increase x by 1 comes after the return statement. "
   ]
  },
  {
   "cell_type": "code",
   "execution_count": 25,
   "metadata": {
    "slideshow": {
     "slide_type": "slide"
    }
   },
   "outputs": [
    {
     "name": "stdout",
     "output_type": "stream",
     "text": [
      "1 > 0\n",
      "1 > 0\n",
      "1 > 0\n"
     ]
    }
   ],
   "source": [
    "x = 1\n",
    "\n",
    "def process_value(X):\n",
    "    \"Returns a value that depends on the input value x \"\n",
    "    \n",
    "    if X > 10:\n",
    "        return str(X) + \" > 10\"\n",
    "    elif X > 5:\n",
    "        return str(X) + \" > 5\"\n",
    "    elif X > 0:\n",
    "        return str(X) + \" > 0\"\n",
    "    else:\n",
    "        return str(X)\n",
    "    \n",
    "    # Increment global x by +1\n",
    "    global x\n",
    "    x = X + 1 \n",
    "    \n",
    "print(process_value(x))\n",
    "print(process_value(x))\n",
    "print(process_value(x))"
   ]
  },
  {
   "cell_type": "markdown",
   "metadata": {
    "slideshow": {
     "slide_type": "slide"
    }
   },
   "source": [
    "The return statement must come last."
   ]
  },
  {
   "cell_type": "code",
   "execution_count": 26,
   "metadata": {},
   "outputs": [
    {
     "name": "stdout",
     "output_type": "stream",
     "text": [
      "1 > 0\n",
      "2 > 0\n",
      "3 > 0\n"
     ]
    }
   ],
   "source": [
    "x = 1\n",
    "\n",
    "def process_value(X):\n",
    "    \"Returns a value that depends on the input value x \"\n",
    "    \n",
    "    #Increment global x by +1 \n",
    "    global x\n",
    "    x = X + 1 \n",
    "    \n",
    "    if x > 10:\n",
    "        return str(X) + \" > 10\"\n",
    "    elif x > 5:\n",
    "        return str(X) + \" > 5\"\n",
    "    elif x > 0:\n",
    "        return str(X) + \" > 0\"\n",
    "    else:\n",
    "        return str(X)    \n",
    "    \n",
    "print(process_value(x))\n",
    "print(process_value(x))\n",
    "print(process_value(x))"
   ]
  },
  {
   "cell_type": "markdown",
   "metadata": {
    "slideshow": {
     "slide_type": "slide"
    }
   },
   "source": [
    "It may be more appropriate to store the return item as a varable if multiple items are to be returned...\n",
    "<br> "
   ]
  },
  {
   "cell_type": "code",
   "execution_count": null,
   "metadata": {
    "slideshow": {
     "slide_type": "-"
    }
   },
   "outputs": [],
   "source": [
    "x = -3\n",
    "\n",
    "def process_value(X):    \n",
    "    \"Returns two values that depend on the input value x \"\n",
    "    if X > 10:\n",
    "        i = (str(X) + \" > 10\")\n",
    "    elif X > 0:\n",
    "        i = (str(X) + \" > 0\")\n",
    "    else:\n",
    "        i = None\n",
    "        \n",
    "    if X < 0:\n",
    "        j = (str(X) + \" < 0\")\n",
    "    elif X < 10:\n",
    "        j = (str(X) + \" < 10\")\n",
    "    else:\n",
    "        j = None\n",
    "    \n",
    "    global x\n",
    "    x = X + 1 \n",
    "    \n",
    "    return i, j\n",
    "\n",
    "\n",
    "#     if i and j:    \n",
    "#         return i, j  \n",
    "#     elif i:\n",
    "#         return (i,)\n",
    "#     else:\n",
    "#         return (j,)\n",
    "\n",
    "\n",
    "for k in range(14):\n",
    "    print(process_value(x))"
   ]
  },
  {
   "cell_type": "markdown",
   "metadata": {
    "slideshow": {
     "slide_type": "slide"
    }
   },
   "source": [
    "## Example : Using Functions to Optimise your Code. \n",
    "<a id='ExampleFunctionsOptimiseCode'></a>\n",
    "In the following examples we will use these 7 steps to create functions from existing code:\n",
    "1. `def` and `:`\n",
    "1. define input arguments in parentheses\n",
    "1. indent code inside of function\n",
    "1. doc string\n",
    "1. move global variable assignment outside of the function where necessary\n",
    "1. define return arguments \n",
    "1. move function to the top of the program\n",
    "1. call function"
   ]
  },
  {
   "cell_type": "markdown",
   "metadata": {
    "slideshow": {
     "slide_type": "slide"
    }
   },
   "source": [
    "### Pong\n",
    "In the program we wrote in the last class (04_Physical_User_Interaction), we learned to use loops to avoid repeatedly writing code.\n",
    "\n",
    "For example, the following code block...\n"
   ]
  },
  {
   "cell_type": "code",
   "execution_count": null,
   "metadata": {},
   "outputs": [],
   "source": [
    "# 6.4 Update paddle position  \n",
    "if ((pad1_pos[y] > 0 and pad1_pos[y] < win_height - pad_height) or\n",
    "   (pad1_pos[y] >= win_height - pad_height and pad1_vel[y] < 0) or \n",
    "   (pad1_pos[y] <= 0 and pad1_vel[y] > 0)):\n",
    "       pad1_pos[y] += pad1_vel[y]\n",
    "\n",
    "if ((pad2_pos[y] > 0 and pad2_pos[y] < win_height - pad_height) or\n",
    "   (pad2_pos[y] >= win_height - pad_height and pad2_vel[y] < 0) or \n",
    "   (pad2_pos[y] <= 0 and pad2_vel[y] > 0)):\n",
    "       pad2_pos[y] += pad2_vel[y]"
   ]
  },
  {
   "cell_type": "markdown",
   "metadata": {
    "slideshow": {
     "slide_type": "slide"
    }
   },
   "source": [
    "...can be simplified using the following steps:\n",
    "\n",
    "1. create a `for` loop\n",
    "1. iterate through items in lists `pad_pos` (paddle positions) and `vel` (paddle velocity).\n",
    "1. indent code to loop through\n",
    "1. replace all variables in code with `pos` and `col` variable names used within loop\n",
    "1. delete repeated code"
   ]
  },
  {
   "cell_type": "code",
   "execution_count": null,
   "metadata": {},
   "outputs": [],
   "source": [
    "# 6.4 Update paddle position  \n",
    "\n",
    "for pos, vel in zip(pad_pos, pad_vel):\n",
    "    if ((pos[y] > 0 and pos[y] < win_height - pad_height) or\n",
    "        (pos[y] >= win_height - pad_height and vel[y] < 0) or \n",
    "        (pos[y] <= 0 and vel[y] > 0)):\n",
    "            pos[y] += vel[y]"
   ]
  },
  {
   "cell_type": "markdown",
   "metadata": {
    "slideshow": {
     "slide_type": "slide"
    }
   },
   "source": [
    "The indented code can be encapsulated as a function to:\n",
    "1. give the block of code a meaningful name\n",
    "1. keep the main game loop short, concise and readable"
   ]
  },
  {
   "cell_type": "markdown",
   "metadata": {
    "slideshow": {
     "slide_type": "slide"
    }
   },
   "source": [
    "1. `def` and `:`\n",
    "1. define input arguments in parentheses\n",
    "1. indent code inside of function\n",
    "1. doc string\n",
    "1. move global variable assignment outside of the function where necessary\n",
    "1. define return arguments \n",
    "1. move function to the top of the program\n",
    "1. call function"
   ]
  },
  {
   "cell_type": "code",
   "execution_count": null,
   "metadata": {
    "slideshow": {
     "slide_type": "-"
    }
   },
   "outputs": [],
   "source": [
    "#original code\n",
    "\n",
    "# 6.4 Update paddle position    \n",
    "def update_pad_pos(pos, vel):\n",
    "    \"\"\"Updates paddle position\"\"\"\n",
    "    if ((pos[y] > 0 and pos[y] < win_height - pad_height) or\n",
    "        (pos[y] >= win_height - pad_height and vel[y] < 0) or \n",
    "        (pos[y] <= 0 and vel[y] > 0)):\n",
    "            pos[y] += vel[y]\n",
    "            \n",
    "for pos, vel in zip(pad_pos, pad_vel):\n",
    "    update_pad_pos(pos, vel)\n",
    "            \n",
    "# OR\n",
    "\n",
    "def update_pad_pos(pad_pos, pad_vel):\n",
    "    \"\"\"Updates paddle position\"\"\"\n",
    "    for pos, vel in zip(pad_pos, pad_vel):\n",
    "        if ((pos[y] > 0 and pos[y] < win_height - pad_height) or\n",
    "            (pos[y] >= win_height - pad_height and vel[y] < 0) or \n",
    "            (pos[y] <= 0 and vel[y] > 0)):\n",
    "                pos[y] += vel[y]\n",
    "                \n",
    "update_pad_pos(pad_pos, pad_vel)\n",
    "                \n",
    "                \n",
    "# pad_po and pad_vel are global so we can also so\n",
    "def update_pad_pos():\n",
    "    \"\"\"Updates the paddle position\"\"\"\n",
    "    for pos, vel in zip(pad_pos, pad_vel):\n",
    "        if ((pos[y] > 0 and pos[y] < win_height - pad_height) or\n",
    "            (pos[y] >= win_height - pad_height and vel[y] < 0) or \n",
    "            (pos[y] <= 0 and vel[y] > 0)):\n",
    "                pos[y] += vel[y]\n",
    "                \n",
    "update_pad_pos(pad_pos, pad_vel)"
   ]
  },
  {
   "cell_type": "markdown",
   "metadata": {
    "slideshow": {
     "slide_type": "slide"
    }
   },
   "source": [
    "This example is shown in the file sample_data/pong_example_func.py"
   ]
  },
  {
   "cell_type": "markdown",
   "metadata": {
    "slideshow": {
     "slide_type": "slide"
    }
   },
   "source": [
    "As a general rule we should try to eliminate repetition in our programs wherever possible using functions.\n",
    "\n"
   ]
  },
  {
   "cell_type": "markdown",
   "metadata": {
    "collapsed": true,
    "slideshow": {
     "slide_type": "slide"
    }
   },
   "source": [
    "# Summary\n",
    "<a id='Summary'></a>\n",
    " - Functions are defined using the `def` keyword.\n",
    " - Functions contain indented statements to execute when the function is called.\n",
    " - Global variables can be used eveywhere.\n",
    " - Local variables can be used within the function in which they are defined.\n",
    " - Function arguments (inputs) are declared between () parentheses, seperated by commas.\n",
    " - Function arguments muct be specified each time a function is called. \n",
    " - Default arguments do not need to be specified when a function is called unless different values are to be used. \n",
    " - The keyword used to define the function outputs is `return`\n"
   ]
  },
  {
   "cell_type": "markdown",
   "metadata": {
    "slideshow": {
     "slide_type": "slide"
    }
   },
   "source": [
    "<a id='TestYourselfExercises'></a>\n",
    "# Test-Yourself Exercises\n",
    "\n",
    "Complete the Test-Youself exercises below.\n",
    "\n",
    "Save your answers as .py files and email them to:\n",
    "<br>philamore.hemma.5s@kyoto-u.ac.jp"
   ]
  },
  {
   "cell_type": "markdown",
   "metadata": {
    "slideshow": {
     "slide_type": "subslide"
    }
   },
   "source": [
    "## Test-Yourself Exercise: Writing Functions (House)\n",
    "<img src=\"img/house.jpg\" alt=\"Drawing\" style=\"width: 300px;\"/>\n",
    "\n",
    "In the file `tree.py`, write a function to draw a house using basic shapes.\n",
    "\n",
    "The input arguments should be use to define the position of the house in the game window.\n",
    "\n",
    "\n",
    "\n"
   ]
  },
  {
   "cell_type": "code",
   "execution_count": null,
   "metadata": {},
   "outputs": [],
   "source": [
    "# House\n"
   ]
  },
  {
   "cell_type": "markdown",
   "metadata": {
    "slideshow": {
     "slide_type": "slide"
    }
   },
   "source": [
    "## Test-Yourself Exercise: Optimising your Code using Functions (Pong)\n",
    "\n",
    "<p align=\"center\">\n",
    "  <img src=\"img/pong.gif\" alt=\"Drawing\" style=\"width: 300px;\"/>\n",
    "</p>\n",
    "\n",
    "In the Pong program we wrote in last weeks class there are two examples of where loops are used to make the code more efficient:\n",
    "\n",
    "    # 6. Calculations     \n",
    "    # 6.1 Collisions\n",
    "    \n",
    "    # 6.4 Update paddle position\n",
    "    \n",
    "Using the example shown in today's class (`6.4 Update paddle position`) add two functions to your pong game:\n",
    "1. A function to reverse the direction of travel of the ball if it hits a paddle\n",
    "1. A function to update the paddle position at each timestep (today's example`6.4 Update paddle position`)"
   ]
  },
  {
   "cell_type": "code",
   "execution_count": null,
   "metadata": {},
   "outputs": [],
   "source": [
    "# Test-Yourself Exercise : Pong\n",
    "\n",
    "# An example solution is given in the file sample_data/pong_example_func.py\n",
    "\n"
   ]
  },
  {
   "cell_type": "markdown",
   "metadata": {
    "collapsed": true,
    "slideshow": {
     "slide_type": "slide"
    }
   },
   "source": [
    "## Review Exercises\n",
    "<a id='ReviewExercises'></a>\n",
    "The following review problems are designed to:\n",
    " - test your understanding of the different techniques for building functions that we have learnt today.\n",
    " - test your ability to use user-defined Pyhton functions to solve the type of engineering problems you will encounter in your studies. "
   ]
  },
  {
   "cell_type": "markdown",
   "metadata": {
    "slideshow": {
     "slide_type": "slide"
    }
   },
   "source": [
    "### Review Exercise: Simple function\n",
    "\n",
    "In the cell below, write a function called `is_even` that determines if a number is even by running:\n",
    "\n",
    "```python\n",
    "is_even(n)\n",
    "```\n",
    "\n",
    "Input: `n` (an integer). \n",
    "\n",
    "Output: \n",
    " - `True` if the argument is even\n",
    " - `False` if the argument is not even\n",
    " \n",
    "Include a __documentation string (docstring)__ to say what your function does.\n",
    "\n",
    "<a href='#DocString'>Jump to Documentation Strings</a>\n",
    " \n",
    "Print the output of your function for several input values."
   ]
  },
  {
   "cell_type": "code",
   "execution_count": null,
   "metadata": {},
   "outputs": [],
   "source": [
    "# A simple function"
   ]
  },
  {
   "cell_type": "markdown",
   "metadata": {},
   "source": [
    "### Review Exercise: Expressing Calculations as Functions\n",
    "\n",
    "__(A)__ Write a function called `square_root` that prints the square root of an input argument by running:\n",
    "\n",
    "```python\n",
    "square_root(n)\n",
    "```\n",
    "\n",
    "Input: `n` (a numeric variable). \n",
    "\n",
    "Output: Returns the square root of `n`\n",
    "\n",
    "Include a doc-string to say what your function does. \n",
    "\n",
    "<a href='#DocString'>Jump to Documentation Strings'</a> \n",
    "\n",
    "__(B)__ Using your answer to print the sqaure root of the first 25 odd positive integers."
   ]
  },
  {
   "cell_type": "code",
   "execution_count": null,
   "metadata": {},
   "outputs": [],
   "source": [
    "# A function to find the square root of an input"
   ]
  },
  {
   "cell_type": "markdown",
   "metadata": {},
   "source": [
    "### Review Exercise: Using Data Structures as Function Arguments - Counter\n",
    "In the cell below write a function:\n",
    "\n",
    "Input: A list. e.g. `[\"fizz\", \"buzz\", \"buzz\", \"fizz\", \"fizz\", \"fizz\"]`\n",
    "\n",
    "Output: Returns the numer of times \"fizz\" appears in a list.\n",
    "\n",
    "Demonstrate that your function works by inputting a list.\n",
    "\n",
    "*Hint 1:* Create a local variable, `count`, within your function.\n",
    "<br>Increment the count by one for each instance of `fizz`.\n",
    "\n",
    "*Hint 2:* Use a `for` loop to iterate over the list to count the number of times `fizz` appears."
   ]
  },
  {
   "cell_type": "code",
   "execution_count": null,
   "metadata": {},
   "outputs": [],
   "source": [
    "# Counter"
   ]
  },
  {
   "cell_type": "markdown",
   "metadata": {},
   "source": [
    "### Review Exercise: Using Functions as Function Arguments, Default Arguments. \n",
    "Copy and paste your function `is_even` from __Review Exercise: Simple function__ in the cell below.\n",
    "\n",
    "__(A)__ Edit `is_even` to:\n",
    "- take two input arguments:\n",
    " - a numeric variable, `n`\n",
    " - the function `square_root` from __Review Exercise: Using Data Structures as Function Arguments__. <a href='#FunctionsAsArguments'>Jump to Using Functions as Function Arguments.</a> \n",
    "- return:\n",
    " - `True` if the square root of n is even\n",
    " - `False` if the square root of n is not even\n",
    "\n",
    "__(B)__ Make `square_root` the __default__ value of the function argument.\n",
    "<br><a href='#DefaultArguments'>Jump to Default Arguments.</a>  \n",
    "<br>Force the function argument to be input using a named argument. \n",
    "<br><a href='#ForcingDefaultArguments'>Jump to Forcing Default Arguments.</a>  \n",
    "\n",
    "__(C)__ Print the output ofthe function `is_even` for the first 25 natural numbers."
   ]
  },
  {
   "cell_type": "code",
   "execution_count": null,
   "metadata": {},
   "outputs": [],
   "source": [
    "# A function to determine if the square root of a number is odd or even"
   ]
  },
  {
   "cell_type": "markdown",
   "metadata": {},
   "source": [
    "### Review Exercise: Scope\n",
    "\n",
    "In the example below, complete the comments with definition (\"local variable\"/\"global variable\") describing the scope of variables a-c."
   ]
  },
  {
   "cell_type": "code",
   "execution_count": null,
   "metadata": {},
   "outputs": [],
   "source": [
    "# In the code below: \n",
    "# a is a local variable / global variable\n",
    "# b is a ...\n",
    "# c is a ...\n",
    "# d is a ...\n",
    "\n",
    "def my_function(a):\n",
    "    b = a - 2\n",
    "    return b\n",
    "\n",
    "c = 3\n",
    "\n",
    "if c > 2:\n",
    "    d = my_function(5)\n",
    "    print(d)"
   ]
  },
  {
   "cell_type": "code",
   "execution_count": null,
   "metadata": {},
   "outputs": [],
   "source": []
  }
 ],
 "metadata": {
  "celltoolbar": "Slideshow",
  "kernelspec": {
   "display_name": "Python 3",
   "language": "python",
   "name": "python3"
  },
  "language_info": {
   "codemirror_mode": {
    "name": "ipython",
    "version": 3
   },
   "file_extension": ".py",
   "mimetype": "text/x-python",
   "name": "python",
   "nbconvert_exporter": "python",
   "pygments_lexer": "ipython3",
   "version": "3.6.4"
  }
 },
 "nbformat": 4,
 "nbformat_minor": 2
}
