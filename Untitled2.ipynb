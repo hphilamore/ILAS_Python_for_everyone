{
 "cells": [
  {
   "cell_type": "code",
   "execution_count": 1,
   "metadata": {},
   "outputs": [
    {
     "name": "stdout",
     "output_type": "stream",
     "text": [
      "Round the ragged rock the ragged rascal ran\n",
      "Round the Rgged rock the Rgged Rscal Rn\n"
     ]
    }
   ],
   "source": [
    "line = \"Round the ragged rock the ragged rascal ran\"\n",
    "print(line)\n",
    "\n",
    "# replace only a maximum of 2 matches of \"ra\" with \"RA\"\n",
    "line = line.replace(\"ra\", \"R\")\n",
    "print(line)"
   ]
  },
  {
   "cell_type": "code",
   "execution_count": null,
   "metadata": {},
   "outputs": [],
   "source": []
  }
 ],
 "metadata": {
  "kernelspec": {
   "display_name": "Python 3",
   "language": "python",
   "name": "python3"
  },
  "language_info": {
   "codemirror_mode": {
    "name": "ipython",
    "version": 3
   },
   "file_extension": ".py",
   "mimetype": "text/x-python",
   "name": "python",
   "nbconvert_exporter": "python",
   "pygments_lexer": "ipython3",
   "version": "3.6.5"
  }
 },
 "nbformat": 4,
 "nbformat_minor": 2
}
