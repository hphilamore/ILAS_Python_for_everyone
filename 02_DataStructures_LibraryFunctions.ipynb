{
 "cells": [
  {
   "cell_type": "markdown",
   "metadata": {
    "slideshow": {
     "slide_type": "slide"
    }
   },
   "source": [
    "# Please download the new class notes.\n",
    "### Step 1 : Navigate to the directory where your files are stored.  \n",
    "Open a terminal. \n",
    "\n",
    "Using `cd`, navigate to *inside* the ILAS_Python_for_engineers folder on your computer. \n",
    "\n",
    "### Step 3 : Update the course notes by downloading the changes\n",
    "In the terminal type:\n",
    "\n",
    ">`git add -A`\n",
    "\n",
    ">`git commit -m \"commit\"`\n",
    "\n",
    ">`git fetch upstream`\n",
    "\n",
    ">`git merge -X theirs upstream/master`\n"
   ]
  },
  {
   "cell_type": "markdown",
   "metadata": {
    "collapsed": true,
    "slideshow": {
     "slide_type": "slide"
    }
   },
   "source": [
    "# Introduction to Data Structures and Imported Libraries (Pygame)\n",
    "\n",
    "<br> <a href='#DataStructures'>Data Structures</a>\n",
    "<br> <a href='#Lists'>Lists</a> \n",
    "\t<br> &emsp;&emsp; <a href='#Indexing'>__Indexing__</a> \n",
    "    <br> &emsp;&emsp; <a href='#MutipleUserInputs'>Multiple User Inputs</a> \n",
    "\t<br> &emsp;&emsp; <a href='#ManipulatingLists'>Manipulating Lists</a> \n",
    "\t<br> &emsp;&emsp; &emsp;&emsp; <a href='#FindingLengthList'>FindingLengthList</a> \n",
    "    <br> &emsp;&emsp; &emsp;&emsp; <a href='#SortingLists'>SortingLists</a> \n",
    "    <br> &emsp;&emsp; &emsp;&emsp; <a href='#RemovingItemList'>Removing an Item from a List</a> \n",
    "    <br> &emsp;&emsp; &emsp;&emsp; <a href='#AddingItemList'>Adding an Item to a List</a> \n",
    "    <br> &emsp;&emsp; &emsp;&emsp; <a href='#ChangingListEntry'>Changing a List Entry</a> \n",
    "\t<br> &emsp;&emsp; <a href='#NestedDataStructures'>__Nested Data Structures__</a> \n",
    "\t<br> &emsp;&emsp; <a href='#IteratingLists'>__Iterating over Lists__</a> \n",
    "    <br> &emsp;&emsp; <a href='#IndexingIterating'>__Indexing when Iterating over Lists__</a> \n",
    "\t<br> &emsp;&emsp; <a href='#enumerate'>`enumerate`</a> \n",
    "    <br> &emsp;&emsp; <a href='#zip'>__`zip`__</a> \n",
    "\t<br> &emsp;&emsp; <a href='#ExampleChangingPosition'>__Example: Changing Position__ </a> \n",
    "<br> <a href='#Libraries'>Libraries</a> \n",
    "    <br> &emsp;&emsp; <a href='#StandardLibrary'>__The Standard Library__</a> \n",
    "\t<br> &emsp;&emsp; <a href='#Packages'>__Packages__ </a> \n",
    "        <br> &emsp;&emsp; &emsp;&emsp; <a href='#ImportingPackage'>__Importing a Package__</a> \n",
    "        <br> &emsp;&emsp; &emsp;&emsp; <a href='#PackageFunctions'>__Using Package Functions__</a> \n",
    "        <br> &emsp;&emsp; &emsp;&emsp; <a href='#ReadingFunctionDocumentation'>__Reading Function Documentation__</a> \n",
    "        <br> &emsp;&emsp; &emsp;&emsp; <a href='#Examplemathpow'>__Example: `math.pow`__</a> \n",
    "        <br> &emsp;&emsp; &emsp;&emsp; <a href='#Namespaces'>Namespaces</a> \n",
    "        <br> &emsp;&emsp; &emsp;&emsp; <a href='#ImportingFunction'>__Importing a Function__</a> \n",
    "    <br> &emsp;&emsp; <a href='#Optimise'>__Using Package Functions to Optimise your Code__</a> \n",
    "     <br> &emsp;&emsp; <a href='#DataStructuresFunctionArguments'>__Data Structures as Function Arguments__</a> \n",
    "<br> <a href='#StackingFunctions'>__Stacking Functions__</a>\n",
    "<br> <a href='#StackingFunctions'>__Installing Pygame__</a>\n",
    "<br> <a href='#Summary'>Summary</a> \n",
    "<br> <a href='#Test-YourselfExercises'>Test-Yourself Exercises</a> \n",
    "<br> <a href='#ReviewExercises'>Review Exercises</a> \n",
    "\n",
    "\n",
    "\n",
    "\n"
   ]
  },
  {
   "cell_type": "markdown",
   "metadata": {
    "slideshow": {
     "slide_type": "slide"
    }
   },
   "source": [
    "### Lesson Goal\n",
    "\n",
    "- Build a guessing game.\n",
    "- Build the game 0 and Xs or tic-tac-toe.\n",
    "\n",
    "<p align=\"center\">\n",
    "  <img src=\"img/noughts_and_crosses.jpg\" alt=\"Drawing\" style=\"width: 300px;\"/>\n",
    "</p>\n",
    "\n",
    "\n",
    "\n",
    "### Fundamental programming concepts\n",
    " - Importing existing code to use in your program\n",
    " - Storing and representing data e.g. a grid with 0 and X in each grid cell"
   ]
  },
  {
   "cell_type": "markdown",
   "metadata": {
    "slideshow": {
     "slide_type": "slide"
    }
   },
   "source": [
    "<a id='DataStructures'></a>\n",
    "## Data Structures\n",
    "\n",
    "In the last seminar we learnt to generate a range of numbers for use in control flow of  a program, using the function `range()`:\n",
    "\n",
    "\n",
    "       for j in range(20):\n",
    "           ...\n",
    "    \n",
    "        \n",
    "Often we want to manipulate data that is more meaningful than ranges of numbers.\n",
    "\n",
    "These collections of variables might include:\n",
    " - the results of an experiment\n",
    " - a list of names\n",
    " - the components of a vector\n",
    " - a telephone directory with names and associated numbers.\n",
    "    "
   ]
  },
  {
   "cell_type": "markdown",
   "metadata": {
    "slideshow": {
     "slide_type": "slide"
    }
   },
   "source": [
    "Python has different __data structures__ that can be used to store and manipulate these values.\n",
    "\n",
    "Like variable types (`string`, `int`,`float`...) different data structures behave in different ways.\n",
    "\n",
    "Today we will learn to use `list`s "
   ]
  },
  {
   "cell_type": "markdown",
   "metadata": {
    "collapsed": true,
    "slideshow": {
     "slide_type": "slide"
    }
   },
   "source": [
    "A list is a container with compartments in which we can store data:\n",
    "<p align=\"center\">\n",
    "  <img src=\"img/ice_cube_tray.png\" alt=\"Drawing\" style=\"width: 500px;\"/>\n",
    "</p>"
   ]
  },
  {
   "cell_type": "markdown",
   "metadata": {
    "slideshow": {
     "slide_type": "slide"
    }
   },
   "source": [
    "Example\n",
    "\n",
    "If we want to store the names of students in a laboratory group, \n",
    "rather than representing each students using an individual string variable, we could use a list of names. \n",
    "\n"
   ]
  },
  {
   "cell_type": "code",
   "execution_count": 1,
   "metadata": {},
   "outputs": [
    {
     "name": "stdout",
     "output_type": "stream",
     "text": [
      "['Sarah', 'John', 'Joe', 'Emily']\n",
      "['Roger', 'Rachel', 'Amer', 'Caroline', 'Colin']\n"
     ]
    }
   ],
   "source": [
    "lab_group0 = [\"Yukari\", \"Sajid\", \"Hemma\", \"Ayako\"]\n",
    "lab_group1 = [\"Sara\", \"Mari\", \"Quang\", \"Sam\", \"Ryo\", \"Nao\", \"Takashi\"]\n",
    "\n",
    "print(lab_group0)\n",
    "print(lab_group1)"
   ]
  },
  {
   "cell_type": "markdown",
   "metadata": {
    "slideshow": {
     "slide_type": "slide"
    }
   },
   "source": [
    "This is useful because we can perform operations on lists such as:\n",
    " - checking its length (number of students in a lab group)\n",
    " - sorting the names in the list into alphabetical order\n",
    " - making a list of lists (we call this a *nested list*):\n"
   ]
  },
  {
   "cell_type": "code",
   "execution_count": 2,
   "metadata": {
    "collapsed": true
   },
   "outputs": [],
   "source": [
    "lab_groups = [lab_group0, lab_group1]"
   ]
  },
  {
   "cell_type": "markdown",
   "metadata": {
    "slideshow": {
     "slide_type": "slide"
    }
   },
   "source": [
    "<a id='Lists'></a>\n",
    "## Lists"
   ]
  },
  {
   "cell_type": "markdown",
   "metadata": {
    "slideshow": {
     "slide_type": "-"
    }
   },
   "source": [
    "A list is a sequence of data. \n",
    "\n",
    "We call each item in the sequence an *element*. \n",
    "\n",
    "A list is constructed using square brackets:\n",
    "\n"
   ]
  },
  {
   "cell_type": "code",
   "execution_count": 3,
   "metadata": {
    "collapsed": true
   },
   "outputs": [],
   "source": [
    "a = [1, 2, 3]"
   ]
  },
  {
   "cell_type": "markdown",
   "metadata": {
    "slideshow": {
     "slide_type": "slide"
    }
   },
   "source": [
    "A `range` can be converted to a list with the `list` function (casting)."
   ]
  },
  {
   "cell_type": "code",
   "execution_count": 4,
   "metadata": {},
   "outputs": [
    {
     "name": "stdout",
     "output_type": "stream",
     "text": [
      "[0, 1, 2, 3, 4, 5, 6, 7, 8, 9]\n"
     ]
    }
   ],
   "source": [
    "print(list(range(10)))"
   ]
  },
  {
   "cell_type": "markdown",
   "metadata": {
    "slideshow": {
     "slide_type": "slide"
    }
   },
   "source": [
    "A list can hold a mixture of types (`int`, `string`....)."
   ]
  },
  {
   "cell_type": "code",
   "execution_count": 5,
   "metadata": {
    "collapsed": true,
    "slideshow": {
     "slide_type": "-"
    }
   },
   "outputs": [],
   "source": [
    "a = [1, 2.0, \"three\"]"
   ]
  },
  {
   "cell_type": "markdown",
   "metadata": {
    "slideshow": {
     "slide_type": "subslide"
    }
   },
   "source": [
    "An empty list is created by"
   ]
  },
  {
   "cell_type": "code",
   "execution_count": 6,
   "metadata": {
    "collapsed": true
   },
   "outputs": [],
   "source": [
    "my_list = []"
   ]
  },
  {
   "cell_type": "markdown",
   "metadata": {
    "slideshow": {
     "slide_type": "subslide"
    }
   },
   "source": [
    "A list of length 5 with repeated values can be created by"
   ]
  },
  {
   "cell_type": "code",
   "execution_count": 7,
   "metadata": {},
   "outputs": [
    {
     "name": "stdout",
     "output_type": "stream",
     "text": [
      "['Hello', 'Hello', 'Hello', 'Hello', 'Hello']\n"
     ]
    }
   ],
   "source": [
    "my_list = [\"Hello\"]*5\n",
    "print(my_list)"
   ]
  },
  {
   "cell_type": "markdown",
   "metadata": {
    "slideshow": {
     "slide_type": "subslide"
    }
   },
   "source": [
    "We can check if an item is in a list using the function `in`:\n"
   ]
  },
  {
   "cell_type": "code",
   "execution_count": 8,
   "metadata": {},
   "outputs": [
    {
     "name": "stdout",
     "output_type": "stream",
     "text": [
      "True\n",
      "False\n"
     ]
    }
   ],
   "source": [
    "print(\"Hello\" in my_list)\n",
    "print(\"Goodbye\" in my_list)"
   ]
  },
  {
   "cell_type": "markdown",
   "metadata": {
    "slideshow": {
     "slide_type": "slide"
    }
   },
   "source": [
    "<a id='Indexing'></a>\n",
    "### Indexing\n",
    "\n",
    "Lists store data in order.\n",
    "\n",
    "We can select a single element or multiple elements of a list using the __index__ of the element(s).\n",
    "\n",
    "You are familiar with this process; it is the same as selecting individual characters of a string:"
   ]
  },
  {
   "cell_type": "code",
   "execution_count": 9,
   "metadata": {
    "slideshow": {
     "slide_type": "-"
    }
   },
   "outputs": [
    {
     "name": "stdout",
     "output_type": "stream",
     "text": [
      "t\n"
     ]
    }
   ],
   "source": [
    "word = \"string\"\n",
    "letter = word[1]\n",
    "print(letter)"
   ]
  },
  {
   "cell_type": "code",
   "execution_count": 10,
   "metadata": {
    "slideshow": {
     "slide_type": "-"
    }
   },
   "outputs": [
    {
     "name": "stdout",
     "output_type": "stream",
     "text": [
      "Sarah\n"
     ]
    }
   ],
   "source": [
    "lab_group0 = [\"Sara\", \"Mari\", \"Quang\", \"Sam\", \"Ryo\", \"Nao\", \"Takashi\"]\n",
    "\n",
    "first_member = lab_group0[0]\n",
    "\n",
    "print(first_member)"
   ]
  },
  {
   "cell_type": "markdown",
   "metadata": {
    "slideshow": {
     "slide_type": "subslide"
    }
   },
   "source": [
    "If we select multiple elements they are returned as a list:"
   ]
  },
  {
   "cell_type": "code",
   "execution_count": 11,
   "metadata": {},
   "outputs": [
    {
     "name": "stdout",
     "output_type": "stream",
     "text": [
      "['Sarah', 'John']\n"
     ]
    }
   ],
   "source": [
    "lab_group0 = [\"Sara\", \"Mari\", \"Quang\", \"Sam\", \"Ryo\", \"Nao\", \"Takashi\"]\n",
    "\n",
    "first_members = lab_group0[0:2]\n",
    "\n",
    "print(first_members)"
   ]
  },
  {
   "cell_type": "markdown",
   "metadata": {
    "slideshow": {
     "slide_type": "slide"
    }
   },
   "source": [
    "We can select the individual characters of a string using a second index.\n",
    "\n",
    "For example to select the first letter of the second group member's name:"
   ]
  },
  {
   "cell_type": "code",
   "execution_count": 12,
   "metadata": {},
   "outputs": [
    {
     "name": "stdout",
     "output_type": "stream",
     "text": [
      "J\n"
     ]
    }
   ],
   "source": [
    "lab_group0 = [\"Sara\", \"Mari\", \"Quang\", \"Sam\", \"Ryo\", \"Nao\", \"Takashi\"]\n",
    "\n",
    "letter = lab_group0[1][0]\n",
    "\n",
    "print(letter)"
   ]
  },
  {
   "cell_type": "markdown",
   "metadata": {
    "slideshow": {
     "slide_type": "slide"
    }
   },
   "source": [
    "<a id='MultipleUserInputs'></a>\n",
    "### Multiple User Inputs\n",
    "When using the `input` function to get input from the program user, multiple user inputs may be formatted as a *list*.\n",
    "\n",
    "First, this is a reminder of a single use of the `input` function:"
   ]
  },
  {
   "cell_type": "code",
   "execution_count": 13,
   "metadata": {
    "slideshow": {
     "slide_type": "-"
    }
   },
   "outputs": [
    {
     "name": "stdout",
     "output_type": "stream",
     "text": [
      "Enter your name: Hemma\n",
      "Hemma\n"
     ]
    }
   ],
   "source": [
    "data = input( \"Enter your name: \" ) \n",
    "print(data)"
   ]
  },
  {
   "cell_type": "markdown",
   "metadata": {
    "slideshow": {
     "slide_type": "slide"
    }
   },
   "source": [
    "Multiple user inputs."
   ]
  },
  {
   "cell_type": "code",
   "execution_count": 14,
   "metadata": {
    "slideshow": {
     "slide_type": "-"
    }
   },
   "outputs": [
    {
     "name": "stdout",
     "output_type": "stream",
     "text": [
      "Enter your name: Hemma\n",
      "Enter your country:uk\n",
      "['Hemma', 'uk']\n",
      "Hemma is from uk\n"
     ]
    }
   ],
   "source": [
    "data = [ input( \"Enter your name: \" ) , \n",
    "         input( \"Enter your country:\" ) ]\n",
    "\n",
    "print(data)\n",
    "\n",
    "print(f\"{data[0]} is from {data[1]}\")"
   ]
  },
  {
   "cell_type": "markdown",
   "metadata": {
    "slideshow": {
     "slide_type": "slide"
    }
   },
   "source": [
    "<a id='ManipulatingLists'></a>\n",
    "### Manipulating Lists \n",
    "\n",
    "There are many functions for manipulating lists.\n",
    "\n",
    "Many of these functions apply to other data structures.\n",
    "\n",
    "\n",
    "\n",
    "\n",
    "\n",
    "\n",
    "\n",
    "\n",
    "\n"
   ]
  },
  {
   "cell_type": "markdown",
   "metadata": {
    "slideshow": {
     "slide_type": "subslide"
    }
   },
   "source": [
    "<a id='FindingLengthLists'></a>\n",
    "### Finding the Length of a List\n",
    "\n",
    "We can find the length (number of items) of a list using the function `len()`, by including the name of the list in the brackets. "
   ]
  },
  {
   "cell_type": "markdown",
   "metadata": {
    "slideshow": {
     "slide_type": "subslide"
    }
   },
   "source": [
    "In the example below, we find the length of the list `lab_group0`. "
   ]
  },
  {
   "cell_type": "code",
   "execution_count": 15,
   "metadata": {},
   "outputs": [
    {
     "name": "stdout",
     "output_type": "stream",
     "text": [
      "Lab group members: ['Sara', 'Mari', 'Quang']\n",
      "Size of lab group: 3\n",
      "Check the Python object type: <class 'list'>\n"
     ]
    }
   ],
   "source": [
    "lab_group0 = [\"Sara\", \"Mari\", \"Quang\"]\n",
    "\n",
    "size = len(lab_group0)\n",
    "\n",
    "print(\"Lab group members:\", lab_group0)\n",
    "\n",
    "print(\"Size of lab group:\", size)\n",
    "\n",
    "print(\"Check the Python object type:\", type(lab_group0))"
   ]
  },
  {
   "cell_type": "markdown",
   "metadata": {
    "slideshow": {
     "slide_type": "subslide"
    }
   },
   "source": [
    "<a id='SortingLists'></a>\n",
    "### Sorting Lists\n",
    "\n",
    "To sort the list we use the function `sorted()`.\n",
    "\n",
    "#### Sorting Numerically\n",
    "\n",
    "If the list contains numerical variables, the numbers is sorted in ascending order."
   ]
  },
  {
   "cell_type": "code",
   "execution_count": 16,
   "metadata": {
    "scrolled": true
   },
   "outputs": [
    {
     "name": "stdout",
     "output_type": "stream",
     "text": [
      "[7, 1, 3.0]\n",
      "[1, 3.0, 7]\n"
     ]
    }
   ],
   "source": [
    "numbers = [7, 1, 3.0]\n",
    "\n",
    "print(numbers)\n",
    "\n",
    "numbers = sorted(numbers)\n",
    "\n",
    "print(numbers)"
   ]
  },
  {
   "cell_type": "markdown",
   "metadata": {
    "slideshow": {
     "slide_type": "subslide"
    }
   },
   "source": [
    "__Note:__ We can sort a list with mixed numeric types (e.g. `float` and `int`). \n",
    "\n",
    "However, we cannot sort a list with types that cannot be sorted by the same ordering rule. \n",
    "\n",
    "(e.g. `numbers = sorted([\"7\", 1, 3.0])` causes an error.)"
   ]
  },
  {
   "cell_type": "markdown",
   "metadata": {
    "slideshow": {
     "slide_type": "subslide"
    }
   },
   "source": [
    "#### Sorting Alphabetically\n",
    "\n",
    "If the list contains strings of alphabet characters, the list is sorted by alphabetical order. "
   ]
  },
  {
   "cell_type": "code",
   "execution_count": 17,
   "metadata": {},
   "outputs": [
    {
     "name": "stdout",
     "output_type": "stream",
     "text": [
      "['Sara', 'Mari', 'Quang']\n",
      "['Mari', 'Quang', 'Sara']\n"
     ]
    }
   ],
   "source": [
    "lab_group0 = [\"Sara\", \"Mari\", \"Quang\"]\n",
    "\n",
    "print(lab_group0)\n",
    "\n",
    "lab_group0 = sorted(lab_group0)\n",
    "\n",
    "print(lab_group0)"
   ]
  },
  {
   "cell_type": "markdown",
   "metadata": {
    "slideshow": {
     "slide_type": "subslide"
    }
   },
   "source": [
    "As with `len()` we include the name of the list we want to sort in the brackets. "
   ]
  },
  {
   "cell_type": "markdown",
   "metadata": {
    "slideshow": {
     "slide_type": "subslide"
    }
   },
   "source": [
    "`sort` is known as a 'method' of a `list`. \n",
    "\n",
    "If we suffix a list with `.sort()`, it performs an *in-place* sort."
   ]
  },
  {
   "cell_type": "code",
   "execution_count": 18,
   "metadata": {
    "slideshow": {
     "slide_type": "-"
    }
   },
   "outputs": [
    {
     "name": "stdout",
     "output_type": "stream",
     "text": [
      "['Sara', 'Mari', 'Quang']\n",
      "['Mari', 'Quang', 'Sara']\n"
     ]
    }
   ],
   "source": [
    "lab_group0 = [\"Sara\", \"Mari\", \"Quang\"]\n",
    "\n",
    "print(lab_group0)\n",
    "\n",
    "#lab_group0 = sorted(lab_group0)\n",
    "lab_group0.sort()\n",
    "\n",
    "print(lab_group0)"
   ]
  },
  {
   "cell_type": "markdown",
   "metadata": {
    "slideshow": {
     "slide_type": "subslide"
    }
   },
   "source": [
    "__Try it yourself__\n",
    "\n",
    "In the cell provided in your textbook create a list of __numeric__ or __string__ values.\n",
    "\n",
    "Sort the list using `sorted()` __or__ `.sort()`.\n",
    "\n",
    "Print the sorted list.\n",
    "\n",
    "Print the length of the list using `len()`."
   ]
  },
  {
   "cell_type": "code",
   "execution_count": 19,
   "metadata": {
    "collapsed": true
   },
   "outputs": [],
   "source": [
    "# Sorting a list"
   ]
  },
  {
   "cell_type": "markdown",
   "metadata": {
    "slideshow": {
     "slide_type": "subslide"
    }
   },
   "source": [
    "<a id='RemovingItemList'></a>\n",
    "### Removing an Item from a List\n",
    "\n",
    "We can remove items from a list using the method `pop`.\n",
    "\n",
    "We place the index of the element we wish to remove in brackets. "
   ]
  },
  {
   "cell_type": "code",
   "execution_count": 20,
   "metadata": {
    "slideshow": {
     "slide_type": "subslide"
    }
   },
   "outputs": [
    {
     "name": "stdout",
     "output_type": "stream",
     "text": [
      "['Sara', 'Mari', 'Quang', 'Sam', 'Ryo']\n",
      "['Sara', 'Quang', 'Sam', 'Ryo']\n"
     ]
    }
   ],
   "source": [
    "lab_group0 = [\"Sara\", \"Mari\", \"Quang\", \"Sam\", \"Ryo\"]\n",
    "print(lab_group0)\n",
    "\n",
    "# Remove the second student from the list: lab_group (remember indexing starts from 0 so 1 is the second element)\n",
    "\n",
    "lab_group0.pop(1)\n",
    "print(lab_group0)"
   ]
  },
  {
   "cell_type": "code",
   "execution_count": 21,
   "metadata": {
    "slideshow": {
     "slide_type": "subslide"
    }
   },
   "outputs": [
    {
     "name": "stdout",
     "output_type": "stream",
     "text": [
      "['Sara', 'Quang', 'Sam']\n"
     ]
    }
   ],
   "source": [
    "# By default, pop removes the last element\n",
    "\n",
    "lab_group0.pop()\n",
    "print(lab_group0)"
   ]
  },
  {
   "cell_type": "code",
   "execution_count": 22,
   "metadata": {
    "slideshow": {
     "slide_type": "subslide"
    }
   },
   "outputs": [
    {
     "name": "stdout",
     "output_type": "stream",
     "text": [
      "['Sara', 'Sam']\n",
      "Quang\n"
     ]
    }
   ],
   "source": [
    "# Pop can by used to assign the removed value to a variable name\n",
    "\n",
    "group_member = lab_group0.pop(1)\n",
    "print(lab_group0)\n",
    "print(group_member)"
   ]
  },
  {
   "cell_type": "markdown",
   "metadata": {
    "slideshow": {
     "slide_type": "subslide"
    }
   },
   "source": [
    "<a id='AddingItemList'></a>\n",
    "### Adding an Item to a List\n",
    "\n",
    "We can add items to a list using the method `insert`.\n",
    "\n",
    "We place the desired index of new element in brackets. "
   ]
  },
  {
   "cell_type": "code",
   "execution_count": 23,
   "metadata": {},
   "outputs": [
    {
     "name": "stdout",
     "output_type": "stream",
     "text": [
      "['Sara', 'Sam', 'Mark']\n"
     ]
    }
   ],
   "source": [
    "# Add new student \"Mark\" to the list\n",
    "lab_group0.insert(2, \"Mark\")\n",
    "print(lab_group0)"
   ]
  },
  {
   "cell_type": "markdown",
   "metadata": {
    "slideshow": {
     "slide_type": "subslide"
    }
   },
   "source": [
    "We can add items at the end of a list using the method `append`.\n",
    "\n",
    "We place the element we want to add to the end of the list in brackets. "
   ]
  },
  {
   "cell_type": "code",
   "execution_count": 24,
   "metadata": {},
   "outputs": [
    {
     "name": "stdout",
     "output_type": "stream",
     "text": [
      "['Sara', 'Sam', 'Mark', 'Lia']\n"
     ]
    }
   ],
   "source": [
    "# Add new student \"Lia\" at the end of the list\n",
    "lab_group0.append(\"Lia\")\n",
    "print(lab_group0)"
   ]
  },
  {
   "cell_type": "markdown",
   "metadata": {
    "slideshow": {
     "slide_type": "subslide"
    }
   },
   "source": [
    "<a id='ChangingListEntry'></a>\n",
    "### Changing a List Entry.\n",
    "We can change the entry of a list using indexing."
   ]
  },
  {
   "cell_type": "code",
   "execution_count": 25,
   "metadata": {},
   "outputs": [
    {
     "name": "stdout",
     "output_type": "stream",
     "text": [
      "['Sara', 'Sam', 'Mark', 'Am']\n"
     ]
    }
   ],
   "source": [
    "lab_group0[3] = \"Am\"\n",
    "print(lab_group0)\n",
    "\n",
    "# Adding and removing items from a list."
   ]
  },
  {
   "cell_type": "markdown",
   "metadata": {
    "slideshow": {
     "slide_type": "subslide"
    }
   },
   "source": [
    "__Try it yourself__\n",
    "\n",
    "In the cell provided in your textbook.\n",
    "\n",
    "Remove \"Sara\" from the list.\n",
    "\n",
    "Print the new list.\n",
    "\n",
    "Add a new lab group member, Tom, to the list.\n",
    "\n",
    "Print the new list."
   ]
  },
  {
   "cell_type": "code",
   "execution_count": 26,
   "metadata": {},
   "outputs": [
    {
     "name": "stdout",
     "output_type": "stream",
     "text": [
      "['Sara', 'Mari', 'Quang', 'Sam', 'Ryo']\n"
     ]
    }
   ],
   "source": [
    "lab_group0 = [\"Sara\", \"Mari\", \"Quang\", \"Sam\", \"Ryo\"]\n",
    "print(lab_group0)\n",
    "\n",
    "# Adding and removing items from a list."
   ]
  },
  {
   "cell_type": "markdown",
   "metadata": {
    "collapsed": true,
    "slideshow": {
     "slide_type": "subslide"
    }
   },
   "source": [
    "<a id='NestedDataStructures'></a>\n",
    "### Nested Data Structures: Lists of Lists\n",
    "\n",
    "A *nested list* is a list within a list. \n",
    "\n",
    "(Recall *nested loops* from the last seminar 1; Control Flow). \n",
    "\n"
   ]
  },
  {
   "cell_type": "markdown",
   "metadata": {
    "slideshow": {
     "slide_type": "subslide"
    }
   },
   "source": [
    "To access a __single element__ we need as many indices as there are levels of nested list. \n",
    "\n",
    "This is more easily explained with an example:"
   ]
  },
  {
   "cell_type": "markdown",
   "metadata": {
    "slideshow": {
     "slide_type": "subslide"
    }
   },
   "source": [
    "`lab_groups` is a nested list containing the lists:\n",
    " - `lab_group0`\n",
    " - `lab_group1`\n",
    " - `lab_group2`"
   ]
  },
  {
   "cell_type": "code",
   "execution_count": 27,
   "metadata": {
    "collapsed": true,
    "slideshow": {
     "slide_type": "-"
    }
   },
   "outputs": [],
   "source": [
    "lab_group0 = [\"Sara\", \"Mika\", \"Ryo\", \"Am\"]\n",
    "lab_group1 = [\"Hemma\", \"Miri\", \"Quy\", \"Sajid\"]\n",
    "lab_group2 = [\"Adam\", \"Yukari\", \"Farad\", \"Fumitoshi\"]\n",
    "\n",
    "lab_groups = [lab_group0, lab_group1, lab_group2]"
   ]
  },
  {
   "cell_type": "markdown",
   "metadata": {
    "slideshow": {
     "slide_type": "subslide"
    }
   },
   "source": [
    "To select and element from `lab_group1` we:\n",
    "- first give the index of `lab_group1` in th list `lab_groups`\n",
    "- second give the index of the element within `lab_group1`"
   ]
  },
  {
   "cell_type": "code",
   "execution_count": 28,
   "metadata": {
    "slideshow": {
     "slide_type": "-"
    }
   },
   "outputs": [
    {
     "name": "stdout",
     "output_type": "stream",
     "text": [
      "['Hemma', 'Miri', 'Quy', 'Sajid']\n",
      "Quy\n"
     ]
    }
   ],
   "source": [
    "group = lab_groups[1]\n",
    "print(group)\n",
    "\n",
    "name = lab_groups[1][2]\n",
    "print(name)"
   ]
  },
  {
   "cell_type": "markdown",
   "metadata": {
    "slideshow": {
     "slide_type": "slide"
    }
   },
   "source": [
    "<a id='IteratingLists'></a>\n",
    "### Iterating over Lists\n",
    "\n",
    "Looping over each item in a list is called *iterating*. \n",
    "\n",
    "To iterate over a list of the lab group we  can use a `for` loop.\n",
    "\n"
   ]
  },
  {
   "cell_type": "markdown",
   "metadata": {
    "slideshow": {
     "slide_type": "slide"
    }
   },
   "source": [
    "In the followig example, each iteration, variable `d` takes the value of the next item in the list:"
   ]
  },
  {
   "cell_type": "code",
   "execution_count": 29,
   "metadata": {},
   "outputs": [
    {
     "name": "stdout",
     "output_type": "stream",
     "text": [
      "the value of d is: 1\n",
      "the value of d is: 2.0\n",
      "the value of d is: three\n"
     ]
    }
   ],
   "source": [
    "for d in [1, 2.0, \"three\"]:    \n",
    "    print(\"the value of d is:\", d)"
   ]
  },
  {
   "cell_type": "markdown",
   "metadata": {
    "slideshow": {
     "slide_type": "slide"
    }
   },
   "source": [
    "We could also express this as:"
   ]
  },
  {
   "cell_type": "code",
   "execution_count": 30,
   "metadata": {},
   "outputs": [
    {
     "name": "stdout",
     "output_type": "stream",
     "text": [
      "the value of d is: 1\n",
      "the value of d is: 2.0\n",
      "the value of d is: three\n"
     ]
    }
   ],
   "source": [
    "data = [1, 2.0, \"three\"]\n",
    "\n",
    "for d in data:    \n",
    "    print(\"the value of d is:\", d)"
   ]
  },
  {
   "cell_type": "markdown",
   "metadata": {
    "slideshow": {
     "slide_type": "slide"
    }
   },
   "source": [
    "Iterating backwards over a list can be acheived using the built in `reversed` function."
   ]
  },
  {
   "cell_type": "code",
   "execution_count": 31,
   "metadata": {},
   "outputs": [
    {
     "name": "stdout",
     "output_type": "stream",
     "text": [
      "the value of d is: three\n",
      "the value of d is: 2.0\n",
      "the value of d is: 1\n"
     ]
    }
   ],
   "source": [
    "data = [1, 2.0, \"three\"]\n",
    "\n",
    "for d in reversed(data):    \n",
    "    print(\"the value of d is:\", d)"
   ]
  },
  {
   "cell_type": "markdown",
   "metadata": {
    "slideshow": {
     "slide_type": "subslide"
    }
   },
   "source": [
    "__Try it yourself__\n",
    "\n",
    "\n",
    "In the cell provided in your textbook *iterate* over the list `data = [1, 2.0, \"three\"]`.\n",
    "\n",
    "Each time the code loops:\n",
    "1. print the value of data __cast as a string__ (Seminar 1 Data Types and Operators)\n",
    "1. print the variable type<br>(to demonstrate that the variable has been cast. Note that otherwise the variable appears to remain unchanged)."
   ]
  },
  {
   "cell_type": "code",
   "execution_count": 32,
   "metadata": {
    "collapsed": true
   },
   "outputs": [],
   "source": [
    "# Iterate over a list and cast each item as a string\n",
    "data = [1, 2.0, \"three\"]"
   ]
  },
  {
   "cell_type": "markdown",
   "metadata": {
    "collapsed": true,
    "slideshow": {
     "slide_type": "slide"
    }
   },
   "source": [
    "<a id='IndexingIteratingLists'></a>\n",
    "### Indexing when Iterating over Lists\n",
    "Indexing can be useful when iterating over a list.\n",
    "\n"
   ]
  },
  {
   "cell_type": "markdown",
   "metadata": {
    "slideshow": {
     "slide_type": "-"
    }
   },
   "source": [
    "For example, we can select a range of elements to iterate over:"
   ]
  },
  {
   "cell_type": "code",
   "execution_count": 33,
   "metadata": {},
   "outputs": [
    {
     "name": "stdout",
     "output_type": "stream",
     "text": [
      "name: Quang\n",
      "name: Sam\n",
      "name: Ryo\n"
     ]
    }
   ],
   "source": [
    "lab_group0 = [\"Sara\", \"Mari\", \"Quang\", \"Sam\", \"Ryo\", \"Nao\", \"Takashi\"]\n",
    "\n",
    "for member in lab_group0[2:5]:    \n",
    "    print(\"name:\", member)"
   ]
  },
  {
   "cell_type": "markdown",
   "metadata": {
    "slideshow": {
     "slide_type": "subslide"
    }
   },
   "source": [
    "A third value can used to choose a step size (similar to `range()`).\n",
    "\n",
    "For example, if we want to choose every other lab member we use step size, 2:"
   ]
  },
  {
   "cell_type": "code",
   "execution_count": 34,
   "metadata": {},
   "outputs": [
    {
     "name": "stdout",
     "output_type": "stream",
     "text": [
      "name: Sara\n",
      "name: Quang\n",
      "name: Ryo\n",
      "name: Takashi\n"
     ]
    }
   ],
   "source": [
    "lab_group0 = [\"Sara\", \"Mari\", \"Quang\", \"Sam\", \"Ryo\", \"Nao\", \"Takashi\"]\n",
    "\n",
    "for member in lab_group0[::2]:    \n",
    "    print(\"name:\", member)"
   ]
  },
  {
   "cell_type": "markdown",
   "metadata": {
    "slideshow": {
     "slide_type": "subslide"
    }
   },
   "source": [
    "__Note:__<br>\n",
    "Some data structures that support *iterating* but do not support *indexing*.\n",
    "\n",
    "e.g. dictionaries, which we will learn about later. \n",
    "\n",
    "When possible, it is better to iterate over a list rather than use indexing."
   ]
  },
  {
   "cell_type": "markdown",
   "metadata": {
    "slideshow": {
     "slide_type": "subslide"
    }
   },
   "source": [
    "<a id='enumerate'></a>\n",
    "### `enumerate()`\n",
    "The function `enumerate` can be used to return the index of each element.\n",
    "<br>This information is cast as a list to allow us to read it."
   ]
  },
  {
   "cell_type": "code",
   "execution_count": 35,
   "metadata": {
    "slideshow": {
     "slide_type": "-"
    }
   },
   "outputs": [
    {
     "name": "stdout",
     "output_type": "stream",
     "text": [
      "<enumerate object at 0x7f3d24045a68>\n",
      "[(0, 'Sara'), (1, 'Mari'), (2, 'Quang'), (3, 'Sam'), (4, 'Ryo'), (5, 'Nao'), (6, 'Takashi')]\n"
     ]
    }
   ],
   "source": [
    "lab_group0 = [\"Sara\", \"Mari\", \"Quang\", \"Sam\", \"Ryo\", \"Nao\", \"Takashi\"]\n",
    "a = enumerate(lab_group0)\n",
    "b = list(enumerate(lab_group0))\n",
    "print(a)\n",
    "print(b)\n",
    "\n"
   ]
  },
  {
   "cell_type": "code",
   "execution_count": 36,
   "metadata": {
    "slideshow": {
     "slide_type": "subslide"
    }
   },
   "outputs": [
    {
     "name": "stdout",
     "output_type": "stream",
     "text": [
      "[(0, 's'), (1, 't'), (2, 'r'), (3, 'i'), (4, 'n'), (5, 'g')]\n"
     ]
    }
   ],
   "source": [
    "string = \"string\"\n",
    "a = list(enumerate(string))\n",
    "print(a)"
   ]
  },
  {
   "cell_type": "markdown",
   "metadata": {
    "slideshow": {
     "slide_type": "slide"
    }
   },
   "source": [
    "<a id='zip'></a>\n",
    "### Iterating Over Multiple Lists Using `zip()`\n",
    "It can be very useful to iterate through multiple lists within the same loop. than one list."
   ]
  },
  {
   "cell_type": "markdown",
   "metadata": {
    "slideshow": {
     "slide_type": "slide"
    }
   },
   "source": [
    "For example if we have a list of group members and a list of their scores for an assignemt, we can print the score that corresponds to each lab member:"
   ]
  },
  {
   "cell_type": "code",
   "execution_count": 37,
   "metadata": {},
   "outputs": [
    {
     "name": "stdout",
     "output_type": "stream",
     "text": [
      "Sara : score = 72\n",
      "Mari : score = 56\n",
      "Quang : score = 65\n",
      "Sam : score = 52\n",
      "Ryo : score = 71\n",
      "Nao : score = 60\n"
     ]
    }
   ],
   "source": [
    "lab_group0 =  [\"Sara\", \"Mari\", \"Quang\", \"Sam\", \"Ryo\", \"Nao\", \"Takashi\"]\n",
    "\n",
    "assignment1 = [72, 56, 65, 52, 71, 60]\n",
    "\n",
    "for member, score in zip(lab_group0, assignment1):    \n",
    "    \n",
    "    print(member, \": score =\", score)"
   ]
  },
  {
   "cell_type": "markdown",
   "metadata": {
    "slideshow": {
     "slide_type": "slide"
    }
   },
   "source": [
    "In this example \n",
    "\n",
    "`member` is the name given to the *current* value from the list `lab_group0`\n",
    "\n",
    "`score` is the names given to the *current* value from the list `assignment1`.  "
   ]
  },
  {
   "cell_type": "markdown",
   "metadata": {
    "slideshow": {
     "slide_type": "slide"
    }
   },
   "source": [
    "\n",
    "We can include any number of lists in `zip`."
   ]
  },
  {
   "cell_type": "markdown",
   "metadata": {
    "slideshow": {
     "slide_type": "subslide"
    }
   },
   "source": [
    "For example it may be useful to print the combined score a lab member has achieved for all assigments this semester:"
   ]
  },
  {
   "cell_type": "code",
   "execution_count": 38,
   "metadata": {},
   "outputs": [
    {
     "name": "stdout",
     "output_type": "stream",
     "text": [
      "Sara : score = 195\n",
      "Mari : score = 188\n",
      "Quang : score = 208\n",
      "Sam : score = 173\n",
      "Ryo : score = 194\n",
      "Nao : score = 186\n"
     ]
    }
   ],
   "source": [
    "lab_group0 =  [\"Sara\", \"Mari\", \"Quang\", \"Sam\", \"Ryo\", \"Nao\", \"Takashi\"]\n",
    "\n",
    "assignment1 = [72, 56, 65, 52, 71, 60]\n",
    "assignment2 = [52, 61, 73, 55, 62, 55]\n",
    "assignment3 = [71, 71, 70, 66, 61, 71]\n",
    "\n",
    "for member, score1, score2, score3 in zip(lab_group0, \n",
    "                                          assignment1, \n",
    "                                          assignment2, \n",
    "                                          assignment3):    \n",
    "    print(member, \": score =\", (score1 + score2 + score3))"
   ]
  },
  {
   "cell_type": "markdown",
   "metadata": {
    "slideshow": {
     "slide_type": "slide"
    }
   },
   "source": [
    "<a id='ExampleChangePosition'></a>\n",
    "### Example: Change in Position: (Representing Vectors using Lists)\n",
    "\n",
    "__Vector:__ A quantity with magnitude and direction."
   ]
  },
  {
   "cell_type": "markdown",
   "metadata": {
    "slideshow": {
     "slide_type": "slide"
    }
   },
   "source": [
    "The position of a point in 2D space (e.g. the position of a character in a game), can be expressed in terms of horizontal (x) and vertical (y) conrdinates. \n",
    "\n",
    "The movement to a new position can be expressed as a change in x and y. \n",
    "\n",
    "This change is known as the velocity with which the point moves. \n",
    "\n",
    "<img src=\"img/schiffman_velocity_vector.png\" alt=\"Drawing\" style=\"width: 700px;\"/>\n",
    "\n",
    "[Daniel Schiffman, The Nature of Code]\n"
   ]
  },
  {
   "cell_type": "markdown",
   "metadata": {
    "slideshow": {
     "slide_type": "slide"
    }
   },
   "source": [
    "We can conveniently express the position $\\mathbf{r}$ in matrix (or basis vector) form using the coefficients $x$ and  $y$: \n",
    "$$\n",
    "\\mathbf{r} = [r_x, r_y]\n",
    "$$\n",
    "\n",
    "\n",
    "__...which looks a lot like a Python list!__\n"
   ]
  },
  {
   "cell_type": "markdown",
   "metadata": {
    "slideshow": {
     "slide_type": "slide"
    }
   },
   "source": [
    "When we move a character in a game, we change it's position. \n",
    "<br>The change in position with each time-step is the __velocity__ of the character.\n",
    "\n",
    "$$\n",
    "\\mathbf{v} = [v_x, v_y]\n",
    "$$\n",
    "\n"
   ]
  },
  {
   "cell_type": "markdown",
   "metadata": {
    "slideshow": {
     "slide_type": "slide"
    }
   },
   "source": [
    "To get the position at the next time step we simply add the x and y component of the veclocity to the x and y component of the initial position vector:\n",
    "\n",
    " <img src=\"img/schiffman_vector.png\" alt=\"Drawing\" style=\"width: 800px;\"/>\n",
    " \n",
    "\n",
    "\n",
    "\\begin{align}\n",
    "      {\\displaystyle {\\begin{aligned}\\ \n",
    "      \\mathbf{r}(t=t+1)\n",
    "      &=\\mathbf{r} + \\mathbf{v}\\\\\n",
    "      &=[(r_x(t)+v_x),\\;\\;   (r_y(t)+v_y)] \\\\ \\end{aligned}}} \n",
    "\\end{align}\n",
    "\n"
   ]
  },
  {
   "cell_type": "markdown",
   "metadata": {
    "slideshow": {
     "slide_type": "slide"
    }
   },
   "source": [
    "For example, let's find the position at the next timestep where:\n",
    " - initial position,  $\\mathbf{r} = [5, 2]$\n",
    " - velocity,  $\\mathbf{v} = [3, 4]$\n",
    " \n",
    " <img src=\"img/schiffman_vector.png\" alt=\"Drawing\" style=\"width: 500px;\"/>\n",
    " \n",
    " [Daniel Schiffman, The Nature of Code]"
   ]
  },
  {
   "cell_type": "code",
   "execution_count": 61,
   "metadata": {
    "collapsed": true
   },
   "outputs": [],
   "source": [
    "# Example: Change in Position\n",
    "\n",
    "r = [5, 2]\n",
    "v = [3, 4]"
   ]
  },
  {
   "cell_type": "markdown",
   "metadata": {},
   "source": [
    "(Solution in 02_DataStructures_LibraryFunctions_SOLS.ipynb)"
   ]
  },
  {
   "cell_type": "markdown",
   "metadata": {
    "slideshow": {
     "slide_type": "slide"
    }
   },
   "source": [
    "Arranging the code on seperate lines:\n",
    " - makes the code more readable\n",
    " - does not effect how the code works\n",
    " \n",
    "Line breaks can only be used within code that is enclosed by at elast one set of brackets (), []. "
   ]
  },
  {
   "cell_type": "markdown",
   "metadata": {
    "slideshow": {
     "slide_type": "slide"
    }
   },
   "source": [
    "__Check Your Solution:__ \n",
    "\n",
    "\n",
    "$ \\mathbf{r} = [5, 2]$\n",
    "<br> $ \\mathbf{v} = [3, 4]$\n",
    "\n",
    "\n",
    "\\begin{align}\n",
    "      {\\displaystyle {\\begin{aligned}\\ \n",
    "      \\mathbf{r} + \\mathbf{v}\n",
    "      &=[5, 2]+ [3, 4]\\\\\n",
    "      &=[(5+3), \\quad (2+4)] \\\\\n",
    "      & = [8, 6] \\end{aligned}}} \n",
    "\\end{align}"
   ]
  },
  {
   "cell_type": "markdown",
   "metadata": {
    "slideshow": {
     "slide_type": "slide"
    }
   },
   "source": [
    "<a id='ExampleTicTacToe'></a>\n",
    "## Example : Tic-tac-toe\n",
    "A list of lists can be used to represent a discrete set of positions the a player can occupy.\n",
    "\n",
    "<br>For example, we can construct a very primitive version of the game tic-tac-toe, using a list of lists and some of the other porgramming skills we have learned so far.\n",
    "\n",
    "This example will combine the topics we have studied so far.\n",
    "\n",
    "<p align=\"center\">\n",
    "  <img src=\"img/noughts_and_crosses.jpg\" alt=\"Drawing\" style=\"width: 300px;\"/>\n",
    "</p>"
   ]
  },
  {
   "cell_type": "code",
   "execution_count": 40,
   "metadata": {
    "collapsed": true,
    "slideshow": {
     "slide_type": "slide"
    }
   },
   "outputs": [],
   "source": [
    "# use a for loop to set-up the 3x3 grid \n",
    "\n",
    "    \n",
    "    \n",
    "# display the output nicely    \n",
    "\n",
    "    \n",
    "    \n",
    "# choose who goes first, X or 0    \n",
    "\n",
    "\n",
    "# keep playing the game until told to quit\n",
    "        \n",
    "    \n",
    "    # switch player \n",
    "        \n",
    "    \n",
    "    # display the output nicely     \n"
   ]
  },
  {
   "cell_type": "markdown",
   "metadata": {
    "slideshow": {
     "slide_type": "slide"
    }
   },
   "source": [
    "<a id='Libraries'></a>\n",
    "## Libraries\n",
    "\n",
    "One of the most important concepts in good programming is to reuse code and avoid repetitions.\n",
    "\n",
    "Python, like other modern programming languages, has an extensive *library* of built-in functions. \n",
    "\n",
    "These functions are designed, tested and optimised by the developers of the Python langauge.  \n",
    "\n",
    "We can use these functions to make our code shorter, faster and more reliable.\n",
    "\n",
    "   "
   ]
  },
  {
   "cell_type": "markdown",
   "metadata": {
    "slideshow": {
     "slide_type": "slide"
    }
   },
   "source": [
    "<a id='StandardLibrary'></a>\n",
    "## The Standard Library\n",
    "\n",
    "Python has a large standard library. \n",
    "\n",
    "e.g. `print()` takes the __input__ in the parentheses and __outputs__ a visible representation.\n",
    "\n",
    "They are listed on the Python website:\n",
    "https://docs.python.org/3/library/functions.html"
   ]
  },
  {
   "cell_type": "markdown",
   "metadata": {
    "collapsed": true,
    "slideshow": {
     "slide_type": "slide"
    }
   },
   "source": [
    "We could write our own code to find the minimum of a group of numbers\n",
    "\n",
    "\n"
   ]
  },
  {
   "cell_type": "code",
   "execution_count": 41,
   "metadata": {},
   "outputs": [
    {
     "name": "stdout",
     "output_type": "stream",
     "text": [
      "1\n"
     ]
    }
   ],
   "source": [
    "x0 = 1\n",
    "x1 = 2\n",
    "x2 = 4\n",
    "\n",
    "x_min = x0\n",
    "if x1 < x_min:\n",
    "    x_min = x1\n",
    "if x2 < x_min:\n",
    "    x_min = x2\n",
    "        \n",
    "print(x_min)"
   ]
  },
  {
   "cell_type": "markdown",
   "metadata": {
    "slideshow": {
     "slide_type": "slide"
    }
   },
   "source": [
    "However, it is much faster to use the build in function:"
   ]
  },
  {
   "cell_type": "code",
   "execution_count": 42,
   "metadata": {},
   "outputs": [
    {
     "name": "stdout",
     "output_type": "stream",
     "text": [
      "1\n"
     ]
    }
   ],
   "source": [
    "print(min(1,2,4))"
   ]
  },
  {
   "cell_type": "markdown",
   "metadata": {
    "slideshow": {
     "slide_type": "slide"
    }
   },
   "source": [
    "It is simply a collection of Python (.py) files called 'modules'.\n",
    "\n",
    "These files are stored on the computer you are using."
   ]
  },
  {
   "cell_type": "markdown",
   "metadata": {
    "slideshow": {
     "slide_type": "slide"
    }
   },
   "source": [
    "__Function:__\n",
    "<br>A piece of code that is called by name. \n",
    "<br>It can be *passed* data to operate on (i.e., the parameters) and can optionally *return* data (the return value). \n",
    "\n",
    "__Example__\n",
    "```Python\n",
    "sorted([5, 2, 3, 1, 4])\n",
    "```"
   ]
  },
  {
   "cell_type": "markdown",
   "metadata": {
    "slideshow": {
     "slide_type": "slide"
    }
   },
   "source": [
    "__Method:__\n",
    "<br>A method is a piece of code that is called by name.\n",
    "<br>It is already associated with an object type (e.g. a list) so it is expressed after a . dot at the end of the object name. \n",
    "<br>It mostly behaves the same as a function  except:  \n",
    "- It is automatically passed for the object which it is attached to.\n",
    "- (It can only operate on objects that contain the method. It can operate on data insde of that class.)  \n",
    "\n",
    "__Example__\n",
    "```Python\n",
    "a = [1, 5, 2, 7, 5]\n",
    "a.sort()\n",
    "```"
   ]
  },
  {
   "cell_type": "markdown",
   "metadata": {
    "slideshow": {
     "slide_type": "slide"
    }
   },
   "source": [
    "A quick google search for \"python function to sum all the numbers in a list\"...\n",
    "\n",
    "https://www.google.co.jp/search?q=python+function+to+sum+all+the+numbers+in+a+list&rlz=1C5CHFA_enJP751JP751&oq=python+function+to+sum+&aqs=chrome.0.0j69i57j0l4.7962j0j7&sourceid=chrome&ie=UTF-8\n",
    "\n",
    "...returns the function `sum()`."
   ]
  },
  {
   "cell_type": "markdown",
   "metadata": {
    "slideshow": {
     "slide_type": "slide"
    }
   },
   "source": [
    "`sum()` finds the sum of the values in a data structure.\n",
    "\n",
    "\n",
    "\n"
   ]
  },
  {
   "cell_type": "code",
   "execution_count": 43,
   "metadata": {
    "slideshow": {
     "slide_type": "slide"
    }
   },
   "outputs": [
    {
     "name": "stdout",
     "output_type": "stream",
     "text": [
      "15\n",
      "15\n",
      "15\n"
     ]
    }
   ],
   "source": [
    "print(sum([1,2,3,4,5]))\n",
    "\n",
    "print(sum((1,2,3,4,5)))\n",
    "\n",
    "a = [1,2,3,4,5]\n",
    "print(sum(a))"
   ]
  },
  {
   "cell_type": "markdown",
   "metadata": {
    "slideshow": {
     "slide_type": "slide"
    }
   },
   "source": [
    "The function `max()` finds the maximum value in data structure."
   ]
  },
  {
   "cell_type": "markdown",
   "metadata": {
    "slideshow": {
     "slide_type": "slide"
    }
   },
   "source": [
    "<a id='Packages'></a>\n",
    "## Packages\n",
    "\n",
    "The standard library tools are available in any Python environment.\n",
    "\n",
    "More specialised libraries, called packages, are available for more specific tasks \n",
    "<br>e.g. solving trigonometric functions.\n",
    "\n",
    "Packages contain functions and constants.  \n",
    "\n",
    "We install the packages to use them.   \n",
    "\n"
   ]
  },
  {
   "cell_type": "markdown",
   "metadata": {
    "slideshow": {
     "slide_type": "slide"
    }
   },
   "source": [
    "__Pygame__\n",
    "<br>For a large part of this course we will use functions from a package called `Pygame`.\n",
    "<br>`Pygame` is a set of Python modules designed for writing computer games, graphics and sound projects. \n",
    "<br>Instructions for how install pygame will be given later in today's seminar.\n",
    "\n",
    "__math__\n",
    "<br>`math` is already installed and allows you to use convenient mathematical functions and operators.\n",
    "\n",
    " \n",
    "\n",
    "A package is a collection of Python modules: \n",
    "- a __module__ is a single Python file\n",
    "- a __package__ is a directory of Python modules.<br>(It contains an __init__.py file, to distinguish it from folders that are not libraries)."
   ]
  },
  {
   "cell_type": "markdown",
   "metadata": {
    "slideshow": {
     "slide_type": "slide"
    }
   },
   "source": [
    "The files that are stored on your computer when Pygame is installed:\n",
    "<br>https://github.com/pygame/pygame"
   ]
  },
  {
   "cell_type": "markdown",
   "metadata": {
    "slideshow": {
     "slide_type": "slide"
    }
   },
   "source": [
    "<a id='ImportingPackage'></a>\n",
    "### Importing a Package\n",
    "\n",
    "To use an installed package, we  simply `import` it. "
   ]
  },
  {
   "cell_type": "code",
   "execution_count": 44,
   "metadata": {
    "slideshow": {
     "slide_type": "-"
    }
   },
   "outputs": [
    {
     "name": "stdout",
     "output_type": "stream",
     "text": [
      "0.5403023058681398\n",
      "3.141592653589793\n"
     ]
    }
   ],
   "source": [
    "import math \n",
    "\n",
    "x = 1\n",
    "\n",
    "y = math.cos(x)\n",
    "\n",
    "print(y)\n",
    "\n",
    "print(math.pi)"
   ]
  },
  {
   "cell_type": "markdown",
   "metadata": {
    "slideshow": {
     "slide_type": "slide"
    }
   },
   "source": [
    "The `import` statement must appear before the use of the package in the code.  \n",
    "\n",
    "        import math \n",
    "\n",
    "After this, any function in `math` can be called as:\n",
    "\n",
    "        `math.function()`\n",
    "        \n",
    "and, any constant in `math` can be called as:\n",
    "\n",
    "        `math.constant`.\n",
    "\n",
    "There are a many mathematical functions available. <br>\n",
    "https://docs.python.org/3/library/math.html"
   ]
  },
  {
   "cell_type": "markdown",
   "metadata": {
    "slideshow": {
     "slide_type": "slide"
    }
   },
   "source": [
    "We only need to import a package once, at the start of the program or notebook."
   ]
  },
  {
   "cell_type": "markdown",
   "metadata": {
    "slideshow": {
     "slide_type": "slide"
    }
   },
   "source": [
    "<a id='UsingPackageFunctions'></a>\n",
    "## Using Package Functions. \n",
    "\n",
    "Let's learn to use `math` functions in our programs...\n",
    "\n",
    "\n",
    "\n"
   ]
  },
  {
   "cell_type": "code",
   "execution_count": 45,
   "metadata": {
    "slideshow": {
     "slide_type": "slide"
    }
   },
   "outputs": [
    {
     "name": "stdout",
     "output_type": "stream",
     "text": [
      "0.8414709848078965\n",
      "1.5574077246549023\n",
      "0.7853981633974483\n"
     ]
    }
   ],
   "source": [
    "# Some examples math functions with their definitions (as given in the documentation)\n",
    "\n",
    "x = 1\n",
    "\n",
    "# Return the sine of x radians.\n",
    "print(math.sin(x))\n",
    "\n",
    "# Return the tangent of x radians.\n",
    "print(math.tan(x))\n",
    "\n",
    "# Return the inverse hyperbolic tangent of x.\n",
    "print(math.atan(x))\n",
    "\n"
   ]
  },
  {
   "cell_type": "code",
   "execution_count": 46,
   "metadata": {
    "slideshow": {
     "slide_type": "slide"
    }
   },
   "outputs": [
    {
     "name": "stdout",
     "output_type": "stream",
     "text": [
      "57.29577951308232\n",
      "1.0\n"
     ]
    }
   ],
   "source": [
    "x = 1\n",
    "\n",
    "# Convert angle x from radians to degrees.\n",
    "degrees = math.degrees(x)\n",
    "print(degrees)\n",
    "\n",
    "# Convert angle x from degrees to radians.\n",
    "radians = math.radians(degrees)\n",
    "print(radians)   "
   ]
  },
  {
   "cell_type": "markdown",
   "metadata": {
    "slideshow": {
     "slide_type": "slide"
    }
   },
   "source": [
    "<a id='ReadingFunctionDocumentation'></a>\n",
    "## Reading Function Documentation\n",
    "\n",
    "Online documentation can be used to find out: \n",
    "- what to include in the () parentheses\n",
    "- allowable data types to use as arguments\n",
    "- the order in which arguments should be given \n"
   ]
  },
  {
   "cell_type": "markdown",
   "metadata": {
    "slideshow": {
     "slide_type": "slide"
    }
   },
   "source": [
    "A google search for 'python math documentation' returns:\n",
    "\n",
    "https://docs.python.org/3/library/math.html\n",
    "\n",
    "(this list is not exhaustive). "
   ]
  },
  {
   "cell_type": "markdown",
   "metadata": {
    "slideshow": {
     "slide_type": "subslide"
    }
   },
   "source": [
    "__Try it yourself:__\n",
    "<br> Find a function in the Python math documentation that matches the function definition and use it to solve the following problem:   \n",
    "\n",
    "Return the absolute value of x."
   ]
  },
  {
   "cell_type": "code",
   "execution_count": 47,
   "metadata": {
    "collapsed": true
   },
   "outputs": [],
   "source": [
    "# Return the absolute value of x."
   ]
  },
  {
   "cell_type": "markdown",
   "metadata": {
    "slideshow": {
     "slide_type": "slide"
    }
   },
   "source": [
    "<a id='Examplemathpow'></a>\n",
    "### Example : math.pow ($x^y$)\n",
    "Documentation : https://docs.python.org/3/library/math.html#hyperbolic-functions\n",
    "\n",
    "<img src=\"img/math_pow.png\" alt=\"Drawing\" style=\"width: 700px;\"/> \n",
    "\n",
    "The documentation tells us the following information...\n",
    "\n",
    "##### What arguments to input:\n",
    "\"math.pow(x, y)\"\n",
    "\n",
    "##### What the function returns:\n",
    "\"Return x raised to the power y.\"\n",
    "\n",
    "##### The format of the returend argument:\n",
    "math.pow() converts both its arguments to type float\n",
    "\n"
   ]
  },
  {
   "cell_type": "markdown",
   "metadata": {
    "slideshow": {
     "slide_type": "slide"
    }
   },
   "source": [
    "Let's look at the function math.hypot:\n",
    "https://docs.python.org/3/library/math.html#angular-conversion\n",
    "\n",
    "What does the function do (what does it __return__?\n",
    "\n",
    "What __arguments__ does it take? \n",
    "\n",
    "How would we __write__ the function when __calling__ it?"
   ]
  },
  {
   "cell_type": "markdown",
   "metadata": {
    "collapsed": true,
    "slideshow": {
     "slide_type": "subslide"
    }
   },
   "source": [
    "<a id='Namespaces'></a>\n",
    "## Namespaces\n",
    "<br>By prefixing `cos` with `math`, we are using a *namespace* (which in this case is `math`).\n",
    "\n"
   ]
  },
  {
   "cell_type": "markdown",
   "metadata": {
    "slideshow": {
     "slide_type": "subslide"
    }
   },
   "source": [
    "The namespace shows we want to use the `cos` function from the Numpy package.\n",
    "\n",
    "If `cos` appears in more than one package we import, then there will be more than one `cos` function available.\n",
    "\n",
    "We must make it clear which `cos` we want to use. \n",
    "\n",
    "\n"
   ]
  },
  {
   "cell_type": "markdown",
   "metadata": {
    "slideshow": {
     "slide_type": "subslide"
    }
   },
   "source": [
    "Often, functions with the same name, from different packages, will use a different algorithms for performing the same or similar operation. \n",
    "\n",
    "They may vary in speed and accuracy. \n",
    "\n",
    "In some applications we might need an accurate method for computing the square root, for example, and the speed of the program may not be important. For other applications we might need speed with an allowable compromise on accuracy.\n"
   ]
  },
  {
   "cell_type": "markdown",
   "metadata": {
    "slideshow": {
     "slide_type": "subslide"
    }
   },
   "source": [
    "Below are two functions, both named `sqrt`. \n",
    "\n",
    "Both functions compute the square root of the input.\n",
    "\n",
    " - `math.sqrt`, from the package, `math`, gives an error if the input is a negative number. It does not support complex numbers.\n",
    " - `cmath.sqrt`, from the package, `cmath`, supports complex numbers.\n"
   ]
  },
  {
   "cell_type": "code",
   "execution_count": 48,
   "metadata": {
    "slideshow": {
     "slide_type": "subslide"
    }
   },
   "outputs": [
    {
     "name": "stdout",
     "output_type": "stream",
     "text": [
      "2.0\n"
     ]
    }
   ],
   "source": [
    "import math\n",
    "import cmath\n",
    "print(math.sqrt(4))\n",
    "#print(math.sqrt-5)\n",
    "#print(cmath.sqrt(-5))"
   ]
  },
  {
   "cell_type": "markdown",
   "metadata": {
    "slideshow": {
     "slide_type": "subslide"
    }
   },
   "source": [
    "Two developers collaborating on the same program might choose the same name for two functions that perform similar tasks. \n",
    "\n",
    "If these functions are in different modules, there will be no name clash since the module name provides a 'namespace'. "
   ]
  },
  {
   "cell_type": "markdown",
   "metadata": {
    "slideshow": {
     "slide_type": "subslide"
    }
   },
   "source": [
    "<a id='ImportingFunction'></a>\n",
    "## Importing a Function\n",
    "Single functions can be imported without importing the entire package e.g. use:\n",
    "\n",
    "        from math import cos\n",
    "\n",
    "instead of:\n",
    "\n",
    "        import math \n",
    "\n",
    "After this you call the function without the numpy prefix: "
   ]
  },
  {
   "cell_type": "code",
   "execution_count": 49,
   "metadata": {
    "slideshow": {
     "slide_type": "-"
    }
   },
   "outputs": [
    {
     "data": {
      "text/plain": [
       "0.5403023058681398"
      ]
     },
     "execution_count": 49,
     "metadata": {},
     "output_type": "execute_result"
    }
   ],
   "source": [
    "from math import cos\n",
    "\n",
    "cos(x)"
   ]
  },
  {
   "cell_type": "markdown",
   "metadata": {
    "slideshow": {
     "slide_type": "subslide"
    }
   },
   "source": [
    "Be careful when doing this as there can be only one definition of each function.\n",
    "In the case that a function name is already defined, it will be overwritten by a more recent definition. "
   ]
  },
  {
   "cell_type": "code",
   "execution_count": 50,
   "metadata": {
    "slideshow": {
     "slide_type": "-"
    }
   },
   "outputs": [
    {
     "name": "stdout",
     "output_type": "stream",
     "text": [
      "1j\n"
     ]
    }
   ],
   "source": [
    "from cmath import sqrt\n",
    "print(sqrt(-1))\n",
    "from math import sqrt\n",
    "#print(sqrt(-1))"
   ]
  },
  {
   "cell_type": "markdown",
   "metadata": {
    "slideshow": {
     "slide_type": "subslide"
    }
   },
   "source": [
    "A potential solution to this is to rename individual functions or constants when we import them:"
   ]
  },
  {
   "cell_type": "code",
   "execution_count": 51,
   "metadata": {
    "slideshow": {
     "slide_type": "-"
    }
   },
   "outputs": [
    {
     "data": {
      "text/plain": [
       "0.5403023058681398"
      ]
     },
     "execution_count": 51,
     "metadata": {},
     "output_type": "execute_result"
    }
   ],
   "source": [
    "from math import cos as cosine\n",
    "\n",
    "cosine(x)"
   ]
  },
  {
   "cell_type": "code",
   "execution_count": 52,
   "metadata": {},
   "outputs": [
    {
     "data": {
      "text/plain": [
       "3.141592653589793"
      ]
     },
     "execution_count": 52,
     "metadata": {},
     "output_type": "execute_result"
    }
   ],
   "source": [
    "from math import pi as pi\n",
    "pi"
   ]
  },
  {
   "cell_type": "markdown",
   "metadata": {
    "slideshow": {
     "slide_type": "subslide"
    }
   },
   "source": [
    "This can be useful when importing functions from different modules:"
   ]
  },
  {
   "cell_type": "code",
   "execution_count": 53,
   "metadata": {},
   "outputs": [
    {
     "name": "stdout",
     "output_type": "stream",
     "text": [
      "2.0\n",
      "1j\n"
     ]
    }
   ],
   "source": [
    "from math import sqrt as square_root\n",
    "from cmath import sqrt as complex_square_root\n",
    "\n",
    "print(square_root(4))\n",
    "print(complex_square_root(-1))"
   ]
  },
  {
   "cell_type": "markdown",
   "metadata": {
    "slideshow": {
     "slide_type": "subslide"
    }
   },
   "source": [
    "Function names should be chosen wisely.\n",
    " - relevant\n",
    " - concise"
   ]
  },
  {
   "cell_type": "code",
   "execution_count": 54,
   "metadata": {
    "collapsed": true
   },
   "outputs": [],
   "source": [
    "# Bisection"
   ]
  },
  {
   "cell_type": "markdown",
   "metadata": {
    "slideshow": {
     "slide_type": "slide"
    }
   },
   "source": [
    "<a id='Optimise'></a>\n",
    "## Using Package Functions to Optimise your Code\n",
    "A fundamental purpose of using imported functions is to make your code shorter and neater.\n",
    "<br>For example, when designing a game it can be very useful to generate (pseudo) random numbers so that the challenges and problems for the user to solve are not identical every time the game is played.\n",
    "\n",
    "Writing your own algorithm to generate random numbers is unecessarily time-consuming.\n",
    "\n"
   ]
  },
  {
   "cell_type": "markdown",
   "metadata": {
    "slideshow": {
     "slide_type": "slide"
    }
   },
   "source": [
    "`random` is a python module that implements pseudo-random number generators for various distributions.\n",
    "\n",
    "The documentation of the functions in this package can be found here:\n",
    "<br>https://docs.python.org/3/library/random.html#\n",
    "\n",
    "Import random to use functions from this package:"
   ]
  },
  {
   "cell_type": "code",
   "execution_count": 55,
   "metadata": {
    "collapsed": true
   },
   "outputs": [],
   "source": [
    "import random"
   ]
  },
  {
   "cell_type": "markdown",
   "metadata": {
    "collapsed": true,
    "slideshow": {
     "slide_type": "slide"
    }
   },
   "source": [
    "Here are some examples of functions from `random`..."
   ]
  },
  {
   "cell_type": "code",
   "execution_count": 56,
   "metadata": {
    "slideshow": {
     "slide_type": "-"
    }
   },
   "outputs": [
    {
     "data": {
      "text/plain": [
       "3"
      ]
     },
     "execution_count": 56,
     "metadata": {},
     "output_type": "execute_result"
    }
   ],
   "source": [
    "# random.randint(a, b) \n",
    "# Return a random integer N such that a <= N <= b. \n",
    "random.randint(1, 15)\n"
   ]
  },
  {
   "cell_type": "code",
   "execution_count": 57,
   "metadata": {},
   "outputs": [
    {
     "data": {
      "text/plain": [
       "[3, 1, 8, 4]"
      ]
     },
     "execution_count": 57,
     "metadata": {},
     "output_type": "execute_result"
    }
   ],
   "source": [
    "# random.sample(population, k)\n",
    "# Return a k length list of unique elements chosen from the population sequence or set. \n",
    "# Used for random sampling without replacement.\n",
    "random.sample([1,2,3,4,5,6,7,8], 4)"
   ]
  },
  {
   "cell_type": "markdown",
   "metadata": {
    "slideshow": {
     "slide_type": "slide"
    }
   },
   "source": [
    "Random numbers can be used to introduce an element of uncertainty to your programs.\n",
    "\n",
    "This makes a game more intersting as the outcome may be different every time it is played.\n",
    "\n",
    "For example, an adventure game may have a different outcome depending on a random variable."
   ]
  },
  {
   "cell_type": "code",
   "execution_count": 58,
   "metadata": {
    "slideshow": {
     "slide_type": "slide"
    }
   },
   "outputs": [
    {
     "name": "stdout",
     "output_type": "stream",
     "text": [
      "Inside the castle you see a giant spider.\n",
      "Do you fight the spider?  (Yes/No) Yes\n",
      "you defeat the spider. \n",
      "You win!\n"
     ]
    }
   ],
   "source": [
    "print(\"Inside the castle you see a giant spider.\")\n",
    "answer = input(\"Do you fight the spider?  (Yes/No) \")\n",
    "        \n",
    "    \n",
    "if answer == 'Yes':\n",
    "    print(\"you defeat the spider. \\nYou win!\")\n",
    "        \n",
    "else:\n",
    "    print(\"The spider eats you. \\nYou lose!\")"
   ]
  },
  {
   "cell_type": "markdown",
   "metadata": {
    "slideshow": {
     "slide_type": "slide"
    }
   },
   "source": [
    "An adventure game where the outcome is random can be more interesting."
   ]
  },
  {
   "cell_type": "code",
   "execution_count": 59,
   "metadata": {},
   "outputs": [
    {
     "name": "stdout",
     "output_type": "stream",
     "text": [
      "Inside the castle you see a giant spider.\n",
      "Do you fight the spider?  (Yes/No) Yes\n",
      "The spider defeats you. \n",
      "You lose!\n"
     ]
    }
   ],
   "source": [
    "print(\"Inside the castle you see a giant spider.\")\n",
    "answer = input(\"Do you fight the spider?  (Yes/No) \")\n",
    "        \n",
    "    \n",
    "if answer == 'Yes':\n",
    "    number = int(random.randint(0, 2))\n",
    "    if number < 2:\n",
    "        print(\"The spider defeats you. \\nYou lose!\")\n",
    "    else:\n",
    "        print(\"you defeat the spider. \\nYou win!\")\n",
    "        \n",
    "\n",
    "else:\n",
    "    print(\"The spider eats you. \\nYou lose!\")"
   ]
  },
  {
   "cell_type": "markdown",
   "metadata": {
    "slideshow": {
     "slide_type": "slide"
    }
   },
   "source": [
    "Random, computer generated values can also be used to build a computer game of rock, paper scissors.\n",
    "\n",
    "The code section below shows the case that the player choses *rock*.\n",
    "\n",
    "```\n",
    "# computer numerical choice selected randomly\n",
    "computer = int(random.randint(0, 2))\n",
    "\n",
    "# computer numerical choice converted to rock/paper/scissors \n",
    "if computer == 0:\n",
    "    c_choice = \"rock\"\n",
    "elif computer == 1:\n",
    "    c_choice = \"paper\"\n",
    "else:\n",
    "    c_choice = \"scissors\"\n",
    "\n",
    "# player choice input\n",
    "p_choice = str(input(\"Round 1: Enter rock, paper, or scissors [R/ P/ S]\"))\n",
    "\n",
    "# print computer choice\n",
    "print(f\"computer: {c_choice}\")\n",
    "\n",
    "# in the case that the computer choooses rock...\n",
    "if p_choice == \"R\":\n",
    "\n",
    "\n",
    "    if c_choice == \"rock\":\n",
    "        print(\"draw! - play again\")\n",
    "\n",
    "\n",
    "    elif c_choice == \"paper\":\n",
    "        print(f\"computer wins!\")\n",
    "\n",
    "\n",
    "    else:\n",
    "        print(f\"you win!\")\n",
    "```\n"
   ]
  },
  {
   "cell_type": "markdown",
   "metadata": {
    "slideshow": {
     "slide_type": "slide"
    }
   },
   "source": [
    "The full version of the code is given below."
   ]
  },
  {
   "cell_type": "code",
   "execution_count": 60,
   "metadata": {},
   "outputs": [
    {
     "ename": "IndentationError",
     "evalue": "unexpected indent (<ipython-input-60-474ddd4bd5fc>, line 2)",
     "output_type": "error",
     "traceback": [
      "\u001b[0;36m  File \u001b[0;32m\"<ipython-input-60-474ddd4bd5fc>\"\u001b[0;36m, line \u001b[0;32m2\u001b[0m\n\u001b[0;31m    player_score = 0\u001b[0m\n\u001b[0m    ^\u001b[0m\n\u001b[0;31mIndentationError\u001b[0m\u001b[0;31m:\u001b[0m unexpected indent\n"
     ]
    }
   ],
   "source": [
    "count = 1\n",
    "    player_score = 0\n",
    "    while (count < 4):        \n",
    "        \n",
    "        computer = int(random.randint(0, 2))\n",
    "        if computer == 0:\n",
    "            c_choice = \"rock\"\n",
    "        elif spider == 1:\n",
    "            c_choice = \"paper\"\n",
    "        else:\n",
    "            c_choice = \"scissors\"\n",
    "\n",
    "        p_choice = str(input(\"Round 1: Enter rock, paper, or scissors [R/ P/ S]\"))\n",
    "        \n",
    "        print(f\"computer: {c_choice}\")\n",
    "        if p_choice == \"R\":\n",
    "            if c_choice == \"rock\":\n",
    "                print(\"draw! - play again\")\n",
    "            elif c_choice == \"paper\":\n",
    "                print(f\"computer wins round {count}!\")\n",
    "                count += 1\n",
    "            else:\n",
    "                print(f\"you win round {count}!\")\n",
    "                count += 1\n",
    "                player_score += 1\n",
    "                \n",
    "        elif p_choice == \"P\":\n",
    "            if c_choice == \"rock\":\n",
    "                print(f\"you win round {count}!\")\n",
    "                count += 1\n",
    "                player_score += 1\n",
    "            elif c_choice == \"paper\":\n",
    "                print(\"draw! - play again\")\n",
    "            else:\n",
    "                print(f\"computer wins round {count}!\")\n",
    "                count += 1\n",
    "                \n",
    "        else:\n",
    "            if c_choice == \"rock\":\n",
    "                print(f\"computer wins round {count}!\")\n",
    "                count += 1\n",
    "            elif c_choice == \"paper\":\n",
    "                print(f\"you win round {count}!\")\n",
    "                count += 1\n",
    "                player_score += 1\n",
    "            else:\n",
    "                print(\"draw! - play again\")\n",
    "\n",
    "    if player_score >= 2:\n",
    "        print(\"you win!\")\n",
    "\n",
    "    else: \n",
    "        print(\"you lose!\")\n",
    "    \n"
   ]
  },
  {
   "cell_type": "markdown",
   "metadata": {
    "slideshow": {
     "slide_type": "slide"
    }
   },
   "source": [
    "<a id='StackingFunctions'></a>\n",
    "## Stacking Functions\n",
    "If performing multiple functions on a variable or data structure, operations can be stacked to produce shorter code.\n"
   ]
  },
  {
   "cell_type": "code",
   "execution_count": null,
   "metadata": {
    "collapsed": true
   },
   "outputs": [],
   "source": [
    "a = range(10)\n",
    "a = list(a)\n",
    "a = math.fsum(a)\n",
    "print(a)\n",
    "\n",
    "a = math.cos(math.fsum(list(range(10))))\n",
    "print(a)"
   ]
  },
  {
   "cell_type": "markdown",
   "metadata": {
    "slideshow": {
     "slide_type": "slide"
    }
   },
   "source": [
    "<a id='InstallingPygame'></a>\n",
    "## Installing Pygame\n",
    "To install pygame, open a terminal and type:\n",
    ">`pip3 install pygame`\n",
    "\n",
    "and presss \"Enter\".\n",
    "\n",
    "<br>\n",
    "If you are using a mac or linux operating system, you may have to type \n",
    ">`sudo pip3 install pygame`\n",
    "\n",
    "and enter your password when prompted.\n",
    "\n",
    "That's it!\n",
    "\n"
   ]
  },
  {
   "cell_type": "markdown",
   "metadata": {
    "slideshow": {
     "slide_type": "slide"
    }
   },
   "source": [
    "To check the installation has worked type:\n",
    ">`import pygame` \n",
    "\n",
    "in Spyder or Jupyter notebook and run the code. If no error is generated you have installed pygame successfully. "
   ]
  },
  {
   "cell_type": "markdown",
   "metadata": {
    "collapsed": true,
    "slideshow": {
     "slide_type": "slide"
    }
   },
   "source": [
    "<a id='Summary'></a>\n",
    "# Summary\n",
    "\n",
    "- Python has an extensive __standard library__ of built-in functions. \n",
    "- More specialised libraries of functions and constants are available. We call these __packages__. \n",
    "- Packages are imported using the keyword `import`\n",
    "- The function documentation tells is what it does and how to use it.\n",
    "- When calling a library function it must be prefixed with a __namespace__ is used to show from which package it should be called.  \n",
    "- The magic function `%timeit` can be used to time the execution of a function. \n",
    "\n",
    "\n"
   ]
  },
  {
   "cell_type": "markdown",
   "metadata": {
    "slideshow": {
     "slide_type": "slide"
    }
   },
   "source": [
    " - A data structure is used to assign a collection of values to a single collection name.\n",
    " - A Python list can store multiple items of data in sequentially numbered elements (numbering starts at zero)\n",
    " - Data stored in a list element can be referenced using the list name can be referenced using the list name followed by an index number in [] square brackets.\n",
    " - The `len()` function returns the length of a specified list.\n"
   ]
  },
  {
   "cell_type": "markdown",
   "metadata": {
    "slideshow": {
     "slide_type": "slide"
    }
   },
   "source": [
    "<a id='TestYourselfExercises'></a>\n",
    "# Test-Yourself Exercises\n",
    "\n",
    "Compete the Test-Youself exercises below.\n",
    "\n",
    "Save your answers as .py files and email them to:\n",
    "<br>philamore.hemma.5s@kyoto-u.ac.jp"
   ]
  },
  {
   "cell_type": "markdown",
   "metadata": {},
   "source": [
    "## Test-Yourself Exercise : Guessing Game\n",
    "__(A)__\n",
    "<br>Use:\n",
    "- a while loop\n",
    "- a break statement (to break out of the while loop)\n",
    "- a random number generator (from the package, `random`)\n",
    "\n",
    "to write a game that:\n",
    "- chooses a random number between 1 and 10\n",
    "- asks the user to guess what it is\n",
    "- exits when the user guesses the right number\n",
    "\n",
    "<br>\n",
    "The output from your game might look something like this:\n",
    "\n",
    "    I'm thinking of a random number between 1 and 10.\n",
    "    Can you guess what it is?\n",
    "\n",
    "    Guess what number I am thinking of: 5\n",
    "\n",
    "    Guess what number I am thinking of: 2\n",
    "\n",
    "    Guess what number I am thinking of: 1\n",
    "\n",
    "    Guess what number I am thinking of: 9\n",
    "\n",
    "    You win! I was thinking of 9.\n",
    "\n",
    "\n",
    "\n",
    "*Hint: Remember that the function `input` returns a string even when a numerical value is entered.* "
   ]
  },
  {
   "cell_type": "code",
   "execution_count": null,
   "metadata": {
    "collapsed": true
   },
   "outputs": [],
   "source": [
    "# Guessing Game"
   ]
  },
  {
   "cell_type": "markdown",
   "metadata": {},
   "source": [
    "__(B)__\n",
    "<br>Use `if` and `else` to generate a __clue__ for the user if they get the answer wrong \n",
    "\n",
    "<br>\n",
    "The output from your game might look something like this:\n",
    "\n",
    "    I'm thinking of a random number between 1 and 10.\n",
    "    Can you guess what it is?\n",
    "\n",
    "    Guess what number I am thinking of: 5\n",
    "    Too low.\n",
    "\n",
    "    Guess what number I am thinking of: 2\n",
    "    Too low.\n",
    "\n",
    "    Guess what number I am thinking of: 1\n",
    "    Too low.\n",
    "\n",
    "    Guess what number I am thinking of: 9\n",
    "\n",
    "    You win! I was thinking of 9."
   ]
  },
  {
   "cell_type": "code",
   "execution_count": null,
   "metadata": {
    "collapsed": true
   },
   "outputs": [],
   "source": [
    "# Guessing Game with Clues"
   ]
  },
  {
   "cell_type": "markdown",
   "metadata": {},
   "source": [
    "__(C)__\n",
    "<br>Use `break` to quit the game if the user makes three consecutive wrong guesses.\n",
    "\n",
    "<br>\n",
    "The output from your game might look something like this:\n",
    "\n",
    "    I'm thinking of a random number between 1 and 10.\n",
    "    Can you guess what it is?\n",
    "\n",
    "    Guess what number I am thinking of: 5\n",
    "    Too low.\n",
    "\n",
    "    Guess what number I am thinking of: 2\n",
    "    Too low.\n",
    "\n",
    "    Guess what number I am thinking of: 1\n",
    "    \n",
    "    You lose! I was thinking of 9."
   ]
  },
  {
   "cell_type": "code",
   "execution_count": null,
   "metadata": {
    "collapsed": true
   },
   "outputs": [],
   "source": [
    "# Guessing game with maximum number of tries\n"
   ]
  },
  {
   "cell_type": "markdown",
   "metadata": {},
   "source": [
    "## Test-Yourself Exercise : Tic-tac-toe\n",
    "__(A)__\n",
    "<br>Earlier, we wrote a very primative version of the game tic-tac-toe.\n",
    "\n",
    "The program decides whether to quit the game based on user input after each turn taken.\n",
    "\n",
    "Using:\n",
    " - `if` and `else`\n",
    " - the boolean operators `and`, `or`, `not`\n",
    " \n",
    "Edit the program to quit the game if:\n",
    " - one of the players places three marks in a row.\n",
    " - all positions have been marked but noone has won.\n",
    "<br>Hint: If the value of three colinear places is equal, the game has finished/been won.\n",
    "\n",
    "\n",
    "\n"
   ]
  },
  {
   "cell_type": "code",
   "execution_count": null,
   "metadata": {
    "collapsed": true
   },
   "outputs": [],
   "source": []
  },
  {
   "cell_type": "markdown",
   "metadata": {},
   "source": [
    "__(B)__\n",
    "<br>Edit the program to prevent a player from choosing a place that is already occupied.\n",
    "<br>For example, the program might ask the player to choose again.\n",
    "<br>e.g.\n",
    "\n",
    "        position already occupied, Player X choose a different position"
   ]
  },
  {
   "cell_type": "code",
   "execution_count": null,
   "metadata": {
    "collapsed": true
   },
   "outputs": [],
   "source": []
  },
  {
   "cell_type": "markdown",
   "metadata": {},
   "source": [
    "<a id='ReviewExercises'></a>\n",
    "# Review Exercises\n",
    "Here are a series of short problems for you to practise each of the new Python skills that you have learnt today. "
   ]
  },
  {
   "cell_type": "markdown",
   "metadata": {
    "slideshow": {
     "slide_type": "subslide"
    }
   },
   "source": [
    "### Review Exercise: Importing Package Functions. \n",
    "Find a function in the Python math/random documentation that matches the function definition and use it to solve the problems below:"
   ]
  },
  {
   "cell_type": "markdown",
   "metadata": {},
   "source": [
    "__(A)__ Definition: *Return a random element from the non-empty sequence seq.*\n",
    "Choose a number at random from the set (1, 2, 4, 9, 16, 25, 36, 49)"
   ]
  },
  {
   "cell_type": "code",
   "execution_count": null,
   "metadata": {
    "collapsed": true
   },
   "outputs": [],
   "source": [
    "# Choose a number at random from the set (1, 2, 4, 9, 16, 25, 36, 49)\n",
    "random.choice([1, 2, 4, 9, 16, 25, 36, 49])"
   ]
  },
  {
   "cell_type": "markdown",
   "metadata": {},
   "source": [
    "__(B)__ Definition: *Return the floor of x, the largest integer less than or equal to x.*\n",
    "\n",
    "Round 36.2 down to the nearest integer."
   ]
  },
  {
   "cell_type": "code",
   "execution_count": null,
   "metadata": {
    "collapsed": true
   },
   "outputs": [],
   "source": [
    "# Round 36.2 down to the nearest integer."
   ]
  },
  {
   "cell_type": "markdown",
   "metadata": {},
   "source": [
    "__(C)__ Definition: *Return the square root of x.*\n",
    "\n",
    "Find the square root of 350."
   ]
  },
  {
   "cell_type": "code",
   "execution_count": null,
   "metadata": {
    "collapsed": true
   },
   "outputs": [],
   "source": [
    "# Find the square root of 350."
   ]
  },
  {
   "cell_type": "markdown",
   "metadata": {},
   "source": [
    "### Review Exercise: Random Choices\n",
    "\n",
    "Edit your adventure game from last week to include random events.\n",
    "\n",
    "Example:\n",
    "\n",
    "        print(\"You find a key\")\n",
    "        \n",
    "        answer = input(\"Do you pick the key up? \")\n",
    "        \n",
    "        if answer == 'Yes':\n",
    "            num = random.randint(1, 7)\n",
    "            if num<5:\n",
    "                print(\"The key explodes! \\nYou die!\")\n",
    "            else:\n",
    "                print(\"You pick up the key.\")\n",
    "                print(\"You try the key in the lock of the castle door\")\n",
    "\n",
    "        else:\n",
    "            print(\"The castle door opens.\")\n",
    "\n",
    "\n"
   ]
  },
  {
   "cell_type": "code",
   "execution_count": null,
   "metadata": {
    "collapsed": true
   },
   "outputs": [],
   "source": []
  },
  {
   "cell_type": "markdown",
   "metadata": {},
   "source": [
    "### Review Exercise:  Data structures.\n",
    "\n",
    "__(A)__ Write a line of code that checks whether 3 exists within the list, C.\n",
    "\n",
    "__(B)__ Write a line of code that checks whether 3.0 exists within the list, C.\n",
    "\n",
    "__(C)__ Write a line of code that checks whether \"3\" exists within the list, C.\n"
   ]
  },
  {
   "cell_type": "code",
   "execution_count": null,
   "metadata": {
    "collapsed": true
   },
   "outputs": [],
   "source": [
    "C = [2, 3, 5, 6, 1, \"hello\"]"
   ]
  },
  {
   "cell_type": "markdown",
   "metadata": {},
   "source": [
    "### Review Exercise:  Using a single list with a `for` loop.\n",
    "In the cell below, use a `for` loop to print the first letter of each month in the list.\n",
    "\n",
    "Jump to <a href='#Indexing'>Indexing</a> for how to pick out individual letters of a string.\n",
    "\n",
    "Jump to <a href='#IteratingLists'>Iterating over lists</a> for how to loop through each element of a list.\n",
    "\n"
   ]
  },
  {
   "cell_type": "code",
   "execution_count": null,
   "metadata": {
    "collapsed": true
   },
   "outputs": [],
   "source": [
    "# Print the first letter of each month in the list\n",
    "\n",
    "months = [\"January\",\n",
    "         \"February\",\n",
    "         \"March\",\n",
    "         \"April\",\n",
    "         \"May\",\n",
    "         \"June\",\n",
    "         \"July\",\n",
    "         \"August\",\n",
    "         \"September\",\n",
    "         \"October\",\n",
    "         \"November\",\n",
    "         \"December\"]"
   ]
  },
  {
   "cell_type": "code",
   "execution_count": null,
   "metadata": {
    "collapsed": true
   },
   "outputs": [],
   "source": []
  }
 ],
 "metadata": {
  "celltoolbar": "Slideshow",
  "kernelspec": {
   "display_name": "Python 3",
   "language": "python",
   "name": "python3"
  },
  "language_info": {
   "codemirror_mode": {
    "name": "ipython",
    "version": 3
   },
   "file_extension": ".py",
   "mimetype": "text/x-python",
   "name": "python",
   "nbconvert_exporter": "python",
   "pygments_lexer": "ipython3",
   "version": "3.6.2"
  }
 },
 "nbformat": 4,
 "nbformat_minor": 2
}
