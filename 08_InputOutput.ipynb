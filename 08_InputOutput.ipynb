{
 "cells": [
  {
   "cell_type": "markdown",
   "metadata": {
    "slideshow": {
     "slide_type": "slide"
    }
   },
   "source": [
    "# Important Announcements\n",
    "### Rescheduled Class\n",
    "You should all have received an email concerning the 2 rescheduled class.\n",
    "<br>Rescheduled classes will be held on: \n",
    "\n",
    "- 06/25 (June 25, Monday), period 1, CALL 23\n",
    "- 06/26 (June 26, Tuesday), period 2 and 3, CALL 21\n",
    "\n",
    "Please attend only one class.\n",
    "<br>The content of each class will be identical. \n",
    "\n",
    "__THERE IS A CLASS ON JUNE 26, TUESDAY AS USUAL__"
   ]
  },
  {
   "cell_type": "markdown",
   "metadata": {
    "slideshow": {
     "slide_type": "slide"
    }
   },
   "source": [
    "## Exam\n",
    "A take-home exam with a time limit of 1 week will be issued on July 17 *instead of* the previously sheduled exam on July 24.\n",
    "\n",
    "The deadline for the take-home exam will be July 24.\n",
    "\n",
    "Please submit your exam solution by email."
   ]
  },
  {
   "cell_type": "markdown",
   "metadata": {
    "slideshow": {
     "slide_type": "slide"
    }
   },
   "source": [
    "## Please download the new class notes.\n",
    "### Step 1 : Navigate to the directory where your files are stored.  \n",
    "Open a terminal. \n",
    "<br>Using `cd`, navigate to *inside* the ILAS_Python_for_everyone folder on your computer. \n",
    "### Step 3 : Update the course notes by downloading the changes\n",
    "In the terminal type:\n",
    "\n",
    ">`git add -A\n",
    "git commit -m \"commit\"\n",
    "git fetch upstream\n",
    "git merge -X theirs upstream/master`\n"
   ]
  },
  {
   "cell_type": "markdown",
   "metadata": {
    "collapsed": true,
    "slideshow": {
     "slide_type": "slide"
    }
   },
   "source": [
    "# Reading Input and Generating and Storing Output\n",
    "\n",
    "<br> <a href='#ReadingWritingTextFiles'>Reading and Writing Text Files</a> \n",
    "    <br> &emsp;&emsp; <a href='#WritingFiles'>Writing Files</a> \n",
    "    <br> &emsp;&emsp; <a href='#ReadingFiles'>Reading Files</a> \n",
    "    <br> &emsp;&emsp; <a href='#AppendingFiles'>Appending Files</a> \n",
    "    <br> &emsp;&emsp; <a href='#AutomaticallyClosingFileswith'>Automatically Closing Files using `with`</a> \n",
    "    <br> &emsp;&emsp; <a href='#ReadingEditingFiles'>Reading and Editing Files</a> \n",
    "    <br> &emsp;&emsp; <a href='#BinaryFilesPicklingData'>Binary Files (\"Pickling\" Data)</a>\n",
    "<br> <a href='#Plotting'>Plotting</a> \n",
    "    <br> &emsp;&emsp; <a href='#Matplotlib'>Matplotlib</a>\n",
    "    <br> &emsp;&emsp; <a href='#LineScatterPlots'>Line and Scatter Plots</a> \n",
    "        <br> &emsp;&emsp; &emsp;&emsp; <a href='#AddingLabelsLegendTitle'>Adding Labels, Legend and Title</a> \n",
    "        <br> &emsp;&emsp; &emsp;&emsp; <a href='#SettingAxisLimits'>Setting the Axis Limits</a> \n",
    "    <br> &emsp;&emsp; <a href='#MultiplePlots'>Multiple Plots</a> \n",
    "    <br> &emsp;&emsp; <a href='#SavingPlot'>Saving a Plot</a> \n",
    "    <br> &emsp;&emsp; <a href='#ImportingDataDelimitedFiles'>Importing Data from Delimited Files</a> \n",
    "    <br> &emsp;&emsp; <a href='#BarChartsHistograms'>Bar Charts and Histograms</a> \n",
    "        <br> &emsp;&emsp; &emsp;&emsp; <a href='#BarCharts'>Bar Charts</a> \n",
    "         <br> &emsp;&emsp; &emsp;&emsp;<a href='#Histograms'>Histograms</a> \n",
    "<br> &emsp;&emsp; <a href='#Visualising2DArrays'>Visualising 2D Arrays</a>\n",
    "<br> <a href='#Summary'>Summary</a> \n",
    "<br> <a href='#TestYourselfExercises'>Test-Yourself Exercises</a>"
   ]
  },
  {
   "cell_type": "markdown",
   "metadata": {
    "slideshow": {
     "slide_type": "slide"
    }
   },
   "source": [
    "### Lesson Goal\n",
    "\n",
    "Read information from external files.\n",
    "\n",
    "Store output from your programs as:\n",
    "- text files and graphs.\n",
    "- graphs or plots.\n",
    "\n",
    "Read information from external files.\n",
    "\n",
    "### Fundamental programming concepts\n",
    " - Importing and exporting data from your Python programs."
   ]
  },
  {
   "cell_type": "markdown",
   "metadata": {
    "slideshow": {
     "slide_type": "slide"
    }
   },
   "source": [
    "Until now, we have only considered data that remains within the Python program."
   ]
  },
  {
   "cell_type": "markdown",
   "metadata": {
    "slideshow": {
     "slide_type": "slide"
    }
   },
   "source": [
    "When we run a program, variables are created, used and no longer exist when the program finishes or is terminated.  \n",
    "\n",
    "We cannot access the information from outside of the Python program.\n"
   ]
  },
  {
   "cell_type": "markdown",
   "metadata": {
    "slideshow": {
     "slide_type": "slide"
    }
   },
   "source": [
    "It can be useful to access data created by a program.\n",
    "\n",
    "In a game we might want to:\n",
    "- store a player's score to continue playing the game later\n",
    "- store a leaderboard of top scores\n",
    "\n",
    "For an assingment or project it can be useful to store output from your program as:\n",
    "- a graph\n",
    "- text"
   ]
  },
  {
   "cell_type": "markdown",
   "metadata": {
    "slideshow": {
     "slide_type": "slide"
    }
   },
   "source": [
    "In last week's class we learnt to import files containing data in the form of:\n",
    "- sound\n",
    "- images"
   ]
  },
  {
   "cell_type": "markdown",
   "metadata": {
    "slideshow": {
     "slide_type": "slide"
    }
   },
   "source": [
    "## Reading and Writing Text Files\n",
    "<a id='ReadingWritingTextFiles'></a>\n",
    "Python has a collection of easy to use functions for reading and writing files: \n",
    "- `open()`\n",
    "- `read()`\n",
    "- `write()`\n",
    "- `close()` \n",
    "\n"
   ]
  },
  {
   "cell_type": "markdown",
   "metadata": {
    "slideshow": {
     "slide_type": "slide"
    }
   },
   "source": [
    "Before a file can be read or written to, it must be opened using the `open()` function. \n",
    "\n",
    "__Function arguments:__\n",
    "1. Path to the file (filename and location)\n",
    "2. The *mode specifier* with which to open the file:\n",
    "\n",
    "\n",
    "    \n",
    " \n",
    "\n"
   ]
  },
  {
   "cell_type": "markdown",
   "metadata": {
    "slideshow": {
     "slide_type": "slide"
    }
   },
   "source": [
    "<br>\n",
    "- `r`: open an existing file to read\n",
    "\n",
    "<br>   \n",
    "- `w`: open an existing file to write to. <br>If no file exists: creates a new file.<br>If file exists : over-writes previous contents.\n",
    "\n",
    "<br>    \n",
    "- `a`: open an existing file to write to. <br>If no file exists: creates a new file.<br>If file exists : appends text to end of file."
   ]
  },
  {
   "cell_type": "markdown",
   "metadata": {
    "slideshow": {
     "slide_type": "slide"
    }
   },
   "source": [
    "- `r+`: open a text file to read from __or__ write to. <br>File must already exist.<br>If file exists : over-writes previous contents.\n",
    "\n",
    "<br>\n",
    "- `w+`: open a text file to read from __or__ write to.<br>If no file exists: creates a new file.<br>If file exists : over-writes previous contents.\n",
    "\n",
    "<br>\n",
    "- `a+` : open a text file to read from __or__ write to.<br>If no file exists: creates a new file.<br>If file exists : appends text to end of file.\n"
   ]
  },
  {
   "cell_type": "markdown",
   "metadata": {
    "slideshow": {
     "slide_type": "slide"
    }
   },
   "source": [
    "Once the file is open, it creates a *file object*.  \n",
    "\n",
    "We can interrogate the file for various details including whether it is open or closed:\n",
    "\n",
    " - `name`: Name of the opened file\n",
    " - `mode`: Mode specifier with which the file was opened  \n",
    " - `closed`: Boolean True or False\n",
    " - `readable( )`: Read permission, Boolean True or False\n",
    " - `writable( )`: Write permission, Boolean True or False"
   ]
  },
  {
   "cell_type": "markdown",
   "metadata": {
    "slideshow": {
     "slide_type": "slide"
    }
   },
   "source": [
    "__Example__\n",
    "\n",
    "Once a file has been opened it's contents can be read, overwritten, or added to, depnding on the mode specifier used to open it. \n",
    "\n",
    "We are going to open an example file as if we were going to *write* some data to it. \n",
    "\n",
    "The mode specifier is `w`."
   ]
  },
  {
   "cell_type": "code",
   "execution_count": 79,
   "metadata": {
    "slideshow": {
     "slide_type": "-"
    }
   },
   "outputs": [],
   "source": [
    "file = open(\"sample_data/my_file.txt\", \"w\" )"
   ]
  },
  {
   "cell_type": "markdown",
   "metadata": {
    "slideshow": {
     "slide_type": "slide"
    }
   },
   "source": [
    "Once the file is open, we can *interrogate it for information."
   ]
  },
  {
   "cell_type": "code",
   "execution_count": 80,
   "metadata": {
    "slideshow": {
     "slide_type": "-"
    }
   },
   "outputs": [
    {
     "name": "stdout",
     "output_type": "stream",
     "text": [
      "File Name: sample_data/my_file.txt\n",
      "Open Mode: w\n",
      "Readable: False\n",
      "Writable: True\n"
     ]
    }
   ],
   "source": [
    "# Interrrogate the file:\n",
    "print( \"File Name:\",  file.name )\n",
    "\n",
    "print( \"Open Mode:\",  file.mode )\n",
    "\n",
    "print( \"Readable:\",  file.readable())\n",
    "\n",
    "print( \"Writable:\",  file.writable())"
   ]
  },
  {
   "cell_type": "markdown",
   "metadata": {
    "slideshow": {
     "slide_type": "slide"
    }
   },
   "source": [
    "An open file must then always be closed again by calling the close() method.\n",
    "\n",
    "Let's first write a function to show us if a file is open or closed."
   ]
  },
  {
   "cell_type": "code",
   "execution_count": 81,
   "metadata": {},
   "outputs": [],
   "source": [
    "# Write a function to determine the file's status:\n",
    "def get_status( f ):\n",
    "    if ( f.closed != False ) :\n",
    "        return \"Closed\"\n",
    "    else :\n",
    "        return \"Open\""
   ]
  },
  {
   "cell_type": "markdown",
   "metadata": {
    "slideshow": {
     "slide_type": "slide"
    }
   },
   "source": [
    "##### Why do we need to close a file? \n",
    "1. Python does not automatically close the file. Leaving it open means that you risk overwriting information.\n",
    "1. Closing the file saves any changes to it.\n",
    "1. Depending on your computer's operating system, you may not be able to open a file simultaneously for reading and writing. <br>__Example:__ If a program attempts to open a file that is already open (has not been closed), an error may be generated.\n",
    "\n"
   ]
  },
  {
   "cell_type": "markdown",
   "metadata": {
    "slideshow": {
     "slide_type": "slide"
    }
   },
   "source": [
    "Let's try out our function."
   ]
  },
  {
   "cell_type": "code",
   "execution_count": 82,
   "metadata": {
    "slideshow": {
     "slide_type": "-"
    }
   },
   "outputs": [
    {
     "name": "stdout",
     "output_type": "stream",
     "text": [
      "File Status: Open\n",
      "File Status: Closed\n"
     ]
    }
   ],
   "source": [
    "print( \"File Status:\" , get_status(file))  \n",
    "\n",
    "file.close()\n",
    "\n",
    "print( \"File Status:\" , get_status(file))"
   ]
  },
  {
   "cell_type": "markdown",
   "metadata": {
    "slideshow": {
     "slide_type": "slide"
    }
   },
   "source": [
    "__Try it yourself__\n",
    "\n",
    "1. Save the previous 4 code cells contents to a file, `interrogate_file.py`. \n",
    "\n",
    "1. Correct the following line to specify the path to `my_file.txt`, *relative* to the location of `interrogate.py`:\n",
    ">`file = open(\"sample_data/my_file.txt’\", \"w\" )`\n",
    "\n",
    "1. Run `interrogate_file.py` from the terminal to see the file get created and display information about `my_file.txt`. "
   ]
  },
  {
   "cell_type": "markdown",
   "metadata": {
    "slideshow": {
     "slide_type": "slide"
    }
   },
   "source": [
    "### Writing Files\n",
    "<a id='WritingFiles'></a>\n",
    "Data can be written to a files in a number of ways.\n",
    "\n",
    "This time, let's actually write some data to the file."
   ]
  },
  {
   "cell_type": "markdown",
   "metadata": {
    "slideshow": {
     "slide_type": "slide"
    }
   },
   "source": [
    "Let's first create a string to write to a text file:\n",
    "\n",
    "The inclusion of `\\n` anywhere in the string creates a line break."
   ]
  },
  {
   "cell_type": "code",
   "execution_count": 83,
   "metadata": {
    "slideshow": {
     "slide_type": "-"
    }
   },
   "outputs": [
    {
     "name": "stdout",
     "output_type": "stream",
     "text": [
      "I never saw a man who looked\n",
      "With such a wistful eye\n",
      "\n"
     ]
    }
   ],
   "source": [
    "poem = 'I never saw a man who looked\\nWith such a wistful eye\\n'\n",
    "print(poem)"
   ]
  },
  {
   "cell_type": "markdown",
   "metadata": {
    "slideshow": {
     "slide_type": "slide"
    }
   },
   "source": [
    "A string my be *concatenated* (stuck together end to end) using the `+=` arithmetic operator.\n",
    "\n",
    "This allows us to build the string over the course of the program."
   ]
  },
  {
   "cell_type": "code",
   "execution_count": 84,
   "metadata": {
    "slideshow": {
     "slide_type": "-"
    }
   },
   "outputs": [],
   "source": [
    "poem += \"Upon that little tent of blue\\n\" \n",
    "\n",
    "poem += \"Which prisoners call the sky\\n\""
   ]
  },
  {
   "cell_type": "markdown",
   "metadata": {
    "slideshow": {
     "slide_type": "slide"
    }
   },
   "source": [
    "Create an object to __write__ the string to a file:  "
   ]
  },
  {
   "cell_type": "code",
   "execution_count": 85,
   "metadata": {},
   "outputs": [],
   "source": [
    "file = open(\"sample_data/poem.txt\", \"w\" )"
   ]
  },
  {
   "cell_type": "markdown",
   "metadata": {
    "slideshow": {
     "slide_type": "slide"
    }
   },
   "source": [
    "Write the string to the file, then close it."
   ]
  },
  {
   "cell_type": "code",
   "execution_count": 86,
   "metadata": {},
   "outputs": [],
   "source": [
    "file.write(poem)\n",
    "\n",
    "file.close()"
   ]
  },
  {
   "cell_type": "markdown",
   "metadata": {
    "slideshow": {
     "slide_type": "slide"
    }
   },
   "source": [
    "You can open the file using a text editor to confirm it's contents."
   ]
  },
  {
   "cell_type": "markdown",
   "metadata": {
    "slideshow": {
     "slide_type": "slide"
    }
   },
   "source": [
    "## Reading Files\n",
    "<a id='ReadingFiles'></a>\n",
    "Create an object to __read__ the string from the containing file.\n",
    "<br>(Note: As we have finished using the object name `file` to open `poem.txt` for writing we can recycle it to open the file for reading)."
   ]
  },
  {
   "cell_type": "code",
   "execution_count": 87,
   "metadata": {},
   "outputs": [],
   "source": [
    "file = open(\"sample_data/poem.txt\", \"r\" )"
   ]
  },
  {
   "cell_type": "markdown",
   "metadata": {
    "slideshow": {
     "slide_type": "slide"
    }
   },
   "source": [
    "Read everything in the file:"
   ]
  },
  {
   "cell_type": "code",
   "execution_count": 88,
   "metadata": {},
   "outputs": [
    {
     "name": "stdout",
     "output_type": "stream",
     "text": [
      "I never saw a man who looked\n",
      "With such a wistful eye\n",
      "Upon that little tent of blue\n",
      "Which prisoners call the sky\n",
      "\n"
     ]
    }
   ],
   "source": [
    "print(file.read())\n",
    "file.close()"
   ]
  },
  {
   "cell_type": "markdown",
   "metadata": {
    "slideshow": {
     "slide_type": "slide"
    }
   },
   "source": [
    "Iteration can be used to quickly and efficiently read file contents line by line.\n",
    "\n",
    "In a `for` loop, the lines of a file are treated like the elements of a list.\n",
    "\n",
    "i.e. In the example below, `file` and `line` can be replaced with any variable name.\n",
    "\n"
   ]
  },
  {
   "cell_type": "code",
   "execution_count": 89,
   "metadata": {},
   "outputs": [
    {
     "name": "stdout",
     "output_type": "stream",
     "text": [
      "I never saw a man who looked\n",
      "With such a wistful eye\n",
      "Upon that little tent of blue\n",
      "Which prisoners call the sky\n"
     ]
    }
   ],
   "source": [
    "file = open(\"sample_data/poem.txt\", \"r\" )\n",
    "\n",
    "for line in file:\n",
    "    print(line, end=\"\")\n",
    "    \n",
    "file.close()"
   ]
  },
  {
   "cell_type": "markdown",
   "metadata": {
    "slideshow": {
     "slide_type": "slide"
    }
   },
   "source": [
    "We can also look at individual words of a file using `split()`:"
   ]
  },
  {
   "cell_type": "code",
   "execution_count": 90,
   "metadata": {},
   "outputs": [
    {
     "name": "stdout",
     "output_type": "stream",
     "text": [
      "['I', 'never', 'saw', 'a', 'man', 'who', 'looked', 'With', 'such', 'a', 'wistful', 'eye', 'Upon', 'that', 'little', 'tent', 'of', 'blue', 'Which', 'prisoners', 'call', 'the', 'sky']\n"
     ]
    }
   ],
   "source": [
    "file = open(\"sample_data/poem.txt\", \"r\" )\n",
    "print(file.read().split())\n",
    "file.close()"
   ]
  },
  {
   "cell_type": "markdown",
   "metadata": {
    "slideshow": {
     "slide_type": "-"
    }
   },
   "source": [
    "The items are returned as a list, so we can use a for loop to print each word in a more readable format."
   ]
  },
  {
   "cell_type": "code",
   "execution_count": 91,
   "metadata": {
    "slideshow": {
     "slide_type": "slide"
    }
   },
   "outputs": [
    {
     "name": "stdout",
     "output_type": "stream",
     "text": [
      "I never saw a man who looked With such a wistful eye Upon that little tent of blue Which prisoners call the sky "
     ]
    }
   ],
   "source": [
    "file = open(\"sample_data/poem.txt\", \"r\" )\n",
    "\n",
    "for word in file.read().split() :\n",
    "    print(word, end=\" \")\n",
    "    \n",
    "file.close()"
   ]
  },
  {
   "cell_type": "markdown",
   "metadata": {
    "slideshow": {
     "slide_type": "slide"
    }
   },
   "source": [
    "##### What does this code do?\n",
    ">`print(word, end=\" \")` \n",
    "\n",
    "Note that the default ending for each print statement is changed to a space. <br>Otherwise each word prints on a new line."
   ]
  },
  {
   "cell_type": "markdown",
   "metadata": {
    "slideshow": {
     "slide_type": "slide"
    }
   },
   "source": [
    "### Appending Files \n",
    "<a id='AppendingFiles'></a>\n",
    "*Add* data to a file (rather than overwriting)."
   ]
  },
  {
   "cell_type": "code",
   "execution_count": 92,
   "metadata": {},
   "outputs": [
    {
     "data": {
      "text/plain": [
       "16"
      ]
     },
     "execution_count": 92,
     "metadata": {},
     "output_type": "execute_result"
    }
   ],
   "source": [
    "file = open( \"sample_data/poem.txt\" , \"a\" )  \n",
    "\n",
    "file.write( \"(by Oscar Wilde)\" )  "
   ]
  },
  {
   "cell_type": "markdown",
   "metadata": {
    "slideshow": {
     "slide_type": "slide"
    }
   },
   "source": [
    "Notice that if you open `poem.txt` in a text editor at this stage, your changes have not appeared yet.\n",
    "\n",
    "Run:"
   ]
  },
  {
   "cell_type": "code",
   "execution_count": 93,
   "metadata": {},
   "outputs": [],
   "source": [
    "file.close()"
   ]
  },
  {
   "cell_type": "markdown",
   "metadata": {
    "slideshow": {
     "slide_type": "slide"
    }
   },
   "source": [
    "The changes should have now been saved an will appear if you re-open the file in a text editor. "
   ]
  },
  {
   "cell_type": "markdown",
   "metadata": {
    "slideshow": {
     "slide_type": "slide"
    }
   },
   "source": [
    "This means you can update the same file by writing data at multiple points in your program."
   ]
  },
  {
   "cell_type": "code",
   "execution_count": 94,
   "metadata": {},
   "outputs": [],
   "source": [
    "# File append 1\n",
    "file = open(\"sample_data/appended_file.csv\", \"a\" )\n",
    "file.write('word\\n')\n",
    "file.close()\n",
    "\n",
    "# File append 2\n",
    "file = open(\"sample_data/test_now2.csv\", \"a\" )\n",
    "file.write('1, 3, 5\\n')\n",
    "file.close()\n",
    "\n",
    "# File append 3\n",
    "file = open(\"sample_data/test_now2.csv\", \"a\" )\n",
    "file.write('word\\n')\n",
    "file.write('1, 3, 5')\n",
    "file.close()"
   ]
  },
  {
   "cell_type": "markdown",
   "metadata": {
    "slideshow": {
     "slide_type": "slide"
    }
   },
   "source": [
    "__Try it yourself__\n",
    "\n",
    "Practise writing and reading data by:\n",
    "- Creating a Python file, `write_and_read.py`. \n",
    "\n",
    "- Use `write_and_read.py` to produce a .txt file, `w_and_r.txt` in the sample_data directory.\n",
    "\n",
    "- Edit `write_and_read.py` and run the file to write a string to `w_and_r.txt`.\n",
    "\n",
    "- Edit `write_and_read.py` to read and print the contents of `w_and_r.txt`."
   ]
  },
  {
   "cell_type": "markdown",
   "metadata": {
    "slideshow": {
     "slide_type": "slide"
    }
   },
   "source": [
    "### Automatically Closing Files Using `with`.\n",
    "<a id='AutomaticallyClosingFileswith'></a>"
   ]
  },
  {
   "cell_type": "markdown",
   "metadata": {
    "slideshow": {
     "slide_type": "slide"
    }
   },
   "source": [
    "##### `with`\n",
    "\n",
    "It is good practice to use the Python with keyword to group file operations within a block.  \n",
    "\n",
    "This automatically closes the file is properly closed after operations in the block have been completed, even if an exception or error occurs within the block."
   ]
  },
  {
   "cell_type": "markdown",
   "metadata": {
    "slideshow": {
     "slide_type": "slide"
    }
   },
   "source": [
    "##### Example : `with` "
   ]
  },
  {
   "cell_type": "markdown",
   "metadata": {
    "slideshow": {
     "slide_type": "-"
    }
   },
   "source": [
    "Take an example string..."
   ]
  },
  {
   "cell_type": "code",
   "execution_count": 95,
   "metadata": {
    "slideshow": {
     "slide_type": "-"
    }
   },
   "outputs": [],
   "source": [
    "twister = \"How can a clam cram in a clean cream can?\""
   ]
  },
  {
   "cell_type": "markdown",
   "metadata": {
    "slideshow": {
     "slide_type": "slide"
    }
   },
   "source": [
    "In the `with` block:\n",
    " - Write `twister` into a file.\n",
    " - Display the file’s current status. "
   ]
  },
  {
   "cell_type": "code",
   "execution_count": 96,
   "metadata": {},
   "outputs": [
    {
     "name": "stdout",
     "output_type": "stream",
     "text": [
      "File Now Closed?: False\n",
      "File Now Closed?: True\n"
     ]
    }
   ],
   "source": [
    "with open(\"sample_data/twister.txt\" , \"w\" ) as file :  \n",
    "    file.write(twister)\n",
    "    print(f\"File Now Closed?: {file.closed}\")\n",
    "    \n",
    "print(f\"File Now Closed?: {file.closed}\")\n"
   ]
  },
  {
   "cell_type": "markdown",
   "metadata": {
    "slideshow": {
     "slide_type": "slide"
    }
   },
   "source": [
    "## Reading and Editing Files\n",
    "<a id='ReadingEditingFiles'></a>\n",
    "We will now study some more functions to read and edit a file that has been opened using the `read` file specifier.\n",
    "- `read()`\n",
    "- `seek()`\n",
    "- `tell()`\n",
    "- `truncate()`"
   ]
  },
  {
   "cell_type": "markdown",
   "metadata": {
    "slideshow": {
     "slide_type": "slide"
    }
   },
   "source": [
    "#####  `read()`\n",
    "We studied read earlier in today's class.\n",
    "\n",
    "By default `read()` will read the entire contents of the file from the beginning (index 0) to the end (index -1).  \n",
    "\n",
    "An optional integer argument can be used to specify *how many characters to read*. \n",
    "\n"
   ]
  },
  {
   "cell_type": "markdown",
   "metadata": {
    "slideshow": {
     "slide_type": "slide"
    }
   },
   "source": [
    "##### `seek()`\n",
    "The position within a file:\n",
    " - from which to read or...\n",
    " - at which to write\n",
    "\n",
    "can be selected using `seek()`.\n",
    "\n",
    "An integer argument is used to specify *how many characters to offset* the start position from the start of the file.\n",
    "\n",
    "\n",
    "\n"
   ]
  },
  {
   "cell_type": "markdown",
   "metadata": {
    "slideshow": {
     "slide_type": "slide"
    }
   },
   "source": [
    "##### `tell()`\n",
    "The current position within a file can be returned an integer location index at any time using `tell()`.\n"
   ]
  },
  {
   "cell_type": "markdown",
   "metadata": {
    "slideshow": {
     "slide_type": "slide"
    }
   },
   "source": [
    "##### `truncate()`\n",
    "Deletes all characters after the current position."
   ]
  },
  {
   "cell_type": "markdown",
   "metadata": {
    "slideshow": {
     "slide_type": "slide"
    }
   },
   "source": [
    "__Example :__`read`, `seek()`, `tell()` and `truncate()`.\n",
    "\n",
    "Let's first write some data to a file:"
   ]
  },
  {
   "cell_type": "code",
   "execution_count": 97,
   "metadata": {},
   "outputs": [],
   "source": [
    "with open(\"sample_data/twister.txt\" , \"w\" ) as file :  \n",
    "    file.write(\"How can a clam cram in a clean cream can?\")"
   ]
  },
  {
   "cell_type": "markdown",
   "metadata": {
    "slideshow": {
     "slide_type": "slide"
    }
   },
   "source": [
    "Now we are going to read and edit the data.\n",
    "\n",
    "We first:\n",
    "- open the file using a mode specifier to read *and* write\n",
    "- print the current position in the file:"
   ]
  },
  {
   "cell_type": "code",
   "execution_count": 1,
   "metadata": {},
   "outputs": [
    {
     "name": "stdout",
     "output_type": "stream",
     "text": [
      "Position In File Now: 0\n"
     ]
    }
   ],
   "source": [
    "file = open(\"sample_data/twister.txt\" , \"r+\")\n",
    "\n",
    "print(\"Position In File Now:\", file.tell()) "
   ]
  },
  {
   "cell_type": "markdown",
   "metadata": {
    "slideshow": {
     "slide_type": "slide"
    }
   },
   "source": [
    "The position changes, once the file has been read."
   ]
  },
  {
   "cell_type": "code",
   "execution_count": 2,
   "metadata": {},
   "outputs": [
    {
     "name": "stdout",
     "output_type": "stream",
     "text": [
      "How can a \n",
      "Position In File Now: 10\n"
     ]
    }
   ],
   "source": [
    "# reading the file moves the position \n",
    "print(file.read())\n",
    "print(\"Position In File Now:\", file.tell())\n",
    "    "
   ]
  },
  {
   "cell_type": "markdown",
   "metadata": {
    "slideshow": {
     "slide_type": "slide"
    }
   },
   "source": [
    "Let's move to a specific position, 31 characters into the file:\n",
    "\n",
    "*(This looks for a specific __position__. In next week's class we will learn to look for a specific __word__.)*"
   ]
  },
  {
   "cell_type": "code",
   "execution_count": 3,
   "metadata": {},
   "outputs": [
    {
     "name": "stdout",
     "output_type": "stream",
     "text": [
      "Position In File Now: 31\n"
     ]
    }
   ],
   "source": [
    "# seek\n",
    "file.seek( 31 )\n",
    "print(\"Position In File Now:\", file.tell())"
   ]
  },
  {
   "cell_type": "markdown",
   "metadata": {
    "slideshow": {
     "slide_type": "slide"
    }
   },
   "source": [
    "Position 31 is just before the words `' cream can?'`.\n",
    "\n",
    "We can see this by reading the file at this point."
   ]
  },
  {
   "cell_type": "code",
   "execution_count": 4,
   "metadata": {},
   "outputs": [
    {
     "name": "stdout",
     "output_type": "stream",
     "text": [
      "\n"
     ]
    }
   ],
   "source": [
    "print(file.read())"
   ]
  },
  {
   "cell_type": "markdown",
   "metadata": {
    "slideshow": {
     "slide_type": "slide"
    }
   },
   "source": [
    "We are going to replace:\n",
    "\n",
    "    'cream can?'\n",
    "\n",
    "...with:\n",
    "\n",
    "    'caravan?'"
   ]
  },
  {
   "cell_type": "markdown",
   "metadata": {
    "slideshow": {
     "slide_type": "slide"
    }
   },
   "source": [
    "We are now at the end of the file.\n",
    "\n",
    "Let's go back to position 31 and write `'caravan'`."
   ]
  },
  {
   "cell_type": "code",
   "execution_count": 5,
   "metadata": {},
   "outputs": [
    {
     "data": {
      "text/plain": [
       "8"
      ]
     },
     "execution_count": 5,
     "metadata": {},
     "output_type": "execute_result"
    }
   ],
   "source": [
    "# write starting at new position\n",
    "file.seek( 31 )\n",
    "file.write(\"caravan?\")"
   ]
  },
  {
   "cell_type": "markdown",
   "metadata": {
    "slideshow": {
     "slide_type": "slide"
    }
   },
   "source": [
    "What does the whole file look like now? \n",
    "\n",
    "We can go back to position 0 and read the file to check:"
   ]
  },
  {
   "cell_type": "code",
   "execution_count": 7,
   "metadata": {
    "scrolled": true
   },
   "outputs": [
    {
     "name": "stdout",
     "output_type": "stream",
     "text": [
      "How can a \u0000\u0000\u0000\u0000\u0000\u0000\u0000\u0000\u0000\u0000\u0000\u0000\u0000\u0000\u0000\u0000\u0000\u0000\u0000\u0000\u0000caravan?\n"
     ]
    }
   ],
   "source": [
    "# return to position 0 and print the file contents\n",
    "file.seek(  0  )\n",
    "print(file.read())"
   ]
  },
  {
   "cell_type": "markdown",
   "metadata": {
    "slideshow": {
     "slide_type": "slide"
    }
   },
   "source": [
    "`'cream can?'` has been *overwritten* with  `'caravan?'`.\n",
    "\n",
    "However, `'cream can?'` contains more letters than `'caravan?'` so the additional letters are note overwritten.  "
   ]
  },
  {
   "cell_type": "markdown",
   "metadata": {
    "slideshow": {
     "slide_type": "slide"
    }
   },
   "source": [
    "We can use `truncate` to remove any traling charcters:"
   ]
  },
  {
   "cell_type": "code",
   "execution_count": 104,
   "metadata": {
    "scrolled": true
   },
   "outputs": [
    {
     "name": "stdout",
     "output_type": "stream",
     "text": [
      "8\n"
     ]
    },
    {
     "data": {
      "text/plain": [
       "39"
      ]
     },
     "execution_count": 104,
     "metadata": {},
     "output_type": "execute_result"
    }
   ],
   "source": [
    "print(len('caravan?'))\n",
    "file.seek( 31 + len('caravan?'))\n",
    "# truncate deletes all characters from current position onwards\n",
    "file.truncate() "
   ]
  },
  {
   "cell_type": "markdown",
   "metadata": {
    "slideshow": {
     "slide_type": "slide"
    }
   },
   "source": [
    "What does the whole file look like now? \n",
    "\n",
    "We can go back to position 0 and read the file to check:"
   ]
  },
  {
   "cell_type": "code",
   "execution_count": 105,
   "metadata": {
    "scrolled": true
   },
   "outputs": [
    {
     "name": "stdout",
     "output_type": "stream",
     "text": [
      "How can a clam cram in a clean caravan?\n"
     ]
    }
   ],
   "source": [
    "# return to position 0 and print the file contents\n",
    "file.seek( 0 )\n",
    "print(file.read())"
   ]
  },
  {
   "cell_type": "markdown",
   "metadata": {
    "slideshow": {
     "slide_type": "slide"
    }
   },
   "source": [
    "Finally, remember to close the file:"
   ]
  },
  {
   "cell_type": "code",
   "execution_count": 106,
   "metadata": {},
   "outputs": [],
   "source": [
    "file.close()"
   ]
  },
  {
   "cell_type": "markdown",
   "metadata": {
    "slideshow": {
     "slide_type": "slide"
    }
   },
   "source": [
    "The full example, using `with`:"
   ]
  },
  {
   "cell_type": "code",
   "execution_count": 107,
   "metadata": {},
   "outputs": [
    {
     "name": "stdout",
     "output_type": "stream",
     "text": [
      "Position In File Now: 0\n",
      "How can a clam cram in a clean cream can?\n",
      "Position In File Now: 41\n",
      "Position In File Now: 31\n",
      "Position In File Now: 0\n",
      "How can a clam cram in a clean caravan?\n"
     ]
    }
   ],
   "source": [
    "# write file\n",
    "with open(\"sample_data/twister.txt\" , \"w\" ) as file :  \n",
    "    file.write(\"How can a clam cram in a clean cream can?\")\n",
    "    \n",
    "\n",
    "# read and edit\n",
    "with open(\"sample_data/twister.txt\" , \"r+\" ) as file : \n",
    "    \n",
    "    # tell \n",
    "    print(\"Position In File Now:\", file.tell()) \n",
    "    \n",
    "    # reading the file moves the position \n",
    "    print(file.read())\n",
    "    print(\"Position In File Now:\", file.tell())\n",
    "    \n",
    "    # seek\n",
    "    file.seek( 31 )\n",
    "    print(\"Position In File Now:\", file.tell())\n",
    "    \n",
    "    # write starting at new position\n",
    "    file.write(\"caravan?\")\n",
    "    \n",
    "    # truncate deletes all characters from current position onwards\n",
    "    file.truncate()    \n",
    "    \n",
    "    # move back to start poistion\n",
    "    file.seek( 0 )\n",
    "    print(\"Position In File Now:\", file.tell())\n",
    "    \n",
    "    # print updated string\n",
    "    print(file.read())"
   ]
  },
  {
   "cell_type": "markdown",
   "metadata": {
    "slideshow": {
     "slide_type": "slide"
    }
   },
   "source": [
    "Alternatively, if we know the word to replace we can use the function `replace()`:"
   ]
  },
  {
   "cell_type": "code",
   "execution_count": 108,
   "metadata": {},
   "outputs": [
    {
     "name": "stdout",
     "output_type": "stream",
     "text": [
      "How can a clam cram in a clean caravan?\n"
     ]
    }
   ],
   "source": [
    "with open(\"sample_data/twister.txt\" , \"w+\" ) as file : \n",
    "    # write contents\n",
    "    file.write(\"How can a clam cram in a clean cream can?\")\n",
    "    \n",
    "    # go to start of file\n",
    "    file.seek( 0 )\n",
    "    \n",
    "    # create a new string with the words replaced \n",
    "    data = file.read().replace(\"cream can\", \"caravan\")\n",
    "    \n",
    "    # go to start of file\n",
    "    file.seek( 0 )\n",
    "    \n",
    "    # over-write the old string\n",
    "    file.write(data)\n",
    "    file.truncate()\n",
    "    \n",
    "    # go to start of file\n",
    "    file.seek( 0 )\n",
    "    print(file.read())"
   ]
  },
  {
   "cell_type": "markdown",
   "metadata": {
    "slideshow": {
     "slide_type": "slide"
    }
   },
   "source": [
    "A maximum file sixe can be specified when using truncate:"
   ]
  },
  {
   "cell_type": "code",
   "execution_count": 109,
   "metadata": {},
   "outputs": [
    {
     "name": "stdout",
     "output_type": "stream",
     "text": [
      "How can a \n"
     ]
    }
   ],
   "source": [
    "with open(\"sample_data/twister.txt\" , \"w+\" ) as file : \n",
    "    # write contents\n",
    "    file.write(\"How can a clam cram in a clean cream can?\")\n",
    "    \n",
    "    # set maximum length of string\n",
    "    file.truncate(10)\n",
    "    \n",
    "    # go to start of file\n",
    "    file.seek( 0 )\n",
    "    print(file.read())"
   ]
  },
  {
   "cell_type": "markdown",
   "metadata": {
    "slideshow": {
     "slide_type": "slide"
    }
   },
   "source": [
    "## Binary Files (\"Pickling\" Data)\n",
    "<a id='BinaryFilesPicklingData'></a>\n",
    "String data can easily be stored in text files, as shown. \n",
    "\n",
    "Other data types (e.g. numbers, lists, dictionaries) can also be stored in text files but require conversion to strings first. \n",
    "\n",
    "Restoring that stored data to their original data type, if read into a Python file, requires the opposite conversion. "
   ]
  },
  {
   "cell_type": "markdown",
   "metadata": {
    "slideshow": {
     "slide_type": "slide"
    }
   },
   "source": [
    "Unless the storage  file needs to be human-readable for some reason, it is more efficient to use `pickle` to store data as a machine-readable binary file.\n",
    "\n"
   ]
  },
  {
   "cell_type": "markdown",
   "metadata": {
    "slideshow": {
     "slide_type": "slide"
    }
   },
   "source": [
    "#### Advantages of pickling data.\n",
    "\n",
    "A binary file is essentially a computer file that __stored__ in a non-plain text file format(e.g. .py, .csv, .txt.....etc).\n",
    "\n",
    "A character stream is used to represent (typically non-text) information. \n",
    "\n",
    "<img src=\"img/binary-file-in-text-editor.png\" alt=\"Drawing\" style=\"width: 300px;\"/>"
   ]
  },
  {
   "cell_type": "markdown",
   "metadata": {
    "slideshow": {
     "slide_type": "slide"
    }
   },
   "source": [
    "This character stream contains all the information necessary to reconstruct the object in another (python) script.\n",
    "\n",
    "Many binary file formats contain parts that can be interpreted as text:\n",
    "\n",
    "__Example:__ A computer document file may contain:\n",
    "- un-formatted text\n",
    "- formatting information \n",
    "\n",
    "\n",
    "\n",
    "\n",
    "\n"
   ]
  },
  {
   "cell_type": "markdown",
   "metadata": {
    "slideshow": {
     "slide_type": "slide"
    }
   },
   "source": [
    "__Serialising__\n",
    "<br>Translating data structures or object state into a format that can be stored  or transmitted and reconstructed later.  \n",
    "\n",
    "The serialised character stream contains all the information necessary to reconstruct the object in another (python) script / computer environment."
   ]
  },
  {
   "cell_type": "markdown",
   "metadata": {
    "slideshow": {
     "slide_type": "slide"
    }
   },
   "source": [
    "Pickling a python object *serialises* the object:\n",
    "- converting it to a character stream\n",
    "- allowing it to be stored at a smaller size"
   ]
  },
  {
   "cell_type": "markdown",
   "metadata": {
    "slideshow": {
     "slide_type": "slide"
    }
   },
   "source": [
    "\n",
    "\n",
    "Read (`r`), write (`w`) and append (`a`) can be used to produce binary files simply by using the mode specifiers:\n",
    "- `rb` : read\n",
    "- `wb` : write\n",
    "- `ab` : append"
   ]
  },
  {
   "cell_type": "markdown",
   "metadata": {
    "slideshow": {
     "slide_type": "slide"
    }
   },
   "source": [
    "“Pickling” a data object stores a string representation of the object.\n",
    "\n",
    "The string representation can later be “unpickled” to its former state. "
   ]
  },
  {
   "cell_type": "markdown",
   "metadata": {
    "slideshow": {
     "slide_type": "slide"
    }
   },
   "source": [
    "The following example shows how to pickle data."
   ]
  },
  {
   "cell_type": "markdown",
   "metadata": {
    "slideshow": {
     "slide_type": "slide"
    }
   },
   "source": [
    "Import the `pickle` package:"
   ]
  },
  {
   "cell_type": "code",
   "execution_count": 110,
   "metadata": {},
   "outputs": [],
   "source": [
    "import pickle "
   ]
  },
  {
   "cell_type": "markdown",
   "metadata": {
    "slideshow": {
     "slide_type": "slide"
    }
   },
   "source": [
    "Create sample data:"
   ]
  },
  {
   "cell_type": "code",
   "execution_count": 111,
   "metadata": {},
   "outputs": [
    {
     "name": "stdout",
     "output_type": "stream",
     "text": [
      "['Numbers', [1, 2, 3, 4, 5]]\n"
     ]
    }
   ],
   "source": [
    "data = [ \"Numbers\" , \n",
    "         [1, 2, 3, 4, 5] ]\n",
    "\n",
    "print(data)"
   ]
  },
  {
   "cell_type": "markdown",
   "metadata": {
    "slideshow": {
     "slide_type": "slide"
    }
   },
   "source": [
    "In the `with` block:\n",
    " - Use the function `pickled.dump()` "
   ]
  },
  {
   "cell_type": "code",
   "execution_count": 112,
   "metadata": {
    "slideshow": {
     "slide_type": "-"
    }
   },
   "outputs": [],
   "source": [
    "with open( \"sample_data/pickled.dat\" , \"wb\" ) as file:\n",
    "    \n",
    "    pickle.dump( data, file )\n"
   ]
  },
  {
   "cell_type": "markdown",
   "metadata": {
    "slideshow": {
     "slide_type": "slide"
    }
   },
   "source": [
    "In the `with` block:\n",
    " - Use the function `pickled.load()` "
   ]
  },
  {
   "cell_type": "code",
   "execution_count": 113,
   "metadata": {},
   "outputs": [
    {
     "name": "stdout",
     "output_type": "stream",
     "text": [
      "recovered data: \n",
      "Numbers, type = <class 'str'> \n",
      "[1, 2, 3, 4, 5], type = <class 'list'> \n"
     ]
    }
   ],
   "source": [
    "with open( \"sample_data/pickled.dat\" , \"rb\" ) as file:\n",
    "    \n",
    "    data = pickle.load(file)\n",
    "    \n",
    "print(f\"recovered data: \\n{data[0]}, type = {type(data[0])} \\n{data[1]}, type = {type(data[1])} \")"
   ]
  },
  {
   "cell_type": "markdown",
   "metadata": {
    "slideshow": {
     "slide_type": "slide"
    }
   },
   "source": [
    "## Plotting\n",
    "<a id='Plotting'></a>\n",
    "### Matplotlib\n",
    "<a id='Matplotlib'></a>\n",
    "Matplotlib is the most widely used Python package for plotting.\n",
    "\n",
    "It's functionality is huge.\n",
    "\n",
    "Today's seminar will introduce the core functionality of Matplotlib.\n",
    "\n",
    "\n",
    "\n"
   ]
  },
  {
   "cell_type": "code",
   "execution_count": 8,
   "metadata": {
    "slideshow": {
     "slide_type": "slide"
    }
   },
   "outputs": [],
   "source": [
    "# plotting\n",
    "import matplotlib.pyplot as plt\n",
    "\n",
    "# colours\n",
    "import matplotlib.cm as cm"
   ]
  },
  {
   "cell_type": "markdown",
   "metadata": {
    "slideshow": {
     "slide_type": "slide"
    }
   },
   "source": [
    "To display plots in Jupyter Notebook, we must also have the following line in the notebook *before* generating the plot:"
   ]
  },
  {
   "cell_type": "code",
   "execution_count": 115,
   "metadata": {
    "slideshow": {
     "slide_type": "-"
    }
   },
   "outputs": [],
   "source": [
    "%matplotlib inline"
   ]
  },
  {
   "cell_type": "markdown",
   "metadata": {
    "slideshow": {
     "slide_type": "slide"
    }
   },
   "source": [
    "To display plots when running a .py file (e.g. in Spyder, we must also have the following line in the notebook *after* generating the plot:"
   ]
  },
  {
   "cell_type": "code",
   "execution_count": 116,
   "metadata": {
    "slideshow": {
     "slide_type": "-"
    }
   },
   "outputs": [],
   "source": [
    "plt.show()"
   ]
  },
  {
   "cell_type": "markdown",
   "metadata": {},
   "source": [
    "Online resources for more Matplotlib functionality:\n",
    " - Matplotlib Gallery (http://matplotlib.org/gallery.html)\n",
    " - Github (http://gree2.github.io/python/2015/04/10/python-matplotlib-plotting-examples-and-exercises)\n",
    " \n",
    " "
   ]
  },
  {
   "cell_type": "markdown",
   "metadata": {
    "slideshow": {
     "slide_type": "slide"
    }
   },
   "source": [
    "## Line and Scatter Plots\n",
    "<a id='LineScatterPlots'></a>\n",
    "Matplotlib can be used to produce basic line and scatter plots.\n",
    "\n",
    "You can manipulate the appearance of these plots in code."
   ]
  },
  {
   "cell_type": "markdown",
   "metadata": {
    "slideshow": {
     "slide_type": "subslide"
    }
   },
   "source": [
    "For a sample data set of values of $x$ and corresponding values of $f$:"
   ]
  },
  {
   "cell_type": "code",
   "execution_count": 117,
   "metadata": {},
   "outputs": [],
   "source": [
    "x = [-1, 3, 4, 8 , 10]\n",
    "f = [-1, -2, 7, 13 , 1]"
   ]
  },
  {
   "cell_type": "markdown",
   "metadata": {},
   "source": [
    "We can produce a line plot.."
   ]
  },
  {
   "cell_type": "code",
   "execution_count": 118,
   "metadata": {
    "slideshow": {
     "slide_type": "slide"
    }
   },
   "outputs": [
    {
     "data": {
      "text/plain": [
       "[<matplotlib.lines.Line2D at 0x1204dfeb8>]"
      ]
     },
     "execution_count": 118,
     "metadata": {},
     "output_type": "execute_result"
    },
    {
     "data": {
      "image/png": "[encoded data removed]",
      "text/plain": [
       "<Figure size 432x288 with 1 Axes>"
      ]
     },
     "metadata": {},
     "output_type": "display_data"
    }
   ],
   "source": [
    "plt.plot(x, f)\n"
   ]
  },
  {
   "cell_type": "markdown",
   "metadata": {
    "slideshow": {
     "slide_type": "slide"
    }
   },
   "source": [
    "Notice the statement `[<matplotlib.lines.Line2D at 0x30990b0>]` appears each time (the numbers on your computer may look different). \n",
    "\n",
    "This is a handle to the line that is created with the last command in the code block (in this case `plt.plot(x, y)`). \n",
    "\n",
    "You can avoid printing this by putting a semicolon after the last command in the code block (so type `plot(x, y);`). "
   ]
  },
  {
   "cell_type": "markdown",
   "metadata": {
    "slideshow": {
     "slide_type": "slide"
    }
   },
   "source": [
    "`plot` function arguments.\n",
    "\n",
    "\n",
    " - One argument `plot(y)`, which plots `y` values along the vertical axis and enumerates the horizontal axis starting at 0.<br>\n",
    " - Two arguments, `plot(x, y)`, which plots `x` vs `y`.<br>\n",
    " - Three arguments `plot(x, y, formatstring)`, which plots `x` vs `y` using colors and markers defined in `formatstring`.\n",
    " \n",
    " "
   ]
  },
  {
   "cell_type": "markdown",
   "metadata": {
    "slideshow": {
     "slide_type": "slide"
    }
   },
   "source": [
    "The optional __format string__ is a convenient way for defining basic formatting:\n",
    "\n",
    "Using the `formatstring` argument we can chnage:\n",
    " - the colour of the plot (e.g. `r` = red, `k`= black)\n",
    " - the style of the markers (e.g. `o` = points, `*` = stars)\n",
    " - the style of the line (e.g. `--` = dashes, `.` = dots)"
   ]
  },
  {
   "cell_type": "markdown",
   "metadata": {
    "slideshow": {
     "slide_type": "slide"
    }
   },
   "source": [
    "In the example below:\n",
    " - `r` makes the plot red\n",
    " - `x` makes the markers crosses\n",
    " - `-` makes the line solid"
   ]
  },
  {
   "cell_type": "code",
   "execution_count": 119,
   "metadata": {
    "slideshow": {
     "slide_type": "slide"
    }
   },
   "outputs": [
    {
     "data": {
      "image/png": "[encoded data removed]",
      "text/plain": [
       "<Figure size 432x288 with 1 Axes>"
      ]
     },
     "metadata": {},
     "output_type": "display_data"
    }
   ],
   "source": [
    "plt.plot(x, f, '-xr');"
   ]
  },
  {
   "cell_type": "markdown",
   "metadata": {
    "slideshow": {
     "slide_type": "slide"
    }
   },
   "source": [
    "Note the semi-colon when calling the `plot` function."
   ]
  },
  {
   "cell_type": "code",
   "execution_count": 120,
   "metadata": {
    "slideshow": {
     "slide_type": "slide"
    }
   },
   "outputs": [
    {
     "data": {
      "text/plain": [
       "[<matplotlib.lines.Line2D at 0x1205ed5c0>]"
      ]
     },
     "execution_count": 120,
     "metadata": {},
     "output_type": "execute_result"
    },
    {
     "data": {
      "image/png": "[encoded data removed]",
      "text/plain": [
       "<Figure size 432x288 with 1 Axes>"
      ]
     },
     "metadata": {},
     "output_type": "display_data"
    }
   ],
   "source": [
    "plt.plot(x, f, '--og')  \n",
    "# plt.plot(x, f, 'og--')  \n",
    "# plt.plot(x, f, 'or--') \n",
    "# plt.plot(x, f, 'k.') "
   ]
  },
  {
   "cell_type": "markdown",
   "metadata": {
    "slideshow": {
     "slide_type": "slide"
    }
   },
   "source": [
    "Available colours, maker styles and line styles can be found in the matplotlib documentation. \n",
    " - Colour: https://matplotlib.org/2.0.2/api/colors_api.html\n",
    " - Marker style: https://matplotlib.org/api/markers_api.html\n",
    " - Line style: https://matplotlib.org/devdocs/gallery/lines_bars_and_markers/line_styles_reference.html"
   ]
  },
  {
   "cell_type": "markdown",
   "metadata": {
    "slideshow": {
     "slide_type": "slide"
    }
   },
   "source": [
    "The `plot` function also takes a large number of *keyword arguments*. \n",
    "\n",
    "For example, to plot a line with width 6 (the default is 1): "
   ]
  },
  {
   "cell_type": "code",
   "execution_count": 121,
   "metadata": {
    "slideshow": {
     "slide_type": "slide"
    }
   },
   "outputs": [
    {
     "data": {
      "image/png": "[encoded data removed]",
      "text/plain": [
       "<Figure size 432x288 with 1 Axes>"
      ]
     },
     "metadata": {},
     "output_type": "display_data"
    }
   ],
   "source": [
    "plt.plot(x, f, '-xr', linewidth=6);\n",
    "\n"
   ]
  },
  {
   "cell_type": "markdown",
   "metadata": {
    "slideshow": {
     "slide_type": "slide"
    }
   },
   "source": [
    "Remeber keyword arguments must always appear after regular arguments when calling the function.\n",
    "\n",
    "Documentation of all available keyword arguments can be found here: https://matplotlib.org/api/_as_gen/matplotlib.pyplot.plot.html#matplotlib.pyplot.plot"
   ]
  },
  {
   "cell_type": "markdown",
   "metadata": {
    "slideshow": {
     "slide_type": "slide"
    }
   },
   "source": [
    "Other methods such as `legend`, `xlabel`, `ylabel` and `title` can be used to add useful information to a plot."
   ]
  },
  {
   "cell_type": "markdown",
   "metadata": {
    "slideshow": {
     "slide_type": "slide"
    }
   },
   "source": [
    "### Adding Labels, Legend and Title. \n",
    "<a id='AddingLabelsLegendTitle'></a>\n",
    "The location of the legend can be set the the 'best' in terms of not obscuring data. \n",
    "\n",
    "The position of the legend can also be set expllicitly instead. The location codes acan be found here: https://matplotlib.org/api/legend_api.html\n",
    "\n",
    "Using the $ sign can be used to italicise a string.\n",
    "\n",
    "The font size of all strings in the figure can be selected."
   ]
  },
  {
   "cell_type": "code",
   "execution_count": 122,
   "metadata": {
    "slideshow": {
     "slide_type": "slide"
    }
   },
   "outputs": [
    {
     "data": {
      "image/png": "[encoded data removed]",
      "text/plain": [
       "<Figure size 432x288 with 1 Axes>"
      ]
     },
     "metadata": {},
     "output_type": "display_data"
    }
   ],
   "source": [
    "# Use the label kwarg to create a name to use in the figure legend. \n",
    "plt.plot(x, f, '-xr', label=\"data 1\")\n",
    "\n",
    "# Legend\n",
    "plt.legend(loc='best', fontsize=12)\n",
    "\n",
    "# Axes labels\n",
    "plt.xlabel('$x$', fontsize=20)\n",
    "plt.ylabel('$f$', fontsize=20)\n",
    "\n",
    "# Title\n",
    "plt.title(\"Simple plot of $f$ against $x$\", fontsize=18);\n"
   ]
  },
  {
   "cell_type": "markdown",
   "metadata": {
    "slideshow": {
     "slide_type": "slide"
    }
   },
   "source": [
    "Note the semi-colon when calling the `title` function."
   ]
  },
  {
   "cell_type": "markdown",
   "metadata": {
    "slideshow": {
     "slide_type": "slide"
    }
   },
   "source": [
    "### Setting the Axis Limits\n",
    "<a id='SettingAxisLimits'></a>\n",
    "Example: plot the funstion $sin(x)$  for 100 equally spaced values of x between $0$ and $4 \\pi$ (inclusive). "
   ]
  },
  {
   "cell_type": "code",
   "execution_count": 123,
   "metadata": {
    "slideshow": {
     "slide_type": "slide"
    }
   },
   "outputs": [
    {
     "data": {
      "text/plain": [
       "Text(0,0.5,'$\\\\sin(x)$')"
      ]
     },
     "execution_count": 123,
     "metadata": {},
     "output_type": "execute_result"
    },
    {
     "data": {
      "image/png": "[encoded data removed]",
      "text/plain": [
       "<Figure size 432x288 with 1 Axes>"
      ]
     },
     "metadata": {},
     "output_type": "display_data"
    }
   ],
   "source": [
    "num_points = 100\n",
    "x = np.linspace(0, 4*np.pi, num_points)\n",
    "f = np.sin(x)\n",
    "\n",
    "# Plot graph\n",
    "plt.plot(x, f);\n",
    "\n",
    "# Label axis\n",
    "plt.xlabel('$x$')\n",
    "plt.ylabel('$\\sin(x)$')\n",
    "\n"
   ]
  },
  {
   "cell_type": "markdown",
   "metadata": {
    "slideshow": {
     "slide_type": "slide"
    }
   },
   "source": [
    "The zero on the x axis is offset by an unknown amount. \n",
    "\n",
    "We can improve the appearance of the plot by specifying the $x$ limits:"
   ]
  },
  {
   "cell_type": "code",
   "execution_count": 124,
   "metadata": {
    "slideshow": {
     "slide_type": "slide"
    }
   },
   "outputs": [
    {
     "data": {
      "text/plain": [
       "(0.0, 12.566370614359172)"
      ]
     },
     "execution_count": 124,
     "metadata": {},
     "output_type": "execute_result"
    },
    {
     "data": {
      "image/png": "[encoded data removed]",
      "text/plain": [
       "<Figure size 432x288 with 1 Axes>"
      ]
     },
     "metadata": {},
     "output_type": "display_data"
    }
   ],
   "source": [
    "# Plot graph\n",
    "plt.plot(x, f);\n",
    "\n",
    "# Label axis\n",
    "plt.xlabel('$x$')\n",
    "plt.ylabel('$\\sin(x)$')\n",
    "\n",
    "# Use the start and end values in x as x limits \n",
    "plt.xlim(x[0], x[-1])\n",
    "\n",
    "# ...or set the lower x limit only\n",
    "#plt.xlim(xmin=0)\n",
    "#plt.xlim(xmin=x[0])"
   ]
  },
  {
   "cell_type": "markdown",
   "metadata": {
    "slideshow": {
     "slide_type": "slide"
    }
   },
   "source": [
    "### Multiple Plots\n",
    "<a id='MultiplePlots'></a>\n",
    "Plots can be overlaid by called `plt.plot(...` multiple times."
   ]
  },
  {
   "cell_type": "code",
   "execution_count": 125,
   "metadata": {
    "slideshow": {
     "slide_type": "slide"
    }
   },
   "outputs": [
    {
     "data": {
      "image/png": "[encoded data removed]",
      "text/plain": [
       "<Figure size 432x288 with 1 Axes>"
      ]
     },
     "metadata": {},
     "output_type": "display_data"
    }
   ],
   "source": [
    "# Plot sin(x) and cos(x), and add label for each\n",
    "plt.plot(x, np.sin(x), label=\"$\\sin(x)$\");\n",
    "plt.plot(x, np.cos(x), label=\"$\\cos(x)$\");\n",
    "\n",
    "# Label the x-axis\n",
    "plt.xlabel('$x$');\n",
    "\n",
    "# Add legend\n",
    "plt.legend();\n",
    "\n",
    "# Use the start and end values in x as x limits\n",
    "plt.xlim(x[0], x[-1]);"
   ]
  },
  {
   "cell_type": "markdown",
   "metadata": {
    "slideshow": {
     "slide_type": "slide"
    }
   },
   "source": [
    "### Saving a Plot\n",
    "<a id='SavingPlot'></a>\n",
    "A plot can be saved as a file for your to use e.g. in a report.\n",
    "\n",
    "A file name should be given.\n",
    "\n",
    "The file type is specified using the file extension.\n",
    "\n",
    "`/` can be used to seperate the names of nested folders.\n",
    "\n"
   ]
  },
  {
   "cell_type": "markdown",
   "metadata": {
    "slideshow": {
     "slide_type": "slide"
    }
   },
   "source": [
    "In the example below, the graph is saved as a pdf and a png file in the `img` folder in your directory. \n",
    "\n",
    "Run the code in the cell below then open the folder `img` using the file browser on your computer to verify that the files were generated by noting the time stamp shown for each file. "
   ]
  },
  {
   "cell_type": "code",
   "execution_count": 126,
   "metadata": {
    "slideshow": {
     "slide_type": "-"
    }
   },
   "outputs": [
    {
     "data": {
      "text/plain": [
       "<Figure size 432x288 with 0 Axes>"
      ]
     },
     "metadata": {},
     "output_type": "display_data"
    }
   ],
   "source": [
    "# Save plot to file\n",
    "plt.savefig(\"img/my-plot.pdf\")\n",
    "plt.savefig(\"img/my-plot.png\")"
   ]
  },
  {
   "cell_type": "markdown",
   "metadata": {
    "slideshow": {
     "slide_type": "slide"
    }
   },
   "source": [
    "__Try it yourself__\n",
    "<br>In the cell below:\n",
    "- create a green line plot of the function $sin^2(x)$ (or $(sin(x))^2$) using the range of $x$ from the last example. \n",
    "- add a blue triangular marker at $x=\\frac{\\pi}{2}, \\pi, \\frac{3\\pi}{2}, 2\\pi, \\frac{5\\pi}{2}, 3\\pi, \\frac{7\\pi}{2}$ and $4\\pi$.\n",
    "- label the axes\n",
    "- save the figure as a .jpg file in the `img` folder in your repository.\n"
   ]
  },
  {
   "cell_type": "markdown",
   "metadata": {
    "collapsed": true,
    "slideshow": {
     "slide_type": "slide"
    }
   },
   "source": [
    "## Importing Data from Delimited Text Files\n",
    "<a id='ImportingDataDelimitedTextFiles'></a>\n",
    "To read data from text files such as .csv, .txt, .dat, we can use  `numpy.load.txt`."
   ]
  },
  {
   "cell_type": "markdown",
   "metadata": {
    "slideshow": {
     "slide_type": "slide"
    }
   },
   "source": [
    "__Remember__\n",
    "<br>The file to be loaded must be in the same directory as your python program.\n",
    "<br>Otherwise you must specify the the full path to the data file using / to seperate directory names. \n",
    "<br>The filename (or path plus filename) needs to be between \"\" quotation marks. "
   ]
  },
  {
   "cell_type": "markdown",
   "metadata": {
    "slideshow": {
     "slide_type": "slide"
    }
   },
   "source": [
    "To import the data from `sample_data/data.dat`:\n",
    ">`0.000 1.053 2.105 3.158 4.211\n",
    "74.452 48.348 68.733 59.796 54.123`\n"
   ]
  },
  {
   "cell_type": "code",
   "execution_count": 127,
   "metadata": {
    "slideshow": {
     "slide_type": "slide"
    }
   },
   "outputs": [
    {
     "name": "stdout",
     "output_type": "stream",
     "text": [
      "[[ 1.053  2.105  3.158  4.211  6.065]\n",
      " [48.348 68.733 59.796 54.123 74.452]]\n",
      "<class 'numpy.ndarray'>\n"
     ]
    }
   ],
   "source": [
    "import numpy as np\n",
    "A = np.loadtxt('sample_data/sample_data.dat')\n",
    "print(A)\n",
    "print(type(A))"
   ]
  },
  {
   "cell_type": "markdown",
   "metadata": {},
   "source": [
    "Purely numerical data is imported as a Numpy array.\n",
    "\n",
    "This is a data structure for storing numerical values.\n",
    "\n"
   ]
  },
  {
   "cell_type": "markdown",
   "metadata": {},
   "source": [
    "Individual elements, rows or columns can be returned using the index"
   ]
  },
  {
   "cell_type": "code",
   "execution_count": 128,
   "metadata": {},
   "outputs": [
    {
     "name": "stdout",
     "output_type": "stream",
     "text": [
      "2.105\n",
      "[1.053 2.105 3.158 4.211 6.065]\n",
      "[ 2.105 68.733]\n"
     ]
    }
   ],
   "source": [
    "print(A[0][1])  # row 0, col 1\n",
    "print(A[0, :])  # row 0\n",
    "print(A[:, 1])  # col 1"
   ]
  },
  {
   "cell_type": "markdown",
   "metadata": {
    "slideshow": {
     "slide_type": "slide"
    }
   },
   "source": [
    "The __delimiter__ should (sometimes) be specified.\n",
    "\n",
    "This tells Python how to separate the data into the individual elements of an array. \n",
    "\n",
    "The default delimiter is a space.\n",
    "\n",
    "(Data separated by spaces will be automatically be assigned different indices)."
   ]
  },
  {
   "cell_type": "markdown",
   "metadata": {
    "slideshow": {
     "slide_type": "slide"
    }
   },
   "source": [
    "The __data type__ should (sometimes) be specified.\n",
    "\n",
    "This tells Python how to separate the data into the individual elements of an array. \n",
    "\n",
    "The default data type is `float`.\n",
    "\n",
    "If your data contains items that cannot be expressed as a float, importing it will cause an error unless the data-type is specified.\n",
    "\n",
    "Mixed data types can be imported as `string` values. "
   ]
  },
  {
   "cell_type": "markdown",
   "metadata": {
    "slideshow": {
     "slide_type": "slide"
    }
   },
   "source": [
    "Data in `sample_data/sample_student_data.txt`:\n",
    "- __delimiter__ : tab (`/t`) \n",
    "- __data type__ : string (float in some columns)\n",
    "\n",
    "```Python\n",
    "Subject\tSex\tDOB\tHeight\tWeight\tBP\n",
    "(ID)\tM/F\tdd/mm/yy\tm\tkg\tmmHg\n",
    "JW-1\tM\t19/12/1995\t1.82\t92.4\t119/76\n",
    "JW-2\tM\t11/01/1996\t1.77\t80.9\t114/73\n",
    "JW-3\tF\t02/10/1995\t1.68\t69.7\t124/79\n",
    "JW-6\tM\t06/07/1995\t1.72\t75.5\t110/60\n",
    "JW-7\tF\t28/03/1996\t1.66\t72.4\t-\n",
    "JW-9\tF\t11/12/1995\t1.78\t82.1\t115/75\n",
    "JW-10\tF\t07/04/1996\t1.6\t45\t-/-\n",
    "JW-11\tM\t22/08/1995\t1.72\t77.2\t97/63\n",
    "JW-12\tM\t23/05/1996\t1.83\t88.9\t105/70\n",
    "JW-14\tF\t12/01/1996\t1.56\t56.3\t108/72\n",
    "JW-15\tF\t01/06/1996\t1.64\t65\t99/67\n",
    "JW-16\tM\t10/09/1995\t1.63\t73\t131/84\n",
    "JW-17\tM\t17/02/1996\t1.67\t89.8\t101/76\n",
    "JW-18\tM\t31/07/1996\t1.66\t75.1\t-/-\n",
    "JW-19\tF\t30/10/1995\t1.59\t67.3\t103/69\n",
    "JW-22\tF\t09/03/1996\t1.7\t45\t119/80\n",
    "JW-23\tM\t15/05/1995\t1.97\t89.2\t124/82\n",
    "JW-24\tF\t01/12/1995\t1.66\t63.8\t100/78\n",
    "JW-25\tF\t25/10/1995\t1.63\t64.4\t-/-\n",
    "JW-26\tM\t17/04/1996\t1.69\t55\t121/82\n",
    "```"
   ]
  },
  {
   "cell_type": "code",
   "execution_count": 129,
   "metadata": {
    "slideshow": {
     "slide_type": "slide"
    }
   },
   "outputs": [
    {
     "data": {
      "text/plain": [
       "array([['Student', 'Sex', 'DOB', 'Height', 'Weight', 'BP'],\n",
       "       ['(ID)', 'M/F', 'dd/mm/yy', 'm', 'kg', 'mmHg'],\n",
       "       ['JW-1', 'M', '19/12/1995', '1.82', '92.4', '119/76'],\n",
       "       ['JW-2', 'M', '11/01/1996', '1.77', '80.9', '114/73'],\n",
       "       ['JW-3', 'F', '02/10/1995', '1.68', '69.7', '124/79'],\n",
       "       ['JW-4', 'M', '11/01/1996', '1.77', '80.9', '114/73'],\n",
       "       ['JW-5', 'F', '02/10/1995', '1.68', '69.7', '124/79'],\n",
       "       ['JW-6', 'M', '06/07/1995', '1.72', '75.5', '110/60'],\n",
       "       ['JW-7', 'F', '28/03/1996', '1.66', '72.4', '-'],\n",
       "       ['JW-9', 'F', '11/12/1995', '1.78', '82.1', '115/75'],\n",
       "       ['JW-10', 'F', '07/04/1996', '1.6', '45', '-/-'],\n",
       "       ['JW-11', 'M', '22/08/1995', '1.72', '77.2', '97/63'],\n",
       "       ['JW-12', 'M', '23/05/1996', '1.83', '88.9', '105/70'],\n",
       "       ['JW-14', 'F', '12/01/1996', '1.56', '56.3', '108/72'],\n",
       "       ['JW-15', 'F', '01/06/1996', '1.64', '65', '99/67'],\n",
       "       ['JW-16', 'M', '10/09/1995', '1.63', '73', '131/84'],\n",
       "       ['JW-17', 'M', '17/02/1996', '1.67', '89.8', '101/76'],\n",
       "       ['JW-18', 'M', '31/07/1996', '1.66', '75.1', '-/-'],\n",
       "       ['JW-19', 'F', '30/10/1995', '1.59', '67.3', '103/69'],\n",
       "       ['JW-22', 'F', '09/03/1996', '1.7', '45', '119/80'],\n",
       "       ['JW-23', 'M', '15/05/1995', '1.97', '89.2', '124/82'],\n",
       "       ['JW-24', 'F', '01/12/1995', '1.66', '63.8', '100/78'],\n",
       "       ['JW-25', 'F', '25/10/1995', '1.63', '64.4', '-/-'],\n",
       "       ['JW-26', 'M', '17/04/1996', '1.69', '55', '121/82']], dtype='<U10')"
      ]
     },
     "execution_count": 129,
     "metadata": {},
     "output_type": "execute_result"
    }
   ],
   "source": [
    "np.loadtxt('sample_data/sample_student_data.txt', delimiter=\"\\t\", dtype=str)"
   ]
  },
  {
   "cell_type": "markdown",
   "metadata": {
    "slideshow": {
     "slide_type": "slide"
    }
   },
   "source": [
    "Regions can be selected, for example to select only numerical data. \n",
    "\n",
    "`skiprows` skips the first n lines. \n",
    "\n",
    "`usecols` specifies which columns to read, with 0 being the first. \n",
    "\n",
    "`usecols = (1, 4, 5)` : extracts the 2nd, 5th and 6th columns.\n",
    "<br>`usecols = (3, 4)` : extracts the 4th and 5th columns (height and weight data)."
   ]
  },
  {
   "cell_type": "code",
   "execution_count": 130,
   "metadata": {
    "slideshow": {
     "slide_type": "slide"
    }
   },
   "outputs": [
    {
     "name": "stdout",
     "output_type": "stream",
     "text": [
      "[[ 1.78 82.1 ]\n",
      " [ 1.6  45.  ]\n",
      " [ 1.72 77.2 ]\n",
      " [ 1.83 88.9 ]\n",
      " [ 1.56 56.3 ]\n",
      " [ 1.64 65.  ]\n",
      " [ 1.63 73.  ]\n",
      " [ 1.67 89.8 ]\n",
      " [ 1.66 75.1 ]\n",
      " [ 1.59 67.3 ]\n",
      " [ 1.7  45.  ]\n",
      " [ 1.97 89.2 ]\n",
      " [ 1.66 63.8 ]\n",
      " [ 1.63 64.4 ]\n",
      " [ 1.69 55.  ]]\n"
     ]
    }
   ],
   "source": [
    "students = np.loadtxt('sample_data/sample_student_data.txt', dtype=float, skiprows=9, usecols=(3,4))\n",
    "print(students)"
   ]
  },
  {
   "cell_type": "markdown",
   "metadata": {
    "slideshow": {
     "slide_type": "slide"
    }
   },
   "source": [
    "You can now use the imported data as a regular Numpy array.\n",
    "\n"
   ]
  },
  {
   "cell_type": "code",
   "execution_count": 131,
   "metadata": {
    "scrolled": false,
    "slideshow": {
     "slide_type": "slide"
    }
   },
   "outputs": [
    {
     "data": {
      "image/png": "[encoded data removed]",
      "text/plain": [
       "<Figure size 432x288 with 1 Axes>"
      ]
     },
     "metadata": {},
     "output_type": "display_data"
    }
   ],
   "source": [
    "# Use indexing to select which ROWS and which COLUMNS to plot\n",
    "plt.plot(students[:, 0], students[:, 1], 'rx', label=\"students\")\n",
    "\n",
    "# Legend\n",
    "plt.legend(loc='best', fontsize=12)\n",
    "\n",
    "# Axes labels\n",
    "plt.xlabel('Height (m)', fontsize=12)\n",
    "plt.ylabel('Weight (kg)', fontsize=12)\n",
    "\n",
    "# Title\n",
    "plt.title(\"Height to weight relationship for students in class A\", fontsize=18);"
   ]
  },
  {
   "cell_type": "markdown",
   "metadata": {
    "slideshow": {
     "slide_type": "slide"
    }
   },
   "source": [
    "## Bar Charts and Histograms\n",
    "<a id='BarChartsHistograms'></a>\n",
    "### Bar Charts\n",
    "<a id='BarCharts'></a>\n",
    "To represent data as a bar chart, for example, the number of students in each year of a degree program:"
   ]
  },
  {
   "cell_type": "code",
   "execution_count": 132,
   "metadata": {},
   "outputs": [],
   "source": [
    "year_groups = ('B1', 'B2', 'B3', 'M1', 'M2')\n",
    "num_students = (500, 332, 425, 300, 200)\n"
   ]
  },
  {
   "cell_type": "code",
   "execution_count": 133,
   "metadata": {
    "slideshow": {
     "slide_type": "slide"
    }
   },
   "outputs": [
    {
     "data": {
      "image/png": "[encoded data removed]",
      "text/plain": [
       "<Figure size 432x288 with 1 Axes>"
      ]
     },
     "metadata": {},
     "output_type": "display_data"
    }
   ],
   "source": [
    "# Create an array with the position of each bar along the x-axis\n",
    "x_pos = np.arange(len(year_groups))\n",
    "\n",
    "# Produce bar plot\n",
    "plt.bar(x_pos, num_students);\n",
    "\n",
    "# Replace the x ticks with the year group name\n",
    "# Rotate labels 30 degrees\n",
    "plt.xticks(x_pos, year_groups, rotation=30);\n",
    "\n",
    "# Add axis labels \n",
    "plt.xlabel('year group');\n",
    "plt.ylabel('number of students');\n"
   ]
  },
  {
   "cell_type": "markdown",
   "metadata": {
    "slideshow": {
     "slide_type": "slide"
    }
   },
   "source": [
    "## Histograms\n",
    "<a id='Histograms'></a>\n",
    "We can visualise the distribution of the values using a histogram.\n",
    "\n",
    "In a histogram, data is sorted into intervals (bins) along the horizontal axis. \n",
    "\n",
    "The number of values that fall within a 'bin' is then displayed on the vertical axis."
   ]
  },
  {
   "cell_type": "markdown",
   "metadata": {
    "slideshow": {
     "slide_type": "slide"
    }
   },
   "source": [
    "To create a histogram we first need a data set. \n",
    "\n",
    "For example we can use Numpy to generate a data set with:\n",
    "- 4000 random values\n",
    "- a mean value of zero \n",
    "- a standard deviation of 1\n",
    "- a __normal__ (Gaussian) distribution (bell curve with 68% percent of values within one standard deviation of the mean)\n",
    "\n"
   ]
  },
  {
   "cell_type": "code",
   "execution_count": 134,
   "metadata": {
    "slideshow": {
     "slide_type": "-"
    }
   },
   "outputs": [],
   "source": [
    "# loc=mean, scale=stddev, size=num samples\n",
    "x = np.random.normal(loc=0.0, scale=1.0, size=4000)  \n"
   ]
  },
  {
   "cell_type": "markdown",
   "metadata": {
    "slideshow": {
     "slide_type": "slide"
    }
   },
   "source": [
    "We can visualise how `x` is distributed, using 20 bins. \n",
    "\n",
    "Matplotlib creates 20 bins of equal width, and computes the number of entries in each bin. "
   ]
  },
  {
   "cell_type": "code",
   "execution_count": 135,
   "metadata": {},
   "outputs": [
    {
     "data": {
      "text/plain": [
       "Text(0,0.5,'frequency')"
      ]
     },
     "execution_count": 135,
     "metadata": {},
     "output_type": "execute_result"
    },
    {
     "data": {
      "image/png": "[encoded data removed]",
      "text/plain": [
       "<Figure size 432x288 with 1 Axes>"
      ]
     },
     "metadata": {},
     "output_type": "display_data"
    }
   ],
   "source": [
    "# Produce histogram with 20 bins\n",
    "n, bins, patches = plt.hist(x, 20, facecolor='green');\n",
    "\n",
    "# Add label\n",
    "plt.xlabel('value')\n",
    "plt.ylabel('frequency')\n",
    "\n"
   ]
  },
  {
   "cell_type": "markdown",
   "metadata": {
    "slideshow": {
     "slide_type": "slide"
    }
   },
   "source": [
    "To view a list of:\n",
    "- the bin intervals\n",
    "- the number of values in each bin. "
   ]
  },
  {
   "cell_type": "code",
   "execution_count": 136,
   "metadata": {
    "slideshow": {
     "slide_type": "slide"
    }
   },
   "outputs": [
    {
     "name": "stdout",
     "output_type": "stream",
     "text": [
      "[-3.26910774 -2.92785202 -2.58659629 -2.24534056 -1.90408483 -1.5628291\n",
      " -1.22157338 -0.88031765 -0.53906192 -0.19780619  0.14344954  0.48470526\n",
      "  0.82596099  1.16721672  1.50847245  1.84972817  2.1909839   2.53223963\n",
      "  2.87349536  3.21475109  3.55600681]\n"
     ]
    }
   ],
   "source": [
    "print(bins)\n"
   ]
  },
  {
   "cell_type": "markdown",
   "metadata": {
    "slideshow": {
     "slide_type": "slide"
    }
   },
   "source": [
    "__Try it yourself__\n",
    "<br>In the example above try changing the number of bins and run the cells again to see the change in the bin intervals and number of values in ech bin. "
   ]
  },
  {
   "cell_type": "markdown",
   "metadata": {
    "collapsed": true,
    "slideshow": {
     "slide_type": "slide"
    }
   },
   "source": [
    "## Visualising 2D Arrays\n",
    "<a id='Visualising2DArrays'></a>\n",
    "Two-dimensonal arrays can be visualized with the `plt.matshow` function.\n",
    "\n",
    "Each square cell represents one element of the array.\n",
    "\n",
    "A colour scale (`plot.colorbar`) is used to indicate the value of each cell.\n",
    "\n"
   ]
  },
  {
   "cell_type": "markdown",
   "metadata": {
    "slideshow": {
     "slide_type": "slide"
    }
   },
   "source": [
    "Note that the first row of the matrix (with index 0), is plotted at the top, which corresponds to the location of the first row in the matrix."
   ]
  },
  {
   "cell_type": "code",
   "execution_count": 137,
   "metadata": {
    "slideshow": {
     "slide_type": "slide"
    }
   },
   "outputs": [
    {
     "data": {
      "text/plain": [
       "<matplotlib.colorbar.Colorbar at 0x1209082e8>"
      ]
     },
     "execution_count": 137,
     "metadata": {},
     "output_type": "execute_result"
    },
    {
     "data": {
      "image/png": "[encoded data removed]",
      "text/plain": [
       "<Figure size 288x288 with 2 Axes>"
      ]
     },
     "metadata": {},
     "output_type": "display_data"
    }
   ],
   "source": [
    "x = np.array([[8, 7, 6, 8],\n",
    "              [8, 7, 6, 3],\n",
    "              [6, 6, 5, 2],\n",
    "              [4, 3, 2, 1]])\n",
    "plt.matshow(x)\n",
    "\n",
    "plt.colorbar()\n",
    "\n"
   ]
  },
  {
   "cell_type": "markdown",
   "metadata": {
    "slideshow": {
     "slide_type": "slide"
    }
   },
   "source": [
    "The default colour map is used (it is called `viridis`).\n",
    "\n",
    "The highest value in the array is mapped to yellow.\n",
    "<br>The lowest value is mapped to purple. \n",
    "<br>The number is between vary between blue and green. \n",
    "\n"
   ]
  },
  {
   "cell_type": "markdown",
   "metadata": {
    "slideshow": {
     "slide_type": "slide"
    }
   },
   "source": [
    "There are many other colour maps available.\n",
    "\n",
    "Doumentation of availble colour maps can be found here: http://matplotlib.org/users/colormaps.html. \n",
    "\n"
   ]
  },
  {
   "cell_type": "markdown",
   "metadata": {
    "slideshow": {
     "slide_type": "slide"
    }
   },
   "source": [
    "To change the color map, the `matplotlib.cm` package is used, which we imported and renamed at the strt of the notebook. \n",
    ">`import matplotlib.cm as cm`\n",
    "\n",
    "Specify the name of any of the available color maps with the `cmap` keyword. "
   ]
  },
  {
   "cell_type": "code",
   "execution_count": 138,
   "metadata": {
    "slideshow": {
     "slide_type": "-"
    }
   },
   "outputs": [
    {
     "data": {
      "image/png": "[encoded data removed]",
      "text/plain": [
       "<Figure size 288x288 with 2 Axes>"
      ]
     },
     "metadata": {},
     "output_type": "display_data"
    }
   ],
   "source": [
    "plt.matshow(x, cmap=cm.Wistia)\n",
    "plt.colorbar();\n",
    "\n"
   ]
  },
  {
   "cell_type": "markdown",
   "metadata": {
    "slideshow": {
     "slide_type": "slide"
    }
   },
   "source": [
    "The keywords `vmin` and `vmax` can be used to explicitly set the maximum and minimum value for the colour scale. "
   ]
  },
  {
   "cell_type": "code",
   "execution_count": 139,
   "metadata": {},
   "outputs": [
    {
     "data": {
      "image/png": "[encoded data removed]",
      "text/plain": [
       "<Figure size 288x288 with 2 Axes>"
      ]
     },
     "metadata": {},
     "output_type": "display_data"
    }
   ],
   "source": [
    "plt.matshow(x, cmap=cm.bone, vmin=0, vmax=20)\n",
    "plt.colorbar();\n",
    "\n"
   ]
  },
  {
   "cell_type": "markdown",
   "metadata": {
    "slideshow": {
     "slide_type": "slide"
    }
   },
   "source": [
    "The standard colormaps also all have reversed versions. They have the same names with `_r` tacked on to the end."
   ]
  },
  {
   "cell_type": "code",
   "execution_count": 140,
   "metadata": {},
   "outputs": [
    {
     "data": {
      "image/png": "[encoded data removed]",
      "text/plain": [
       "<Figure size 288x288 with 2 Axes>"
      ]
     },
     "metadata": {},
     "output_type": "display_data"
    }
   ],
   "source": [
    "plt.matshow(x, cmap=cm.bone_r, vmin=0, vmax=20)\n",
    "plt.colorbar();\n"
   ]
  },
  {
   "cell_type": "markdown",
   "metadata": {
    "slideshow": {
     "slide_type": "slide"
    }
   },
   "source": [
    "__Try it yourself__\n",
    "<br>Find a colour map you like using the link provided. Change the colours of the examples above to colours that you prefer."
   ]
  },
  {
   "cell_type": "markdown",
   "metadata": {
    "slideshow": {
     "slide_type": "slide"
    }
   },
   "source": [
    "# Summary\n",
    "<a id='Summary'></a>\n",
    "__Reading and Writing Files__\n",
    " - Data from external files (e.g. .csv files) can be imported using the standard Python library. \n",
    "     - A  file object has open(), read(), write(), and close() methods for working with  files, and features that describe the  file properties\n",
    "     - The open() method must specify a  file name string argument and a  file mode string argument, such as ’r’ to read the  file.\n",
    "     - Position in a  file, at which to read or write, can be specified with the seek() method and reported by the tell() method the Python with keyword groups  file operational statements within a block and automatically closes an open  file.\n",
    " - The process of “pickling” objects stores a string representation of an object that can later be “unpickled” to its former state. \n",
    " - A pickle object’s dump() method requires arguments to specify an object for conversion and a  le name in which to store data. \n",
    " - Stored object data can be retrieved by specifying the  le name in which it is stored to the pickle object’s load() method.\n",
    "\n",
    "*(Adapted from) McGrath 2016*"
   ]
  },
  {
   "cell_type": "markdown",
   "metadata": {
    "slideshow": {
     "slide_type": "slide"
    }
   },
   "source": [
    "__Plotting__\n",
    "- Matplotlib can be used to produce a wide range of styles of figures and plots of your data.\n",
    "- The matplotlib library can be used to quicky produce simple plots to visualise data imported from a delimted text file.\n",
    "- Simple line and scatter plots can be customised using a `formatstring`\n",
    "- Additional features such as a figure legend and axis labels can be set as arguments when creating plots.\n",
    "\n"
   ]
  },
  {
   "cell_type": "markdown",
   "metadata": {
    "slideshow": {
     "slide_type": "slide"
    }
   },
   "source": [
    "<a id='TestYourselfExercises'></a>\n",
    "# Test-Yourself Exercises\n",
    "\n",
    "Compete the Test-Youself exercises below.\n",
    "\n",
    "Save your answers as .py files and email them to:\n",
    "<br>philamore.hemma.5s@kyoto-u.ac.jp"
   ]
  },
  {
   "cell_type": "markdown",
   "metadata": {
    "collapsed": true,
    "slideshow": {
     "slide_type": "slide"
    }
   },
   "source": [
    "### Test-Yourself Excercise: Appending text files.\n",
    "\n",
    "Find out the origin of the quote in `dot.txt`.\n",
    "\n",
    "Write Python code directly into the terminal to append the file `dot.txt` with a citation. "
   ]
  },
  {
   "cell_type": "code",
   "execution_count": null,
   "metadata": {},
   "outputs": [],
   "source": []
  },
  {
   "cell_type": "markdown",
   "metadata": {
    "slideshow": {
     "slide_type": "slide"
    }
   },
   "source": [
    "### Test-Yourself Excercise: Bar Chart\n",
    "\n",
    "Write a Python program to display a bar chart of the popularity of programming languages.\n",
    "\n",
    "Set the bar colour green.\n",
    "\n",
    "__Sample data:__ \n",
    "<br>Programming languages: `Java, Python, PHP, JavaScript, C#, C++`\n",
    "<br>Popularity: `22.2, 17.6, 8.8, 8, 7.7, 6.7`\n",
    "\n",
    "Label the x and y axes and add a title."
   ]
  },
  {
   "cell_type": "code",
   "execution_count": 141,
   "metadata": {},
   "outputs": [],
   "source": [
    "# Bar Chart"
   ]
  },
  {
   "cell_type": "code",
   "execution_count": null,
   "metadata": {},
   "outputs": [],
   "source": []
  },
  {
   "cell_type": "markdown",
   "metadata": {
    "slideshow": {
     "slide_type": "slide"
    }
   },
   "source": [
    "### Test-Yourself Excercise: Loading data and adding a legend\n",
    "Average monthly temperature data for three cities is given in the files:\n",
    "- sample_data/holland_temperature.dat\n",
    "- sample_data/newyork_temperature.dat\n",
    "- sample_data/beijing_temperature.dat\n",
    "\n",
    "\n",
    "Plot temperature against month for each city on the same graph.\n",
    "\n",
    "Use a dot to mark each temperature.\n",
    "\n",
    "Use a dashed line to connect the dots. "
   ]
  },
  {
   "cell_type": "code",
   "execution_count": null,
   "metadata": {},
   "outputs": [],
   "source": []
  },
  {
   "cell_type": "code",
   "execution_count": null,
   "metadata": {},
   "outputs": [],
   "source": []
  },
  {
   "cell_type": "code",
   "execution_count": null,
   "metadata": {},
   "outputs": [],
   "source": []
  }
 ],
 "metadata": {
  "celltoolbar": "Slideshow",
  "kernelspec": {
   "display_name": "Python 3",
   "language": "python",
   "name": "python3"
  },
  "language_info": {
   "codemirror_mode": {
    "name": "ipython",
    "version": 3
   },
   "file_extension": ".py",
   "mimetype": "text/x-python",
   "name": "python",
   "nbconvert_exporter": "python",
   "pygments_lexer": "ipython3",
   "version": "3.6.5"
  }
 },
 "nbformat": 4,
 "nbformat_minor": 2
}
