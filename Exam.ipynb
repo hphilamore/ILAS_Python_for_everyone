{
 "cells": [
  {
   "cell_type": "markdown",
   "metadata": {},
   "source": [
    "## ILAS : Introduction to Programming for Everyone\n",
    "## Exam 2018\n",
    "\n",
    "Answer all questions.\n",
    "\n",
    "Submit your work by email to philamore.hemma.5s@kyoto-u.ac.uk\n",
    "\n",
    "Format: .ipynb file.\n",
    "\n",
    "Deadline: 23:59 July 24 (07/24)\n",
    "\n",
    "Total: 50 marks"
   ]
  },
  {
   "cell_type": "markdown",
   "metadata": {
    "slideshow": {
     "slide_type": "subslide"
    }
   },
   "source": [
    "## Question 1\n",
    "\n",
    "\n",
    "```Python\n",
    "a = \"orangutans\"\n",
    "b = \"werewolves\"\n",
    "c = \"programme\"\n",
    "d = \"3.12\"\n",
    "e = \"7.41\"\n",
    "```\n",
    "\n",
    "#### Part A\n",
    "###### 1 mark\n",
    "Print a new string whose:\n",
    " - first 3 letters are the last 3 letters of `a` \n",
    " - last 3 letters are the first 3 letters of `b`\n",
    " \n",
    "#### Part B\n",
    "###### 1 mark\n",
    "Use `c` to make a new string that says: `programming`.\n",
    "\n",
    "#### Part C\n",
    "###### 1 mark\n",
    "\n",
    "Cast__ `d` and `e` as a different type and create a variable `f` so that:\n",
    "<br>`f` = (numerical value of `d`) +  (numerical value of `e`)\n",
    "<br>using standard arithmetic.\n",
    "\n",
    "Print `f`\n",
    "\n",
    "#### Part D\n",
    "###### 1 mark\n",
    "Use __shortcut notation__ to update the value of `f`.\n",
    "The new value of f should equal the __remainder (or modulo)__ when f is divided by 3."
   ]
  },
  {
   "cell_type": "code",
   "execution_count": 7,
   "metadata": {},
   "outputs": [],
   "source": [
    "a = \"orangutans\"\n",
    "b = \"werewolves\"\n",
    "c = \"programme\"\n",
    "d = \"3.12\"\n",
    "e = \"7.41\""
   ]
  },
  {
   "cell_type": "code",
   "execution_count": null,
   "metadata": {},
   "outputs": [],
   "source": []
  },
  {
   "cell_type": "markdown",
   "metadata": {
    "slideshow": {
     "slide_type": "subslide"
    }
   },
   "source": [
    "### Question 2\n",
    "###### 2 marks\n",
    "Write a while loop that with each loop:\n",
    "- prints the value of `x`\n",
    "- then decreases the value of x by 0.5\n",
    "\n",
    "as long as `x` remains positive.\n",
    "\n"
   ]
  },
  {
   "cell_type": "code",
   "execution_count": null,
   "metadata": {},
   "outputs": [],
   "source": []
  },
  {
   "cell_type": "markdown",
   "metadata": {},
   "source": [
    "### Question 3\n",
    "###### 2 marks\n",
    "Write a `for` loop to print the even numbers from 2 to 100, inclusive."
   ]
  },
  {
   "cell_type": "code",
   "execution_count": null,
   "metadata": {},
   "outputs": [],
   "source": []
  },
  {
   "cell_type": "markdown",
   "metadata": {},
   "source": [
    "### Question 4\n",
    "###### 2 marks\n",
    "In the cell below, write a program to alternately print `Yes` and `No` 3 times:\n",
    "\n",
    "        Yes\n",
    "        No\n",
    "        Yes\n",
    "        No\n",
    "        Yes\n",
    "        No\n",
    "Try to make your solution as efficient as possible.       "
   ]
  },
  {
   "cell_type": "code",
   "execution_count": null,
   "metadata": {},
   "outputs": [],
   "source": []
  },
  {
   "cell_type": "markdown",
   "metadata": {},
   "source": [
    "### Question 5\n",
    "###### 2 marks\n",
    "Write a function called counter:\n",
    "\n",
    "Input: A list. e.g. `['fizz', 'buzz', 'fizz', 'buzz','fizz', 'buzz']`\n",
    "\n",
    "Output: Returns the numer of times a number greater than 5 appears in a list."
   ]
  },
  {
   "cell_type": "code",
   "execution_count": null,
   "metadata": {},
   "outputs": [],
   "source": []
  },
  {
   "cell_type": "markdown",
   "metadata": {},
   "source": [
    "### Question 6\n",
    "###### 2 marks\n",
    "In the example below, complete the comments with definition (\"local variable\"/\"global variable\") describing the scope of variables a-c."
   ]
  },
  {
   "cell_type": "code",
   "execution_count": 8,
   "metadata": {},
   "outputs": [
    {
     "name": "stdout",
     "output_type": "stream",
     "text": [
      "3\n"
     ]
    }
   ],
   "source": [
    "# In the code below: \n",
    "# a is a local variable / global variable\n",
    "# b is a ...\n",
    "# c is a ...\n",
    "# d is a ...\n",
    "\n",
    "def my_function(a):\n",
    "    b = a - 2\n",
    "    return b\n",
    "\n",
    "c = 3\n",
    "\n",
    "if c > 2:\n",
    "    d = my_function(5)\n",
    "    print(d)"
   ]
  },
  {
   "cell_type": "markdown",
   "metadata": {
    "slideshow": {
     "slide_type": "subslide"
    }
   },
   "source": [
    "### Question 7\n",
    "###### 2 marks\n",
    "```Python \n",
    "string = \"string\"\n",
    "```\n",
    "Loop through the characters of the string.\n",
    "<br>Use `continue` to only print the letters of the word *sing*.\n",
    "\n",
    "\n"
   ]
  },
  {
   "cell_type": "code",
   "execution_count": 9,
   "metadata": {},
   "outputs": [],
   "source": [
    "string = \"string\""
   ]
  },
  {
   "cell_type": "markdown",
   "metadata": {
    "collapsed": true
   },
   "source": [
    "### Question 8\n",
    "###### 2 marks\n",
    "Write a program which will find all numbers that satisfy both conditions:\n",
    "- divisible by 7\n",
    "- not a multiple of 5\n",
    "between 2000 and 3200 (inclusive).\n",
    "\n",
    "The numbers obtained should be printed in a comma-separated sequence on a single line."
   ]
  },
  {
   "cell_type": "code",
   "execution_count": null,
   "metadata": {},
   "outputs": [],
   "source": []
  },
  {
   "cell_type": "markdown",
   "metadata": {},
   "source": [
    "### Question 9\n",
    "###### 6 marks\n",
    "A website requires the users to input username and password to register. \n",
    "\n",
    "Write a program to check the validity of password input by a user.\n",
    "\n",
    "Password must have:\n",
    "1. At least 1 letter between [a-z]\n",
    "2. At least 1 number between [0-9]\n",
    "1. At least 1 letter between [A-Z]\n",
    "3. At least 1 character from [$#@]\n",
    "4. Minimum length 6\n",
    "5. Maximum length 12\n",
    "\n",
    "If an invalid password is entered your program should:\n",
    "- show the user an error message\n",
    "- prompt the user to re-enter a password. \n"
   ]
  },
  {
   "cell_type": "code",
   "execution_count": null,
   "metadata": {},
   "outputs": [],
   "source": []
  },
  {
   "cell_type": "markdown",
   "metadata": {},
   "source": [
    "### Question 10\n",
    "###### 8 marks\n",
    "Write a program to count the frequency with which each word in the file `sample_data/dot.txt` appears. \n",
    "\n",
    "The program should print each word and the number of times the word appears.\n",
    "\n",
    "Each word-frequency pair should be printed on a new line.\n",
    "\n"
   ]
  },
  {
   "cell_type": "code",
   "execution_count": null,
   "metadata": {},
   "outputs": [],
   "source": []
  },
  {
   "cell_type": "markdown",
   "metadata": {},
   "source": [
    "## Question 11\n",
    "###### 8 marks\n",
    "Different sized boards are required for different board games (e.g. 8x8 for chess, 19x19 for Go...)\n",
    "\n",
    "Write a function:\n",
    "- __Inputs__: Height (squares) and width (squares) of game board. \n",
    "- __Output__: Prints a board of the design below (3x3 example shown) \n",
    "\n",
    "         --- --- --- \n",
    "        |   |   |   | \n",
    "         --- --- ---  \n",
    "        |   |   |   | \n",
    "         --- --- ---  \n",
    "        |   |   |   | \n",
    "         --- --- --- "
   ]
  },
  {
   "cell_type": "markdown",
   "metadata": {},
   "source": [
    "## Question 12\n",
    "###### 10 marks\n",
    "\n",
    "Make a __text-based__, two-player, Rock-Paper-Scissors game. \n",
    "\n",
    "__Rules:__\n",
    "Each player chooses rock, paper or scissors.\n",
    "<br>Rock beats scissors\n",
    "<br>Scissors beats paper\n",
    "<br>Paper beats rock\n",
    "<br>Both players choose the same = play again\n",
    "\n",
    "<img src=\"img/rock_paper_scissors.jpg\" alt=\"Drawing\" style=\"width: 300px;\"/>\n",
    "\n",
    "\n",
    "1. Ask for players for input)\n",
    "2. Compare inputs\n",
    "3. Print out a message of congratulations to the winner\n",
    "4. Ask if the players want to start a new game)\n",
    "\n"
   ]
  },
  {
   "cell_type": "markdown",
   "metadata": {},
   "source": [
    "## Questionnare\n",
    "This is a question about your experience of the course this year.　\n",
    "<br>Please answer honestly and constructively.\n",
    "<br>You may give written answers in English or Japanese. \n",
    "\n",
    "この問題は、この授業の君の経歴を訪ねるアンケートである\n",
    "<br>ただし、真面目、かつ真剣な答案が望ましい。\n",
    "<br>英語や日本語で回答できる。勿論、点数に関係ないか、出来れば英語でお願いします。\n",
    "\n",
    "\n",
    "\n",
    "\n",
    "\n",
    "\n"
   ]
  },
  {
   "cell_type": "markdown",
   "metadata": {},
   "source": [
    "__a) ENTRY LEVEL__ \n",
    "<br>__1 mark__\n",
    "<br>Please write the title of your major at your home university.　\n",
    "<br>君の大学の専門の名前を書きなさい。\n",
    "\n",
    "Please write which number best describes your knowledge of this subject before starting the course?　\n",
    "<br>この授業のする前に、授業の内容に対して、自分に最も近い状況を、次の番号の中から選んてください。\n",
    "1. No previous study.　全然知識無し\n",
    "1. A basic understanding.　基本の知識が持つ\n",
    "1. A good fundamental understanding.　ある程度の知識が持つ、深い理解した\n",
    "1. Comprehensive previous study.　私はプログラムマスター"
   ]
  },
  {
   "cell_type": "code",
   "execution_count": 1,
   "metadata": {},
   "outputs": [],
   "source": [
    "# Major 専門名: \n",
    "    \n",
    "# Knowledge of this subject before starting the course　この授業の前の知識レベル: "
   ]
  },
  {
   "cell_type": "markdown",
   "metadata": {},
   "source": [
    "__b) ENJOYMENT__\n",
    "<br>__1 mark__\n",
    "<br>Write what you enjoyed most/found most interesting  about the course.　\n",
    "<br>この授業の最も面白いところを書きなさい。"
   ]
  },
  {
   "cell_type": "code",
   "execution_count": null,
   "metadata": {},
   "outputs": [],
   "source": []
  },
  {
   "cell_type": "markdown",
   "metadata": {},
   "source": [
    "Write what you enjoyed least / found least interesting about the course.　\n",
    "<br>この授業の最もつまらないところを書きなさい。"
   ]
  },
  {
   "cell_type": "code",
   "execution_count": null,
   "metadata": {},
   "outputs": [],
   "source": []
  },
  {
   "cell_type": "markdown",
   "metadata": {},
   "source": [
    "__c) KNOWLEDGE TRANSFER__\n",
    "<br>__1 mark__\n",
    "\n",
    "Please choose the number indicating how much you feel your understanding improved as a result of taking this course.　\n",
    "<br>この授業した後、どのくらい上昇したが、次の番号の中から選んてください。\n",
    "\n",
    "1.\t__Dramatic improvement.__ I can confidently and independently use and apply my knowledge of programming in Python.　<br>__驚き激増した.__　自力でPythonを使える、思ったままPythonプログラムイング出来る。\n",
    "\n",
    "2.\t__Significant improvement.__ I have a much better understanding of this subject than when starting the course.　<br>__かなり増えた.__　授業の前と比べて、プログラムイングのことよく分かりました。\n",
    "\n",
    "3.\t__Slight improvement.__ My knowledge has improved but I do not feel confident in my understanding of this topic.　<br>__少し増えた.__　ある程度の知識を受けたが、まだ分からいことある。\n",
    "\n",
    "4.\t__No improvement.__ My knowledge of this topic has improved very little as a result of taking this course.　<br>__全然増えてない.__　授業を受けでも、前と比べて、あまり増えることはない。\n",
    "  \n",
    "\n",
    "\n",
    "\n",
    "\n"
   ]
  },
  {
   "cell_type": "code",
   "execution_count": null,
   "metadata": {},
   "outputs": [],
   "source": []
  },
  {
   "cell_type": "markdown",
   "metadata": {},
   "source": [
    "__d) DELIVERY__\n",
    "<br>__1 mark__\n",
    "<br>Please rate the __use of english__ by writing the number you feel is most appropriate next to each of the communication formats listed below .　\n",
    "<br>先生の英語（文章）は読めやすさ、次の番号の中から選んてください。\n",
    "1. Easy to understand.　読め易い\n",
    "1. A few things were unclear / not well explained.　少し読めないところがある\n",
    "1. Many things were unclear / not explained well.　たくさん読めないところがある\n",
    "1. I could understand very little. 　読めるところも少ない\n",
    "\n"
   ]
  },
  {
   "cell_type": "code",
   "execution_count": 2,
   "metadata": {},
   "outputs": [],
   "source": [
    "# Written instructions in Jupyter notebooks `Jupyter notebooks`の使え方の説明（理解安さは何番）: \n",
    "    \n",
    "# Written instructions for Test-Yourself exercises 毎章の練習問題の説明（理解安さは何番）:\n",
    "\n",
    "# Written instructions for coursework assignement 最後の宿題の説明（理解安さは何番）:\n",
    "    \n",
    "# Verbal instructions/explanation 全体的の説明（理解安さは何番）:"
   ]
  },
  {
   "cell_type": "markdown",
   "metadata": {},
   "source": [
    "Please rate __how well-explained and understandable__ the course material was by writing the number you feel is most appropriate next to each of the communication formats listed below .　\n",
    "<br>先生の説明（文章）は理解やすかったが、次の番号の中から選んてください。\n",
    "1. Easy to understand.　理解易い\n",
    "1. A few things were unclear / not well explained.　少し理解できないところがある　\n",
    "1. Many things were unclear / not explained well.　たくさん理解できないところがある\n",
    "1. I could understand very little. 　理解できるところも少ない\n",
    "\n"
   ]
  },
  {
   "cell_type": "code",
   "execution_count": 3,
   "metadata": {},
   "outputs": [],
   "source": [
    "# Written instructions in Jupyter notebooks `Jupyter notebooks`の使え方の説明（理解安さは何番）: \n",
    "    \n",
    "# Written instructions for Test Yourself exercises 毎章の練習問題の説明（理解安さは何番）:\n",
    "\n",
    "# Written instructions for coursework assignement 最後の宿題の説明（理解安さは何番）:\n",
    "    \n",
    "# Verbal instructions/explanation 全体的の説明（理解安さは何番）:"
   ]
  },
  {
   "cell_type": "markdown",
   "metadata": {},
   "source": [
    "_e) FURTHER STUDY__\n",
    "<br>__1 mark__\n",
    "\n",
    "Are you interested to continue studying programming?\n",
    "<br>プログラミングを引き続き学びたいですか.\n",
    "\n",
    "\n",
    "\n"
   ]
  },
  {
   "cell_type": "code",
   "execution_count": null,
   "metadata": {},
   "outputs": [],
   "source": []
  },
  {
   "cell_type": "markdown",
   "metadata": {},
   "source": [
    "__f) ADDITIONAL COMMENTS__\n",
    "<br>__[optional]__\n",
    "\n",
    "Please include any additional ideas you have about the course. \n",
    "<br>この授業についてコメントがあれば自由に記載してください"
   ]
  },
  {
   "cell_type": "code",
   "execution_count": null,
   "metadata": {},
   "outputs": [],
   "source": []
  }
 ],
 "metadata": {
  "kernelspec": {
   "display_name": "Python 3",
   "language": "python",
   "name": "python3"
  },
  "language_info": {
   "codemirror_mode": {
    "name": "ipython",
    "version": 3
   },
   "file_extension": ".py",
   "mimetype": "text/x-python",
   "name": "python",
   "nbconvert_exporter": "python",
   "pygments_lexer": "ipython3",
   "version": "3.6.5"
  }
 },
 "nbformat": 4,
 "nbformat_minor": 2
}
