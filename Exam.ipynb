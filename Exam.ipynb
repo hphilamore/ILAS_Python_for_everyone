{
 "cells": [
  {
   "cell_type": "markdown",
   "metadata": {},
   "source": [
    "## ILAS : Introduction to Programming for Everyone\n",
    "## Exam 2018\n",
    "\n",
    "Answer all questions.\n",
    "\n",
    "Submit your work by email to philamore.hemma.5s@kyoto-u.ac.uk\n",
    "\n",
    "Format: .ipynb file.\n",
    "\n",
    "Deadline: 23:59 July 24 (07/24)\n",
    "\n",
    "Total: 50 marks"
   ]
  },
  {
   "cell_type": "markdown",
   "metadata": {
    "slideshow": {
     "slide_type": "subslide"
    }
   },
   "source": [
    "## Question 1\n",
    "\n",
    "\n",
    "```Python\n",
    "a = \"orangutans\"\n",
    "b = \"werewolves\"\n",
    "c = \"programme\"\n",
    "d = \"3.12\"\n",
    "e = \"7.41\"\n",
    "```\n",
    "\n",
    "#### Part A\n",
    "###### 1 mark\n",
    "Print a new string whose:\n",
    " - first 3 letters are the last 3 letters of `a` \n",
    " - last 3 letters are the first 3 letters of `b`\n",
    " \n",
    "#### Part B\n",
    "###### 1 mark\n",
    "Use `c` to make a new string that says: `programming`.\n",
    "\n",
    "#### Part C\n",
    "###### 1 mark\n",
    "\n",
    "Cast__ `d` and `e` as a different type and create a variable `f` so that:\n",
    "<br>`f` = (numerical value of `d`) +  (numerical value of `e`)\n",
    "<br>using standard arithmetic.\n",
    "\n",
    "Print `f`\n",
    "\n",
    "#### Part D\n",
    "###### 1 mark\n",
    "Use __shortcut notation__ to update the value of `f`.\n",
    "The new value of f should equal the __remainder (or modulo)__ when f is divided by 3."
   ]
  },
  {
   "cell_type": "code",
   "execution_count": 7,
   "metadata": {},
   "outputs": [],
   "source": [
    "a = \"orangutans\"\n",
    "b = \"werewolves\"\n",
    "c = \"programme\"\n",
    "d = \"3.12\"\n",
    "e = \"7.41\""
   ]
  },
  {
   "cell_type": "code",
   "execution_count": null,
   "metadata": {},
   "outputs": [],
   "source": []
  },
  {
   "cell_type": "markdown",
   "metadata": {
    "slideshow": {
     "slide_type": "subslide"
    }
   },
   "source": [
    "### Question 2\n",
    "###### 2 marks\n",
    "Write a while loop that with each loop:\n",
    "- prints the value of `x`\n",
    "- then decreases the value of x by 0.5\n",
    "\n",
    "as long as `x` remains positive.\n",
    "\n"
   ]
  },
  {
   "cell_type": "code",
   "execution_count": null,
   "metadata": {},
   "outputs": [],
   "source": []
  },
  {
   "cell_type": "markdown",
   "metadata": {},
   "source": [
    "### Question 3\n",
    "###### 2 marks\n",
    "Write a `for` loop to print the even numbers from 2 to 100, inclusive."
   ]
  },
  {
   "cell_type": "code",
   "execution_count": null,
   "metadata": {},
   "outputs": [],
   "source": []
  },
  {
   "cell_type": "markdown",
   "metadata": {},
   "source": [
    "### Question 4\n",
    "###### 2 marks\n",
    "In the cell below, write a program to alternately print `Yes` and `No` 3 times:\n",
    "\n",
    "        Yes\n",
    "        No\n",
    "        Yes\n",
    "        No\n",
    "        Yes\n",
    "        No\n",
    "Try to make your solution as efficient as possible.       "
   ]
  },
  {
   "cell_type": "code",
   "execution_count": null,
   "metadata": {},
   "outputs": [],
   "source": []
  },
  {
   "cell_type": "markdown",
   "metadata": {},
   "source": [
    "### Question 5\n",
    "###### 2 marks\n",
    "Write a function called counter:\n",
    "\n",
    "Input: A list. e.g. `['fizz', 'buzz', 'fizz', 'buzz','fizz', 'buzz']`\n",
    "\n",
    "Output: Returns the numer of times a number greater than 5 appears in a list."
   ]
  },
  {
   "cell_type": "code",
   "execution_count": null,
   "metadata": {},
   "outputs": [],
   "source": []
  },
  {
   "cell_type": "markdown",
   "metadata": {},
   "source": [
    "### Question 6\n",
    "###### 2 marks\n",
    "In the example below, complete the comments with definition (\"local variable\"/\"global variable\") describing the scope of variables a-c."
   ]
  },
  {
   "cell_type": "code",
   "execution_count": 8,
   "metadata": {},
   "outputs": [
    {
     "name": "stdout",
     "output_type": "stream",
     "text": [
      "3\n"
     ]
    }
   ],
   "source": [
    "# In the code below: \n",
    "# a is a local variable / global variable\n",
    "# b is a ...\n",
    "# c is a ...\n",
    "# d is a ...\n",
    "\n",
    "def my_function(a):\n",
    "    b = a - 2\n",
    "    return b\n",
    "\n",
    "c = 3\n",
    "\n",
    "if c > 2:\n",
    "    d = my_function(5)\n",
    "    print(d)"
   ]
  },
  {
   "cell_type": "markdown",
   "metadata": {
    "slideshow": {
     "slide_type": "subslide"
    }
   },
   "source": [
    "### Question 7\n",
    "###### 2 marks\n",
    "```Python \n",
    "string = \"string\"\n",
    "```\n",
    "Loop through the characters of the string.\n",
    "<br>Use `continue` to only print the letters of the word *sing*.\n",
    "\n",
    "\n"
   ]
  },
  {
   "cell_type": "code",
   "execution_count": 9,
   "metadata": {},
   "outputs": [],
   "source": [
    "string = \"string\""
   ]
  },
  {
   "cell_type": "markdown",
   "metadata": {
    "collapsed": true
   },
   "source": [
    "### Question 8\n",
    "###### 2 marks\n",
    "Write a program which will find all numbers that satisfy both conditions:\n",
    "- divisible by 7\n",
    "- not a multiple of 5\n",
    "between 2000 and 3200 (inclusive).\n",
    "\n",
    "The numbers obtained should be printed in a comma-separated sequence on a single line."
   ]
  },
  {
   "cell_type": "code",
   "execution_count": null,
   "metadata": {},
   "outputs": [],
   "source": []
  },
  {
   "cell_type": "markdown",
   "metadata": {},
   "source": [
    "### Question 9\n",
    "###### 6 marks\n",
    "A website requires the users to input username and password to register. \n",
    "\n",
    "Write a program to check the validity of password input by a user.\n",
    "\n",
    "Password must have:\n",
    "1. At least 1 letter between [a-z]\n",
    "2. At least 1 number between [0-9]\n",
    "1. At least 1 letter between [A-Z]\n",
    "3. At least 1 character from [$#@]\n",
    "4. Minimum length 6\n",
    "5. Maximum length 12\n",
    "\n",
    "If an invalid password is entered your program should:\n",
    "- show the user an error message\n",
    "- prompt the user to re-enter a password. \n"
   ]
  },
  {
   "cell_type": "code",
   "execution_count": null,
   "metadata": {},
   "outputs": [],
   "source": []
  },
  {
   "cell_type": "markdown",
   "metadata": {},
   "source": [
    "### Question 10\n",
    "###### 8 marks\n",
    "Write a program to count the frequency with which each word in the file `sample_data/dot.txt` appears. \n",
    "\n",
    "The program should print each word and the number of times the word appears.\n",
    "\n",
    "Each word-frequency pair should be printed on a new line.\n",
    "\n"
   ]
  },
  {
   "cell_type": "code",
   "execution_count": null,
   "metadata": {},
   "outputs": [],
   "source": []
  },
  {
   "cell_type": "markdown",
   "metadata": {},
   "source": [
    "## Question 11\n",
    "###### 8 marks\n",
    "Different sized boards are required for different board games (e.g. 8x8 for chess, 19x19 for Go...)\n",
    "\n",
    "Write a function:\n",
    "- __Inputs__: Height (squares) and width (squares) of game board. \n",
    "- __Output__: Prints a board of the design below (3x3 example shown) \n",
    "\n",
    "         --- --- --- \n",
    "        |   |   |   | \n",
    "         --- --- ---  \n",
    "        |   |   |   | \n",
    "         --- --- ---  \n",
    "        |   |   |   | \n",
    "         --- --- --- "
   ]
  },
  {
   "cell_type": "markdown",
   "metadata": {},
   "source": [
    "## Question 12\n",
    "###### 10 marks\n",
    "\n",
    "Make a __text based__, two-player, Rock-Paper-Scissors game. \n",
    "\n",
    "__Rules:__\n",
    "Each player chooses rock, paper or scissors.\n",
    "<br>Rock beats scissors\n",
    "<br>Scissors beats paper\n",
    "<br>Paper beats rock\n",
    "<br>Both players choose the same = play again\n",
    "\n",
    "<img src=\"img/rock_paper_scissors.jpg\" alt=\"Drawing\" style=\"width: 300px;\"/>\n",
    "\n",
    "\n",
    "1. Ask for players for input)\n",
    "2. Compare inputs\n",
    "3. Print out a message of congratulations to the winner\n",
    "4. Ask if the players want to start a new game)\n",
    "\n"
   ]
  },
  {
   "cell_type": "code",
   "execution_count": null,
   "metadata": {},
   "outputs": [],
   "source": []
  }
 ],
 "metadata": {
  "kernelspec": {
   "display_name": "Python 3",
   "language": "python",
   "name": "python3"
  },
  "language_info": {
   "codemirror_mode": {
    "name": "ipython",
    "version": 3
   },
   "file_extension": ".py",
   "mimetype": "text/x-python",
   "name": "python",
   "nbconvert_exporter": "python",
   "pygments_lexer": "ipython3",
   "version": "3.6.5"
  }
 },
 "nbformat": 4,
 "nbformat_minor": 2
}
